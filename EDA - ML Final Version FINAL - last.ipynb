{
 "cells": [
  {
   "cell_type": "markdown",
   "metadata": {},
   "source": [
    "**Table of Contents** <br>\n",
    "* [1. Import](#import)\n",
    "    * [1.1. Import Libraries](#importlibraries)\n",
    "    * [1.2. Created Functions](#createdfunctions)\n",
    "    * [1.3. Import Datasets](#importdatasets)\n",
    "* [2. Data Exploration](#dataexploration)\n",
    "    * [2.1. Data Content and decriptive analysis](#dataanalysis)\n",
    "    * [2.2. Checking incoherencies in the data](#incoherencies)\n",
    "       * [2.2.1 Changing the data types](#types)\n",
    "       * [2.2.2 Checking Duplicates](#duplicates)\n",
    "       * [2.2.3 Checking Unique Values & looking for some values that can indicate missing values](#unique)\n",
    "* [3. Data Visualisation](#visualisation)\n",
    "   * [3.1. Define Metric and Non-Metric Features](#metricandnon)\n",
    "     * [3.1.1 Metric Features](#metric)\n",
    "     * [3.1.2 Non-Metric Features](#non)\n",
    "* [4. Data Cleaning and Pre-Processing](#clean)\n",
    "   * [4.1. Checking for missing values in the target variable  - Claim Injury Type](#nantarget)\n",
    "   * [4.2. Checking for missing values in the independent variables](#nanindependent)\n",
    "   * [4.3. Dealing with Missing Values](#dealnan)\n",
    "* [5. Multivariate Analysis](#multi)\n",
    "* [6. Outliers](#outliers)\n",
    "  * [6.1. Visualisation of Outliers](#viewoutliers)\n",
    "  * [6.2. Outlier Removal](#removeoutliers)\n",
    "    * [6.2.1 Manual Outlier Removal](#manual)\n",
    "* [7. Feature Engineering](#feateng)\n",
    "* [8. Data Transformation](#transform)\n",
    "  * [8.1. Feature Encoding](#encode)\n",
    "  * [8.2. Min-max Scaler](#minmax)\n",
    "  * [8.3 Standard Scaler](#std) \n",
    "* [9. Feature Selection](#featselect)\n",
    "  * [9.1. Filter Methods](#filter)\n",
    "    * [9.1.1 Univariate Variables](#uni)\n",
    "    * [9.1.2 Chi-Square](#chi)\n",
    "  * [9.2 Wrapper Methods](#wrapper)\n",
    "    * [9.2.1 RFE](#rfe)\n",
    "  * [9.3 Embedded Methods](#embedded)\n",
    "    * [9.3.1 Lasso Regression](#lasso)\n",
    "  * [9.4 Select K Best Method](#select)\n",
    "  * [9.5 Drop Features According to Feature Selections](#dropfeat)\n",
    "* [10. Model](#model)\n",
    "* [11. Kaggle Submission](#kaggle)   \n",
    "         \n",
    "\n"
   ]
  },
  {
   "cell_type": "markdown",
   "metadata": {},
   "source": [
    "<hr>\n",
    "<a class=\"anchor\" id=\"import\">\n",
    "    \n",
    "# 1. Import \n",
    "    \n",
    "\n",
    "</a> "
   ]
  },
  {
   "cell_type": "markdown",
   "metadata": {},
   "source": [
    "<a class=\"anchor\" id=\"importlibraries\">\n",
    "\n",
    "### 1.1. Import Libraries\n",
    "\n",
    "</a>"
   ]
  },
  {
   "cell_type": "code",
   "execution_count": null,
   "metadata": {},
   "outputs": [],
   "source": [
    "## Import standard data processing libraries\n",
    "import numpy as np\n",
    "import pandas as pd\n",
    "import matplotlib.pyplot as plt\n",
    "import seaborn as sns\n",
    "import os\n",
    "\n",
    "## Import datetime object for date columns in dataset\n",
    "from datetime import datetime\n",
    "\n",
    "## Setting seaborn style\n",
    "sns.set()\n",
    "\n",
    "from math import ceil\n",
    "\n",
    "## Import train_test_split to split data for model training\n",
    "from sklearn.model_selection import train_test_split\n",
    "from sklearn.preprocessing import LabelEncoder\n",
    "from sklearn.preprocessing import OneHotEncoder\n",
    "from sklearn.preprocessing import MinMaxScaler\n",
    "from sklearn.preprocessing import StandardScaler\n",
    "\n",
    "## Import Libraries for Feature Selection\n",
    "import scipy.stats as stats\n",
    "from scipy.stats import chi2_contingency\n",
    "from sklearn.feature_selection import chi2\n",
    "from sklearn.feature_selection import RFE\n",
    "from sklearn.feature_selection import RFECV\n",
    "from sklearn.feature_selection import SelectKBest, f_regression\n",
    "\n",
    "## Import Models\n",
    "from sklearn.linear_model import LogisticRegression\n",
    "from sklearn.ensemble import RandomForestClassifier\n",
    "from sklearn.linear_model import LassoCV\n",
    "\n",
    "# Import Cross Validation methods\n",
    "from sklearn.model_selection import KFold, RepeatedKFold, StratifiedKFold\n",
    "from sklearn.metrics import confusion_matrix, accuracy_score, precision_score, recall_score, f1_score\n",
    "\n",
    "\n",
    "pd.set_option('display.max_rows', None)  # Show all rows\n",
    "pd.set_option('display.max_colwidth', None) #Show all columns\n",
    "\n",
    "\n",
    "## Supress warnings\n",
    "import warnings\n",
    "warnings.filterwarnings('ignore')\n"
   ]
  },
  {
   "cell_type": "markdown",
   "metadata": {},
   "source": [
    "<a class=\"anchor\" id=\"CreatedFunctions\">\n",
    "\n",
    "### 1.2. Created Functions\n",
    "\n",
    "</a>"
   ]
  },
  {
   "cell_type": "code",
   "execution_count": null,
   "metadata": {},
   "outputs": [],
   "source": []
  },
  {
   "cell_type": "markdown",
   "metadata": {},
   "source": [
    "---"
   ]
  },
  {
   "cell_type": "markdown",
   "metadata": {},
   "source": [
    "<a class=\"anchor\" id=\"importdatasets\">\n",
    "\n",
    "### 1.3. Import Datasets\n",
    "\n",
    "</a>"
   ]
  },
  {
   "cell_type": "code",
   "execution_count": null,
   "metadata": {},
   "outputs": [],
   "source": [
    "train_data = pd.read_csv(\"train_data.csv\", low_memory=False)\n",
    "test_data = pd.read_csv(\"test_data.csv\")"
   ]
  },
  {
   "cell_type": "markdown",
   "metadata": {},
   "source": [
    "<hr>\n",
    "<a class=\"anchor\" id=\"Dataexploration\">\n",
    "    \n",
    "# 2. Data Exploration\n",
    "    \n",
    "</a>"
   ]
  },
  {
   "cell_type": "markdown",
   "metadata": {},
   "source": [
    "<a class=\"anchor\" id=\"dataanalysis\">\n",
    "\n",
    "### 2.1. Data content and descriptive analysis\n",
    "\n",
    "</a>"
   ]
  },
  {
   "cell_type": "code",
   "execution_count": null,
   "metadata": {},
   "outputs": [],
   "source": [
    "train_data.head()\n"
   ]
  },
  {
   "cell_type": "code",
   "execution_count": null,
   "metadata": {},
   "outputs": [],
   "source": [
    "test_data.head()"
   ]
  },
  {
   "cell_type": "code",
   "execution_count": null,
   "metadata": {},
   "outputs": [],
   "source": [
    "train_data.shape"
   ]
  },
  {
   "cell_type": "code",
   "execution_count": null,
   "metadata": {},
   "outputs": [],
   "source": [
    "test_data.shape"
   ]
  },
  {
   "cell_type": "markdown",
   "metadata": {},
   "source": [
    "Train data has 3 more variables than test data. Below we check which columns containt train that test does not have."
   ]
  },
  {
   "cell_type": "code",
   "execution_count": null,
   "metadata": {},
   "outputs": [],
   "source": [
    "test_data.columns.values"
   ]
  },
  {
   "cell_type": "code",
   "execution_count": null,
   "metadata": {},
   "outputs": [],
   "source": [
    "train_data.columns.values"
   ]
  },
  {
   "cell_type": "markdown",
   "metadata": {},
   "source": [
    "In the Test there is not variables: Claim Injury Type (reasonable becuase it is target variable), Agreement Reached and WCB Decision. Maybe it is the information that is known after defininig the target variable"
   ]
  },
  {
   "cell_type": "code",
   "execution_count": null,
   "metadata": {},
   "outputs": [],
   "source": [
    "# set \"Claim Identifier\" as the index for the train and test datasets\n",
    "train_data = train_data.set_index(\"Claim Identifier\")\n",
    "test_data = test_data.set_index(\"Claim Identifier\")"
   ]
  },
  {
   "cell_type": "code",
   "execution_count": null,
   "metadata": {},
   "outputs": [],
   "source": [
    "train_data.describe(include=\"all\").T"
   ]
  },
  {
   "cell_type": "markdown",
   "metadata": {},
   "source": [
    "---"
   ]
  },
  {
   "cell_type": "markdown",
   "metadata": {},
   "source": [
    "<a class=\"anchor\" id=\"incoherencies\">\n",
    "\n",
    "### 2.2. Checking incoherencies in the data. \n",
    "\n",
    "</a> "
   ]
  },
  {
   "cell_type": "code",
   "execution_count": null,
   "metadata": {},
   "outputs": [],
   "source": [
    "train_data.info()\n",
    "\n",
    "## DATA TYPES:\n",
    "# Convert accident date (to date type)\n",
    "# convert age (to int)\n",
    "# Alternative dispute resolution (??)\n",
    "# Assembly date (to date type)\n",
    "# birth year (to int)\n",
    "# C2 date (to date type)\n",
    "# C3 date (to date type)\n",
    "# First hearing date (to date)\n",
    "# IME-4 count (to int)\n",
    "# Industry code (object)\n",
    "# OIICS Nature of Injury Description (to object) - all nulls (relevant??)\n",
    "# WCIO cause of injury code (float to object)\n",
    "# WCIO Nature of Injury Code (float to object)\n",
    "# WCIO Part Of Body Code (float to object)\n",
    "# Agreement reached (??) - boolean/ int(???)\n",
    "# Number of dependents (to int)"
   ]
  },
  {
   "cell_type": "code",
   "execution_count": null,
   "metadata": {},
   "outputs": [],
   "source": [
    "test_data.info()"
   ]
  },
  {
   "cell_type": "markdown",
   "metadata": {},
   "source": [
    "<a class=\"anchor\" id=\"types\">\n",
    "\n",
    "#### 2.2.1 Changing the data types\n",
    "\n",
    "</a> "
   ]
  },
  {
   "cell_type": "code",
   "execution_count": null,
   "metadata": {},
   "outputs": [],
   "source": [
    "train_data[\"Age at Injury\"] = train_data[\"Age at Injury\"].astype(\"Int64\")\n",
    "test_data[\"Age at Injury\"] = test_data[\"Age at Injury\"].astype(\"Int64\")\n",
    "\n",
    "train_data[\"Number of Dependents\"] = train_data[\"Number of Dependents\"].astype(\"Int64\")\n",
    "test_data[\"Number of Dependents\"] = test_data[\"Number of Dependents\"].astype(\"Int64\")\n",
    "\n",
    "train_data[\"Birth Year\"] = train_data[\"Birth Year\"].astype(\"Int64\")\n",
    "test_data[\"Birth Year\"] = test_data[\"Birth Year\"].astype(\"Int64\")\n",
    "\n",
    "train_data[\"WCIO Part Of Body Code\"] = train_data[\"WCIO Part Of Body Code\"].astype(\"Int64\")\n",
    "test_data[\"WCIO Part Of Body Code\"] = test_data[\"WCIO Part Of Body Code\"].astype(\"Int64\")\n",
    "\n",
    "train_data[\"WCIO Nature of Injury Code\"] = train_data[\"WCIO Nature of Injury Code\"].astype(\"Int64\")\n",
    "test_data[\"WCIO Nature of Injury Code\"] = test_data[\"WCIO Nature of Injury Code\"].astype(\"Int64\")\n",
    "\n",
    "train_data[\"WCIO Cause of Injury Code\"] = train_data[\"WCIO Cause of Injury Code\"].astype(\"Int64\")\n",
    "test_data[\"WCIO Cause of Injury Code\"] = test_data[\"WCIO Cause of Injury Code\"].astype(\"Int64\")\n",
    "\n",
    "train_data[\"Industry Code\"] = train_data[\"Industry Code\"].astype(\"Int64\")\n",
    "test_data[\"Industry Code\"] = test_data[\"Industry Code\"].astype(\"Int64\")\n",
    "\n",
    "train_data[\"Agreement Reached\"] = train_data[\"Agreement Reached\"].astype(\"Int64\")\n",
    "\n",
    "train_data[\"Accident Date\"] = pd.to_datetime(train_data['Accident Date'])\n",
    "test_data[\"Accident Date\"] = pd.to_datetime(test_data['Accident Date'])\n",
    "\n",
    "train_data[\"Assembly Date\"] = pd.to_datetime(train_data['Assembly Date'])\n",
    "test_data[\"Assembly Date\"] = pd.to_datetime(test_data['Assembly Date'])\n",
    "\n",
    "train_data[\"C-2 Date\"] = pd.to_datetime(train_data['C-2 Date'])\n",
    "test_data[\"C-2 Date\"] = pd.to_datetime(test_data['C-2 Date'])\n",
    "\n",
    "train_data[\"C-3 Date\"] = pd.to_datetime(train_data['C-3 Date'])\n",
    "test_data[\"C-3 Date\"] = pd.to_datetime(test_data['C-3 Date'])\n",
    "\n",
    "train_data[\"First Hearing Date\"] = pd.to_datetime(train_data['First Hearing Date'])\n",
    "test_data[\"First Hearing Date\"] = pd.to_datetime(test_data['First Hearing Date'])\n",
    "\n",
    "\n",
    "\n",
    "\n",
    "#train_data[\"Accident Date\"] = pd.to_datetime(train_data['Accident Date']).dt.strftime('%Y-%m-%d')\n",
    "#test_data[\"Accident Date\"] = pd.to_datetime(test_data['Accident Date']).dt.strftime('%Y-%m-%d')\n",
    "\n",
    "#train_data[\"Assembly Date\"] = pd.to_datetime(train_data['Assembly Date']).dt.strftime('%Y-%m-%d')\n",
    "#test_data[\"Assembly Date\"] = pd.to_datetime(test_data['Assembly Date']).dt.strftime('%Y-%m-%d')\n",
    "\n",
    "#train_data[\"C-2 Date\"] = pd.to_datetime(train_data['C-2 Date']).dt.strftime('%Y-%m-%d')\n",
    "#test_data[\"C-2 Date\"] = pd.to_datetime(test_data['C-2 Date']).dt.strftime('%Y-%m-%d')\n",
    "\n",
    "#train_data[\"C-3 Date\"] = pd.to_datetime(train_data['C-3 Date']).dt.strftime('%Y-%m-%d')\n",
    "#test_data[\"C-3 Date\"] = pd.to_datetime(test_data['C-3 Date']).dt.strftime('%Y-%m-%d')\n",
    "\n",
    "#train_data[\"First Hearing Date\"] = pd.to_datetime(train_data['First Hearing Date']).dt.strftime('%Y-%m-%d')\n",
    "#test_data[\"First Hearing Date\"] = pd.to_datetime(test_data['First Hearing Date']).dt.strftime('%Y-%m-%d')\n"
   ]
  },
  {
   "cell_type": "markdown",
   "metadata": {},
   "source": [
    "<a class=\"anchor\" id=\"duplicates\">\n",
    "\n",
    "#### 2.2.2 Checking Duplicates\n",
    "\n",
    "</a> "
   ]
  },
  {
   "cell_type": "code",
   "execution_count": null,
   "metadata": {},
   "outputs": [],
   "source": [
    "duplicates_sum_train = train_data.duplicated().sum()\n",
    "duplicates_sum_test = test_data.duplicated().sum()\n",
    "\n",
    "print(f\"There are {duplicates_sum_train} in the training dataset.\")\n",
    "print(f\"There are {duplicates_sum_test} in the test dataset.\")"
   ]
  },
  {
   "cell_type": "markdown",
   "metadata": {},
   "source": [
    "We do not drop duplicates in the test dataset. We only do that in the train dataset."
   ]
  },
  {
   "cell_type": "code",
   "execution_count": null,
   "metadata": {},
   "outputs": [],
   "source": [
    "train_data.drop_duplicates(inplace=True)"
   ]
  },
  {
   "cell_type": "markdown",
   "metadata": {},
   "source": [
    "<a class=\"anchor\" id=\"unique\">\n",
    "\n",
    "#### 2.2.3 Checking unique values & looking for some values that can indicate missing values\n",
    "\n",
    "</a> "
   ]
  },
  {
   "cell_type": "code",
   "execution_count": null,
   "metadata": {},
   "outputs": [],
   "source": [
    "for column in train_data.columns:\n",
    "    unique_values = train_data[column].unique()\n",
    "    unique_values_num = train_data[column].nunique()\n",
    "    print(f\"Unique values in '{column}':\")\n",
    "    print(unique_values)\n",
    "    print(f\"Number of unique values in '{column}':\")\n",
    "    print(unique_values_num)\n",
    "    \n",
    "    print()"
   ]
  },
  {
   "cell_type": "markdown",
   "metadata": {},
   "source": [
    "Cells below are commented because they were used to check more detailed unique values for chosen variables"
   ]
  },
  {
   "cell_type": "code",
   "execution_count": null,
   "metadata": {},
   "outputs": [],
   "source": [
    "# train_data['Accident Date'].value_counts().sort_index(ascending=False)"
   ]
  },
  {
   "cell_type": "code",
   "execution_count": null,
   "metadata": {},
   "outputs": [],
   "source": [
    "# train_data['Age at Injury'].value_counts().sort_index(ascending=False)"
   ]
  },
  {
   "cell_type": "code",
   "execution_count": null,
   "metadata": {},
   "outputs": [],
   "source": [
    "# train_data['Assembly Date'].value_counts().sort_index(ascending=False)"
   ]
  },
  {
   "cell_type": "code",
   "execution_count": null,
   "metadata": {},
   "outputs": [],
   "source": [
    "# train_data['Average Weekly Wage'].value_counts().sort_index(ascending=False)"
   ]
  },
  {
   "cell_type": "code",
   "execution_count": null,
   "metadata": {},
   "outputs": [],
   "source": [
    "# train_data['Birth Year'].value_counts().sort_index(ascending=False)"
   ]
  },
  {
   "cell_type": "code",
   "execution_count": null,
   "metadata": {},
   "outputs": [],
   "source": [
    "# train_data['C-2 Date'].value_counts().sort_index(ascending=False)"
   ]
  },
  {
   "cell_type": "code",
   "execution_count": null,
   "metadata": {},
   "outputs": [],
   "source": [
    "# train_data['C-3 Date'].value_counts().sort_index(ascending=False)"
   ]
  },
  {
   "cell_type": "code",
   "execution_count": null,
   "metadata": {},
   "outputs": [],
   "source": [
    "# train_data['Carrier Name'].value_counts().sort_index()"
   ]
  },
  {
   "cell_type": "markdown",
   "metadata": {},
   "source": [
    "In the variable Carrier Type there is one category 5A, 5C and 5D that can be change to one 5 that will be Special Fund"
   ]
  },
  {
   "cell_type": "code",
   "execution_count": null,
   "metadata": {},
   "outputs": [],
   "source": [
    "# train_data['Carrier Type'].value_counts().sort_index()"
   ]
  },
  {
   "cell_type": "code",
   "execution_count": null,
   "metadata": {},
   "outputs": [],
   "source": [
    "# train_data['First Hearing Date'].value_counts().sort_index()"
   ]
  },
  {
   "cell_type": "code",
   "execution_count": null,
   "metadata": {},
   "outputs": [],
   "source": [
    "# train_data['Zip Code'].value_counts().sort_index()"
   ]
  },
  {
   "cell_type": "markdown",
   "metadata": {},
   "source": [
    "#### All listed Variables - unique variables summary \n",
    "\n",
    "1. **Accident Date**: contains dates, no strange values (5539 unique values)\n",
    "\n",
    "2. **Age at Injury**: there are some values >100 and there is age equal to  0  (108 unique values) \n",
    "3. **Alternative Dispute Resolution**: there is one strange unique value such as \"U\" (3 unique values)\n",
    "4. **Assembly Date**: containts dates, no strange values (1096 unique values)\n",
    "5. **Attorney/Representative**: no strange values (2 unique values)\n",
    "6. **Average Weekly Wage**: no typical strange values but there are many records sayin that avg weekly wage is equal to 0, a lot of unique values (120024 unique values)\n",
    "7. **Birth Year**:  one strange values \"0\" (Birth Year cannot be 0) (107 unique values)\n",
    "8. **C-2 Date**: contains data, there are some years from 90s (2475 unique values)\n",
    "9. **C-3 Date**: contains data, there are some years from 90s (1648 unique values)\n",
    "10. **Carrier Name**: there are some strange description such as: '*** CARRIER UNDETERMINED ***', (2046 unique values) \n",
    "11. **Carrier Type**: there is one strange value 'UNKNOWN' (8 unique values)\n",
    "12. **Claim Injury Type**: no strange values (8 unique values)\n",
    "13. **County of Injury**: there is one strange value 'UNKNOWN' (63 unique values)\n",
    "14. **COVID-19 Indicator**: no strange values (2 unique values)\n",
    "15. **District Name**: no strange values (8 unique values)\n",
    "16. **First Hearing Date**: no strange values (1094 unique values)\n",
    "17. **Gender**: two strange values 'U' 'X' (4 unique values)\n",
    "18. **Industry Code**: no strange values (24 unique values)\n",
    "19. **Industry Code Description**: no strange values (20 unique values)\n",
    "20. **Medical Fee Region**: one strange value 'UK' (4 unique values)\n",
    "21. ***OIICS Nature of Injury Description**: variable does not contain any data\n",
    "22. **WCIO Cause of Injury Code**: no strange values (77 unique values) \n",
    "23. **WCIO Cause of Injury Description**: no strange values (74 unique values)\n",
    "24. **WCIO Nature of Injury Code**: and no strange values (56 unique values)\n",
    "25. **WCIO Nature of Injury Description**: no strange values (56 unique values)\n",
    "26. **WCIO Part Of Body Code**: one strange values \"-9\" (57 unique values)\n",
    "27. **WCIO Part Of Body Description**: no strange values (54 unique values)\n",
    "28. **Zip Code**:  this variables is a bit strange, it has some strange zip codes such as zip code '.1605', '00000' or '99999' that does not exist, also it has zip codes that starts with letters not with numbers as well as one unique value 'UNKNO' (8286 unique values)\n",
    "29. **Agreement Reached**:  no strange values (2 unique values)\n",
    "30. **WCB Decision**: no strange values (1 unique value)\n",
    "31. **Number of Dependents**: no strange values (7 unique values)\n"
   ]
  },
  {
   "cell_type": "markdown",
   "metadata": {},
   "source": [
    "Based on the description above we changed strange values to missing values."
   ]
  },
  {
   "cell_type": "code",
   "execution_count": null,
   "metadata": {},
   "outputs": [],
   "source": [
    "# Filling missing values with NaN\n",
    "\n",
    "train_data['Alternative Dispute Resolution'].replace('U', np.nan, inplace = True)\n",
    "test_data['Alternative Dispute Resolution'].replace('U', np.nan, inplace = True)\n",
    "\n",
    "train_data['Carrier Name'].replace('*** CARRIER UNDETERMINED ***', np.nan, inplace = True)\n",
    "test_data['Carrier Name'].replace('*** CARRIER UNDETERMINED ***', np.nan, inplace = True)\n",
    "\n",
    "train_data['Carrier Type'].replace('UNKNOWN', np.nan, inplace = True)\n",
    "test_data['Carrier Type'].replace('UNKNOWN', np.nan, inplace = True)\n",
    "\n",
    "train_data['County of Injury'].replace('UNKNOWN', np.nan, inplace=True)\n",
    "test_data['County of Injury'].replace('UNKNOWN', np.nan, inplace=True)\n",
    "\n",
    "train_data['Gender'].replace(['X','U'], np.nan, inplace = True)\n",
    "test_data['Gender'].replace(['X','U'], np.nan, inplace = True)\n",
    "\n",
    "train_data['Medical Fee Region'].replace('UK', np.nan, inplace = True)\n",
    "test_data['Medical Fee Region'].replace('UK', np.nan, inplace = True)\n",
    "\n",
    "train_data['Zip Code'].replace([\".1605\", \"00000\", \"99999\",\"UNKNO\"], np.nan, inplace=True)\n",
    "test_data['Zip Code'].replace([\".1605\", \"00000\", \"99999\", \"UNKNO\"], np.nan, inplace=True)"
   ]
  },
  {
   "cell_type": "markdown",
   "metadata": {},
   "source": [
    "Investigating 0 values in the Age variable"
   ]
  },
  {
   "cell_type": "code",
   "execution_count": null,
   "metadata": {},
   "outputs": [],
   "source": [
    "train_data[train_data['Age at Injury'] == 0].shape"
   ]
  },
  {
   "cell_type": "code",
   "execution_count": null,
   "metadata": {},
   "outputs": [],
   "source": [
    "age_at_injury_zero = train_data[train_data['Age at Injury'] == 0]\n",
    "age_at_injury_zero.groupby('Birth Year')['Age at Injury'].value_counts(dropna=False).sort_index()"
   ]
  },
  {
   "cell_type": "markdown",
   "metadata": {},
   "source": [
    "- There are 5463 zeros in total in the variables Age at Injury\n",
    "- There are 1926 values that are 0 both in Birth Year as well as at Age at Injury\n",
    "- The rest of the zero values (3537) in the variable Age at Injury can be replaced with actual age calulated as accident date - birth year "
   ]
  },
  {
   "cell_type": "markdown",
   "metadata": {},
   "source": [
    "Replacing the Age at Injury values that are equal to 0 (where Birth Year is not equal to 0) with the actual age calculated from the difference between the Accident Date and the Birth Year"
   ]
  },
  {
   "cell_type": "code",
   "execution_count": null,
   "metadata": {},
   "outputs": [],
   "source": [
    "train_data['Actual Age'] = train_data['Accident Date'].dt.year - train_data['Birth Year']\n",
    "\n",
    "filtered_rows = train_data[(train_data['Birth Year'] != 0) & (train_data['Age at Injury'] == 0)]\n",
    "\n",
    "train_data.loc[filtered_rows.index, 'Age at Injury'] = train_data['Actual Age']"
   ]
  },
  {
   "cell_type": "code",
   "execution_count": null,
   "metadata": {},
   "outputs": [],
   "source": [
    "test_data['Actual Age'] = test_data['Accident Date'].dt.year - test_data['Birth Year']\n",
    "\n",
    "filtered_rows = test_data[(test_data['Birth Year'] != 0) & (test_data['Age at Injury'] == 0)]\n",
    "\n",
    "test_data.loc[filtered_rows.index, 'Age at Injury'] = test_data['Actual Age']"
   ]
  },
  {
   "cell_type": "markdown",
   "metadata": {},
   "source": [
    "Check if there are any incoherencies in between Age at Injury that is given in the data set and Actual Age calulated as difference between Accident Date and Birth Year"
   ]
  },
  {
   "cell_type": "code",
   "execution_count": null,
   "metadata": {},
   "outputs": [],
   "source": [
    "train_data['Age Diff'] = train_data['Actual Age'] - train_data['Age at Injury']\n",
    "\n",
    "age_difference = train_data[['Accident Date', 'Birth Year','Actual Age', 'Age at Injury', 'Age Diff']]\n",
    "\n",
    "filtered_summary = age_difference[(age_difference['Age Diff'] != 0) &  (age_difference['Birth Year'] != 0) & (age_difference['Birth Year'].notna())]\n",
    "\n",
    "filtered_summary['Age Diff'].value_counts()\n"
   ]
  },
  {
   "cell_type": "code",
   "execution_count": null,
   "metadata": {},
   "outputs": [],
   "source": [
    "test_data['Age Diff'] = test_data['Actual Age'] - test_data['Age at Injury']\n",
    "\n",
    "age_difference = test_data[['Accident Date', 'Birth Year','Actual Age', 'Age at Injury', 'Age Diff']]\n",
    "\n",
    "filtered_summary = age_difference[(age_difference['Age Diff'] != 0) &  (age_difference['Birth Year'] != 0) & (age_difference['Birth Year'].notna())]\n",
    "\n",
    "filtered_summary['Age Diff'].value_counts()\n"
   ]
  },
  {
   "cell_type": "markdown",
   "metadata": {},
   "source": [
    "Conclusion:"
   ]
  },
  {
   "cell_type": "markdown",
   "metadata": {},
   "source": [
    "There are no incoherencies in between those two variables. the only unique values are 1 and -1 and that difference can be caused by the fact that we dont have the Birth Month, so Actual Age can be slightly inaccurate."
   ]
  },
  {
   "cell_type": "code",
   "execution_count": null,
   "metadata": {},
   "outputs": [],
   "source": [
    "train_data.drop(columns=['Actual Age','Age Diff'], inplace=True)\n",
    "test_data.drop(columns=['Actual Age', 'Age Diff'], inplace=True)"
   ]
  },
  {
   "cell_type": "code",
   "execution_count": null,
   "metadata": {},
   "outputs": [],
   "source": [
    "train_data['Age at Injury'].value_counts().sort_index()"
   ]
  },
  {
   "cell_type": "code",
   "execution_count": null,
   "metadata": {},
   "outputs": [],
   "source": [
    "train_data[(train_data['Age at Injury'] == 0)].shape"
   ]
  },
  {
   "cell_type": "code",
   "execution_count": null,
   "metadata": {},
   "outputs": [],
   "source": [
    "# train_data.groupby('Age at Injury')['Birth Year'].value_counts(dropna=False).sort_index()"
   ]
  },
  {
   "cell_type": "markdown",
   "metadata": {},
   "source": [
    "Changing Age at Injury from 0 to missing values where the Birth Year has missing value."
   ]
  },
  {
   "cell_type": "code",
   "execution_count": null,
   "metadata": {},
   "outputs": [],
   "source": [
    "train_data.loc[(train_data['Age at Injury'] == 0) & (train_data['Birth Year'].isna()), 'Age at Injury'] = np.nan\n",
    "test_data.loc[(test_data['Age at Injury'] == 0) & (test_data['Birth Year'].isna()), 'Age at Injury'] = np.nan\n"
   ]
  },
  {
   "cell_type": "markdown",
   "metadata": {},
   "source": [
    "Changing Age at Injury from 0 to missing values where the Birth Year is also 0"
   ]
  },
  {
   "cell_type": "code",
   "execution_count": null,
   "metadata": {},
   "outputs": [],
   "source": [
    "train_data.loc[(train_data['Age at Injury'] == 0) & (train_data['Birth Year'] == 0), 'Age at Injury'] = np.nan\n",
    "test_data.loc[(test_data['Age at Injury'] == 0) & (test_data['Birth Year'] == 0), 'Age at Injury'] = np.nan"
   ]
  },
  {
   "cell_type": "code",
   "execution_count": null,
   "metadata": {},
   "outputs": [],
   "source": [
    "train_data['Age at Injury'].value_counts(dropna=False).sort_index()"
   ]
  },
  {
   "cell_type": "markdown",
   "metadata": {},
   "source": [
    "At this point Birth Year variable can be dropped since it has similar info as Age at Injury "
   ]
  },
  {
   "cell_type": "code",
   "execution_count": null,
   "metadata": {},
   "outputs": [],
   "source": [
    "train_data = train_data.drop('Birth Year', axis=1)\n",
    "test_data = test_data.drop('Birth Year', axis=1)"
   ]
  },
  {
   "cell_type": "markdown",
   "metadata": {},
   "source": [
    "Recheck for unique values in those variables that have been changed"
   ]
  },
  {
   "cell_type": "code",
   "execution_count": null,
   "metadata": {},
   "outputs": [],
   "source": [
    "# train_data['Alternative Dispute Resolution'].value_counts().sort_index()"
   ]
  },
  {
   "cell_type": "code",
   "execution_count": null,
   "metadata": {},
   "outputs": [],
   "source": [
    "# train_data['Carrier Name'].value_counts().sort_index()"
   ]
  },
  {
   "cell_type": "code",
   "execution_count": null,
   "metadata": {},
   "outputs": [],
   "source": [
    "# train_data['Carrier Type'].value_counts().sort_index()"
   ]
  },
  {
   "cell_type": "code",
   "execution_count": null,
   "metadata": {},
   "outputs": [],
   "source": [
    "# train_data['County of Injury'].value_counts().sort_index()"
   ]
  },
  {
   "cell_type": "code",
   "execution_count": null,
   "metadata": {},
   "outputs": [],
   "source": [
    "# train_data['Gender'].value_counts().sort_index()"
   ]
  },
  {
   "cell_type": "code",
   "execution_count": null,
   "metadata": {},
   "outputs": [],
   "source": [
    "# train_data['Medical Fee Region'].value_counts().sort_index()"
   ]
  },
  {
   "cell_type": "code",
   "execution_count": null,
   "metadata": {},
   "outputs": [],
   "source": [
    "# train_data['Zip Code'].value_counts().sort_index()"
   ]
  },
  {
   "cell_type": "markdown",
   "metadata": {},
   "source": [
    "There is also strange value in the variable WCIO Part Of Body Code. According WCIO website there is no such code as -9. We checked with variable WCIO Part of Body Description which description corresponds to Code -9 in our data set. We found out that -9 is always associated with description \"Multiple\"."
   ]
  },
  {
   "cell_type": "code",
   "execution_count": null,
   "metadata": {},
   "outputs": [],
   "source": [
    "# Display only rows where \"WCIO Part Of Body Code\" in train dataset equals -9\n",
    "filtered_data_train = train_data[train_data[\"WCIO Part Of Body Code\"] == -9]\n",
    "\n",
    "filtered_data_train[\"WCIO Part Of Body Description\"].value_counts()"
   ]
  },
  {
   "cell_type": "code",
   "execution_count": null,
   "metadata": {},
   "outputs": [],
   "source": [
    "# Display only rows where \"WCIO Part Of Body Code\" in test dataset equals -9\n",
    "filtered_data_test = test_data[test_data[\"WCIO Part Of Body Code\"] == -9]\n",
    "\n",
    "filtered_data_test[\"WCIO Part Of Body Description\"].value_counts()"
   ]
  },
  {
   "cell_type": "markdown",
   "metadata": {},
   "source": [
    "We gonna deal with that \"-9\" values after splitting into validation and training set (in the filling missing values section)"
   ]
  },
  {
   "cell_type": "markdown",
   "metadata": {},
   "source": [
    "Variable ***Zip Code*** has a lot of unique values. Therefore, we decided to group Zip Code "
   ]
  },
  {
   "cell_type": "code",
   "execution_count": null,
   "metadata": {},
   "outputs": [],
   "source": [
    "# Creating new variable zip_code dividied into categories \n",
    "def categorize_zip(zip_code):\n",
    "    if pd.isna(zip_code):  \n",
    "        return np.nan \n",
    "    elif isinstance(zip_code, str) and zip_code[0].isdigit():\n",
    "        return zip_code[0]\n",
    "    else:\n",
    "        return \"Other\"\n",
    "\n",
    "train_data['zip_code_cat'] = train_data['Zip Code'].apply(categorize_zip)\n",
    "test_data['zip_code_cat'] = test_data['Zip Code'].apply(categorize_zip)\n",
    "\n",
    "print(train_data['zip_code_cat'].value_counts(dropna=False))\n"
   ]
  },
  {
   "cell_type": "markdown",
   "metadata": {},
   "source": [
    "Dropping the variable Zip Code"
   ]
  },
  {
   "cell_type": "code",
   "execution_count": null,
   "metadata": {},
   "outputs": [],
   "source": [
    "train_data = train_data.drop('Zip Code', axis =1)\n",
    "test_data = test_data.drop('Zip Code', axis =1)"
   ]
  },
  {
   "cell_type": "markdown",
   "metadata": {},
   "source": [
    "We decided to drop variables such us: OIICS Nature of Injury Description and WCB Decision. First variables does not containt any values and second contain only one uniqeu value, so both of them are not informative. We drop WCB Decision only from the train_data because it is not included in the test_data"
   ]
  },
  {
   "cell_type": "code",
   "execution_count": null,
   "metadata": {},
   "outputs": [],
   "source": [
    "train_data =train_data.drop(['OIICS Nature of Injury Description','WCB Decision','Agreement Reached'], axis=1)\n",
    "test_data = test_data.drop(['OIICS Nature of Injury Description'],axis=1)"
   ]
  },
  {
   "cell_type": "markdown",
   "metadata": {},
   "source": [
    "Based on the description of unique values we can assume that variables such as 'WCIO Part Of Body Description','WCIO Nature of Injury Description','WCIO Cause of Injury Description', 'Carrier Name' could be considered to being dropped, becuase they containts description of coded variables, so we do not need to duplicate the information."
   ]
  },
  {
   "cell_type": "markdown",
   "metadata": {},
   "source": [
    "---"
   ]
  },
  {
   "cell_type": "markdown",
   "metadata": {},
   "source": [
    "<a class=\"anchor\" id=\"visualisation\">\n",
    "\n",
    "## 3. Data Visualisation\n",
    "\n",
    "</a>"
   ]
  },
  {
   "cell_type": "markdown",
   "metadata": {},
   "source": [
    "<a class=\"anchor\" id=\"metricandnon\">\n",
    "\n",
    "### 3.1 Define Metric and Non-Metric Features\n",
    "\n",
    "</a>"
   ]
  },
  {
   "cell_type": "markdown",
   "metadata": {},
   "source": [
    "Before doing data visualisation we define metric and non-metric features"
   ]
  },
  {
   "cell_type": "code",
   "execution_count": null,
   "metadata": {},
   "outputs": [],
   "source": [
    "train_data.columns"
   ]
  },
  {
   "cell_type": "code",
   "execution_count": null,
   "metadata": {},
   "outputs": [],
   "source": [
    "### Define metric & non-metric features\n",
    "\n",
    "metric_features = [\"Age at Injury\", \"Average Weekly Wage\", \"IME-4 Count\", \"Number of Dependents\"]\n",
    "\n",
    "non_metric_features = [\"Industry Code\", \"WCIO Cause of Injury Code\", \"WCIO Nature of Injury Code\", \"WCIO Part Of Body Code\", \"Accident Date\", \"Alternative Dispute Resolution\",\n",
    "                       \"Assembly Date\", \"Attorney/Representative\", \"C-2 Date\", \"C-3 Date\", \"Carrier Name\", \"Carrier Type\", \"County of Injury\", \"COVID-19 Indicator\",\n",
    "                       \"District Name\", \"First Hearing Date\", \"Gender\", \"Industry Code Description\", \"Medical Fee Region\", \"WCIO Cause of Injury Description\", \n",
    "                       \"WCIO Nature of Injury Description\", \"WCIO Part Of Body Description\",\"zip_code_cat\"]\n",
    "\n",
    "\n",
    "\n",
    "# metric_features = [\"Age at Injury\", \"Average Weekly Wage\", \"Birth Year\", \"IME-4 Count\", \"Number of Dependents\"]\n",
    "\n",
    "# non_metric_features = [\"Industry Code\", \"WCIO Cause of Injury Code\", \"WCIO Nature of Injury Code\", \"WCIO Part Of Body Code\", \"Accident Date\", \"Alternative Dispute Resolution\",\n",
    "#                        \"Assembly Date\", \"Attorney/Representative\", \"C-2 Date\", \"C-3 Date\", \"Carrier Name\", \"Carrier Type\", \"County of Injury\", \"COVID-19 Indicator\",\n",
    "#                        \"District Name\", \"First Hearing Date\", \"Gender\", \"Industry Code Description\", \"Medical Fee Region\", \"WCIO Cause of Injury Description\", \n",
    "#                        \"WCIO Nature of Injury Description\", \"WCIO Part Of Body Description\", \"Zip Code\", \"Agreement Reached\"]\n"
   ]
  },
  {
   "cell_type": "markdown",
   "metadata": {},
   "source": [
    "<a class=\"anchor\" id=\"metric\">\n",
    "\n",
    "#### 3.1.1 Metric Features\n",
    "\n",
    "</a>"
   ]
  },
  {
   "cell_type": "code",
   "execution_count": null,
   "metadata": {},
   "outputs": [],
   "source": [
    "train_data['Age at Injury'].plot(\n",
    "    kind='hist',\n",
    "    color='bisque', \n",
    "    edgecolor='black',\n",
    "    bins=19\n",
    ")\n",
    "\n",
    "plt.title('Histogram of Age at Injury')\n",
    "plt.xlabel('Age at Injury')\n",
    "plt.ylabel('Frequency') \n",
    "plt.show()"
   ]
  },
  {
   "cell_type": "markdown",
   "metadata": {},
   "source": [
    "Analysis:\n",
    "- The data is primarily concentrated between ages 20 and 70, with minimal occurrences beyond age 80. \n",
    "- The age group with the highest frequency of injuries appears to be in the range of 40 to 50, followed closely by the 30-40 and 50-60 ranges.\n",
    "- The histogram is roughly symmetric and bell-shaped, suggesting a somewhat normal distribution centered around middle-aged individuals (30-60).\n",
    "- There are some cases of injuries at extreme ages (under 10 and over 80), though these are rare compared to the central age groups.\n"
   ]
  },
  {
   "cell_type": "code",
   "execution_count": null,
   "metadata": {},
   "outputs": [],
   "source": [
    "train_data['Average Weekly Wage'].plot(\n",
    "    kind='hist',\n",
    "    color='bisque',\n",
    "    edgecolor='black',\n",
    "    bins=19\n",
    ")\n",
    "\n",
    "plt.title('Histogram of Average Weekly Wage')\n",
    "plt.xlabel('Average Weekly Wage')\n",
    "plt.ylabel('Log10(Frequency)')\n",
    "plt.yscale('log')  \n",
    "plt.show()   "
   ]
  },
  {
   "cell_type": "markdown",
   "metadata": {},
   "source": [
    "Analysis:\n",
    "- Most data points are concentrated at the very low end of the wage scale, with a large spike around the minimum wage range. This suggests that the majority of individuals earn a relatively low weekly wage.\n",
    "- The y-axis is in a logarithmic scale, indicating that the actual frequencies vary greatly. This scale allows us to see the distribution more clearly, even though most values are concentrated at the low end.\n",
    "- As wages increase, the frequency decreases rapidly. There are only a few occurrences of higher wages, suggesting that high average weekly wages are rare.\n",
    "- There are small bars at the far right end of the scale (near 2.5 million), which could indicate a few extreme outliers or high-income earners in the dataset."
   ]
  },
  {
   "cell_type": "code",
   "execution_count": null,
   "metadata": {},
   "outputs": [],
   "source": [
    "train_data['IME-4 Count'].plot(\n",
    "    kind='hist',\n",
    "    color='bisque', \n",
    "    edgecolor='black',\n",
    "    bins=19\n",
    ")\n",
    "\n",
    "plt.title('Histogram of IME-4 Count')\n",
    "plt.xlabel('IME-4 Count')\n",
    "plt.ylabel('Log10(Frequency)')\n",
    "plt.yscale('log')  \n",
    "plt.show()   "
   ]
  },
  {
   "cell_type": "markdown",
   "metadata": {},
   "source": [
    "Analysis:\n",
    "- The data is heavily skewed towards lower values of IME-4 Count, with the highest frequency occurring between 0 and 10. \n",
    "- The y-axis is in a logarithmic scale, indicating that the actual frequencies vary greatly. This scale allows us to see the distribution more clearly, even though most values are concentrated at the low end.\n",
    "- The frequency decreases as the IME-4 Count increases. There is a gradual decline from low to high values, with only a few occurrences beyond 50.\n",
    "- There is a small bar at the far right (around 70), suggesting a few outliers with unusually high IME-4 Counts."
   ]
  },
  {
   "cell_type": "code",
   "execution_count": null,
   "metadata": {},
   "outputs": [],
   "source": [
    "train_data['Number of Dependents'].plot(\n",
    "    kind='hist',\n",
    "    color='bisque', \n",
    "    edgecolor='black',\n",
    "    bins=5\n",
    ")\n",
    "\n",
    "plt.title('Histogram of Number of Dependents')\n",
    "plt.xlabel('Number of Dependents')\n",
    "plt.ylabel('Frequency') \n",
    "plt.show()"
   ]
  },
  {
   "cell_type": "markdown",
   "metadata": {},
   "source": [
    "Analysis:\n",
    "- The x-axis represents the number of dependents (ranging from 0 to 6).\n",
    "- The highest frequencies are at 0 and 6 dependents.\n",
    "- There is a noticeable dip in frequency for categories 2, 3, and 4 dependents, indicating fewer instances."
   ]
  },
  {
   "cell_type": "code",
   "execution_count": null,
   "metadata": {},
   "outputs": [],
   "source": [
    "# train_data['Birth Year'].plot(\n",
    "#     kind='hist',\n",
    "#     color='bisque', \n",
    "#     edgecolor='black',\n",
    "#     bins=19\n",
    "# )\n",
    "\n",
    "# plt.title('Histogram of Birth Year')\n",
    "# plt.xlabel('Birth Year')\n",
    "# plt.ylabel('Frequency') \n",
    "# plt.show()"
   ]
  },
  {
   "cell_type": "markdown",
   "metadata": {},
   "source": [
    "- Birth Year = 0\n",
    "- Define a funtion to be able to see the values within a range"
   ]
  },
  {
   "cell_type": "code",
   "execution_count": null,
   "metadata": {},
   "outputs": [],
   "source": [
    "def plot_filtered_histogram(data, column_name, min_value, max_value, bins=19):\n",
    "    \n",
    "    # Filter the data to include only the values in the specified range\n",
    "    filtered_data = train_data[(train_data[column_name] >= min_value) & (train_data[column_name] <= max_value)][column_name].dropna()\n",
    "    \n",
    "    #Histogram\n",
    "    plt.figure(figsize=(10, 6))\n",
    "    plt.hist(filtered_data, bins=bins, color='bisque', edgecolor='black')\n",
    "    plt.title(f'Histogram of {column_name} (range: {min_value} to {max_value})')\n",
    "    plt.xlabel(column_name)\n",
    "    plt.ylabel('Frequency')\n",
    "    plt.grid(axis='y', alpha=0.75)\n",
    "    plt.show()"
   ]
  },
  {
   "cell_type": "code",
   "execution_count": null,
   "metadata": {},
   "outputs": [],
   "source": [
    "# plot_filtered_histogram(train_data, column_name=\"Birth Year\", min_value=1920, max_value=2024, bins=19)"
   ]
  },
  {
   "cell_type": "markdown",
   "metadata": {},
   "source": [
    "<a class=\"anchor\" id=\"non\">\n",
    "\n",
    "#### 3.1.2 Non-Metric Features\n",
    "\n",
    "</a>"
   ]
  },
  {
   "cell_type": "code",
   "execution_count": null,
   "metadata": {},
   "outputs": [],
   "source": [
    "for column in non_metric_features:\n",
    "    \n",
    "    top_categories = train_data[column].value_counts().head(10)\n",
    "\n",
    "    top_categories_sorted = top_categories.sort_values(ascending=True)\n",
    "\n",
    "    data_filtered = train_data[train_data[column].isin(top_categories_sorted.index)]\n",
    "    \n",
    "   \n",
    "    plt.figure(figsize=(10, 5))\n",
    "    sns.countplot(data=data_filtered, \n",
    "                  x=column, \n",
    "                  order=top_categories_sorted.index,  \n",
    "                  palette='tab20b')\n",
    "    \n",
    "  \n",
    "    plt.xlabel(column, fontsize=14)\n",
    "    plt.ylabel('Count', fontsize=14)\n",
    "    plt.title(f'Top 10 Categories in {column}')\n",
    "    \n",
    "    \n",
    "    plt.xticks(rotation=45)\n",
    "    plt.tight_layout()\n",
    "    plt.show()"
   ]
  },
  {
   "cell_type": "markdown",
   "metadata": {},
   "source": [
    "### Analysis: Categorical Variables\n",
    " - Industry Code\n",
    "\n",
    " The top 2 industry codes are **62** (almost 120.000) and **92** (almost 100.000) with a large marge relatively to the rest\n",
    "\n",
    "\n",
    " - WCIO Cause of Injury Code\n",
    "\n",
    " The most common cause of injury has the code **56** (almost 50.000) with a marge relatively to the others\n",
    "\n",
    "\n",
    " - WCIO Nature of Injury Code \n",
    "\n",
    " The top 2 industry codes are **52** (close to 160.000) and **10** (closte to 110.000) with a large marge relatively to the rest\n",
    "\n",
    "\n",
    " - WCIO Part of Body Code \n",
    "\n",
    " The most common cause of injury has the code **42** (slightly exceeds 50.000) and **53** (close to 50.000)\n",
    "\n",
    "\n",
    " - Accident Date\n",
    "\n",
    "01-03-2023 (slightly exceeds 1200) with a large marge relatively to the others\n",
    "\n",
    "\n",
    "- Alternative Dispute Resolution\n",
    "\n",
    "100% = No\n",
    "\n",
    "\n",
    "- Assembly Date \n",
    "\n",
    "Top 3: 06-03-2020 (1400), 11-05-2021 (close to 1400) and 01-04-2022 (slightly exceeds 1200)\n",
    "\n",
    "\n",
    "- Attorney/Representative\n",
    "\n",
    "Almost 400.000 = No\n",
    "\n",
    "\n",
    "- C-2 Date\n",
    "\n",
    "11-05-2021 (close to 1875) with a large marge in relation to the others\n",
    "\n",
    "\n",
    "- C-3 Date\n",
    "\n",
    "Top 3: 21-04-2021, 26-10-2020 and 10-02-2020 (all 3 close to 350)\n",
    "\n",
    "\n",
    "- Carrier Name \n",
    "\n",
    "State Insurance Fund (more than 100.000) with a large marge in relation to the others\n",
    "\n",
    "\n",
    "- Carrier Type\n",
    "\n",
    "1A.Private (almost 300.000) with a large marge in relation to the others\n",
    "\n",
    "\n",
    "- County of Injury\n",
    "\n",
    "Top 3: Suffolk (more than 60.000), Queens (almost 60.000) and Kings (slightly exceeds 50.000)\n",
    "\n",
    "\n",
    "- COVID-19 Indicator\n",
    "\n",
    "No (Close to 550.000)\n",
    "\n",
    "\n",
    "- District Name\n",
    "\n",
    "NYC (slightly exceeds 255.000) with a large marge in relation to the others\n",
    "\n",
    "\n",
    "- Fisrt Hearing Date\n",
    "\n",
    "Top 3: 15-04-2022 (close to 500), 20-01-2022 (slightly exceeds 400) and 15-02-2022 (400)\n",
    "\n",
    "\n",
    "- Gender \n",
    "\n",
    "Male with almost 350.000\n",
    "\n",
    "\n",
    "- Industry Code Description\n",
    "\n",
    "The more frequent are: Health Care and Social Assistance (almost 120.000) and Public Administration (slightly exceeds 90.000) with a large marge in relation to the others\n",
    "\n",
    "\n",
    "- Medical Fee Region \n",
    "\n",
    "IV (close to 275.000) with a large marge in relation to the others\n",
    "\n",
    "\n",
    "- WCIO Cause os Injury Description\n",
    "\n",
    "Top 3: Fellow worker, Patient or Other Person (close to 50.000), Strain or Injury By, NOC (close to 40.000) and Fall, Slip or Trip, NOC (slightly exceeds 30.000)\n",
    "\n",
    "\n",
    "- WCIO Nature of Injury Description\n",
    "\n",
    "Strain or Tear (150.000) and Contusion (slightly exceeds 100.000) with a large marge in relation to the others\n",
    "\n",
    "\n",
    "- WCIO Part of Body Description\n",
    "\n",
    "Top 3: Lower Back Area (close to 50.000), Knee (close to 50.000) and Multiple (slightly exceeds 40.000)\n",
    "\n",
    "\n",
    "- Zip Code Categorie\n",
    "\n",
    "1 (slightly exceeds 500.000) with a large marge in relation to the others"
   ]
  },
  {
   "cell_type": "markdown",
   "metadata": {},
   "source": [
    "---"
   ]
  },
  {
   "cell_type": "markdown",
   "metadata": {},
   "source": [
    "<a class=\"anchor\" id=\"clean\">\n",
    "\n",
    "## 4. Data Cleaning and Pre-processing\n",
    "\n",
    "</a>"
   ]
  },
  {
   "cell_type": "markdown",
   "metadata": {},
   "source": [
    "<a class=\"anchor\" id=\"nantarget\">\n",
    "\n",
    "### 4.1 Checking for missing values in the target variable - Claim Injury Type\n",
    "\n",
    "</a>"
   ]
  },
  {
   "cell_type": "code",
   "execution_count": null,
   "metadata": {},
   "outputs": [],
   "source": [
    "train_data[\"Claim Injury Type\"].isna().sum()"
   ]
  },
  {
   "cell_type": "code",
   "execution_count": null,
   "metadata": {},
   "outputs": [],
   "source": [
    "missing_data_target = train_data[train_data['Claim Injury Type'].isna()]\n",
    "missing_data_target.head()"
   ]
  },
  {
   "cell_type": "code",
   "execution_count": null,
   "metadata": {},
   "outputs": [],
   "source": [
    "missing_data_target.info()\n",
    "# all features with missing values on the target, are also missing, except Assembly Date -> not relevant (decision -> drop rows)"
   ]
  },
  {
   "cell_type": "code",
   "execution_count": null,
   "metadata": {},
   "outputs": [],
   "source": [
    "train_data= train_data.drop(missing_data_target.index)"
   ]
  },
  {
   "cell_type": "markdown",
   "metadata": {},
   "source": [
    "Re check for missing values in the target variable"
   ]
  },
  {
   "cell_type": "code",
   "execution_count": null,
   "metadata": {},
   "outputs": [],
   "source": [
    "train_data['Claim Injury Type'].isna().sum()"
   ]
  },
  {
   "cell_type": "markdown",
   "metadata": {},
   "source": [
    "---"
   ]
  },
  {
   "cell_type": "markdown",
   "metadata": {},
   "source": [
    "<a class=\"anchor\" id=\"nanindependent\">\n",
    "\n",
    "### 4.2 Checking for missing values in the intependent variables\n",
    "\n",
    "</a>"
   ]
  },
  {
   "cell_type": "markdown",
   "metadata": {},
   "source": [
    "##### - Before we check for missing values in the independet variables we split our data into training and validation set"
   ]
  },
  {
   "cell_type": "code",
   "execution_count": null,
   "metadata": {},
   "outputs": [],
   "source": [
    "X = train_data.drop('Claim Injury Type', axis = 1)\n",
    "y = train_data['Claim Injury Type']"
   ]
  },
  {
   "cell_type": "code",
   "execution_count": null,
   "metadata": {},
   "outputs": [],
   "source": [
    "X_train, X_val, y_train, y_val = train_test_split(X,y, test_size = 0.3, \n",
    "                                                  random_state = 0, \n",
    "                                                  stratify = y, \n",
    "                                                  shuffle = True)\n"
   ]
  },
  {
   "cell_type": "markdown",
   "metadata": {},
   "source": [
    "##### Checking the number of missing values in each variable in the train and validation set (number and percentage)"
   ]
  },
  {
   "cell_type": "code",
   "execution_count": null,
   "metadata": {},
   "outputs": [],
   "source": [
    "# missing_values_train = X_train.isnull().sum().sort_values(ascending=False)\n",
    "# print(missing_values_train)"
   ]
  },
  {
   "cell_type": "code",
   "execution_count": null,
   "metadata": {},
   "outputs": [],
   "source": [
    "# missing_values_val = X_val.isnull().sum().sort_values(ascending=False)\n",
    "# print(missing_values_val)"
   ]
  },
  {
   "cell_type": "code",
   "execution_count": null,
   "metadata": {},
   "outputs": [],
   "source": [
    "missing_percentage_train = ((X_train.isnull().sum() / len(X_train)) * 100).sort_values(ascending=False)\n",
    "print(missing_percentage_train)"
   ]
  },
  {
   "cell_type": "code",
   "execution_count": null,
   "metadata": {},
   "outputs": [],
   "source": [
    "missing_percentage_val = ((X_val.isnull().sum() / len(X_val)) * 100).sort_values(ascending=False)\n",
    "print(missing_percentage_val)"
   ]
  },
  {
   "cell_type": "code",
   "execution_count": null,
   "metadata": {},
   "outputs": [],
   "source": [
    "missing_percentage_test = ((test_data.isnull().sum() / len(test_data)) * 100).sort_values(ascending=False)\n",
    "print(missing_percentage_test)"
   ]
  },
  {
   "cell_type": "markdown",
   "metadata": {},
   "source": [
    "Variables such as ***IME-4 Count*** , ***First Hearing Date*** and ***C-3 Date*** have more than 60% of missing values. \n",
    "<br> We decided to drop  ***IME-4 Count*** and ***C-3 Date*** becuase they have so many missing values that it does not make sense to impute them (not enough information for taking that as sample for the whole population).\n",
    "<br> We do not drop ***First Hearing Date*** variable, because blank date (missing value) means the claim has not yet had a hearing held. Thus, it is an information that we want to keep."
   ]
  },
  {
   "cell_type": "code",
   "execution_count": null,
   "metadata": {},
   "outputs": [],
   "source": [
    "columns_to_drop = ['IME-4 Count','C-3 Date']\n",
    "X_train =X_train.drop(columns_to_drop, axis=1)\n",
    "X_val =X_val.drop(columns_to_drop, axis=1)\n",
    "test_data = test_data.drop(columns_to_drop, axis=1)\n",
    "\n",
    "metric_features.remove('IME-4 Count')\n",
    "non_metric_features.remove('C-3 Date')"
   ]
  },
  {
   "cell_type": "markdown",
   "metadata": {},
   "source": [
    "We decided to change vairable First Hearing Date to binary variable, where NaN values are replaced by 0 - it means that claim has not had a hearing held yet and dataes are replaced by 1 which means that hearings has been already held."
   ]
  },
  {
   "cell_type": "code",
   "execution_count": null,
   "metadata": {},
   "outputs": [],
   "source": [
    "X_train['First Hearing Date Binary'] = X_train['First Hearing Date'].notna().astype(int)\n",
    "X_val['First Hearing Date Binary'] = X_val['First Hearing Date'].notna().astype(int)\n",
    "test_data['First Hearing Date Binary'] = test_data['First Hearing Date'].notna().astype(int)\n",
    "\n",
    "X_train[['First Hearing Date', 'First Hearing Date Binary']].head()\n"
   ]
  },
  {
   "cell_type": "markdown",
   "metadata": {},
   "source": [
    "First Hearing Data variable can be droped after creating binary variable."
   ]
  },
  {
   "cell_type": "code",
   "execution_count": null,
   "metadata": {},
   "outputs": [],
   "source": [
    "X_train =X_train.drop(\"First Hearing Date\", axis=1)\n",
    "X_val =X_val.drop(\"First Hearing Date\", axis=1)\n",
    "test_data =test_data.drop(\"First Hearing Date\", axis=1)"
   ]
  },
  {
   "cell_type": "code",
   "execution_count": null,
   "metadata": {},
   "outputs": [],
   "source": [
    "non_metric_features.remove('First Hearing Date')\n",
    "non_metric_features.append('First Hearing Date Binary')"
   ]
  },
  {
   "cell_type": "markdown",
   "metadata": {},
   "source": [
    "Checking for all missing values in all WCIO_columns. WCIO_colums are important during decision of defininunf injury type."
   ]
  },
  {
   "cell_type": "code",
   "execution_count": null,
   "metadata": {},
   "outputs": [],
   "source": [
    "WCIO_columns = [\n",
    "    'WCIO Part Of Body Code', \n",
    "    'WCIO Part Of Body Description', \n",
    "    'WCIO Nature of Injury Description', \n",
    "    'WCIO Nature of Injury Code', \n",
    "    'WCIO Cause of Injury Description', \n",
    "    'WCIO Cause of Injury Code'\n",
    "]\n",
    "\n",
    "# Display rows where all WCIO columns contain NaN values\n",
    "WCIO_nan_rows = X_train[X_train[WCIO_columns].isna().all(axis=1)]\n",
    "\n",
    "count_all_nan_WCIO = X_train[WCIO_columns].isna().all(axis=1).sum()\n",
    "print(\"Rows with all NaN values in WCIO columns:\", count_all_nan_WCIO)\n",
    "\n",
    "\n",
    "# Calculate the percentage of these rows in the whole dataset\n",
    "percentage_all_nan_WCIO = (count_all_nan_WCIO / len(X_train)) * 100\n",
    "\n",
    "# Display the result\n",
    "print(f\"Percentage of rows with all NaN values in WCIO columns: {percentage_all_nan_WCIO:.2f}%\")\n",
    "WCIO_nan_rows.head()\n"
   ]
  },
  {
   "cell_type": "code",
   "execution_count": null,
   "metadata": {},
   "outputs": [],
   "source": [
    "WCIO_columns = [\n",
    "    'WCIO Part Of Body Code', \n",
    "    'WCIO Part Of Body Description', \n",
    "    'WCIO Nature of Injury Description', \n",
    "    'WCIO Nature of Injury Code', \n",
    "    'WCIO Cause of Injury Description', \n",
    "    'WCIO Cause of Injury Code'\n",
    "]\n",
    "\n",
    "# Display rows where all WCIO columns contain NaN values\n",
    "WCIO_nan_rows = X_val[X_val[WCIO_columns].isna().all(axis=1)]\n",
    "\n",
    "count_all_nan_WCIO = X_val[WCIO_columns].isna().all(axis=1).sum()\n",
    "print(\"Rows with all NaN values in WCIO columns:\", count_all_nan_WCIO)\n",
    "\n",
    "\n",
    "# Calculate the percentage of these rows in the whole dataset\n",
    "percentage_all_nan_WCIO = (count_all_nan_WCIO / len(X_val)) * 100\n",
    "\n",
    "# Display the result\n",
    "print(f\"Percentage of rows with all NaN values in WCIO columns: {percentage_all_nan_WCIO:.2f}%\")\n",
    "WCIO_nan_rows.head()\n"
   ]
  },
  {
   "cell_type": "markdown",
   "metadata": {},
   "source": [
    "Dropping rows where all WCIO columns contain NaN values."
   ]
  },
  {
   "cell_type": "code",
   "execution_count": null,
   "metadata": {},
   "outputs": [],
   "source": [
    "#Filter X_train and y_train\n",
    "X_train_filtered = X_train[~X_train[WCIO_columns].isna().all(axis=1)]\n",
    "y_train_filtered = y_train[X_train_filtered.index]\n",
    "\n",
    "# Filter X_val and y_val\n",
    "X_val_filtered = X_val[~X_val[WCIO_columns].isna().all(axis=1)]\n",
    "y_val_filtered = y_val[X_val_filtered.index]\n",
    "\n",
    "# Assign back to X_train, X_val, y_train, and y_val\n",
    "X_train, y_train = X_train_filtered, y_train_filtered\n",
    "X_val, y_val = X_val_filtered, y_val_filtered"
   ]
  },
  {
   "cell_type": "markdown",
   "metadata": {},
   "source": [
    "Checking the missing percentage for the datasets"
   ]
  },
  {
   "cell_type": "code",
   "execution_count": null,
   "metadata": {},
   "outputs": [],
   "source": [
    "missing_percentage_train = ((X_train.isnull().sum() / len(X_train)) * 100).sort_values(ascending=False)\n",
    "missing_percentage_train = missing_percentage_train[missing_percentage_train > 0]\n",
    "print(missing_percentage_train)"
   ]
  },
  {
   "cell_type": "code",
   "execution_count": null,
   "metadata": {},
   "outputs": [],
   "source": [
    "missing_percentage_val = ((X_val.isnull().sum() / len(X_val)) * 100).sort_values(ascending=False)\n",
    "missing_percentage_val = missing_percentage_val[missing_percentage_val > 0]\n",
    "print(missing_percentage_val)"
   ]
  },
  {
   "cell_type": "code",
   "execution_count": null,
   "metadata": {},
   "outputs": [],
   "source": [
    "missing_percentage_test = ((test_data.isnull().sum() / len(test_data)) * 100).sort_values(ascending=False)\n",
    "missing_percentage_test = missing_percentage_test[missing_percentage_test > 0]\n",
    "print(missing_percentage_test)"
   ]
  },
  {
   "cell_type": "markdown",
   "metadata": {},
   "source": [
    "<a class=\"anchor\" id=\"dealnan\">\n",
    "\n",
    "### 4.3 Dealing with Missing Values\n",
    "</a>"
   ]
  },
  {
   "cell_type": "markdown",
   "metadata": {},
   "source": [
    "Acording to WCIO website codes that contains in the description word multiple are: 10, 20, 30, 40, 50, 90, 91. Thus, we decided to fill -9 those values with mode amonog codes that corresponds to multiple. We used mode to replace -9 becuase WCIO Part of Body Code is a categorical variable."
   ]
  },
  {
   "cell_type": "code",
   "execution_count": null,
   "metadata": {},
   "outputs": [],
   "source": [
    "# Define the valid codes for \"Multiple\"\n",
    "multiple_codes = [10, 20, 30, 40, 50, 90, 91]\n",
    "\n",
    "# Calculate the mode among the valid multiple codes\n",
    "mode_value = X_train[X_train[\"WCIO Part Of Body Code\"].isin(multiple_codes)][\"WCIO Part Of Body Code\"].mode()[0]\n",
    "\n",
    "# Replace only -9 values with the mode, leaving other NaN values unchanged\n",
    "X_train[\"WCIO Part Of Body Code\"] = X_train[\"WCIO Part Of Body Code\"].replace(-9, mode_value)\n",
    "\n",
    "test_data[\"WCIO Part Of Body Code\"] = test_data[\"WCIO Part Of Body Code\"].replace(-9, mode_value)\n",
    "\n",
    "X_val[\"WCIO Part Of Body Code\"] = X_val[\"WCIO Part Of Body Code\"].replace(-9, mode_value)\n",
    "\n",
    "\n",
    "print(X_train[\"WCIO Part Of Body Code\"].value_counts(dropna=False))"
   ]
  },
  {
   "cell_type": "markdown",
   "metadata": {},
   "source": [
    "- All missing values in the variable ***Average Weekly Wage*** are replaced by using median (it is a continous variable)"
   ]
  },
  {
   "cell_type": "code",
   "execution_count": null,
   "metadata": {},
   "outputs": [],
   "source": [
    "median_wage = X_train[\"Average Weekly Wage\"].median()\n",
    "X_train[\"Average Weekly Wage\"].fillna(median_wage, inplace=True)\n",
    "\n",
    "X_val[\"Average Weekly Wage\"].fillna(median_wage, inplace=True)\n",
    "test_data[\"Average Weekly Wage\"].fillna(median_wage, inplace=True)\n"
   ]
  },
  {
   "cell_type": "markdown",
   "metadata": {},
   "source": [
    "- Replacing missing values in variable Age at Injury with mean (That variable is almost normal distributed)"
   ]
  },
  {
   "cell_type": "code",
   "execution_count": null,
   "metadata": {},
   "outputs": [],
   "source": [
    "mean_age = int(X_train[\"Age at Injury\"].mean())\n",
    "\n",
    "X_train[\"Age at Injury\"].fillna(mean_age, inplace=True)\n",
    "\n",
    "X_val[\"Age at Injury\"].fillna(mean_age, inplace=True)\n",
    "\n",
    "test_data[\"Age at Injury\"].fillna(mean_age, inplace=True)"
   ]
  },
  {
   "cell_type": "markdown",
   "metadata": {},
   "source": [
    "- Replacing missing values in ***zip_code_cat*** with mode - categorical variable"
   ]
  },
  {
   "cell_type": "code",
   "execution_count": null,
   "metadata": {},
   "outputs": [],
   "source": [
    "mode_value = X_train['zip_code_cat'].mode()[0]  \n",
    "\n",
    "# Replace NaN values in 'zip_code_cat' with the mode\n",
    "X_train['zip_code_cat'].fillna(mode_value, inplace=True)\n",
    "X_val['zip_code_cat'].fillna(mode_value, inplace=True)\n",
    "test_data['zip_code_cat'].fillna(mode_value, inplace=True)\n",
    "\n",
    "# Display the updated DataFrame and the distribution of the new category\n",
    "X_train['zip_code_cat'].value_counts(dropna=False)  # Include NaN if still any "
   ]
  },
  {
   "cell_type": "markdown",
   "metadata": {},
   "source": [
    "- Variables that has less than 1% of with missing values"
   ]
  },
  {
   "cell_type": "code",
   "execution_count": null,
   "metadata": {},
   "outputs": [],
   "source": [
    "# List of categorical columns that missing values should be replaced with mode\n",
    "mode_variables = [\n",
    "    'Medical Fee Region',\n",
    "    'zip_code_cat',\n",
    "    'WCIO Part Of Body Code',\n",
    "    'WCIO Part Of Body Description',\n",
    "    'WCIO Nature of Injury Code',\n",
    "    'WCIO Nature of Injury Description',\n",
    "    'WCIO Cause of Injury Description',\n",
    "    'WCIO Cause of Injury Code',\n",
    "    'C-2 Date',\n",
    "    'Industry Code',\n",
    "    'Industry Code Description',\n",
    "    'Gender',\n",
    "    'Accident Date',\n",
    "    'Carrier Type',\n",
    "    'Carrier Name',\n",
    "    'County of Injury',\n",
    "    'Alternative Dispute Resolution'\n",
    "]"
   ]
  },
  {
   "cell_type": "code",
   "execution_count": null,
   "metadata": {},
   "outputs": [],
   "source": [
    "for column in mode_variables:\n",
    "    mode_value = X_train[column].mode()\n",
    "    if not mode_value.empty:\n",
    "        X_train[column] = X_train[column].fillna(mode_value[0])\n",
    "        X_val[column] = X_val[column].fillna(mode_value[0])  \n",
    "        test_data[column] = test_data[column].fillna(mode_value[0])"
   ]
  },
  {
   "cell_type": "markdown",
   "metadata": {},
   "source": [
    "---"
   ]
  },
  {
   "cell_type": "markdown",
   "metadata": {},
   "source": [
    "Re check for number of  missing values"
   ]
  },
  {
   "cell_type": "code",
   "execution_count": null,
   "metadata": {},
   "outputs": [],
   "source": [
    "X_train.isna().sum().sort_values(ascending=False)"
   ]
  },
  {
   "cell_type": "code",
   "execution_count": null,
   "metadata": {},
   "outputs": [],
   "source": [
    "X_val.isna().sum().sort_values(ascending=False)"
   ]
  },
  {
   "cell_type": "code",
   "execution_count": null,
   "metadata": {},
   "outputs": [],
   "source": [
    "test_data.isna().sum().sort_values(ascending=False)"
   ]
  },
  {
   "cell_type": "markdown",
   "metadata": {},
   "source": [
    "---"
   ]
  },
  {
   "cell_type": "markdown",
   "metadata": {},
   "source": [
    "- After analysis we also decided to drop variables that contain descriptions of other coded variables."
   ]
  },
  {
   "cell_type": "code",
   "execution_count": null,
   "metadata": {},
   "outputs": [],
   "source": [
    "columns_to_drop_desc = ['WCIO Part Of Body Description','WCIO Nature of Injury Description','WCIO Cause of Injury Description', 'Carrier Name']\n",
    "\n",
    "X_train =X_train.drop(columns_to_drop_desc, axis=1)\n",
    "X_val = X_val.drop(columns_to_drop_desc, axis=1)\n",
    "test_data =test_data.drop(columns_to_drop_desc, axis=1)\n",
    "\n",
    "non_metric_features = [feature for feature in non_metric_features if feature not in columns_to_drop_desc]\n"
   ]
  },
  {
   "cell_type": "markdown",
   "metadata": {},
   "source": [
    "<a class=\"anchor\" id=\"multi\">\n",
    "\n",
    "## 5. Multivariate Analysis\n",
    "</a>"
   ]
  },
  {
   "cell_type": "code",
   "execution_count": null,
   "metadata": {},
   "outputs": [],
   "source": [
    "# Test cross tabular \n",
    "cross = pd.crosstab(X_train[\"Attorney/Representative\"], X_train['First Hearing Date Binary'], normalize=True).round(2)\n",
    "\n",
    "fig = plt.figure(figsize=(10, 8))\n",
    "sns.heatmap(data=cross, annot=True, \n",
    "            vmin=0, vmax=1, center=0,\n",
    "            square=True, linewidths=.5,\n",
    "            cmap='PiYG')\n",
    "plt.show()"
   ]
  },
  {
   "cell_type": "markdown",
   "metadata": {},
   "source": [
    "Only 5% of folks who had a \"First Hearing Date\" did NOT have an attorney and 9% had an attorney but no hearing date. These situations are a little unusual but not strange. Not having an attorney when there is no hearing date is expected."
   ]
  },
  {
   "cell_type": "markdown",
   "metadata": {},
   "source": [
    "Looking at the below, the distribution of \"Claim Injury Types\" is quite even throughout, whereas the distribution for when data for the \"First Hearing Date\" wasn't available. \"Non-Comp\" seems to be the predominate value."
   ]
  },
  {
   "cell_type": "code",
   "execution_count": null,
   "metadata": {},
   "outputs": [],
   "source": [
    "cat_df = X_train.groupby([X_train[\"First Hearing Date Binary\"], y_train]).size().unstack()\n",
    "cat_df.plot.bar(stacked=True)\n",
    "plt.show()"
   ]
  },
  {
   "cell_type": "markdown",
   "metadata": {},
   "source": [
    "Examining the below histogram for when an attonrey/representative is present or not, for when an attonrey/representative isn't present, the values seem more imbalanced with supports the initial hypothesis that if an attorney is involved, the claim injury being compensated is less likely."
   ]
  },
  {
   "cell_type": "code",
   "execution_count": null,
   "metadata": {},
   "outputs": [],
   "source": [
    "cat_df = X_train.groupby([X_train[\"Attorney/Representative\"], y_train]).size().unstack()\n",
    "cat_df.plot.bar(stacked=True)\n",
    "plt.show()"
   ]
  },
  {
   "cell_type": "markdown",
   "metadata": {},
   "source": [
    "Compare \"Attorney/Representative\" vs \"First Hearing Date Binary\" for when there is no attorney and there is no first hearing date. The wide imbalance shows that this could be a particular variable relationship that could help with deciding Claim Injury Type."
   ]
  },
  {
   "cell_type": "code",
   "execution_count": null,
   "metadata": {},
   "outputs": [],
   "source": [
    "attorney_data = X_train[ (X_train[\"Attorney/Representative\"] == \"N\")]\n",
    "cat_df = attorney_data.groupby([X_train[\"First Hearing Date Binary\"], y_train]).size().unstack()\n",
    "cat_df.plot.bar(stacked=True)\n",
    "plt.title(\"First Hearing Date Distribution when No Attorney is Present\")\n",
    "plt.show()"
   ]
  },
  {
   "cell_type": "markdown",
   "metadata": {},
   "source": [
    "Compare \"Attorney/Representative\" vs \"First Hearing Date Binary\" for when there is an attorney. Compared to the last histogram, this one's values are more balanced. This further concludes that the presence of an attorney helps with the distribution of Claim injury Type."
   ]
  },
  {
   "cell_type": "code",
   "execution_count": null,
   "metadata": {},
   "outputs": [],
   "source": [
    "attorney_data = X_train[ (X_train[\"Attorney/Representative\"] == \"Y\")]\n",
    "cat_df = attorney_data.groupby([X_train[\"First Hearing Date Binary\"], y_train]).size().unstack()\n",
    "cat_df.plot.bar(stacked=True)\n",
    "plt.title(\"First Hearing Date Distribution when an Attorney is Present\")\n",
    "plt.show()"
   ]
  },
  {
   "cell_type": "markdown",
   "metadata": {},
   "source": [
    "If an attorney isn't needed, the \"Alternative Distribution Resolution\" could play a part in deciding the Claim Injury Type. Let's examine the dsitribution of \"Claim Injury Type\" and \"Alternative Dispute Resolution\"."
   ]
  },
  {
   "cell_type": "code",
   "execution_count": null,
   "metadata": {},
   "outputs": [],
   "source": [
    "cat_df = X_train.groupby([X_train[\"Alternative Dispute Resolution\"], y_train]).size().unstack()\n",
    "cat_df.plot.bar(stacked=True)\n",
    "plt.show()"
   ]
  },
  {
   "cell_type": "markdown",
   "metadata": {},
   "source": [
    "There are barely any instances where Alternative Distribution is \"Y\"."
   ]
  },
  {
   "cell_type": "code",
   "execution_count": null,
   "metadata": {},
   "outputs": [],
   "source": [
    "X_train.groupby(\"Alternative Dispute Resolution\")[\"Alternative Dispute Resolution\"].value_counts()"
   ]
  },
  {
   "cell_type": "markdown",
   "metadata": {},
   "source": [
    "With there being only 34 values where the resolution is \"Y\", the possibility that it helped with desicions is low. <br/> <br/>\n",
    "Whereas the distribution for Attorney/Representative is much higher (as seen below). "
   ]
  },
  {
   "cell_type": "code",
   "execution_count": null,
   "metadata": {},
   "outputs": [],
   "source": [
    "X_train.groupby(\"Attorney/Representative\")[\"Attorney/Representative\"].value_counts()"
   ]
  },
  {
   "cell_type": "code",
   "execution_count": null,
   "metadata": {},
   "outputs": [],
   "source": [
    "cat_df = X_train.groupby([X_train[\"Medical Fee Region\"], y_train]).size().unstack()\n",
    "cat_df.plot.bar(stacked=True)\n",
    "plt.show()"
   ]
  },
  {
   "cell_type": "code",
   "execution_count": null,
   "metadata": {},
   "outputs": [],
   "source": [
    "cat_df = X_train.groupby([X_train[\"Carrier Type\"], y_train]).size().unstack()\n",
    "cat_df.plot.bar(stacked=True)\n",
    "plt.show()"
   ]
  },
  {
   "cell_type": "code",
   "execution_count": null,
   "metadata": {},
   "outputs": [],
   "source": [
    "cross = pd.crosstab(X_train[\"Medical Fee Region\"], X_train['Carrier Type'], normalize=True).round(2)\n",
    "\n",
    "fig = plt.figure(figsize=(10, 8))\n",
    "sns.heatmap(data=cross, annot=True, \n",
    "            vmin=0, vmax=1, center=0,\n",
    "            square=True, linewidths=.5,\n",
    "            cmap='PiYG')\n",
    "plt.show()"
   ]
  },
  {
   "cell_type": "code",
   "execution_count": null,
   "metadata": {},
   "outputs": [],
   "source": [
    "cat_df = X_train.groupby([X_train[\"Age at Injury\"], y_train]).size().unstack()\n",
    "cat_df.plot.bar(stacked=True)\n",
    "plt.show()"
   ]
  },
  {
   "cell_type": "markdown",
   "metadata": {},
   "source": [
    "There seems to be an even distribution between claim injury types and gender. (Probably won't play much of a role in deciding claim type)"
   ]
  },
  {
   "cell_type": "code",
   "execution_count": null,
   "metadata": {},
   "outputs": [],
   "source": [
    "cat_df = X_train.groupby([X_train[\"Gender\"], y_train]).size().unstack()\n",
    "cat_df.plot.bar(stacked=True)\n",
    "plt.show()"
   ]
  },
  {
   "cell_type": "markdown",
   "metadata": {},
   "source": [
    "Predominatley male dataset - most likely due to the nature of work."
   ]
  },
  {
   "cell_type": "code",
   "execution_count": null,
   "metadata": {},
   "outputs": [],
   "source": [
    "# needs outlier fixes\n",
    "catpc_df = X_train.groupby([\"Age at Injury\", 'Gender'])['Gender'].size().unstack()\n",
    "catpc_df.plot.bar(stacked=True)\n",
    "plt.show()"
   ]
  },
  {
   "cell_type": "markdown",
   "metadata": {},
   "source": [
    "Predomintantly using zip codes based in category 1. This includes NY, Delaware, and Pennsylvania. Given that the organization is for the state of New York, it makes sense that a majority of the variables will be based in the zipcode category that New York belongs to. Using District Name will be more useful. This is potentially ground to remove the zipcode columns."
   ]
  },
  {
   "cell_type": "code",
   "execution_count": null,
   "metadata": {},
   "outputs": [],
   "source": [
    "cat_df = X_train.groupby([X_train['zip_code_cat'], y_train]).size().unstack()\n",
    "cat_df.plot.bar(stacked=True)\n",
    "plt.show()"
   ]
  },
  {
   "cell_type": "code",
   "execution_count": null,
   "metadata": {},
   "outputs": [],
   "source": [
    "cat_df = X_train.groupby([X_train['District Name'], y_train]).size().unstack()\n",
    "cat_df.plot.bar(stacked=True)\n",
    "plt.show()"
   ]
  },
  {
   "cell_type": "markdown",
   "metadata": {},
   "source": [
    "The percentage of \"Non-comp\" injury types in NYC is well above the rest of the districts. Potentially high ocurances of fraud in big cities?"
   ]
  },
  {
   "cell_type": "code",
   "execution_count": null,
   "metadata": {},
   "outputs": [],
   "source": [
    "cross = pd.crosstab(X_train['District Name'], y_train, normalize=True).round(2)\n",
    "\n",
    "fig = plt.figure(figsize=(10, 8))\n",
    "sns.heatmap(data=cross, annot=True, \n",
    "            vmin=0, vmax=1, center=0,\n",
    "            square=True, linewidths=.5,\n",
    "            cmap='PiYG')\n",
    "plt.show()"
   ]
  },
  {
   "cell_type": "code",
   "execution_count": null,
   "metadata": {},
   "outputs": [],
   "source": [
    "cat_df = X_train.groupby([X_train['COVID-19 Indicator'], y_train]).size().unstack()\n",
    "cat_df.plot.bar(stacked=True)\n",
    "plt.show()"
   ]
  },
  {
   "cell_type": "markdown",
   "metadata": {},
   "source": [
    "Taking a closer look at when the COVID Indicator is \"Y\". <br/>\n",
    "<br/>\n",
    "It seems whenever covid is present, the chance that it will be marked as \"Non-comp\" is higher."
   ]
  },
  {
   "cell_type": "code",
   "execution_count": null,
   "metadata": {},
   "outputs": [],
   "source": [
    "covid_data = X_train[ X_train[\"COVID-19 Indicator\"] == \"Y\"]\n",
    "cat_df = covid_data.groupby([X_train['COVID-19 Indicator'], y_train]).size().unstack()\n",
    "cat_df.plot.bar(stacked=True)\n",
    "plt.title(\"Claim Injry Distribution when COVID-19 is marked\")\n",
    "plt.show()"
   ]
  },
  {
   "cell_type": "code",
   "execution_count": null,
   "metadata": {},
   "outputs": [],
   "source": [
    "# needs outlier fixes\n",
    "sns.set_style('ticks')\n",
    "fig, ax = plt.subplots()\n",
    "hb = ax.hexbin(X_train[\"Age at Injury\"], X_train[\"Average Weekly Wage\"], gridsize=20)\n",
    "ax.set_title(\"Hexagon binning for age and income\")\n",
    "cb = fig.colorbar(hb, ax=ax, label='counts')\n",
    "plt.show()"
   ]
  },
  {
   "cell_type": "markdown",
   "metadata": {},
   "source": [
    "The distribution of claim types on the number dependants is distributed evenly implying number of dependents have no weight on the claim injury type."
   ]
  },
  {
   "cell_type": "code",
   "execution_count": null,
   "metadata": {},
   "outputs": [],
   "source": [
    "cat_df = X_train.groupby([X_train[\"Number of Dependents\"], y_train]).size().unstack()\n",
    "cat_df.plot.bar(stacked=True)\n",
    "plt.show()"
   ]
  },
  {
   "cell_type": "code",
   "execution_count": null,
   "metadata": {},
   "outputs": [],
   "source": [
    "cat_df = X_train.groupby([X_train[\"WCIO Nature of Injury Code\"], y_train]).size().unstack()\n",
    "cat_df.plot.bar(stacked=True)\n",
    "plt.show()"
   ]
  },
  {
   "cell_type": "code",
   "execution_count": null,
   "metadata": {},
   "outputs": [],
   "source": [
    "cat_df = X_train.groupby([X_train[\"WCIO Part Of Body Code\"], y_train]).size().unstack()\n",
    "cat_df.plot.bar(stacked=True)\n",
    "plt.show()"
   ]
  },
  {
   "cell_type": "code",
   "execution_count": null,
   "metadata": {},
   "outputs": [],
   "source": [
    "cat_df = X_train.groupby([X_train[\"WCIO Cause of Injury Code\"], y_train]).size().unstack()\n",
    "cat_df.plot.bar(stacked=True)\n",
    "plt.show()"
   ]
  },
  {
   "cell_type": "code",
   "execution_count": null,
   "metadata": {},
   "outputs": [],
   "source": [
    "train_data.nunique()"
   ]
  },
  {
   "cell_type": "code",
   "execution_count": null,
   "metadata": {},
   "outputs": [],
   "source": [
    "# List of categorical variables to plot\n",
    "independent_var = ['Age at Injury','Alternative Dispute Resolution',\n",
    "       'Attorney/Representative', 'Carrier Type', \n",
    "       'County of Injury', 'COVID-19 Indicator', 'District Name', 'Gender',\n",
    "       'Industry Code', 'Medical Fee Region', 'WCIO Cause of Injury Code',\n",
    "       'WCIO Nature of Injury Code', 'WCIO Part Of Body Code',  'Number of Dependents', \n",
    "       'zip_code_cat']\n",
    "# Add more variables to independent_var as needed\n",
    "\n",
    "# Target variable (for example purposes)\n",
    "target_variable = \"Claim Injury Type\"\n",
    "\n",
    "# Loop through each variable and plot a stacked bar chart\n",
    "for var in independent_var:\n",
    "    # Group by the current variable and target, then unstack to get counts in a DataFrame\n",
    "    catpc_df = train_data.groupby([var, target_variable])[target_variable].size().unstack()\n",
    "    \n",
    "    # Plot stacked bar chart\n",
    "    catpc_df.plot(kind='bar', stacked=True, figsize=(10, 6), colormap=\"tab20\")\n",
    "    \n",
    "    # Add title and labels\n",
    "    plt.title(f\"Stacked Bar Plot of {var} by {target_variable}\")\n",
    "    plt.xlabel(var)\n",
    "    plt.ylabel(\"Count\")\n",
    "    \n",
    "    # Display plot\n",
    "    plt.tight_layout()  # Adjust layout to fit titles and labels\n",
    "    plt.show()"
   ]
  },
  {
   "cell_type": "markdown",
   "metadata": {},
   "source": [
    "---"
   ]
  },
  {
   "cell_type": "markdown",
   "metadata": {},
   "source": [
    "<a class=\"anchor\" id=\"outliers\">\n",
    "\n",
    "## 6. Outliers\n",
    "</a>"
   ]
  },
  {
   "cell_type": "markdown",
   "metadata": {},
   "source": [
    "<a class=\"anchor\" id=\"viewoutliers\">\n",
    "\n",
    "### 6.1 Visualisation of Outliers\n",
    "</a>"
   ]
  },
  {
   "cell_type": "markdown",
   "metadata": {},
   "source": [
    "Let's start by plotting some box plots to see the behaviour of the dataset on the metric features"
   ]
  },
  {
   "cell_type": "code",
   "execution_count": null,
   "metadata": {},
   "outputs": [],
   "source": [
    "print(metric_features)"
   ]
  },
  {
   "cell_type": "code",
   "execution_count": null,
   "metadata": {},
   "outputs": [],
   "source": [
    "# Plot ALL Numeric Variables' Histograms in one figure\n",
    "\n",
    "sp_rows = 2\n",
    "sp_cols = ceil(len(metric_features) / sp_rows)\n",
    "\n",
    "\n",
    "# Create individual axes where each histogram will be placed\n",
    "fig, axes = plt.subplots(sp_rows, \n",
    "                         sp_cols, \n",
    "                         figsize=(10, 6),\n",
    "                         tight_layout=True\n",
    "                        )\n",
    "\n",
    "# Plot data\n",
    "# Iterate across axes objects and associate each histogram:\n",
    "for ax, feat in zip(axes.flatten(), metric_features): # Notice the zip() function and flatten() method\n",
    "    sns.boxplot(x=X_train[feat], ax=ax)\n",
    "    \n",
    "# Add a centered title to the figure:\n",
    "title = \"Numeric Variables' Box Plots\"\n",
    "\n",
    "plt.suptitle(title)\n",
    "\n",
    "if not os.path.exists(os.path.join('..', 'figures', 'eda')):\n",
    "    # if the eda directory is not present then create it first\n",
    "    os.makedirs(os.path.join('..', 'figures', 'eda'))\n",
    "\n",
    "\n",
    "plt.savefig(os.path.join('..', 'figures', 'eda', 'numeric_variables_boxplots.png'), dpi=200)\n",
    "\n",
    "\n",
    "plt.show()"
   ]
  },
  {
   "cell_type": "code",
   "execution_count": null,
   "metadata": {},
   "outputs": [],
   "source": [
    "#Plotting the numeric variables' box plot all in one figure\n",
    "fig, axes = plt.subplots(2, 2, figsize=(10, 6))\n",
    "fig.suptitle(\"Numeric Variables' Box Plots\", fontsize=16)\n",
    "\n",
    "# Adjust the spacing between subplots\n",
    "plt.subplots_adjust(wspace=0.4, hspace=0.4)\n",
    "\n",
    "# Define colors for each plot\n",
    "colors = sns.color_palette(\"pastel\")\n",
    "\n",
    "# Creating box plots with improvements\n",
    "sns.boxplot(data=X_train, x='Age at Injury', ax=axes[0, 0], color=colors[0])\n",
    "sns.boxplot(data=X_train, x='Average Weekly Wage', ax=axes[0, 1], color=colors[1])             # Log scale example\n",
    "#sns.boxplot(data=X_train, x='Birth Year', ax=axes[1, 0], color=colors[2])\n",
    "sns.boxplot(data=X_train, x='Number of Dependents', ax=axes[1, 1], color=colors[4])\n",
    "\n",
    "# Rotate x-axis labels if needed\n",
    "for ax in axes.flat:\n",
    "    ax.set_xlabel(ax.get_xlabel(), fontsize=12)\n",
    "\n",
    "plt.show()"
   ]
  },
  {
   "cell_type": "markdown",
   "metadata": {},
   "source": [
    "<a class=\"anchor\" id=\"removeoutliers\">\n",
    "\n",
    "### 6.2 Outlier Removal\n",
    "</a>"
   ]
  },
  {
   "cell_type": "code",
   "execution_count": null,
   "metadata": {},
   "outputs": [],
   "source": [
    "#Start by computing the interquartile range\n",
    "q1 = train_data[metric_features].quantile(0.25)\n",
    "q3 = train_data[metric_features].quantile(0.75)\n",
    "iqr = q3 - q1\n",
    "\n",
    "#Now we are going to compute the limits:\n",
    "lower_lim = q1 - (1.5 * iqr)\n",
    "upper_lim = q3 + (1.5 * iqr)\n",
    "\n",
    "for feature in metric_features:\n",
    "    print(f\"{feature:<25}  Lower Limit: {lower_lim[feature]:>10}      Upper Limit: {upper_lim[feature]:>10}\")"
   ]
  },
  {
   "cell_type": "markdown",
   "metadata": {},
   "source": [
    "Let's detect 'obvious' outliers, those where every characteristic in outside the interquartile range"
   ]
  },
  {
   "cell_type": "code",
   "execution_count": null,
   "metadata": {},
   "outputs": [],
   "source": [
    "def identify_outliers(train_data, metric_features, lower_lim, upper_lim):\n",
    "    outliers = {}\n",
    "    obvious_outliers = []\n",
    "\n",
    "    for metric in metric_features:\n",
    "        if metric not in train_data.columns:\n",
    "            continue\n",
    "        \n",
    "        if metric not in lower_lim or metric not in upper_lim:\n",
    "            continue\n",
    "        \n",
    "        outliers[metric] = []\n",
    "        llim = lower_lim[metric]\n",
    "        ulim = upper_lim[metric]\n",
    "        \n",
    "        for i, value in enumerate(train_data[metric]):\n",
    "            if pd.isna(value):\n",
    "                continue\n",
    "            \n",
    "            if value < llim or value > ulim:\n",
    "                outliers[metric].append(value)\n",
    "        \n",
    "        print(f\"Total outliers in {metric}: {len(outliers[metric])}\")\n",
    "\n",
    "    # Check for observations that are outliers in all features (Obvious Outliers)\n",
    "    for index, row in train_data.iterrows():\n",
    "        is_global_outlier = True\n",
    "        for metric in metric_features:\n",
    "            if metric not in train_data.columns or metric not in lower_lim or metric not in upper_lim:\n",
    "                is_global_outlier = False\n",
    "                break\n",
    "            \n",
    "            value = row[metric]\n",
    "            if pd.isna(value):\n",
    "                is_global_outlier = False\n",
    "                break\n",
    "            \n",
    "            llim = lower_lim[metric]\n",
    "            ulim = upper_lim[metric]\n",
    "            \n",
    "            if llim <= value <= ulim:\n",
    "                is_global_outlier = False\n",
    "                break\n",
    "        \n",
    "        if is_global_outlier:\n",
    "            obvious_outliers.append(index)\n",
    "    print(\"-----------------------------\")\n",
    "    print(f\"Total global outliers: {len(obvious_outliers)}\")\n",
    "    return outliers, obvious_outliers\n",
    "    \n",
    "    \n",
    "outliers, obvious_outliers = identify_outliers(X_train, metric_features, lower_lim, upper_lim)"
   ]
  },
  {
   "cell_type": "markdown",
   "metadata": {},
   "source": [
    "As we could see, there is no observation that has every characteristic outside the interquartile range, since there is no outlier in 'Number of Dependents'.\n",
    "But let's try this program again but without that feature, to see if there is any observation only with outliers, except on this feature!"
   ]
  },
  {
   "cell_type": "code",
   "execution_count": null,
   "metadata": {},
   "outputs": [],
   "source": [
    "metric_features_test =[\"Age at Injury\", \"Average Weekly Wage\", \"Birth Year\"]"
   ]
  },
  {
   "cell_type": "code",
   "execution_count": null,
   "metadata": {},
   "outputs": [],
   "source": [
    "outliers, obvious_outliers = identify_outliers(X_train, metric_features_test, lower_lim, upper_lim)"
   ]
  },
  {
   "cell_type": "markdown",
   "metadata": {},
   "source": [
    "So, we conclude that there aren't any obvious outliers"
   ]
  },
  {
   "cell_type": "markdown",
   "metadata": {},
   "source": [
    "Now let's create a filter that will verify if an observation has every characteristic in the Interquartile Range or not "
   ]
  },
  {
   "cell_type": "code",
   "execution_count": null,
   "metadata": {},
   "outputs": [],
   "source": [
    "filters_iqr = []                                            \n",
    "for metric in metric_features:\n",
    "    llim = lower_lim[metric]\n",
    "    ulim = upper_lim[metric]\n",
    "    filters_iqr.append(X_train[metric].between(llim, ulim, inclusive='neither'))\n",
    "\n",
    "filters_iqr_all = pd.concat(filters_iqr, axis=1).all(axis=1)"
   ]
  },
  {
   "cell_type": "code",
   "execution_count": null,
   "metadata": {},
   "outputs": [],
   "source": [
    "filters_iqr"
   ]
  },
  {
   "cell_type": "code",
   "execution_count": null,
   "metadata": {},
   "outputs": [],
   "source": [
    "filters_iqr_all  "
   ]
  },
  {
   "cell_type": "code",
   "execution_count": null,
   "metadata": {},
   "outputs": [],
   "source": [
    "len(X_train[X_train[filters_iqr_all] == 'False'])      #These are the features that have at least one of its characteristics considered as an outlier (out of the IQR)"
   ]
  },
  {
   "cell_type": "code",
   "execution_count": null,
   "metadata": {},
   "outputs": [],
   "source": [
    "X_train_iqr = X_train[filters_iqr_all]\n",
    "print('Percentage of data kept after removing outliers:', 100*(np.round(X_train_iqr.shape[0] / X_train.shape[0], decimals=2)))"
   ]
  },
  {
   "cell_type": "markdown",
   "metadata": {},
   "source": [
    "Just to be sure about the outliers, let's try another method:"
   ]
  },
  {
   "cell_type": "markdown",
   "metadata": {},
   "source": [
    "<a class=\"anchor\" id=\"manuall\">\n",
    "\n",
    "#### 6.2.1 Manual Outlier Removal\n",
    "</a>"
   ]
  },
  {
   "attachments": {
    "image.png": {
     "image/png": "[encoded data removed]"
    }
   },
   "cell_type": "markdown",
   "metadata": {},
   "source": [
    "![image.png](attachment:image.png)"
   ]
  },
  {
   "cell_type": "code",
   "execution_count": null,
   "metadata": {},
   "outputs": [],
   "source": [
    "filters_manual1 = (\n",
    "                (X_train[\"Age at Injury\"] <= 100)\n",
    "                &\n",
    "                (X_train[\"Average Weekly Wage\"] <= 0.3*1e6)\n",
    "                #&\n",
    "                #(X_train[\"Birth Year\"] >= 1950)                            \n",
    "                #&\n",
    "                #(X_train[\"Number of Dependents\"])                        #There are no outliers here, so I think there is no manual restriction to make\n",
    ")\n",
    "X_train_out_man = X_train[filters_manual1]"
   ]
  },
  {
   "cell_type": "code",
   "execution_count": null,
   "metadata": {},
   "outputs": [],
   "source": [
    "print('Percentage of data kept after removing outliers:', 100*(np.round(X_train_out_man.shape[0] / X_train.shape[0], decimals=5)))"
   ]
  },
  {
   "cell_type": "code",
   "execution_count": null,
   "metadata": {},
   "outputs": [],
   "source": [
    "X_train_out = X_train[(filters_iqr_all | filters_manual1)]            #Only if the 2 filter says that the observation are outliers we remove!\n",
    "\n",
    "\n",
    "print('Percentage of data kept after removing outliers:', 100*np.round(X_train_out.shape[0] / X_train.shape[0], 4))"
   ]
  },
  {
   "cell_type": "markdown",
   "metadata": {},
   "source": [
    "---"
   ]
  },
  {
   "cell_type": "markdown",
   "metadata": {},
   "source": [
    "<a class=\"anchor\" id=\"feateng\">\n",
    "\n",
    "## 7. Feature Engineering\n",
    "</a>"
   ]
  },
  {
   "cell_type": "markdown",
   "metadata": {},
   "source": [
    "During our previous steps we have already created vairables such as:\n",
    "- zip_code_cat \n"
   ]
  },
  {
   "cell_type": "code",
   "execution_count": null,
   "metadata": {},
   "outputs": [],
   "source": [
    "# # Dropping the varaibles Age at Injury after creating the Age Categries \n",
    "# X_train = X_train.drop('Age at Injury', axis=1)\n",
    "# X_val = X_val.drop('Age at Injury', axis=1)\n",
    "# test_data = test_data.drop('Age at Injury', axis=1)\n",
    "\n",
    "# metric_features.remove(\"Age at Injury\")"
   ]
  },
  {
   "cell_type": "markdown",
   "metadata": {},
   "source": [
    "* Creating new feature Days Between Accident_Assembly"
   ]
  },
  {
   "cell_type": "code",
   "execution_count": null,
   "metadata": {},
   "outputs": [],
   "source": [
    "X_train[\"Days Between Accident_Assembly\"] = (X_train['Assembly Date'] - X_train['Accident Date']).dt.days\n",
    "negative_count = (X_train[\"Days Between Accident_Assembly\"] < 0).sum()\n",
    "\n",
    "print(\"Number of rows with negative values in 'Days Between Accident_Assembly':\", negative_count)"
   ]
  },
  {
   "cell_type": "code",
   "execution_count": null,
   "metadata": {},
   "outputs": [],
   "source": [
    "X_val[\"Days Between Accident_Assembly\"] = (X_val['Assembly Date'] - X_val['Accident Date']).dt.days\n",
    "negative_count = (X_val[\"Days Between Accident_Assembly\"] < 0).sum()\n",
    "\n",
    "print(\"Number of rows with negative values in 'Days Between Accident_Assembly' in validation set:\", negative_count)\n"
   ]
  },
  {
   "cell_type": "code",
   "execution_count": null,
   "metadata": {},
   "outputs": [],
   "source": [
    "test_data[\"Days Between Accident_Assembly\"] = (test_data['Assembly Date'] - test_data['Accident Date']).dt.days"
   ]
  },
  {
   "cell_type": "code",
   "execution_count": null,
   "metadata": {},
   "outputs": [],
   "source": [
    "metric_features.append(\"Days Between Accident_Assembly\")\n",
    "non_metric_features.remove(\"Assembly Date\")\n",
    "non_metric_features.remove(\"Accident Date\")"
   ]
  },
  {
   "cell_type": "markdown",
   "metadata": {},
   "source": [
    "* Creating new feature Days Between Accident_C2"
   ]
  },
  {
   "cell_type": "code",
   "execution_count": null,
   "metadata": {},
   "outputs": [],
   "source": [
    "X_train[\"Days Between Accident_C2\"] = (X_train['C-2 Date'] - X_train['Accident Date']).dt.days\n",
    "negative_count = (X_train[\"Days Between Accident_C2\"] < 0).sum()\n",
    "\n",
    "print(\"Number of rows with negative values in 'Days Between Accident_C2' in train set:\", negative_count)"
   ]
  },
  {
   "cell_type": "code",
   "execution_count": null,
   "metadata": {},
   "outputs": [],
   "source": [
    "X_val[\"Days Between Accident_C2\"] = (X_val['C-2 Date'] - X_val['Accident Date']).dt.days\n",
    "negative_count = (X_val[\"Days Between Accident_C2\"] < 0).sum()\n",
    "\n",
    "print(\"Number of rows with negative values in 'Days Between Accident_C2' in validation set:\", negative_count)"
   ]
  },
  {
   "cell_type": "code",
   "execution_count": null,
   "metadata": {},
   "outputs": [],
   "source": [
    "test_data[\"Days Between Accident_C2\"] = (test_data['C-2 Date'] - test_data['Accident Date']).dt.days"
   ]
  },
  {
   "cell_type": "code",
   "execution_count": null,
   "metadata": {},
   "outputs": [],
   "source": [
    "metric_features.append(\"Days Between Accident_C2\")\n",
    "non_metric_features.remove(\"C-2 Date\")"
   ]
  },
  {
   "cell_type": "code",
   "execution_count": null,
   "metadata": {},
   "outputs": [],
   "source": [
    "variables_to_drop = ['C-2 Date', 'Accident Date','Assembly Date']\n",
    "X_train = X_train.drop(variables_to_drop, axis = 1)\n",
    "X_val = X_val.drop(variables_to_drop, axis = 1)\n",
    "test_data = test_data.drop(variables_to_drop, axis = 1)"
   ]
  },
  {
   "cell_type": "code",
   "execution_count": null,
   "metadata": {},
   "outputs": [],
   "source": [
    "metric_features"
   ]
  },
  {
   "cell_type": "code",
   "execution_count": null,
   "metadata": {},
   "outputs": [],
   "source": [
    "non_metric_features"
   ]
  },
  {
   "cell_type": "code",
   "execution_count": null,
   "metadata": {},
   "outputs": [],
   "source": [
    "X_train.columns"
   ]
  },
  {
   "cell_type": "markdown",
   "metadata": {},
   "source": [
    "##### Finding negative values in Metric columns and fixing them"
   ]
  },
  {
   "cell_type": "code",
   "execution_count": null,
   "metadata": {},
   "outputs": [],
   "source": [
    "print(\"X_train with values in [Days Between Accident_Assembly] that are negative: \" + str(len(X_train[ X_train[\"Days Between Accident_Assembly\"] < 0])) + \".\")\n",
    "print(\"X_val with values in [Days Between Accident_Assembly] that are negative: \" + str(len(X_val[ X_val[\"Days Between Accident_Assembly\"] < 0])) + \".\")"
   ]
  },
  {
   "cell_type": "code",
   "execution_count": null,
   "metadata": {},
   "outputs": [],
   "source": [
    "print(\"X_train with values in [Days Between Accident_C2] that are negative: \" + str(len(X_train[ X_train[\"Days Between Accident_C2\"] < 0])) + \".\")\n",
    "print(\"X_val with values in [Days Between Accident_C2] that are negative: \" + str(len(X_val[ X_val[\"Days Between Accident_C2\"] < 0])) + \".\")"
   ]
  },
  {
   "cell_type": "code",
   "execution_count": null,
   "metadata": {},
   "outputs": [],
   "source": [
    "print(\"X_train with values in [Age at Injury] that are negative: \" + str(len(X_train[ X_train[\"Age at Injury\"] < 0])) + \".\")\n",
    "print(\"X_val with values in [Age at Injury] that are negative: \" + str(len(X_val[ X_val[\"Age at Injury\"] < 0])) + \".\")"
   ]
  },
  {
   "cell_type": "code",
   "execution_count": null,
   "metadata": {},
   "outputs": [],
   "source": [
    "# X_train[ X_train[\"Days Between Accident_Assembly\"] < 0][\"Days Between Accident_Assembly\"] = 0\n",
    "X_train[\"Days Between Accident_Assembly\"] = X_train[\"Days Between Accident_Assembly\"].clip(lower=0)\n",
    "X_val[\"Days Between Accident_Assembly\"] = X_val[\"Days Between Accident_Assembly\"].clip(lower=0)\n",
    "test_data[\"Days Between Accident_Assembly\"] = test_data[\"Days Between Accident_Assembly\"].clip(lower=0)"
   ]
  },
  {
   "cell_type": "code",
   "execution_count": null,
   "metadata": {},
   "outputs": [],
   "source": [
    "X_train[\"Days Between Accident_C2\"] = X_train[\"Days Between Accident_C2\"].clip(lower=0)\n",
    "X_val[\"Days Between Accident_C2\"] = X_val[\"Days Between Accident_C2\"].clip(lower=0)\n",
    "test_data[\"Days Between Accident_C2\"] = test_data[\"Days Between Accident_C2\"].clip(lower=0)"
   ]
  },
  {
   "cell_type": "markdown",
   "metadata": {},
   "source": [
    "<a class=\"anchor\" id=\"transform\">\n",
    "\n",
    "## 8. Data Transformation - Encoding and Scaling \n",
    "</a>"
   ]
  },
  {
   "cell_type": "code",
   "execution_count": null,
   "metadata": {},
   "outputs": [],
   "source": [
    "fig = plt.figure(figsize=(10, 8))\n",
    "\n",
    "# Use spearman correlation \n",
    "corr = X_train[metric_features].corr(method=\"spearman\").round(3)\n",
    "\n",
    "# Plot heatmap\n",
    "sns.heatmap(data=corr, annot=True, \n",
    "            # fmt='s',\n",
    "            vmin=-1, vmax=1, center=0,\n",
    "            square=True, linewidths=.5,\n",
    "            cmap='PiYG')\n",
    "plt.show()"
   ]
  },
  {
   "cell_type": "markdown",
   "metadata": {},
   "source": [
    "<a class=\"anchor\" id=\"encode\">\n",
    "\n",
    "### 8.1 Feature Encoding\n",
    "</a>"
   ]
  },
  {
   "cell_type": "markdown",
   "metadata": {},
   "source": [
    "Label Encoder for target variable (training and validation):"
   ]
  },
  {
   "cell_type": "code",
   "execution_count": null,
   "metadata": {},
   "outputs": [],
   "source": [
    "#Initiate Label encoder\n",
    "label_encoder = LabelEncoder()\n",
    "\n",
    "# Fit the encoder on the training target variable\n",
    "Y_train_encoded = label_encoder.fit_transform(y_train)\n",
    "\n",
    "# Transform the training and validation target variable\n",
    "Y_val_encoded = label_encoder.transform(y_val)\n",
    "\n",
    "# Convert the results back to DataFrames\n",
    "Y_train_encoded_df = pd.DataFrame(Y_train_encoded, columns=['encoded_target'])\n",
    "Y_val_encoded_df = pd.DataFrame(Y_val_encoded, columns=['encoded_target'])"
   ]
  },
  {
   "cell_type": "markdown",
   "metadata": {},
   "source": [
    "One hot encoder for dependent variables (non-metric): (only for training and validation)"
   ]
  },
  {
   "cell_type": "code",
   "execution_count": null,
   "metadata": {},
   "outputs": [],
   "source": [
    "X_train_copy = X_train.copy()\n",
    "X_val_copy = X_val.copy()\n",
    "test_data_copy = test_data.copy()"
   ]
  },
  {
   "cell_type": "code",
   "execution_count": null,
   "metadata": {},
   "outputs": [],
   "source": [
    "X_val.columns"
   ]
  },
  {
   "cell_type": "code",
   "execution_count": null,
   "metadata": {},
   "outputs": [],
   "source": [
    "X_train.columns"
   ]
  },
  {
   "cell_type": "code",
   "execution_count": null,
   "metadata": {},
   "outputs": [],
   "source": [
    "# Initialize the encoder with the chosen settings\n",
    "ohc = OneHotEncoder(sparse_output=False, drop=\"first\")\n",
    "\n",
    "# Fit the encoder on the training set only\n",
    "ohc.fit(X_train_copy[non_metric_features])  \n",
    "\n",
    "# Transform the training set\n",
    "ohc_train_features = ohc.transform(X_train_copy[non_metric_features])\n",
    "ohc_train_df = pd.DataFrame(ohc_train_features, index=X_train_copy.index, columns=ohc.get_feature_names_out(non_metric_features))\n",
    "\n",
    "# Concatenate the encoded features back to the training set\n",
    "X_train_encoded = pd.concat([X_train_copy.drop(columns=non_metric_features), ohc_train_df], axis=1)\n",
    "\n",
    "# Transform the validation set using the same encoder (do not fit again)\n",
    "ohc_val_features = ohc.transform(X_val_copy[non_metric_features])\n",
    "ohc_val_df = pd.DataFrame(ohc_val_features, index= X_val_copy.index, columns=ohc.get_feature_names_out(non_metric_features))\n",
    "\n",
    "# Concatenate the encoded features back to the validation set\n",
    "X_val_encoded = pd.concat([X_val_copy.drop(columns=non_metric_features), ohc_val_df], axis=1)\n",
    "\n",
    "# Transform the test set using the same encoder (do not fit again)\n",
    "ohc_test_features = ohc.transform(test_data_copy[non_metric_features])\n",
    "ohc_test_df = pd.DataFrame(ohc_test_features, index= test_data_copy.index, columns=ohc.get_feature_names_out(non_metric_features))\n",
    "\n",
    "# Concatenate the encoded features back to the test set\n",
    "test_data_encoded = pd.concat([test_data_copy.drop(columns=non_metric_features), ohc_test_df], axis=1)"
   ]
  },
  {
   "cell_type": "code",
   "execution_count": null,
   "metadata": {},
   "outputs": [],
   "source": [
    "# problem_column_name = non_metric_features[4]\n",
    "# problem_column_name"
   ]
  },
  {
   "cell_type": "code",
   "execution_count": null,
   "metadata": {},
   "outputs": [],
   "source": [
    "X_train.columns.values"
   ]
  },
  {
   "cell_type": "code",
   "execution_count": null,
   "metadata": {},
   "outputs": [],
   "source": [
    "X_val.columns.values"
   ]
  },
  {
   "cell_type": "markdown",
   "metadata": {},
   "source": [
    "<a class=\"anchor\" id=\"minmax\">\n",
    "\n",
    "### 8.2 Min-max Scaler\n",
    "</a>"
   ]
  },
  {
   "cell_type": "markdown",
   "metadata": {},
   "source": [
    "Min-max scaler for dependent variables (metric):"
   ]
  },
  {
   "cell_type": "code",
   "execution_count": null,
   "metadata": {},
   "outputs": [],
   "source": [
    "X_train[metric_features].head(10)"
   ]
  },
  {
   "cell_type": "code",
   "execution_count": null,
   "metadata": {},
   "outputs": [],
   "source": [
    "# Create a MinMaxScaler instance\n",
    "scaler = MinMaxScaler()\n",
    "\n",
    "# Fit the scaler on the training set and transform the training features\n",
    "scaled_feat = scaler.fit_transform(X_train_copy[metric_features])\n",
    "\n",
    "# Convert the scaled features back to a DataFrame \n",
    "scaled_feat_df = pd.DataFrame(scaled_feat, columns=metric_features, index=X_train_copy.index)\n",
    "\n",
    "# Concatenate the scaled features back to the original DataFrames\n",
    "X_train_min_max_scaled = pd.concat([X_train_copy.drop(columns=metric_features), scaled_feat_df], axis=1)\n",
    "X_train_min_max_scaled_encoded = pd.concat([X_train_encoded.drop(columns=metric_features), scaled_feat_df], axis=1)\n",
    "\n",
    "# Transform the validation set using the same scaler (do not fit again)\n",
    "scaled_feat = scaler.transform(X_val_copy[metric_features])\n",
    "\n",
    "# Convert the scaled features back to a DataFrame \n",
    "scaled_feat_df = pd.DataFrame(scaled_feat, columns=metric_features, index=X_val_copy.index)\n",
    "\n",
    "# Concatenate the scaled features back to the original DataFrames\n",
    "X_val_min_max_scaled = pd.concat([X_val_copy.drop(columns=metric_features), scaled_feat_df], axis=1)\n",
    "X_val_min_max_scaled_encoded = pd.concat([X_val_encoded.drop(columns=metric_features), scaled_feat_df], axis=1)\n",
    "\n",
    "# Transform the test set using the same scaler (do not fit again)\n",
    "scaled_feat = scaler.transform(test_data_copy[metric_features])\n",
    "\n",
    "# Convert the scaled features back to a DataFrame \n",
    "scaled_feat_df = pd.DataFrame(scaled_feat, columns=metric_features, index=test_data_copy.index)\n",
    "\n",
    "# Concatenate the scaled features back to the original DataFrames\n",
    "test_min_max_scaled = pd.concat([test_data_copy.drop(columns=metric_features), scaled_feat_df], axis=1)\n",
    "test_min_max_scaled_encoded = pd.concat([test_data_encoded.drop(columns=metric_features), scaled_feat_df], axis=1)\n"
   ]
  },
  {
   "cell_type": "code",
   "execution_count": null,
   "metadata": {},
   "outputs": [],
   "source": [
    "X_train_min_max_scaled[metric_features].describe().round(2).T"
   ]
  },
  {
   "cell_type": "code",
   "execution_count": null,
   "metadata": {},
   "outputs": [],
   "source": [
    "X_val_min_max_scaled[metric_features].describe().round(2).T\n",
    "# Days between accident assembly & days between accident C2 have min values != from zero!! "
   ]
  },
  {
   "cell_type": "code",
   "execution_count": null,
   "metadata": {},
   "outputs": [],
   "source": [
    "test_min_max_scaled[metric_features].describe().round(2).T\n",
    "# avg weekly wage max value very different from 1. "
   ]
  },
  {
   "cell_type": "markdown",
   "metadata": {},
   "source": [
    "<a class=\"anchor\" id=\"std\">\n",
    "\n",
    "### 8.3 Standard Scaler\n",
    "</a>"
   ]
  },
  {
   "cell_type": "markdown",
   "metadata": {},
   "source": [
    "Standard scaler for dependent variables (metric):"
   ]
  },
  {
   "cell_type": "code",
   "execution_count": null,
   "metadata": {},
   "outputs": [],
   "source": [
    "# Step 1: Create a StandardScaler instance\n",
    "standard_scaler = StandardScaler()\n",
    "\n",
    "# Step 2: Fit the scaler on the training set and transform the training features\n",
    "standard_scaled_feat = standard_scaler.fit_transform(X_train_copy[metric_features])\n",
    "\n",
    "# Step 3: Convert the scaled features back to a DataFrame for better usability\n",
    "standard_scaled_feat_df = pd.DataFrame(standard_scaled_feat, columns=metric_features, index=X_train_copy.index)\n",
    "\n",
    "# Optionally, you can concatenate the scaled features back to the original DataFrames\n",
    "X_train_std_scaler = pd.concat([X_train_copy.drop(columns=metric_features), standard_scaled_feat_df], axis=1)\n",
    "X_train_std_scaler_encoded = pd.concat([X_train_encoded.drop(columns=metric_features), standard_scaled_feat_df], axis=1)\n",
    "\n",
    "# Transform the validation set using the same scaler (do not fit again)\n",
    "standard_scaled_feat = standard_scaler.transform(X_val_copy[metric_features])\n",
    "\n",
    "# Step 3: Convert the scaled features back to a DataFrame for better usability\n",
    "standard_scaled_feat_df = pd.DataFrame(standard_scaled_feat, columns=metric_features, index=X_val_copy.index)\n",
    "\n",
    "# Optionally, you can concatenate the scaled features back to the original DataFrames\n",
    "X_val_std_scaler = pd.concat([X_val_copy.drop(columns=metric_features), standard_scaled_feat_df], axis=1)\n",
    "X_val_std_scaler_encoded = pd.concat([X_val_encoded.drop(columns=metric_features), standard_scaled_feat_df], axis=1)\n",
    "\n",
    "# Transform the validation set using the same scaler (do not fit again)\n",
    "standard_scaled_feat = standard_scaler.transform(test_data_copy[metric_features])\n",
    "\n",
    "# Step 3: Convert the scaled features back to a DataFrame for better usability\n",
    "standard_scaled_feat_df = pd.DataFrame(standard_scaled_feat, columns=metric_features, index=test_data_copy.index)\n",
    "\n",
    "# Optionally, you can concatenate the scaled features back to the original DataFrames\n",
    "test_std_scaler = pd.concat([X_val_copy.drop(columns=metric_features), standard_scaled_feat_df], axis=1)\n",
    "# X_val_std_scaler = pd.concat([X_val_encoded.drop(columns=metric_features), standard_scaled_feat_df], axis=1)\n",
    "X_test_std_scaler_encoded = pd.concat([test_data_encoded.drop(columns=metric_features), standard_scaled_feat_df], axis=1)"
   ]
  },
  {
   "cell_type": "code",
   "execution_count": null,
   "metadata": {},
   "outputs": [],
   "source": [
    "X_train_std_scaler[metric_features].describe().round(2).T"
   ]
  },
  {
   "cell_type": "code",
   "execution_count": null,
   "metadata": {},
   "outputs": [],
   "source": [
    "X_val_std_scaler[metric_features].describe().round(2).T\n",
    "# avg weekly wage std dev very different from 1."
   ]
  },
  {
   "cell_type": "code",
   "execution_count": null,
   "metadata": {},
   "outputs": [],
   "source": [
    "X_val_std_scaler[metric_features].describe().round(2).T\n",
    "# avg weekly wage std dev very different from 1."
   ]
  },
  {
   "cell_type": "markdown",
   "metadata": {},
   "source": [
    "---"
   ]
  },
  {
   "cell_type": "markdown",
   "metadata": {},
   "source": [
    "<a class=\"anchor\" id=\"featselect\">\n",
    "\n",
    "## 9. Feature Selection\n",
    "</a>"
   ]
  },
  {
   "cell_type": "markdown",
   "metadata": {},
   "source": [
    "<a class=\"anchor\" id=\"filter\">\n",
    "\n",
    "### 9.1 Filter Methods\n",
    "</a>"
   ]
  },
  {
   "cell_type": "markdown",
   "metadata": {},
   "source": [
    "<a class=\"anchor\" id=\"uni\">\n",
    "\n",
    "### 9.1.1 Univariate Variables\n",
    "</a>"
   ]
  },
  {
   "cell_type": "code",
   "execution_count": null,
   "metadata": {},
   "outputs": [],
   "source": [
    "X_val_std_scaler[metric_features].var()"
   ]
  },
  {
   "cell_type": "markdown",
   "metadata": {},
   "source": [
    "Since neither of the variables are univariate (variance=0), we will not dicard any of the variables based on this method."
   ]
  },
  {
   "cell_type": "markdown",
   "metadata": {},
   "source": [
    "<a class=\"anchor\" id=\"chi\">\n",
    "\n",
    "### 9.1.2 Chi-Square\n",
    "</a>"
   ]
  },
  {
   "cell_type": "code",
   "execution_count": null,
   "metadata": {},
   "outputs": [],
   "source": [
    "#Define the categorical and numerical variables of the X_train dataset into 2 new variables\n",
    "num_features=X_train[metric_features]\n",
    "cat_features=X_train[non_metric_features]"
   ]
  },
  {
   "cell_type": "markdown",
   "metadata": {},
   "source": [
    "- Define a function that will test whether a categorical independent variable (var) is an important predictor for the target using the Chi-Square test of independence.\n",
    "\n",
    "    It prints whether the variable is important or not for prediction based on the Chi-Square test.\n",
    " "
   ]
  },
  {
   "cell_type": "code",
   "execution_count": null,
   "metadata": {},
   "outputs": [],
   "source": [
    "def TestIndependence(X,y,var,alpha=0.05):\n",
    "\n",
    "    #Create a contingency table to observe the relationship between the target variable y and the feature X \n",
    "    dfObserved = pd.crosstab(y,X) \n",
    "\n",
    "    #Perform the Chi-Square test of independence on the contingency table\n",
    "    chi2, p, dof, expected = stats.chi2_contingency(dfObserved.values)\n",
    "\n",
    "    #Create a DataFrame for the expected values from the Chi-Square test\n",
    "    dfExpected = pd.DataFrame(expected, columns=dfObserved.columns, index = dfObserved.index)\n",
    "\n",
    "    #Check if the p-value is smaller than the alpha level\n",
    "    if p<alpha:\n",
    "        result=\"{0} is IMPORTANT for Prediction\".format(var)\n",
    "    else:\n",
    "        result=\"{0} is NOT an important predictor. (Discard {0} from model)\".format(var)\n",
    "    print(result, p)"
   ]
  },
  {
   "cell_type": "code",
   "execution_count": null,
   "metadata": {},
   "outputs": [],
   "source": [
    "#Run the function throughout the categorical variables\n",
    "for var in cat_features:\n",
    "    TestIndependence(cat_features[var],y_train, var)"
   ]
  },
  {
   "cell_type": "markdown",
   "metadata": {},
   "source": [
    "<a class=\"anchor\" id=\"wrapper\">\n",
    "\n",
    "### 9.2 Wrapper Methods\n",
    "</a>"
   ]
  },
  {
   "cell_type": "markdown",
   "metadata": {},
   "source": [
    "<a class=\"anchor\" id=\"rfe\">\n",
    "\n",
    "#### 9.2.1 RFE\n",
    "</a>"
   ]
  },
  {
   "cell_type": "code",
   "execution_count": null,
   "metadata": {},
   "outputs": [],
   "source": [
    "model1 = LogisticRegression()"
   ]
  },
  {
   "cell_type": "code",
   "execution_count": null,
   "metadata": {},
   "outputs": [],
   "source": [
    "rfe = RFE(estimator=model1, n_features_to_select=3)     #Try another values and see their scores\n",
    "rfe"
   ]
  },
  {
   "cell_type": "code",
   "execution_count": null,
   "metadata": {},
   "outputs": [],
   "source": [
    "X_train_std_scaler_num = X_train_std_scaler[metric_features]\n",
    "X_val_std_scaler_num = X_val_std_scaler[metric_features]\n",
    "\n",
    "X_train_std_scaler_num.head()"
   ]
  },
  {
   "cell_type": "code",
   "execution_count": null,
   "metadata": {},
   "outputs": [],
   "source": [
    "X_rfe = rfe.fit_transform(X_train_std_scaler_num, y_train)"
   ]
  },
  {
   "cell_type": "code",
   "execution_count": null,
   "metadata": {},
   "outputs": [],
   "source": [
    "rfe.support_"
   ]
  },
  {
   "cell_type": "code",
   "execution_count": null,
   "metadata": {},
   "outputs": [],
   "source": [
    "rfe.ranking_"
   ]
  },
  {
   "cell_type": "code",
   "execution_count": null,
   "metadata": {},
   "outputs": [],
   "source": [
    "selected_features = pd.Series(rfe.support_, index = X_train_std_scaler_num.columns)         #If it says True we should keep that feature\n",
    "selected_features"
   ]
  },
  {
   "cell_type": "markdown",
   "metadata": {},
   "source": [
    "Now let's see the optimum value for the number of features selected, to get the higher score"
   ]
  },
  {
   "cell_type": "code",
   "execution_count": null,
   "metadata": {},
   "outputs": [],
   "source": [
    "#Nº of features\n",
    "nof_list=np.arange(1,6)            \n",
    "high_score=0\n",
    "#Variable to store the optimum features\n",
    "nof=0           \n",
    "train_score_list =[]\n",
    "val_score_list = []\n",
    "\n",
    "for n in range(len(nof_list)):\n",
    "    model = LogisticRegression()\n",
    "    \n",
    "    rfe = RFE(estimator = model,n_features_to_select = nof_list[n])\n",
    "    \n",
    "    X_train_rfe = rfe.fit_transform(X_train_std_scaler_num,y_train)\n",
    "    X_val_rfe = rfe.transform(X_val_std_scaler_num)\n",
    "    \n",
    "    model.fit(X_train_rfe,y_train)\n",
    "    \n",
    "    #storing results on training data\n",
    "    train_score = model.score(X_train_rfe,y_train)\n",
    "    train_score_list.append(train_score)\n",
    "    \n",
    "    #storing results on training data\n",
    "    val_score = model.score(X_val_rfe,y_val)\n",
    "    val_score_list.append(val_score)\n",
    "    \n",
    "    #check best score\n",
    "    if(val_score >= high_score):\n",
    "        high_score = val_score\n",
    "        nof = nof_list[n]\n",
    "print(\"Optimum number of features: %d\" %nof)\n",
    "print(\"Score with %d features: %f\" % (nof, high_score))"
   ]
  },
  {
   "cell_type": "markdown",
   "metadata": {},
   "source": [
    "Let's try the Recursive feature elimination with cross-validation method:"
   ]
  },
  {
   "cell_type": "code",
   "execution_count": null,
   "metadata": {},
   "outputs": [],
   "source": [
    "from sklearn.feature_selection import RFECV\n",
    "\n",
    "model = LogisticRegression()\n",
    "rfe_cv = RFECV(estimator=model, step=2, cv=6, scoring='accuracy')\n",
    "rfe_cv.fit(X_train_std_scaler_num, y_train)\n",
    "\n",
    "print(\"Optimal number of features:\", rfe_cv.n_features_)\n",
    "print(\"Best cross-validated score:\", rfe_cv.score(X_val_std_scaler_num, y_val))"
   ]
  },
  {
   "cell_type": "code",
   "execution_count": null,
   "metadata": {},
   "outputs": [],
   "source": [
    "plt.plot(list(range(1,6)), train_score_list, label=\"Score on Training Set\", color='yellowgreen')\n",
    "plt.plot(list(range(1,6)), val_score_list, label=\"Score on Test Set\", color='dimgray')\n",
    "plt.xlabel(\"Maximum Depth\")\n",
    "plt.ylabel(\"Score\")\n",
    "plt.legend()\n",
    "plt.show()"
   ]
  },
  {
   "cell_type": "markdown",
   "metadata": {},
   "source": [
    "Using another classifier, to analyse the score"
   ]
  },
  {
   "cell_type": "code",
   "execution_count": null,
   "metadata": {},
   "outputs": [],
   "source": [
    "#no of features\n",
    "nof_list=np.arange(1,6)            \n",
    "high_score=0\n",
    "#Variable to store the optimum features\n",
    "nof=0           \n",
    "train_score_list =[]\n",
    "val_score_list = []\n",
    "\n",
    "for n in range(len(nof_list)):\n",
    "    #call support vector machines classifier\n",
    "    model = RandomForestClassifier(random_state=27)\n",
    "    \n",
    "    #create RFE instance\n",
    "    rfe = RFE(estimator = model,n_features_to_select = nof_list[n])\n",
    "    \n",
    "    X_train_rfe = rfe.fit_transform(X_train_std_scaler_num,y_train)\n",
    "    X_val_rfe = rfe.transform(X_val_std_scaler_num)\n",
    "    \n",
    "    model.fit(X_train_rfe,y_train)\n",
    "    \n",
    "    #storing results on training data\n",
    "    train_score = model.score(X_train_rfe,y_train)\n",
    "    train_score_list.append(train_score)\n",
    "    \n",
    "    #storing results on training data\n",
    "    val_score = model.score(X_val_rfe,y_val)\n",
    "    val_score_list.append(val_score)\n",
    "    \n",
    "    #check best score\n",
    "    if(val_score > high_score):\n",
    "        high_score = val_score\n",
    "        nof = nof_list[n]\n",
    "        \n",
    "        #adding mention of variables to keep\n",
    "        features_to_select = pd.Series(rfe.support_, index = X_train_std_scaler_num.columns)\n",
    "        \n",
    "print(\"Optimum number of features: %d\" %nof)\n",
    "print(\"Score with %d features: %f\" % (nof, high_score))\n",
    "print(f\"Features to select: \\n{features_to_select}\")"
   ]
  },
  {
   "cell_type": "code",
   "execution_count": null,
   "metadata": {},
   "outputs": [],
   "source": [
    "plt.plot(list(range(1,6)), train_score_list, label=\"Score on Training Set\", color='yellowgreen')\n",
    "plt.plot(list(range(1,6)), val_score_list, label=\"Score on Test Set\", color='dimgray')\n",
    "plt.xlabel(\"Maximum Depth\")\n",
    "plt.ylabel(\"Score\")\n",
    "plt.legend()\n",
    "plt.show()"
   ]
  },
  {
   "cell_type": "markdown",
   "metadata": {},
   "source": [
    "<a class=\"anchor\" id=\"embedded\">\n",
    "\n",
    "### 9.3 Embedded Methods\n",
    "</a>"
   ]
  },
  {
   "cell_type": "markdown",
   "metadata": {},
   "source": [
    "<a class=\"anchor\" id=\"lasso\">\n",
    "\n",
    "#### 9.3.1 Lasso Regression\n",
    "</a>"
   ]
  },
  {
   "cell_type": "code",
   "execution_count": null,
   "metadata": {},
   "outputs": [],
   "source": [
    "def plot_importance(coef,name):\n",
    "    imp_coef = coef.sort_values()\n",
    "    plt.figure(figsize=(8,6))\n",
    "    imp_coef.plot(kind = \"barh\")\n",
    "    plt.title(\"Feature importance using \" + name + \" Model\")\n",
    "    plt.show()"
   ]
  },
  {
   "cell_type": "code",
   "execution_count": null,
   "metadata": {},
   "outputs": [],
   "source": [
    "reg = LassoCV(eps=0.01)      #Depending of the strength of the eps, we can get rid of some variables, TRY 0.1"
   ]
  },
  {
   "cell_type": "code",
   "execution_count": null,
   "metadata": {},
   "outputs": [],
   "source": [
    "reg.fit(X_train_std_scaler_num, Y_train_encoded)"
   ]
  },
  {
   "cell_type": "code",
   "execution_count": null,
   "metadata": {},
   "outputs": [],
   "source": [
    "coef = pd.Series(reg.coef_, index=X_train_std_scaler_num.columns)\n",
    "coef"
   ]
  },
  {
   "cell_type": "code",
   "execution_count": null,
   "metadata": {},
   "outputs": [],
   "source": [
    "print(\"Lasso picked \" + str(sum(coef != 0)) + \" variables and eliminated the other \" +  str(sum(coef == 0)) + \" variables\")"
   ]
  },
  {
   "cell_type": "code",
   "execution_count": null,
   "metadata": {},
   "outputs": [],
   "source": [
    "coef.sort_values()"
   ]
  },
  {
   "cell_type": "code",
   "execution_count": null,
   "metadata": {},
   "outputs": [],
   "source": [
    "plot_importance(coef,'Lasso')"
   ]
  },
  {
   "cell_type": "markdown",
   "metadata": {},
   "source": [
    "<a class=\"anchor\" id=\"select\">\n",
    "\n",
    "### 9.4 Select K Best Method\n",
    "</a>"
   ]
  },
  {
   "cell_type": "code",
   "execution_count": null,
   "metadata": {},
   "outputs": [],
   "source": [
    "# Initialize SelectKBest with f_regression as the scoring function\n",
    "selector = SelectKBest(score_func=f_regression, k=5)        #Adjust the value of k"
   ]
  },
  {
   "cell_type": "code",
   "execution_count": null,
   "metadata": {},
   "outputs": [],
   "source": [
    "selector.fit(X_train_std_scaler_num, Y_train_encoded)"
   ]
  },
  {
   "cell_type": "code",
   "execution_count": null,
   "metadata": {},
   "outputs": [],
   "source": [
    "scores = pd.Series(selector.scores_, index=X_train_std_scaler_num.columns)"
   ]
  },
  {
   "cell_type": "code",
   "execution_count": null,
   "metadata": {},
   "outputs": [],
   "source": [
    "def plot_importance_kbest(scores, name):\n",
    "    plt.figure(figsize=(8, 6))\n",
    "    scores.plot(kind=\"barh\")\n",
    "    plt.title(\"Feature importance using \" + name + \" Method\")\n",
    "    plt.show()"
   ]
  },
  {
   "cell_type": "code",
   "execution_count": null,
   "metadata": {},
   "outputs": [],
   "source": [
    "plot_importance_kbest(scores, 'SelectKBest')"
   ]
  },
  {
   "cell_type": "markdown",
   "metadata": {},
   "source": [
    "<hr>\n",
    "\n",
    "### Numerical Data\n",
    "\n",
    "| Predictor                    | Spearman | RFE LR | RFE RandForest | Lasso  | SelectKBest | What to do? (One possible way to \"solve\") |\n",
    "|------------------------------|----------|--------|----------------|--------|-------------|------------------------------------------|\n",
    "| Age at Injury                | Keep     | Keep   | Keep           | Keep   | Keep     | Include in the model                     |\n",
    "| Average Weekly Wage          | Keep     | Keep   | Keep           | Keep   | Keep     | Include in the model                     |\n",
    "| Number of Dependents         | Discard  | Keep   | Keep           | Discard| Discard     | Include in the model                     |\n",
    "| Days Between Accident_Assembly | Either this or Accident_C2      | Keep   | Keep           | Discard| Discard        | Include in the model                     |\n",
    "| Days Between Accident_C2     | Either this or Accident_Assembly        | Keep   | Keep           | Discard| Discard        | Include in the model                     |\n"
   ]
  },
  {
   "cell_type": "markdown",
   "metadata": {},
   "source": [
    "Industry Code is IMPORTANT for Prediction\n",
    "WCIO Cause of Injury Code is IMPORTANT for Prediction\n",
    "WCIO Nature of Injury Code is IMPORTANT for Prediction\n",
    "WCIO Part Of Body Code is IMPORTANT for Prediction\n",
    "Alternative Dispute Resolution is IMPORTANT for Prediction\n",
    "Attorney/Representative is IMPORTANT for Prediction\n",
    "Carrier Type is IMPORTANT for Prediction\n",
    "County of Injury is IMPORTANT for Prediction\n",
    "COVID-19 Indicator is IMPORTANT for Prediction\n",
    "District Name is IMPORTANT for Prediction\n",
    "Gender is IMPORTANT for Prediction\n",
    "Industry Code Description is IMPORTANT for Prediction\n",
    "Medical Fee Region is IMPORTANT for Prediction\n",
    "zip_code_cat is IMPORTANT for Prediction\n",
    "First Hearing Date Binary is IMPORTANT for Prediction\n"
   ]
  },
  {
   "cell_type": "markdown",
   "metadata": {},
   "source": [
    "<hr>\n",
    "\n",
    "### Categorical Data\n",
    "\n",
    "| Predictor                      | Chi-Square | \n",
    "|--------------------------------|------------|\n",
    "| Industry Code                  | Keep       |                 \n",
    "| WCIO Cause of Injury Code      | Keep       |\n",
    "| WCIO Nature of Injury Code     | Keep       | \n",
    "| WCIO Part Of Body Code         | Keep       | \n",
    "| Alternative Dispute Resolution | Keep       |\n",
    "| Attorney/Representative        | Keep       |\n",
    "| Carrier Type                   | Keep       |\n",
    "| County of Injury               | Keep       |\n",
    "| COVID-19 Indicator             | Keep       |\n",
    "| District Name                  | Keep       |\n",
    "| Gender                         | Keep       | \n",
    "| Industry Code Description      | Keep       |\n",
    "| Medical Fee Region             | Keep       | \n",
    "| zip_code_cat is IMPORTANT      | Keep       |\n",
    "| First Hearing Date Binar       | Keep       | "
   ]
  },
  {
   "cell_type": "markdown",
   "metadata": {},
   "source": [
    "----"
   ]
  },
  {
   "cell_type": "markdown",
   "metadata": {},
   "source": [
    "<a class=\"anchor\" id=\"dropfeat\">\n",
    "\n",
    "### 9.5 Drop Features according to Feature Selections\n",
    "</a>"
   ]
  },
  {
   "cell_type": "code",
   "execution_count": null,
   "metadata": {},
   "outputs": [],
   "source": [
    "X_train_std_scaler_encoded.drop(columns=[\"Number of Dependents\", \"Days Between Accident_Assembly\"], inplace=True)\n",
    "X_val_std_scaler_encoded.drop(columns=[\"Number of Dependents\", \"Days Between Accident_Assembly\"], inplace=True)\n",
    "X_test_std_scaler_encoded.drop(columns=[\"Number of Dependents\", \"Days Between Accident_Assembly\"], inplace=True)\n",
    "# \"Age at Injury\", \"Average Weekly Wage\",  \"Days Between Accident_C2\""
   ]
  },
  {
   "cell_type": "markdown",
   "metadata": {},
   "source": [
    "<a class=\"anchor\" id=\"model\">\n",
    "\n",
    "## 10. Model\n",
    "</a>\n",
    "\n",
    "Type of Problem <br/>\n",
    "The type of problem to be solved is a multiclassification problem where the output is between 8 different choices. We will use a simple Logistical Regression model set to be able to compute multiple classes.<br/>\n",
    "<br/>\n",
    "Metric used:<br/>\n",
    "As a classification problem, we observed the following metrics to determine the effectiveness of our model:\n",
    " - accuracy\n",
    " - precision\n",
    " - recall\n",
    " - f1 score\n",
    "\n",
    " Each point is measured in a different and observing them all allows us to get an accurate view of our model's results."
   ]
  },
  {
   "cell_type": "code",
   "execution_count": null,
   "metadata": {},
   "outputs": [],
   "source": [
    "###\n",
    "# A helper method to help determine the average score of a model when split with a certain\n",
    "# number of folds. This will return a printed message describing the average scores after the \n",
    "# split (even though the split was already done within the preprocessing steps.)\n",
    "# \n",
    "# parameters:\n",
    "#   method: a type of kfold method passed in to split on - can be only either KFold or KFoldRepeated\n",
    "#   X: the independent variables preprocessed to be validated on\n",
    "#   Y: the dependent variable to predict based on the X\n",
    "###\n",
    "def avg_score_LR(method,X,y):\n",
    "    score_train = []\n",
    "    score_test = []\n",
    "    for train_index, test_index in method.split(X):\n",
    "        X_train, X_test = X.iloc[train_index], X.iloc[test_index]\n",
    "        y_train, y_test = y.iloc[train_index], y.iloc[test_index]\n",
    "        model = model = LogisticRegression(multi_class='multinomial', solver='lbfgs').fit(X_train, y_train)\n",
    "        value_train = model.score(X_train, y_train)\n",
    "        value_test = model.score(X_test,y_test)\n",
    "        score_train.append(value_train)\n",
    "        score_test.append(value_test)\n",
    "\n",
    "    print('Train:', np.mean(score_train))\n",
    "    print('Test:', np.mean(score_test))"
   ]
  },
  {
   "cell_type": "code",
   "execution_count": null,
   "metadata": {},
   "outputs": [],
   "source": [
    "###\n",
    "# A helper method to help determine the average score of a model when split with a certain\n",
    "# number of folds. This will return a printed message describing the average scores after the \n",
    "# split (even though the split was already done within the preprocessing steps.)\n",
    "# \n",
    "# parameters:\n",
    "#   method: a type of kfold method passed in to split on - can be only StratifiedKFold\n",
    "#   X: the independent variables preprocessed to be validated on\n",
    "#   Y: the dependent variable to predict based on the X\n",
    "###\n",
    "\n",
    "def avg_score_Stratified(method,X,y):\n",
    "    score_train = []\n",
    "    score_test = []\n",
    "    for fold, (train_index, test_index) in enumerate(method.split(X,y)):\n",
    "        X_train, X_test = X.iloc[train_index], X.iloc[test_index]\n",
    "        y_train, y_test = y.iloc[train_index], y.iloc[test_index]\n",
    "        model = model = LogisticRegression(multi_class='multinomial', solver='lbfgs').fit(X_train, y_train)\n",
    "        value_train = model.score(X_train, y_train)\n",
    "        value_test = model.score(X_test,y_test)\n",
    "        score_train.append(value_train)\n",
    "        score_test.append(value_test)\n",
    "\n",
    "    print('Train:', np.mean(score_train))\n",
    "    print('Test:', np.mean(score_test))"
   ]
  },
  {
   "cell_type": "code",
   "execution_count": null,
   "metadata": {},
   "outputs": [],
   "source": [
    "# Testing KFold with 10 splits on the standard encoded training data to see the average score\n",
    "kf = KFold(n_splits=10)\n",
    "print(\"--- Training Set ---\")\n",
    "avg_score_LR(kf, X_train_std_scaler_encoded, Y_train_encoded_df)"
   ]
  },
  {
   "cell_type": "code",
   "execution_count": null,
   "metadata": {},
   "outputs": [],
   "source": [
    "# Testing KFoldRepeated with 2 iterations of 6 splits on the standard encoded training data to see the average score\n",
    "rkf = RepeatedKFold(n_splits=6, n_repeats=2)\n",
    "print(\"--- Training Set ---\")\n",
    "avg_score_LR(rkf, X_train_std_scaler_encoded, Y_train_encoded_df)"
   ]
  },
  {
   "cell_type": "code",
   "execution_count": null,
   "metadata": {},
   "outputs": [],
   "source": [
    "# Testing StratifiedKFold with 10 splits on the standard encoded training data to see the average score\n",
    "skf = StratifiedKFold(n_splits=10)\n",
    "print(\"--- Training Set ---\")\n",
    "avg_score_Stratified(skf, X_train_std_scaler_encoded, Y_train_encoded_df)"
   ]
  },
  {
   "cell_type": "code",
   "execution_count": null,
   "metadata": {},
   "outputs": [],
   "source": [
    "# Testing KFold with 10 splits on the minmax encoded training data to see the average score\n",
    "kf = KFold(n_splits=10)\n",
    "print(\"--- Training Set ---\")\n",
    "avg_score_LR(kf, X_train_min_max_scaled_encoded, Y_train_encoded_df)"
   ]
  },
  {
   "cell_type": "markdown",
   "metadata": {},
   "source": [
    "There doesn't seem to be much difference between the different Cross Validation methods. KFold seems to have the best Test score on the Training set to Validation sets by .01 points."
   ]
  },
  {
   "cell_type": "code",
   "execution_count": null,
   "metadata": {},
   "outputs": [],
   "source": [
    "# multinomial: calculate the coefficients for each class seperately and determine the probability of each\n",
    "# lbfgs: good for large datasets, helps find the minimum of the loss function\n",
    "model = LogisticRegression(multi_class='multinomial', solver='lbfgs')\n",
    "# fit the model to the standard scaled and encoded training sets\n",
    "model.fit(X_train_std_scaler_encoded, Y_train_encoded)"
   ]
  },
  {
   "cell_type": "code",
   "execution_count": null,
   "metadata": {},
   "outputs": [],
   "source": [
    "# score the training and valaidation sets seperately\n",
    "score_train = model.score(X_train_std_scaler_encoded, Y_train_encoded_df)\n",
    "score_test = model.score(X_val_std_scaler_encoded, Y_val_encoded_df)"
   ]
  },
  {
   "cell_type": "code",
   "execution_count": null,
   "metadata": {},
   "outputs": [],
   "source": [
    "score_train"
   ]
  },
  {
   "cell_type": "code",
   "execution_count": null,
   "metadata": {},
   "outputs": [],
   "source": [
    "score_test"
   ]
  },
  {
   "cell_type": "code",
   "execution_count": null,
   "metadata": {},
   "outputs": [],
   "source": [
    "# make a prediction on the validation set\n",
    "y_pred = model.predict(X_val_std_scaler_encoded)"
   ]
  },
  {
   "cell_type": "code",
   "execution_count": null,
   "metadata": {},
   "outputs": [],
   "source": [
    "# print the confusion matrix\n",
    "confusion_matrix(Y_val_encoded, y_pred)"
   ]
  },
  {
   "cell_type": "code",
   "execution_count": null,
   "metadata": {},
   "outputs": [],
   "source": [
    "# print the accuracy score\n",
    "accuracy_score(Y_val_encoded, y_pred)"
   ]
  },
  {
   "cell_type": "code",
   "execution_count": null,
   "metadata": {},
   "outputs": [],
   "source": [
    "# determine the precision scores for each class\n",
    "precision_per_class = precision_score(Y_val_encoded, y_pred, average=None)\n",
    "\n",
    "# print the score and the name of the value assoiciated with the encoded version of each score\n",
    "for x,y in zip(precision_per_class, np.unique(y_val)):\n",
    "    print(\"[\"+str(y)+\"]:     \\t\" + str(round(x,2)))\n",
    "\n",
    "precision_weighted = precision_score(Y_val_encoded, y_pred, average='macro')\n",
    "print(\"\\nMacro precision: \" + str(round(precision_weighted, 3)))"
   ]
  },
  {
   "cell_type": "code",
   "execution_count": null,
   "metadata": {},
   "outputs": [],
   "source": [
    "# determine the recall scores for each class\n",
    "recall_per_class = recall_score(Y_val_encoded, y_pred, average=None)\n",
    "\n",
    "# print the score and the name of the value assoiciated with the encoded version of each score\n",
    "for x,y in zip(recall_per_class, np.unique(y_val)):\n",
    "    print(\"[\"+str(y)+\"]:     \\t\" + str(round(x,2)))\n",
    "\n",
    "recall_per_class = recall_score(Y_val_encoded, y_pred, average='macro')\n",
    "print(\"\\nMacro recall: \" + str(round(recall_per_class, 3)))"
   ]
  },
  {
   "cell_type": "code",
   "execution_count": null,
   "metadata": {},
   "outputs": [],
   "source": [
    "# determine the f1 scores\n",
    "f1_per_class = f1_score(Y_val_encoded, y_pred, average=None)\n",
    "\n",
    "# print the score and the name of the value assoiciated with the encoded version of each score\n",
    "for x,y in zip(f1_per_class, np.unique(y_val)):\n",
    "    print(\"[\"+str(y)+\"]:     \\t\" + str(round(x,2)))\n",
    "\n",
    "# print the f1 macro score\n",
    "f1_per_class = f1_score(Y_val_encoded, y_pred, average='macro')\n",
    "print(\"\\nMacro f1: \" + str(round(f1_per_class, 3)))"
   ]
  },
  {
   "cell_type": "code",
   "execution_count": null,
   "metadata": {},
   "outputs": [],
   "source": [
    "# ovr: (one vs rest) - one classifier per class. For each classifier, the class is fitted against all the other classes. (sklearn)\n",
    "model_ovr = LogisticRegression(multi_class='ovr')\n",
    "# fit the model to the standard scaled and encoded training sets\n",
    "model_ovr.fit(X_train_std_scaler_encoded, Y_train_encoded)"
   ]
  },
  {
   "cell_type": "code",
   "execution_count": null,
   "metadata": {},
   "outputs": [],
   "source": [
    "# score the training and valaidation sets seperately\n",
    "score_train_ovr = model_ovr.score(X_train_std_scaler_encoded, Y_train_encoded_df)\n",
    "score_test_ovr = model_ovr.score(X_val_std_scaler_encoded, Y_val_encoded_df)"
   ]
  },
  {
   "cell_type": "code",
   "execution_count": null,
   "metadata": {},
   "outputs": [],
   "source": [
    "score_train_ovr"
   ]
  },
  {
   "cell_type": "code",
   "execution_count": null,
   "metadata": {},
   "outputs": [],
   "source": [
    "score_test_ovr"
   ]
  },
  {
   "cell_type": "code",
   "execution_count": null,
   "metadata": {},
   "outputs": [],
   "source": [
    "y_pred_ovr = model_ovr.predict(X_val_std_scaler_encoded)"
   ]
  },
  {
   "cell_type": "code",
   "execution_count": null,
   "metadata": {},
   "outputs": [],
   "source": [
    "# determine the accuracy score\n",
    "accuracy_score(Y_val_encoded, y_pred_ovr)"
   ]
  },
  {
   "cell_type": "code",
   "execution_count": null,
   "metadata": {},
   "outputs": [],
   "source": [
    "# determine the f1 scores for each class\n",
    "f1_per_class = f1_score(Y_val_encoded, y_pred_ovr, average=None)\n",
    "\n",
    "# print the score and the name of the value assoiciated with the encoded version of each score\n",
    "for x,y in zip(f1_per_class, np.unique(y_val)):\n",
    "    print(\"[\"+str(y)+\"]:     \\t\" + str(round(x,2)))\n",
    "\n",
    "# print the f1 macro score\n",
    "f1_per_class = f1_score(Y_val_encoded, y_pred_ovr, average='macro')\n",
    "print(\"\\nMacro f1: \" + str(round(f1_per_class, 3)))"
   ]
  },
  {
   "cell_type": "markdown",
   "metadata": {},
   "source": [
    "<a class=\"anchor\" id=\"kaggle\">\n",
    "\n",
    "## 11. Kaggle Submission\n",
    "</a>"
   ]
  },
  {
   "cell_type": "code",
   "execution_count": null,
   "metadata": {},
   "outputs": [],
   "source": [
    "# get the model prediction\n",
    "y_pred_test = model.predict(X_test_std_scaler_encoded)"
   ]
  },
  {
   "cell_type": "code",
   "execution_count": null,
   "metadata": {},
   "outputs": [],
   "source": [
    "y_pred_test"
   ]
  },
  {
   "cell_type": "code",
   "execution_count": null,
   "metadata": {},
   "outputs": [],
   "source": [
    "# decode the prediction labels back to their original values\n",
    "decoded_labels = label_encoder.inverse_transform(y_pred_test)\n",
    "decoded_labels"
   ]
  },
  {
   "cell_type": "code",
   "execution_count": null,
   "metadata": {},
   "outputs": [],
   "source": [
    "test_data.shape"
   ]
  },
  {
   "cell_type": "code",
   "execution_count": null,
   "metadata": {},
   "outputs": [],
   "source": [
    "# combine the prediction values with their claim identifiers into a dataframe\n",
    "kaggle_submission = pd.DataFrame({\"Claim Identifier\": test_data.index, \"Claim Injury Type\":decoded_labels})\n",
    "kaggle_submission.head()"
   ]
  },
  {
   "cell_type": "code",
   "execution_count": null,
   "metadata": {},
   "outputs": [],
   "source": [
    "# Compile the resulting dataframe into a csv file named \"Kaggle_submission.csv\"\n",
    "# this will be found in the directory the file is currently running from\n",
    "# if a file exists with the same name, it will overwrite it with the new output.\n",
    "kaggle_submission.to_csv(\"Kaggle_Submission.csv\", index=False)"
   ]
  }
 ],
 "metadata": {
  "kernelspec": {
   "display_name": "base",
   "language": "python",
   "name": "python3"
  },
  "language_info": {
   "codemirror_mode": {
    "name": "ipython",
    "version": 3
   },
   "file_extension": ".py",
   "mimetype": "text/x-python",
   "name": "python",
   "nbconvert_exporter": "python",
   "pygments_lexer": "ipython3",
   "version": "3.12.4"
  }
 },
 "nbformat": 4,
 "nbformat_minor": 2
}
