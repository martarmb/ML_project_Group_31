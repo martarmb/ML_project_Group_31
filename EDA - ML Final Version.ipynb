{
 "cells": [
  {
   "cell_type": "markdown",
   "metadata": {},
   "source": [
    "<div class=\"alert alert-block alert-info\">\n",
    "\n",
    "[1. The needed steps](#1st-bullet)<br>\n",
    "- [1.1 Import the needed libraries](#2nd-bullet)<br>\n",
    "- [1.2 Import the dataset](#3rd-bullet)<br>\n",
    "- [1.3. Data pre-processing, data partition and scaling](#4th-bullet)<br>\n",
    "    \n",
    "[2. Feature Selection](#5th-bullet)<br>\n",
    "- [2.1 Filter methods](#6th-bullet)<br>\n",
    "    - [2.1.1 Univariate variables](#7th-bullet)<br>\n",
    "    - [2.1.2 Correlation Indices](#8th-bullet)<br>\n",
    "    - [2.1.3 Chi-Square](#9th-bullet)<br>\n",
    "- [2.2 Wrapper Methods](#10th-bullet)<br>\n",
    "    - [2.2.1 RFE](#11th-bullet)<br>\n",
    "- [2.3 Embedded Methods](#12th-bullet)<br>\n",
    "    - [2.3.1 Lasso](#13th-bullet)<br>\n",
    "- [2.4 Final Insights](#14th-bullet)<br>\n",
    "    \n",
    "</div>"
   ]
  },
  {
   "cell_type": "markdown",
   "metadata": {},
   "source": [
    "## Import "
   ]
  },
  {
   "cell_type": "markdown",
   "metadata": {},
   "source": [
    "### Import Libraries"
   ]
  },
  {
   "cell_type": "code",
   "execution_count": 1,
   "metadata": {},
   "outputs": [],
   "source": [
    "## Import standard data processing libraries\n",
    "import numpy as np\n",
    "import pandas as pd\n",
    "import matplotlib.pyplot as plt\n",
    "import seaborn as sns\n",
    "import os\n",
    "\n",
    "## Import datetime object for date columns in dataset\n",
    "from datetime import datetime\n",
    "\n",
    "## Setting seaborn style\n",
    "sns.set()\n",
    "\n",
    "from math import ceil\n",
    "\n",
    "## Import train_test_split to split data for model training\n",
    "from sklearn.model_selection import train_test_split\n",
    "\n",
    "pd.set_option('display.max_rows', None)  # Show all rows\n",
    "pd.set_option('display.max_colwidth', None) #Show all columns\n",
    "\n",
    "\n",
    "## Import library that enables colours in Markdowns\n",
    "from IPython.display import Markdown\n",
    "\n",
    "## Supress warnings\n",
    "import warnings\n",
    "warnings.filterwarnings('ignore')\n"
   ]
  },
  {
   "cell_type": "markdown",
   "metadata": {},
   "source": [
    "## Created functions"
   ]
  },
  {
   "cell_type": "code",
   "execution_count": 2,
   "metadata": {},
   "outputs": [],
   "source": [
    "# Function to create plots  \n",
    "def univariate_analysis(data, variable, target_variable='Claim Injury Type', figsize=(9, 6)):\n",
    "    \n",
    "    plt.figure(figsize=figsize)\n",
    "\n",
    "    df_plot = data.copy()\n",
    "\n",
    "    order = df_plot.groupby(variable)[target_variable].value_counts().unstack().sum(axis=1).sort_values(ascending=False).index\n",
    "\n",
    "    sns.countplot(x=variable, hue=target_variable, data=df_plot, order=order)\n",
    "\n",
    "\n",
    "    plt.xlabel(variable)\n",
    "    plt.ylabel('Count')\n",
    "    plt.title(f'Number of Tests by {target_variable} and {variable}')\n",
    "\n",
    "    plt.tight_layout()\n",
    "    plt.show()\n"
   ]
  },
  {
   "cell_type": "markdown",
   "metadata": {},
   "source": [
    "## 1. Dataset overview"
   ]
  },
  {
   "cell_type": "markdown",
   "metadata": {},
   "source": [
    "### Import Datasets"
   ]
  },
  {
   "cell_type": "code",
   "execution_count": 3,
   "metadata": {},
   "outputs": [],
   "source": [
    "train_data = pd.read_csv(\"train_data.csv\", low_memory=False)\n",
    "test_data = pd.read_csv(\"test_data.csv\")"
   ]
  },
  {
   "cell_type": "markdown",
   "metadata": {},
   "source": [
    "### 1.1 Descriptive analysis"
   ]
  },
  {
   "cell_type": "code",
   "execution_count": null,
   "metadata": {},
   "outputs": [],
   "source": [
    "train_data.head()\n"
   ]
  },
  {
   "cell_type": "code",
   "execution_count": null,
   "metadata": {},
   "outputs": [],
   "source": [
    "test_data.head()"
   ]
  },
  {
   "cell_type": "code",
   "execution_count": null,
   "metadata": {},
   "outputs": [],
   "source": [
    "test_data.columns.values"
   ]
  },
  {
   "cell_type": "code",
   "execution_count": null,
   "metadata": {},
   "outputs": [],
   "source": [
    "train_data.columns.values"
   ]
  },
  {
   "cell_type": "markdown",
   "metadata": {},
   "source": [
    "In the Train there is no Agreement Reach variable and WCB Decision becuase maybe it is the information that is known after defininig the target variable"
   ]
  },
  {
   "cell_type": "code",
   "execution_count": 8,
   "metadata": {},
   "outputs": [],
   "source": [
    "# set \"Claim Identifier\" as the index for the train and test datasets\n",
    "train_data = train_data.set_index(\"Claim Identifier\")\n",
    "test_data = test_data.set_index(\"Claim Identifier\")"
   ]
  },
  {
   "cell_type": "code",
   "execution_count": null,
   "metadata": {},
   "outputs": [],
   "source": [
    "train_data.describe(include=\"all\").T"
   ]
  },
  {
   "cell_type": "code",
   "execution_count": null,
   "metadata": {},
   "outputs": [],
   "source": [
    "train_data.info()\n",
    "\n",
    "## DATA TYPES:\n",
    "# Convert accident date (to date type)\n",
    "# convert age (to int)\n",
    "# Alternative dispute resolution (??)\n",
    "# Assembly date (to date type)\n",
    "# birth year (to int)\n",
    "# C2 date (to date type)\n",
    "# C3 date (to date type)\n",
    "# First hearing date (to date)\n",
    "# IME-4 count (to int)\n",
    "# Industry code (object)\n",
    "# OIICS Nature of Injury Description (to object) - all nulls (relevant??)\n",
    "# WCIO cause of injury code (float to object)\n",
    "# WCIO Nature of Injury Code (float to object)\n",
    "# WCIO Part Of Body Code (float to object)\n",
    "# Agreement reached (??) - boolean/ int(???)\n",
    "# Number of dependents (to int)"
   ]
  },
  {
   "cell_type": "code",
   "execution_count": null,
   "metadata": {},
   "outputs": [],
   "source": [
    "test_data.info()"
   ]
  },
  {
   "cell_type": "markdown",
   "metadata": {},
   "source": [
    "#### Changing the data types\n"
   ]
  },
  {
   "cell_type": "code",
   "execution_count": 12,
   "metadata": {},
   "outputs": [],
   "source": [
    "train_data[\"Age at Injury\"] = train_data[\"Age at Injury\"].astype(\"Int64\")\n",
    "test_data[\"Age at Injury\"] = test_data[\"Age at Injury\"].astype(\"Int64\")\n",
    "\n",
    "train_data[\"Number of Dependents\"] = train_data[\"Number of Dependents\"].astype(\"Int64\")\n",
    "test_data[\"Number of Dependents\"] = test_data[\"Number of Dependents\"].astype(\"Int64\")\n",
    "\n",
    "train_data[\"Birth Year\"] = train_data[\"Birth Year\"].astype(\"Int64\")\n",
    "test_data[\"Birth Year\"] = test_data[\"Birth Year\"].astype(\"Int64\")\n",
    "\n",
    "train_data[\"WCIO Part Of Body Code\"] = train_data[\"WCIO Part Of Body Code\"].astype(\"Int64\")\n",
    "test_data[\"WCIO Part Of Body Code\"] = test_data[\"WCIO Part Of Body Code\"].astype(\"Int64\")\n",
    "\n",
    "train_data[\"WCIO Nature of Injury Code\"] = train_data[\"WCIO Nature of Injury Code\"].astype(\"Int64\")\n",
    "test_data[\"WCIO Nature of Injury Code\"] = test_data[\"WCIO Nature of Injury Code\"].astype(\"Int64\")\n",
    "\n",
    "train_data[\"WCIO Cause of Injury Code\"] = train_data[\"WCIO Cause of Injury Code\"].astype(\"Int64\")\n",
    "test_data[\"WCIO Cause of Injury Code\"] = test_data[\"WCIO Cause of Injury Code\"].astype(\"Int64\")\n",
    "\n",
    "train_data[\"Industry Code\"] = train_data[\"Industry Code\"].astype(\"Int64\")\n",
    "test_data[\"Industry Code\"] = test_data[\"Industry Code\"].astype(\"Int64\")\n",
    "\n",
    "train_data[\"Agreement Reached\"] = train_data[\"Agreement Reached\"].astype(\"Int64\")\n",
    "\n",
    "train_data[\"Accident Date\"] = pd.to_datetime(train_data['Accident Date'], format = '%Y-%m-%d')\n",
    "test_data[\"Accident Date\"] = pd.to_datetime(test_data['Accident Date'], format = '%Y-%m-%d')\n",
    "\n",
    "train_data[\"Assembly Date\"] = pd.to_datetime(train_data['Assembly Date'], format = '%Y-%m-%d')\n",
    "test_data[\"Assembly Date\"] = pd.to_datetime(test_data['Assembly Date'], format = '%Y-%m-%d')\n",
    "\n",
    "train_data[\"C-2 Date\"] = pd.to_datetime(train_data['C-2 Date'], format = '%Y-%m-%d')\n",
    "test_data[\"C-2 Date\"] = pd.to_datetime(test_data['C-2 Date'], format = '%Y-%m-%d')\n",
    "\n",
    "train_data[\"C-3 Date\"] = pd.to_datetime(train_data['C-3 Date'], format = '%Y-%m-%d')\n",
    "test_data[\"C-3 Date\"] = pd.to_datetime(test_data['C-3 Date'], format = '%Y-%m-%d')\n"
   ]
  },
  {
   "cell_type": "markdown",
   "metadata": {},
   "source": [
    "## 2. Data Cleaning"
   ]
  },
  {
   "cell_type": "markdown",
   "metadata": {},
   "source": [
    "### 2.1 Duplicates"
   ]
  },
  {
   "cell_type": "code",
   "execution_count": null,
   "metadata": {},
   "outputs": [],
   "source": [
    "duplicates_sum_train = train_data.duplicated().sum()\n",
    "duplicates_sum_test = test_data.duplicated().sum()\n",
    "\n",
    "print(f\"There are {duplicates_sum_train} in the training data set.\")\n",
    "print(f\"There are {duplicates_sum_test} in the test data set.\")"
   ]
  },
  {
   "cell_type": "code",
   "execution_count": 14,
   "metadata": {},
   "outputs": [],
   "source": [
    "train_data.drop_duplicates(inplace=True)\n",
    "test_data.drop_duplicates(inplace=True)"
   ]
  },
  {
   "cell_type": "markdown",
   "metadata": {},
   "source": [
    "### 2.2 Target variable - Claim Injury Type Missing & Unique values"
   ]
  },
  {
   "cell_type": "code",
   "execution_count": null,
   "metadata": {},
   "outputs": [],
   "source": [
    "train_data[\"Claim Injury Type\"].unique()"
   ]
  },
  {
   "cell_type": "code",
   "execution_count": null,
   "metadata": {},
   "outputs": [],
   "source": [
    "train_data['Claim Injury Type'].value_counts()"
   ]
  },
  {
   "cell_type": "code",
   "execution_count": null,
   "metadata": {},
   "outputs": [],
   "source": [
    "plt.figure(figsize=(8, 5))\n",
    "sns.countplot(x='Claim Injury Type', data=train_data)\n",
    "\n",
    "plt.xlabel('Category')\n",
    "plt.ylabel('Count')\n",
    "plt.title('Distribution of Target Variable')\n",
    "plt.xticks(rotation=45)  \n",
    "\n",
    "\n",
    "plt.tight_layout()  \n",
    "plt.show()"
   ]
  },
  {
   "cell_type": "code",
   "execution_count": null,
   "metadata": {},
   "outputs": [],
   "source": [
    "missing_data_target = train_data[train_data['Claim Injury Type'].isna()]\n",
    "missing_data_target.head()"
   ]
  },
  {
   "cell_type": "code",
   "execution_count": null,
   "metadata": {},
   "outputs": [],
   "source": [
    "missing_data_target.info()\n",
    "# all features with missing values on the target, are also missing, except Assembly Date -> not relevant (decision -> drop rows)"
   ]
  },
  {
   "cell_type": "code",
   "execution_count": 20,
   "metadata": {},
   "outputs": [],
   "source": [
    "train_data= train_data.drop(missing_data_target.index)"
   ]
  },
  {
   "cell_type": "markdown",
   "metadata": {},
   "source": [
    "Re chack for unique values in the target variable"
   ]
  },
  {
   "cell_type": "code",
   "execution_count": null,
   "metadata": {},
   "outputs": [],
   "source": [
    "train_data[\"Claim Injury Type\"].unique().tolist()"
   ]
  },
  {
   "cell_type": "markdown",
   "metadata": {},
   "source": [
    "### Data Visualisation"
   ]
  },
  {
   "cell_type": "code",
   "execution_count": 22,
   "metadata": {},
   "outputs": [],
   "source": [
    "### Define metric & non-metric features\n",
    "metric_features = [\"Age at Injury\", \"Average Weekly Wage\", \"Birth Year\", \"IME-4 Count\", \"Number of Dependents\"]\n",
    "\n",
    "non_metric_features = [\"OIICS Nature of Injury Description\",\"Industry Code\", \"WCIO Cause of Injury Code\", \"WCIO Nature of Injury Code\", \"WCIO Part Of Body Code\", \"Accident Date\", \"Alternative Dispute Resolution\",\n",
    "                       \"Assembly Date\", \"Attorney/Representative\", \"C-2 Date\", \"C-3 Date\", \"Carrier Name\", \"Carrier Type\", \"County of Injury\", \"COVID-19 Indicator\",\n",
    "                       \"District Name\", \"First Hearing Date\", \"Gender\", \"Industry Code Description\", \"Medical Fee Region\", \"WCIO Cause of Injury Description\", \n",
    "                       \"WCIO Nature of Injury Description\", \"WCIO Part Of Body Description\", \"Zip Code\", \"Agreement Reached\", \"WCB Decision\"]\n"
   ]
  },
  {
   "cell_type": "markdown",
   "metadata": {},
   "source": [
    "### Histograms for Metric Variables"
   ]
  },
  {
   "cell_type": "markdown",
   "metadata": {},
   "source": [
    "### - Age at Injury"
   ]
  },
  {
   "cell_type": "code",
   "execution_count": null,
   "metadata": {},
   "outputs": [],
   "source": [
    "train_data['Age at Injury'].plot(\n",
    "    kind='hist',\n",
    "    bins=20\n",
    ")\n",
    "\n",
    "plt.title('Histogram of Age at Injury')\n",
    "plt.xlabel('Age at Injury')\n",
    "plt.ylabel('Frequency') \n",
    "plt.show()\n"
   ]
  },
  {
   "cell_type": "code",
   "execution_count": null,
   "metadata": {},
   "outputs": [],
   "source": [
    "plt.figure(figsize=(8, 6))\n",
    "sns.boxplot(x=train_data['Age at Injury'])\n",
    "\n",
    "# Add labels and title\n",
    "plt.xlabel(\"Age at Injury\")\n",
    "plt.title(\"Box Plot of Age at Injury\")\n",
    "\n",
    "# Show plot\n",
    "plt.show()"
   ]
  },
  {
   "cell_type": "code",
   "execution_count": null,
   "metadata": {},
   "outputs": [],
   "source": [
    "# Calculate Q1 (25th percentile) and Q3 (75th percentile)\n",
    "Q1 = train_data['Age at Injury'].quantile(0.25)\n",
    "Q3 = train_data['Age at Injury'].quantile(0.75)\n",
    "IQR = Q3 - Q1\n",
    "\n",
    "# Define the bounds for outliers\n",
    "lower_bound = Q1 - 1.5 * IQR\n",
    "upper_bound = Q3 + 1.5 * IQR\n",
    "\n",
    "# Count the number of outliers\n",
    "num_outliers = ((train_data['Age at Injury'] < lower_bound) | (train_data['Age at Injury'] > upper_bound)).sum()\n",
    "print(f'Number of outliers (IQR method): {num_outliers}')\n"
   ]
  },
  {
   "cell_type": "markdown",
   "metadata": {},
   "source": [
    "### Histograms for Non Metric Variables"
   ]
  },
  {
   "cell_type": "code",
   "execution_count": 26,
   "metadata": {},
   "outputs": [],
   "source": [
    "# for column in non_metric_features:\n",
    "#     top_categories = train_data[column].value_counts().head(10)\n",
    "\n",
    "   \n",
    "#     plt.figure(figsize=(8, 4))\n",
    "#     sns.barplot(\n",
    "#         y=top_categories.index,  \n",
    "#         x=top_categories.values, \n",
    "#         palette='tab20b', \n",
    "#          hue=top_categories.index, \n",
    "#         legend=False \n",
    "#     )  \n",
    "\n",
    "#     plt.title(f'Histogram for {column}')\n",
    "#     plt.xlabel('Count', fontsize=14)\n",
    "#     #plt.ylabel(column, fontsize=14)\n",
    "\n",
    "   \n",
    "#     plt.tight_layout()\n",
    "#     plt.show()"
   ]
  },
  {
   "cell_type": "code",
   "execution_count": 27,
   "metadata": {},
   "outputs": [],
   "source": [
    "# for column in non_metric_features:\n",
    "#     top_categories = train_data[column].value_counts().head(10)\n",
    "\n",
    "   \n",
    "#     plt.figure(figsize=(8, 4))\n",
    "#     sns.barplot(\n",
    "#         x=top_categories.index,  \n",
    "#         y=top_categories.values, \n",
    "#          hue=top_categories.index, \n",
    "#         legend=False \n",
    "#     )  \n",
    "\n",
    "#     plt.title(f'Histogram for {column}')\n",
    "#     #plt.xlabel('Count', fontsize=14)\n",
    "#     #plt.xticks(rotation=90)\n",
    "#     #plt.ylabel(column, fontsize=14)\n",
    "\n",
    "   \n",
    "#     plt.tight_layout()\n",
    "#     plt.show()"
   ]
  },
  {
   "cell_type": "markdown",
   "metadata": {},
   "source": [
    "### 2.3 All independent variables - Missing & Unique Values"
   ]
  },
  {
   "cell_type": "markdown",
   "metadata": {},
   "source": [
    "#### All listed Variables - summary \n",
    "\n",
    "1. **Accident Date**: 0.64% NaN and dates (5539 unique values)\n",
    "\n",
    "2. **Age at Injury**: 0% NaN and no strange values (108 unique values) (there are some values >100)\n",
    "3. **Alternative Dispute Resolution**: 0% NaN and no strange values (3 unique values)\n",
    "4. **Assembly Date**: 0% NaN and dates (897 unique values)\n",
    "5. **Attorney/Representative**: 0% NaN and no strange values (2 unique values)\n",
    "6. **Average Weekly Wage**: around 5% NaN and a lot of unique values (120024 unique values)\n",
    "7. **Birth Year**: 5% Nan and one 25081 strange values \"0\" (Birth Year cannot be 0) (107 unique values - 0 included)\n",
    "8. **C-2 Date**: 2.5% NaN and dataes (2475 unique values)\n",
    "11. **Carrier Name**: 0% NaN and name of carrier (2046 unique values) \n",
    "12. **Carrier Type**: 0% NaN and no strange values (8 unique values)\n",
    "13. **Claim Injury Type** - target variable\n",
    "14. **County of Injury**: 0% NaN and there are 1196 \"UNKNOWN\" values (63 unique values)\n",
    "15. **COVID-19 Indicator**: 0% NaN and no strange values (2 unique values)\n",
    "16. **District Name**: 0% NaN and no strange values (8 unique values)\n",
    "17. **First Hearing Date**: 73.7% NaN and dates (1094 unique values)\n",
    "18. **Gender**: 0% NaN and male, female, non-binary and unspecified (4 unique values)\n",
    "19. **Industry Code**: 1.73% NaN and no strange values (24 unique values)\n",
    "20. **Industry Code Description**: 1.73% NaN and descripion (20 unique values)\n",
    "21. **Medical Fee Region**: 0% NaN and one strange value 'UK' (33472 such values) other are numbers (4 unique values)\n",
    "22. **WCIO Cause of Injury Code**: 2.724% NaN and no strange values (77 unique values) \n",
    "23. **WCIO Cause of Injury Description**: 2.724% NaN and no strange values (74 unique values)\n",
    "24. **WCIO Nature of Injury Code**: 2.727% NaN and no strange values (56 unique values)\n",
    "25. **WCIO Nature of Injury Description**: 2.727% NaN and no strange values (56 unique values)\n",
    "26. **WCIO Part Of Body Code**: 2.98% NaN and 42011 \"-9\" values (should be treated as missing value) (57 unique values)\n",
    "27. **WCIO Part Of Body Description**: 2.98% NaN andone strange value: INSUFFICIENT INFO TO PROPERLY IDENTIFY - UNCLASSIFIED (54 unique values)\n",
    "28. **Zip Code**: 4.98% NaN and zip code is a bit strange -> it has a lot of unique values, some zip codes starts with numbers and there are som that starts with letters; one zip code unique value is 'UNKNO\". According to definition of Zip-Code: zip codes only contain a combination of numeric values.\n",
    "29. **Agreement Reached**: 0% NaN and no strange values (2 unique values)\n",
    "30. **WCB Decision**: 0% NaN and only 1 unique value -> variable that should be deleted it is not informative\n",
    "31. **Number of Dependents**: 0% NaN and no strange values (7 unique values)\n",
    "\n"
   ]
  },
  {
   "cell_type": "markdown",
   "metadata": {},
   "source": [
    "##### a) Checking unique values in each of the variable (looking for some values that can indicate missing values)"
   ]
  },
  {
   "cell_type": "code",
   "execution_count": null,
   "metadata": {},
   "outputs": [],
   "source": [
    "for column in train_data.columns:\n",
    "    unique_values = train_data[column].unique()\n",
    "    unique_values_num = train_data[column].nunique()\n",
    "    print(f\"Unique values in '{column}':\")\n",
    "    print(unique_values)\n",
    "    print(f\"Number of unique values in '{column}':\")\n",
    "    print(unique_values_num)\n",
    "    \n",
    "    print()"
   ]
  },
  {
   "cell_type": "code",
   "execution_count": null,
   "metadata": {},
   "outputs": [],
   "source": [
    "train_data['Age at Injury'].value_counts()"
   ]
  },
  {
   "cell_type": "markdown",
   "metadata": {},
   "source": [
    "After reviewing unique values in the dataset we also found in some variables unique values such as e.g \"UNKNOWN\", \"UK\", \"UNKNO\". Also, we saw \n",
    "Therefore, we changed that values to missing values."
   ]
  },
  {
   "cell_type": "code",
   "execution_count": 30,
   "metadata": {},
   "outputs": [],
   "source": [
    "# Filling missing values with NaN\n",
    "\n",
    "train_data.replace('UNKNOWN', np.nan, inplace = True)\n",
    "test_data.replace('UNKNOWN', np.nan, inplace = True)\n",
    "\n",
    "train_data.replace('UK', np.nan, inplace = True)\n",
    "test_data.replace('UK', np.nan, inplace = True)\n",
    "\n",
    "train_data.replace('UNKNO', np.nan, inplace = True)\n",
    "test_data.replace('UNKNO', np.nan, inplace = True)\n",
    "\n",
    "\n",
    "# There are such strange values in the gender U and X\n",
    "train_data['Gender'].replace('X', np.nan, inplace = True)\n",
    "test_data['Gender'].replace('X', np.nan, inplace = True)\n",
    "\n",
    "train_data['Gender'].replace('U', np.nan, inplace = True)\n",
    "test_data['Gender'].replace('U', np.nan, inplace = True)\n",
    "\n",
    "# There are some values in Age that are equal to 0\n",
    "\n",
    "train_data['Age at Injury'].replace(0, np.nan, inplace = True)\n",
    "test_data['Age at Injury'].replace(0, np.nan, inplace = True)\n",
    "\n",
    "\n",
    "# We also looked deeper into ZipCode variable and it has several zipcode that are not valid zipcodes. Those values are: \".1605\", \"00000\" and \"99999\"\n",
    "train_data['Zip Code'].replace([\".1605\", \"00000\", \"99999\"], np.nan, inplace=True)\n",
    "test_data['Zip Code'].replace([\".1605\", \"00000\", \"99999\"], np.nan, inplace=True)\n",
    "\n",
    "train_data[\"Birth Year\"].replace(0, np.nan, inplace=True)\n",
    "test_data[\"Birth Year\"].replace(0, np.nan, inplace=True)"
   ]
  },
  {
   "cell_type": "markdown",
   "metadata": {},
   "source": [
    "## Data Visualisation\n",
    "#### Histograms (Margarida) and Boxplots (treating outliers) (Eduardo)"
   ]
  },
  {
   "cell_type": "code",
   "execution_count": null,
   "metadata": {},
   "outputs": [],
   "source": []
  },
  {
   "cell_type": "code",
   "execution_count": null,
   "metadata": {},
   "outputs": [],
   "source": []
  },
  {
   "cell_type": "markdown",
   "metadata": {},
   "source": [
    "Variable ***Zip Code*** has a lot of unique values. Therefore, we decided to group Zip Code "
   ]
  },
  {
   "cell_type": "code",
   "execution_count": null,
   "metadata": {},
   "outputs": [],
   "source": [
    "train_data[\"Zip Code\"].value_counts(dropna=False).sort_index()"
   ]
  },
  {
   "cell_type": "code",
   "execution_count": null,
   "metadata": {},
   "outputs": [],
   "source": [
    "# Creating new variable zip_code dividied into categories \n",
    "def categorize_zip(zip_code):\n",
    "    if pd.isna(zip_code):  # Check if the value is NaN\n",
    "        return np.nan \n",
    "    elif isinstance(zip_code, str) and zip_code[0].isdigit():\n",
    "        return zip_code[0]\n",
    "    else:\n",
    "        return \"Other\"\n",
    "\n",
    "\n",
    "# Apply the function to create the new 'zip_code_cat' column\n",
    "train_data['zip_code_cat'] = train_data['Zip Code'].apply(categorize_zip)\n",
    "test_data['zip_code_cat'] = test_data['Zip Code'].apply(categorize_zip)\n",
    "\n",
    "# If you want to see the distribution of the new category\n",
    "print(train_data['zip_code_cat'].value_counts(dropna=False))\n"
   ]
  },
  {
   "cell_type": "code",
   "execution_count": 33,
   "metadata": {},
   "outputs": [],
   "source": [
    "train_data =train_data.drop('Zip Code', axis=1)\n",
    "test_data = test_data.drop('Zip Code', axis=1)"
   ]
  },
  {
   "cell_type": "markdown",
   "metadata": {},
   "source": [
    "There is also strange value in the variable WCIO Part Of Body Code. According WCIO website there is no such code as -9. We checked with variable WCIO Part of Body Description which description corresponds to Code -9 in our data set. We found out that -9 is always associated with description \"Multiple\"."
   ]
  },
  {
   "cell_type": "code",
   "execution_count": null,
   "metadata": {},
   "outputs": [],
   "source": [
    "# Display only rows where \"WCIO Part Of Body Code\" equals -9\n",
    "filtered_data_train = train_data[train_data[\"WCIO Part Of Body Code\"] == -9]\n",
    "\n",
    "# Display the result\n",
    "filtered_data_train[\"WCIO Part Of Body Description\"].value_counts()\n",
    "\n",
    "# Display only rows where \"WCIO Part Of Body Code\" equals -9\n",
    "filtered_data_test = test_data[test_data[\"WCIO Part Of Body Code\"] == -9]\n",
    "\n",
    "# Display the result\n",
    "filtered_data_test[\"WCIO Part Of Body Description\"].value_counts()\n"
   ]
  },
  {
   "cell_type": "code",
   "execution_count": 35,
   "metadata": {},
   "outputs": [],
   "source": [
    "# columns_to_plot =['Gender', 'Alternative Dispute Resolution', 'Attorney/Representative', 'Carrier Type','COVID-19 Indicator','District Name','Medical Fee Region', 'Agreement Reached','Number of Dependents' ]\n",
    "# for hue_variable in columns_to_plot:\n",
    "#         univariate_analysis(train_data, hue_variable )"
   ]
  },
  {
   "cell_type": "markdown",
   "metadata": {},
   "source": [
    "##### b) Checking the number of missing values in each variable in the train_data (number and percentage)"
   ]
  },
  {
   "cell_type": "code",
   "execution_count": null,
   "metadata": {},
   "outputs": [],
   "source": [
    "missing_values = train_data.isnull().sum().sort_values(ascending=False)\n",
    "print(missing_values)"
   ]
  },
  {
   "cell_type": "code",
   "execution_count": null,
   "metadata": {},
   "outputs": [],
   "source": [
    "missing_percentage = ((train_data.isnull().sum() / len(train_data)) * 100).sort_values(ascending=False)\n",
    "print(missing_percentage)"
   ]
  },
  {
   "cell_type": "markdown",
   "metadata": {},
   "source": [
    "Variables such as ***OIICS Nature of Injury Descritpion, IME-4 Count, First Hearing Date*** and ***C-3 Date*** have more than 60% of missing values. \n",
    "<br> We decided to drop ***OIICS Nature of Injury Descritpion, IME-4 Count and ***C-3 Date*** becuase they have so many missing values that it does not make sense to impute them (not enough information for taking that as sample for the whole population).\n",
    "<br> We do not drop ***First Hearing Date*** variable, because blank date (missing value) means the claim has not yet had a hearing held. Thus, it is an information that we want to keep.\n",
    "\n",
    "\n"
   ]
  },
  {
   "cell_type": "code",
   "execution_count": 38,
   "metadata": {},
   "outputs": [],
   "source": [
    "columns_to_drop = ['IME-4 Count','C-3 Date', 'OIICS Nature of Injury Description']\n",
    "\n",
    "train_data =train_data.drop(columns_to_drop, axis=1)\n",
    "test_data = test_data.drop(columns_to_drop, axis=1)\n",
    "\n",
    "metric_features.remove('IME-4 Count')\n",
    "non_metric_features.remove('OIICS Nature of Injury Description')"
   ]
  },
  {
   "cell_type": "markdown",
   "metadata": {},
   "source": [
    "We decided to drop variable WCB Decision, because it only contains one unique value, so it is not informative."
   ]
  },
  {
   "cell_type": "code",
   "execution_count": 39,
   "metadata": {},
   "outputs": [],
   "source": [
    "train_data =train_data.drop('WCB Decision', axis =1)\n",
    "non_metric_features.remove('WCB Decision')"
   ]
  },
  {
   "cell_type": "markdown",
   "metadata": {},
   "source": [
    "We decided to change vairable First Hearing Date to binary variable, where NaN values are replaced by 0 - it means that claim has not had a hearing held yet and dataes are replaced by 1 which means that hearings has been already held."
   ]
  },
  {
   "cell_type": "code",
   "execution_count": null,
   "metadata": {},
   "outputs": [],
   "source": [
    "train_data['First Hearing Date Binary'] = train_data['First Hearing Date'].notna().astype(int)\n",
    "train_data[['First Hearing Date', 'First Hearing Date Binary']].head()"
   ]
  },
  {
   "cell_type": "code",
   "execution_count": null,
   "metadata": {},
   "outputs": [],
   "source": [
    "test_data['First Hearing Date Binary'] = test_data['First Hearing Date'].notna().astype(int)\n",
    "test_data[['First Hearing Date', 'First Hearing Date Binary']].head()"
   ]
  },
  {
   "cell_type": "code",
   "execution_count": 42,
   "metadata": {},
   "outputs": [],
   "source": [
    "# univariate_analysis(train_data, 'First Hearing Date Binary')"
   ]
  },
  {
   "cell_type": "markdown",
   "metadata": {},
   "source": [
    "First Hearing Data variable can be droped after creating binary variable."
   ]
  },
  {
   "cell_type": "code",
   "execution_count": 43,
   "metadata": {},
   "outputs": [],
   "source": [
    "train_data =train_data.drop(\"First Hearing Date\", axis=1)\n",
    "test_data =test_data.drop(\"First Hearing Date\", axis=1)"
   ]
  },
  {
   "cell_type": "code",
   "execution_count": null,
   "metadata": {},
   "outputs": [],
   "source": [
    "WCIO_columns = [\n",
    "    'WCIO Part Of Body Code', \n",
    "    'WCIO Part Of Body Description', \n",
    "    'WCIO Nature of Injury Description', \n",
    "    'WCIO Nature of Injury Code', \n",
    "    'WCIO Cause of Injury Description', \n",
    "    'WCIO Cause of Injury Code'\n",
    "]\n",
    "\n",
    "# Display rows where all WCIO columns contain NaN values\n",
    "WCIO_nan_rows = train_data[train_data[WCIO_columns].isna().all(axis=1)]\n",
    "\n",
    "count_all_nan_WCIO = train_data[WCIO_columns].isna().all(axis=1).sum()\n",
    "print(\"Rows with all NaN values in WCIO columns:\", count_all_nan_WCIO)\n",
    "\n",
    "\n",
    "# Calculate the percentage of these rows in the whole dataset\n",
    "percentage_all_nan_WCIO = (count_all_nan_WCIO / len(train_data)) * 100\n",
    "\n",
    "# Display the result\n",
    "print(f\"Percentage of rows with all NaN values in WCIO columns: {percentage_all_nan_WCIO:.2f}%\")\n",
    "WCIO_nan_rows.head()\n"
   ]
  },
  {
   "cell_type": "markdown",
   "metadata": {},
   "source": [
    "Dropping rows where all WCIO columns contain NaN values."
   ]
  },
  {
   "cell_type": "code",
   "execution_count": 45,
   "metadata": {},
   "outputs": [],
   "source": [
    "train_data = train_data[~train_data[WCIO_columns].isna().all(axis=1)]"
   ]
  },
  {
   "cell_type": "code",
   "execution_count": null,
   "metadata": {},
   "outputs": [],
   "source": [
    "missing_percentage = ((train_data.isnull().sum() / len(train_data)) * 100).sort_values(ascending=False)\n",
    "missing_percentage = missing_percentage[missing_percentage > 0]\n",
    "print(missing_percentage)"
   ]
  },
  {
   "cell_type": "code",
   "execution_count": 47,
   "metadata": {},
   "outputs": [],
   "source": [
    "columns_to_drop_desc = ['WCIO Part Of Body Description','Industry Code Description','WCIO Nature of Injury Description','WCIO Cause of Injury Description', 'Carrier Name']\n",
    "\n",
    "train_data =train_data.drop(columns_to_drop_desc, axis=1)\n",
    "test_data =test_data.drop(columns_to_drop_desc, axis=1)\n",
    "\n",
    "# remove the dropped columns from the list of metric/non-metric features\n",
    "for x in non_metric_features:\n",
    "    non_metric_features.remove(x)"
   ]
  },
  {
   "cell_type": "code",
   "execution_count": null,
   "metadata": {},
   "outputs": [],
   "source": [
    "train_data.nunique()"
   ]
  },
  {
   "cell_type": "markdown",
   "metadata": {},
   "source": [
    "### Splitting into training and validation set"
   ]
  },
  {
   "cell_type": "code",
   "execution_count": 49,
   "metadata": {},
   "outputs": [],
   "source": [
    "X = train_data.drop('Claim Injury Type', axis = 1)\n",
    "y = train_data['Claim Injury Type']"
   ]
  },
  {
   "cell_type": "code",
   "execution_count": 50,
   "metadata": {},
   "outputs": [],
   "source": [
    "X_train, X_val, y_train, y_val = train_test_split(X,y, test_size = 0.3, \n",
    "                                                  random_state = 0, \n",
    "                                                  stratify = y, \n",
    "                                                  shuffle = True)\n"
   ]
  },
  {
   "cell_type": "markdown",
   "metadata": {},
   "source": [
    "#### After splitiing into training and validation set we can deal with all missing values"
   ]
  },
  {
   "cell_type": "markdown",
   "metadata": {},
   "source": [
    "Acording to WCIO website codes that contains in the description word multiple are: 10, 20, 30, 40, 50, 90, 91. Thus, we decided to fill -9 those values with mode amonog codes that corresponds to multiple. We used mode to replace -9 becuase WCIO Part of Body Code is a categorical variable."
   ]
  },
  {
   "cell_type": "code",
   "execution_count": null,
   "metadata": {},
   "outputs": [],
   "source": [
    "# Define the valid codes for \"Multiple\"\n",
    "multiple_codes = [10, 20, 30, 40, 50, 90, 91]\n",
    "\n",
    "# Calculate the mode among the valid multiple codes\n",
    "mode_value = X_train[X_train[\"WCIO Part Of Body Code\"].isin(multiple_codes)][\"WCIO Part Of Body Code\"].mode()[0]\n",
    "\n",
    "# Replace only -9 values with the mode, leaving other NaN values unchanged\n",
    "X_train[\"WCIO Part Of Body Code\"] = X_train[\"WCIO Part Of Body Code\"].replace(-9, mode_value)\n",
    "\n",
    "test_data[\"WCIO Part Of Body Code\"] = test_data[\"WCIO Part Of Body Code\"].replace(-9, mode_value)\n",
    "\n",
    "X_val[\"WCIO Part Of Body Code\"] = X_val[\"WCIO Part Of Body Code\"].replace(-9, mode_value)\n",
    "\n",
    "\n",
    "print(X_train[\"WCIO Part Of Body Code\"].value_counts(dropna=False))"
   ]
  },
  {
   "cell_type": "markdown",
   "metadata": {},
   "source": [
    "Checking the percentage of misssing values after deleting WCIO rows"
   ]
  },
  {
   "cell_type": "markdown",
   "metadata": {},
   "source": [
    "##### Dealing with remaning missing values"
   ]
  },
  {
   "cell_type": "markdown",
   "metadata": {},
   "source": [
    "1. There is a chance that ***Birth Year*** is correlated with Age at the Injury, so we do not take care of missing values for now."
   ]
  },
  {
   "cell_type": "code",
   "execution_count": 52,
   "metadata": {},
   "outputs": [],
   "source": [
    "median_birth_year = X_train[\"Birth Year\"].median()\n",
    "X_train[\"Birth Year\"].fillna(median_birth_year, inplace=True)\n",
    "\n",
    "X_val[\"Birth Year\"].fillna(median_birth_year, inplace=True)\n",
    "test_data[\"Birth Year\"].fillna(median_birth_year, inplace=True)"
   ]
  },
  {
   "cell_type": "markdown",
   "metadata": {},
   "source": [
    "2. All missing values in the variable ***Average Weekly Wage*** are replaced by using median (it is a continous variable)"
   ]
  },
  {
   "cell_type": "code",
   "execution_count": 53,
   "metadata": {},
   "outputs": [],
   "source": [
    "median_wage = X_train[\"Average Weekly Wage\"].median()\n",
    "X_train[\"Average Weekly Wage\"].fillna(median_wage, inplace=True)\n",
    "\n",
    "X_val[\"Average Weekly Wage\"].fillna(median_wage, inplace=True)\n",
    "test_data[\"Average Weekly Wage\"].fillna(median_wage, inplace=True)\n"
   ]
  },
  {
   "cell_type": "markdown",
   "metadata": {},
   "source": [
    "3. Replacing missing values in variable Age at Injury with mean (That variable is almost normal distributed)"
   ]
  },
  {
   "cell_type": "code",
   "execution_count": 54,
   "metadata": {},
   "outputs": [],
   "source": [
    "mean_age = int(X_train[\"Age at Injury\"].mean())\n",
    "\n",
    "X_train[\"Age at Injury\"].fillna(mean_age, inplace=True)\n",
    "\n",
    "X_val[\"Age at Injury\"].fillna(mean_age, inplace=True)\n",
    "\n",
    "test_data[\"Age at Injury\"].fillna(mean_age, inplace=True)"
   ]
  },
  {
   "cell_type": "markdown",
   "metadata": {},
   "source": [
    "4. Replacing missing values in ***zip_code_cat*** with mode - categorical variable"
   ]
  },
  {
   "cell_type": "code",
   "execution_count": null,
   "metadata": {},
   "outputs": [],
   "source": [
    "mode_value = X_train['zip_code_cat'].mode()[0]  \n",
    "\n",
    "# Replace NaN values in 'zip_code_cat' with the mode\n",
    "X_train['zip_code_cat'].fillna(mode_value, inplace=True)\n",
    "X_val['zip_code_cat'].fillna(mode_value, inplace=True)\n",
    "test_data['zip_code_cat'].fillna(mode_value, inplace=True)\n",
    "\n",
    "# Display the updated DataFrame and the distribution of the new category\n",
    "X_train['zip_code_cat'].value_counts(dropna=False)  # Include NaN if still any "
   ]
  },
  {
   "cell_type": "markdown",
   "metadata": {},
   "source": [
    "5. Variables that has less than 1% of with missing values"
   ]
  },
  {
   "cell_type": "code",
   "execution_count": 56,
   "metadata": {},
   "outputs": [],
   "source": [
    "# List of categorical columns that missing values should be replaced with mode\n",
    "mode_variables = [\n",
    "    'Medical Fee Region',\n",
    "    'zip_code_cat',\n",
    "    'WCIO Part Of Body Code',\n",
    "    #'WCIO Part Of Body Description',\n",
    "    'WCIO Nature of Injury Code',\n",
    "    #'WCIO Nature of Injury Description',\n",
    "    #'WCIO Cause of Injury Description',\n",
    "    'WCIO Cause of Injury Code',\n",
    "    'C-2 Date',\n",
    "    'Industry Code',\n",
    "    #'Industry Code Description',\n",
    "    'Gender',\n",
    "    'Accident Date',\n",
    "    'Carrier Type',\n",
    "    'County of Injury'\n",
    "]"
   ]
  },
  {
   "cell_type": "code",
   "execution_count": 57,
   "metadata": {},
   "outputs": [],
   "source": [
    "# C-2 Date' and Accident Date those missing values could be treated a bit better, there is a possibility that "
   ]
  },
  {
   "cell_type": "code",
   "execution_count": 58,
   "metadata": {},
   "outputs": [],
   "source": [
    "for column in mode_variables:\n",
    "    mode_value = X_train[column].mode()\n",
    "    if not mode_value.empty:\n",
    "        X_train[column] = X_train[column].fillna(mode_value[0])\n",
    "        X_val[column] = X_val[column].fillna(mode_value[0])  \n",
    "        test_data[column] = test_data[column].fillna(mode_value[0])"
   ]
  },
  {
   "cell_type": "code",
   "execution_count": null,
   "metadata": {},
   "outputs": [],
   "source": [
    "X_train[\"Days Between Accident_Assembly\"] = (X_train['Assembly Date'] - X_train['Accident Date']).dt.days\n",
    "negative_count = (X_train[\"Days Between Accident_Assembly\"] < 0).sum()\n",
    "\n",
    "print(\"Number of rows with negative values in 'Days Between Accident_Assembly':\", negative_count)\n"
   ]
  },
  {
   "cell_type": "code",
   "execution_count": null,
   "metadata": {},
   "outputs": [],
   "source": [
    "X_val[\"Days Between Accident_Assembly\"] = (X_val['Assembly Date'] - X_val['Accident Date']).dt.days\n",
    "negative_count = (X_val[\"Days Between Accident_Assembly\"] < 0).sum()\n",
    "\n",
    "print(\"Number of rows with negative values in 'Days Between Accident_Assembly' in validation set:\", negative_count)\n"
   ]
  },
  {
   "cell_type": "code",
   "execution_count": null,
   "metadata": {},
   "outputs": [],
   "source": [
    "X_train[\"Days Between Accident_C2\"] = (X_train['C-2 Date'] - X_train['Accident Date']).dt.days\n",
    "negative_count = (X_train[\"Days Between Accident_C2\"] < 0).sum()\n",
    "\n",
    "print(\"Number of rows with negative values in 'Days Between Accident_C2' in train set:\", negative_count)"
   ]
  },
  {
   "cell_type": "code",
   "execution_count": null,
   "metadata": {},
   "outputs": [],
   "source": [
    "X_val[\"Days Between Accident_C2\"] = (X_val['C-2 Date'] - X_val['Accident Date']).dt.days\n",
    "negative_count = (X_val[\"Days Between Accident_C2\"] < 0).sum()\n",
    "\n",
    "print(\"Number of rows with negative values in 'Days Between Accident_C2' in validation set:\", negative_count)"
   ]
  },
  {
   "cell_type": "code",
   "execution_count": null,
   "metadata": {},
   "outputs": [],
   "source": [
    "X_train.isna().sum().sort_values(ascending=False)"
   ]
  },
  {
   "cell_type": "code",
   "execution_count": null,
   "metadata": {},
   "outputs": [],
   "source": [
    "X_val.isna().sum().sort_values(ascending=False)"
   ]
  },
  {
   "cell_type": "code",
   "execution_count": null,
   "metadata": {},
   "outputs": [],
   "source": [
    "test_data.isna().sum().sort_values(ascending=False)"
   ]
  },
  {
   "cell_type": "markdown",
   "metadata": {},
   "source": [
    "## Outliers"
   ]
  },
  {
   "cell_type": "markdown",
   "metadata": {},
   "source": [
    "Let's start by plotting some box plots to see the behaviour of the dataset on the metric features"
   ]
  },
  {
   "cell_type": "code",
   "execution_count": null,
   "metadata": {},
   "outputs": [],
   "source": [
    "print(metric_features)"
   ]
  },
  {
   "cell_type": "code",
   "execution_count": null,
   "metadata": {},
   "outputs": [],
   "source": [
    "# Plot ALL Numeric Variables' Histograms in one figure\n",
    "\n",
    "sp_rows = 2\n",
    "sp_cols = ceil(len(metric_features) / sp_rows)\n",
    "\n",
    "\n",
    "# Create individual axes where each histogram will be placed\n",
    "fig, axes = plt.subplots(sp_rows, \n",
    "                         sp_cols, \n",
    "                         figsize=(10, 6),\n",
    "                         tight_layout=True\n",
    "                        )\n",
    "\n",
    "# Plot data\n",
    "# Iterate across axes objects and associate each histogram:\n",
    "for ax, feat in zip(axes.flatten(), metric_features): # Notice the zip() function and flatten() method\n",
    "    sns.boxplot(x=X_train[feat], ax=ax)\n",
    "    \n",
    "# Add a centered title to the figure:\n",
    "title = \"Numeric Variables' Box Plots\"\n",
    "\n",
    "plt.suptitle(title)\n",
    "\n",
    "if not os.path.exists(os.path.join('..', 'figures', 'eda')):\n",
    "    # if the eda directory is not present then create it first\n",
    "    os.makedirs(os.path.join('..', 'figures', 'eda'))\n",
    "\n",
    "\n",
    "plt.savefig(os.path.join('..', 'figures', 'eda', 'numeric_variables_boxplots.png'), dpi=200)\n",
    "\n",
    "\n",
    "plt.show()"
   ]
  },
  {
   "cell_type": "code",
   "execution_count": null,
   "metadata": {},
   "outputs": [],
   "source": [
    "#Plotting the numeric variables' box plot all in one figure\n",
    "fig, axes = plt.subplots(2, 2, figsize=(10, 6))\n",
    "fig.suptitle(\"Numeric Variables' Box Plots\", fontsize=16)\n",
    "\n",
    "# Adjust the spacing between subplots\n",
    "plt.subplots_adjust(wspace=0.4, hspace=0.4)\n",
    "\n",
    "# Define colors for each plot\n",
    "colors = sns.color_palette(\"pastel\")\n",
    "\n",
    "# Creating box plots with improvements\n",
    "sns.boxplot(data=X_train, x='Age at Injury', ax=axes[0, 0], color=colors[0])\n",
    "sns.boxplot(data=X_train, x='Average Weekly Wage', ax=axes[0, 1], color=colors[1])             # Log scale example\n",
    "sns.boxplot(data=X_train, x='Birth Year', ax=axes[1, 0], color=colors[2])\n",
    "sns.boxplot(data=X_train, x='Number of Dependents', ax=axes[1, 1], color=colors[4])\n",
    "\n",
    "# Rotate x-axis labels if needed\n",
    "for ax in axes.flat:\n",
    "    ax.set_xlabel(ax.get_xlabel(), fontsize=12)\n",
    "\n",
    "plt.show()"
   ]
  },
  {
   "cell_type": "markdown",
   "metadata": {},
   "source": [
    "### Outlier Removal"
   ]
  },
  {
   "cell_type": "code",
   "execution_count": null,
   "metadata": {},
   "outputs": [],
   "source": [
    "#Start by computing the interquartile range\n",
    "q1 = train_data[metric_features].quantile(0.25)\n",
    "q3 = train_data[metric_features].quantile(0.75)\n",
    "iqr = q3 - q1\n",
    "\n",
    "#Now we are going to compute the limits:\n",
    "lower_lim = q1 - (1.5 * iqr)\n",
    "upper_lim = q3 + (1.5 * iqr)\n",
    "\n",
    "for feature in metric_features:\n",
    "    print(f\"{feature:<25}  Lower Limit: {lower_lim[feature]:>10}      Upper Limit: {upper_lim[feature]:>10}\")"
   ]
  },
  {
   "cell_type": "markdown",
   "metadata": {},
   "source": [
    "Let's detect 'obvious' outliers, those where every characteristic in outside the interquartile range"
   ]
  },
  {
   "cell_type": "code",
   "execution_count": null,
   "metadata": {},
   "outputs": [],
   "source": [
    "def identify_outliers(train_data, metric_features, lower_lim, upper_lim):\n",
    "    outliers = {}\n",
    "    obvious_outliers = []\n",
    "\n",
    "    for metric in metric_features:\n",
    "        if metric not in train_data.columns:\n",
    "            continue\n",
    "        \n",
    "        if metric not in lower_lim or metric not in upper_lim:\n",
    "            continue\n",
    "        \n",
    "        outliers[metric] = []\n",
    "        llim = lower_lim[metric]\n",
    "        ulim = upper_lim[metric]\n",
    "        \n",
    "        for i, value in enumerate(train_data[metric]):\n",
    "            if pd.isna(value):\n",
    "                continue\n",
    "            \n",
    "            if value < llim or value > ulim:\n",
    "                outliers[metric].append(value)\n",
    "        \n",
    "        print(f\"Total outliers in {metric}: {len(outliers[metric])}\")\n",
    "\n",
    "    # Check for observations that are outliers in all features (Obvious Outliers)\n",
    "    for index, row in train_data.iterrows():\n",
    "        is_global_outlier = True\n",
    "        for metric in metric_features:\n",
    "            if metric not in train_data.columns or metric not in lower_lim or metric not in upper_lim:\n",
    "                is_global_outlier = False\n",
    "                break\n",
    "            \n",
    "            value = row[metric]\n",
    "            if pd.isna(value):\n",
    "                is_global_outlier = False\n",
    "                break\n",
    "            \n",
    "            llim = lower_lim[metric]\n",
    "            ulim = upper_lim[metric]\n",
    "            \n",
    "            if llim <= value <= ulim:\n",
    "                is_global_outlier = False\n",
    "                break\n",
    "        \n",
    "        if is_global_outlier:\n",
    "            obvious_outliers.append(index)\n",
    "    print(\"-----------------------------\")\n",
    "    print(f\"Total global outliers: {len(obvious_outliers)}\")\n",
    "    return outliers, obvious_outliers\n",
    "    \n",
    "    \n",
    "outliers, obvious_outliers = identify_outliers(X_train, metric_features, lower_lim, upper_lim)"
   ]
  },
  {
   "cell_type": "markdown",
   "metadata": {},
   "source": [
    "As we could see, there is no observation that has every characteristic outside the interquartile range, since there is no outlier in 'Number of Dependents'.\n",
    "But let's try this program again but without that feature, to see if there is any observation only with outliers, except on this feature!"
   ]
  },
  {
   "cell_type": "code",
   "execution_count": 71,
   "metadata": {},
   "outputs": [],
   "source": [
    "metric_features_test =[\"Age at Injury\", \"Average Weekly Wage\", \"Birth Year\"]"
   ]
  },
  {
   "cell_type": "code",
   "execution_count": null,
   "metadata": {},
   "outputs": [],
   "source": [
    "outliers, obvious_outliers = identify_outliers(X_train, metric_features_test, lower_lim, upper_lim)"
   ]
  },
  {
   "cell_type": "markdown",
   "metadata": {},
   "source": [
    "So, we conclude that there aren't any obvious outliers"
   ]
  },
  {
   "cell_type": "markdown",
   "metadata": {},
   "source": [
    "Now let's create a filter that will verify if an observation has every characteristic in the Interquartile Range or not "
   ]
  },
  {
   "cell_type": "code",
   "execution_count": 73,
   "metadata": {},
   "outputs": [],
   "source": [
    "filters_iqr = []                                            \n",
    "for metric in metric_features:\n",
    "    llim = lower_lim[metric]\n",
    "    ulim = upper_lim[metric]\n",
    "    filters_iqr.append(X_train[metric].between(llim, ulim, inclusive='neither'))\n",
    "\n",
    "filters_iqr_all = pd.concat(filters_iqr, axis=1).all(axis=1)"
   ]
  },
  {
   "cell_type": "code",
   "execution_count": null,
   "metadata": {},
   "outputs": [],
   "source": [
    "filters_iqr"
   ]
  },
  {
   "cell_type": "code",
   "execution_count": null,
   "metadata": {},
   "outputs": [],
   "source": [
    "filters_iqr_all  "
   ]
  },
  {
   "cell_type": "code",
   "execution_count": null,
   "metadata": {},
   "outputs": [],
   "source": [
    "len(X_train[X_train[filters_iqr_all] == 'False'])      #These are the features that have at least one of its characteristics considered as an outlier (out of the IQR)"
   ]
  },
  {
   "cell_type": "code",
   "execution_count": null,
   "metadata": {},
   "outputs": [],
   "source": [
    "X_train_iqr = X_train[filters_iqr_all]\n",
    "print('Percentage of data kept after removing outliers:', 100*(np.round(X_train_iqr.shape[0] / X_train.shape[0], decimals=2)))"
   ]
  },
  {
   "cell_type": "markdown",
   "metadata": {},
   "source": [
    "Just to be sure about the outliers, let's try another method:"
   ]
  },
  {
   "cell_type": "markdown",
   "metadata": {},
   "source": [
    "### **Manual Outlier Removal** "
   ]
  },
  {
   "attachments": {
    "image.png": {
     "image/png": "[encoded data removed]"
    }
   },
   "cell_type": "markdown",
   "metadata": {},
   "source": [
    "![image.png](attachment:image.png)"
   ]
  },
  {
   "cell_type": "code",
   "execution_count": 78,
   "metadata": {},
   "outputs": [],
   "source": [
    "filters_manual1 = (\n",
    "                (X_train[\"Age at Injury\"] <= 100)\n",
    "                &\n",
    "                (X_train[\"Average Weekly Wage\"] <= 0.3*1e6)\n",
    "                &\n",
    "                (X_train[\"Birth Year\"] >= 1950)                            \n",
    "                #&\n",
    "                #(X_train[\"Number of Dependents\"])                        #There are no outliers here, so I think there is no manual restriction to make\n",
    ")\n",
    "X_train_out_man = X_train[filters_manual1]"
   ]
  },
  {
   "cell_type": "code",
   "execution_count": null,
   "metadata": {},
   "outputs": [],
   "source": [
    "print('Percentage of data kept after removing outliers:', 100*(np.round(X_train_out_man.shape[0] / X_train.shape[0], decimals=5)))"
   ]
  },
  {
   "cell_type": "code",
   "execution_count": null,
   "metadata": {},
   "outputs": [],
   "source": [
    "X_train_out = X_train[(filters_iqr_all | filters_manual1)]            #Only if the 2 filter says that the observation are outliers we remove!\n",
    "\n",
    "\n",
    "print('Percentage of data kept after removing outliers:', 100*np.round(X_train_out.shape[0] / X_train.shape[0], 4))"
   ]
  },
  {
   "cell_type": "markdown",
   "metadata": {},
   "source": [
    "## 3. Data Transformation  Encoding and Scaling "
   ]
  },
  {
   "cell_type": "code",
   "execution_count": 81,
   "metadata": {},
   "outputs": [],
   "source": [
    "age_ranges = [\"0-9\", \"10-19\", \"20-29\", \"30-39\", \"40-49\", \"50-59\", \"60-69\", \"70-79\", \"80-89\", \"90-99\", \"100+\"]\n",
    "\n",
    "def determine_age_range(age):\n",
    "    if age < 10:\n",
    "        return age_ranges[0]\n",
    "    elif age < 20:\n",
    "        return age_ranges[1]\n",
    "    elif age < 30:\n",
    "        return age_ranges[2]\n",
    "    elif age < 40:\n",
    "        return age_ranges[3]\n",
    "    elif age < 50:\n",
    "        return age_ranges[4]\n",
    "    elif age < 60:\n",
    "        return age_ranges[5]\n",
    "    elif age < 70:\n",
    "        return age_ranges[6]\n",
    "    elif age < 80:\n",
    "        return age_ranges[7]\n",
    "    elif age < 90:\n",
    "        return age_ranges[8]\n",
    "    elif age < 100:\n",
    "        return age_ranges[9]\n",
    "    else:\n",
    "        return age_ranges[10] \n",
    "    \n",
    "to_be_dropped = ['Age at Injury', 'C-2 Date', 'Birth Year', 'Accident Date', 'Assembly Date']\n",
    "    \n",
    "X_train[\"Age at Injury Range\"] = X_train[\"Age at Injury\"].map(determine_age_range)\n",
    "X_val[\"Age at Injury Range\"] = X_val[\"Age at Injury\"].map(determine_age_range)\n",
    "\n",
    "X_train.drop(to_be_dropped, axis=1, inplace=True)\n",
    "X_val.drop(to_be_dropped, axis=1, inplace=True)\n"
   ]
  },
  {
   "cell_type": "code",
   "execution_count": 65,
   "metadata": {},
   "outputs": [],
   "source": [
    "# e.g changing into binary vairables etc"
   ]
  },
  {
   "cell_type": "code",
   "execution_count": null,
   "metadata": {},
   "outputs": [],
   "source": []
  },
  {
   "cell_type": "code",
   "execution_count": null,
   "metadata": {},
   "outputs": [],
   "source": [
    "train_data.info()"
   ]
  },
  {
   "cell_type": "markdown",
   "metadata": {},
   "source": [
    "# 4. Correlations and multivariate analysis - Victoria"
   ]
  },
  {
   "cell_type": "code",
   "execution_count": null,
   "metadata": {},
   "outputs": [],
   "source": [
    "fig = plt.figure(figsize=(10, 8))\n",
    "\n",
    "# Use spearman correlation \n",
    "corr = train_data[metric_features].corr(method=\"spearman\").round(3)\n",
    "\n",
    "# Plot heatmap\n",
    "sns.heatmap(data=corr, annot=True, \n",
    "            # fmt='s',\n",
    "            vmin=-1, vmax=1, center=0,\n",
    "            square=True, linewidths=.5,\n",
    "            cmap='PiYG')\n",
    "plt.show()"
   ]
  },
  {
   "cell_type": "markdown",
   "metadata": {},
   "source": [
    "\"Birth Year\" and \"Age at Injury\" are highly negatively correlated. Can be dropped. All other metric variables seem independent from each other."
   ]
  },
  {
   "cell_type": "code",
   "execution_count": 68,
   "metadata": {},
   "outputs": [],
   "source": [
    "# probably remove Birth Year here?"
   ]
  },
  {
   "cell_type": "markdown",
   "metadata": {},
   "source": [
    "From a logical point of view, having an attorney/representative when a hearing has been required should prove to have better results than when one isn't present. In the below heat map, the cross tabular of the two variables, \"Attorney/Representative\" and \"First Hearing Date Binary\", are shown."
   ]
  },
  {
   "cell_type": "code",
   "execution_count": null,
   "metadata": {},
   "outputs": [],
   "source": [
    "# Test cross tabular \n",
    "cross = pd.crosstab(train_data[\"Attorney/Representative\"], train_data['First Hearing Date Binary'], normalize=True).round(2)\n",
    "\n",
    "fig = plt.figure(figsize=(10, 8))\n",
    "sns.heatmap(data=cross, annot=True, \n",
    "            vmin=0, vmax=1, center=0,\n",
    "            square=True, linewidths=.5,\n",
    "            cmap='PiYG')\n",
    "plt.show()"
   ]
  },
  {
   "cell_type": "markdown",
   "metadata": {},
   "source": [
    "Only 5% of folks who had a \"First Hearing Date\" did NOT have an attorney and 9% had an attorney but no hearing date. These situations are a little unusual but not strange. Not having an attorney when there is no hearing date is expected."
   ]
  },
  {
   "cell_type": "markdown",
   "metadata": {},
   "source": [
    "Looking at the below, the distribution of \"Claim Injury Types\" is quite even throughout, whereas the distribution for when data for the \"First Hearing Date\" wasn't available. \"Non-Comp\" seems to be the predominate value."
   ]
  },
  {
   "cell_type": "code",
   "execution_count": null,
   "metadata": {},
   "outputs": [],
   "source": [
    "catpc_df = train_data.groupby([\"First Hearing Date Binary\", \"Claim Injury Type\"])[\"Claim Injury Type\"].size().unstack()\n",
    "catpc_df.plot.bar(stacked=True)\n",
    "plt.show()"
   ]
  },
  {
   "cell_type": "markdown",
   "metadata": {},
   "source": [
    "Examining the below histogram for when an attonrey/representative is present or not, for when an attonrey/representative isn't present, the values seem more imbalanced with supports the initial hypothesis that if an attorney is involved, the claim injury being compensated is less likely."
   ]
  },
  {
   "cell_type": "code",
   "execution_count": null,
   "metadata": {},
   "outputs": [],
   "source": [
    "cat_df = train_data.groupby([\"Attorney/Representative\", \"Claim Injury Type\"])[\"Claim Injury Type\"].size().unstack()\n",
    "cat_df.plot.bar(stacked=True)\n",
    "plt.show()"
   ]
  },
  {
   "cell_type": "markdown",
   "metadata": {},
   "source": [
    "Compare \"Attorney/Representative\" vs \"First Hearing Date Binary\" for when there is no attorney and there is no first hearing date. The wide imbalance shows that this could be a particular variable relationship that could help with deciding Claim Injury Type."
   ]
  },
  {
   "cell_type": "code",
   "execution_count": null,
   "metadata": {},
   "outputs": [],
   "source": [
    "attorney_data = train_data[ (train_data[\"Attorney/Representative\"] == \"N\")]\n",
    "cat_df = attorney_data.groupby([\"First Hearing Date Binary\", \"Claim Injury Type\"])[\"Claim Injury Type\"].size().unstack()\n",
    "cat_df.plot.bar(stacked=True)\n",
    "plt.title(\"First Hearing Date Distribution when No Attorney is Present\")\n",
    "plt.show()"
   ]
  },
  {
   "cell_type": "markdown",
   "metadata": {},
   "source": [
    "Compare \"Attorney/Representative\" vs \"First Hearing Date Binary\" for when there is an attorney. Compared to the last histogram, this one's values are more balanced. This further concludes that the presence of an attorney helps with the distribution of Claim injury Type."
   ]
  },
  {
   "cell_type": "code",
   "execution_count": null,
   "metadata": {},
   "outputs": [],
   "source": [
    "attorney_data = train_data[ (train_data[\"Attorney/Representative\"] == \"Y\")]\n",
    "cat_df = attorney_data.groupby([\"First Hearing Date Binary\", \"Claim Injury Type\"])[\"Claim Injury Type\"].size().unstack()\n",
    "cat_df.plot.bar(stacked=True)\n",
    "plt.title(\"First Hearing Date Distribution when an Attorney is Present\")\n",
    "plt.show()"
   ]
  },
  {
   "cell_type": "markdown",
   "metadata": {},
   "source": [
    "If an attorney isn't needed, the \"Alternative Distribution Resolution\" could play a part in deciding the Claim Injury Type. Let's examine the dsitribution of \"Claim Injury Type\" and \"Alternative Dispute Resolution\"."
   ]
  },
  {
   "cell_type": "code",
   "execution_count": null,
   "metadata": {},
   "outputs": [],
   "source": [
    "cat_df = train_data.groupby([\"Alternative Dispute Resolution\", \"Claim Injury Type\"])[\"Claim Injury Type\"].size().unstack()\n",
    "cat_df.plot.bar(stacked=True)\n",
    "plt.show()"
   ]
  },
  {
   "cell_type": "markdown",
   "metadata": {},
   "source": [
    "There are barely any instances where Alternative Distribution is \"Y\"."
   ]
  },
  {
   "cell_type": "code",
   "execution_count": null,
   "metadata": {},
   "outputs": [],
   "source": [
    "train_data.groupby(\"Alternative Dispute Resolution\")[\"Alternative Dispute Resolution\"].value_counts()"
   ]
  },
  {
   "cell_type": "markdown",
   "metadata": {},
   "source": [
    "With there being only 34 values where the resolution is \"Y\", the possibility that it helped with desicions is low. <br/> <br/>\n",
    "Whereas the distribution for Attorney/Representative is much higher (as seen below). "
   ]
  },
  {
   "cell_type": "code",
   "execution_count": null,
   "metadata": {},
   "outputs": [],
   "source": [
    "train_data.groupby(\"Attorney/Representative\")[\"Attorney/Representative\"].value_counts()"
   ]
  },
  {
   "cell_type": "code",
   "execution_count": null,
   "metadata": {},
   "outputs": [],
   "source": [
    "cat_df = train_data.groupby([\"Medical Fee Region\", \"Claim Injury Type\"])[\"Claim Injury Type\"].size().unstack()\n",
    "cat_df.plot.bar(stacked=True)\n",
    "plt.show()"
   ]
  },
  {
   "cell_type": "code",
   "execution_count": null,
   "metadata": {},
   "outputs": [],
   "source": [
    "cat_df = train_data.groupby([\"Carrier Type\", \"Claim Injury Type\"])[\"Claim Injury Type\"].size().unstack()\n",
    "cat_df.plot.bar(stacked=True)\n",
    "plt.show()"
   ]
  },
  {
   "cell_type": "code",
   "execution_count": null,
   "metadata": {},
   "outputs": [],
   "source": [
    "cross = pd.crosstab(train_data[\"Medical Fee Region\"], train_data['Carrier Type'], normalize=True).round(2)\n",
    "\n",
    "fig = plt.figure(figsize=(10, 8))\n",
    "sns.heatmap(data=cross, annot=True, \n",
    "            vmin=0, vmax=1, center=0,\n",
    "            square=True, linewidths=.5,\n",
    "            cmap='PiYG')\n",
    "plt.show()"
   ]
  },
  {
   "cell_type": "code",
   "execution_count": null,
   "metadata": {},
   "outputs": [],
   "source": [
    "cat_df = train_data.groupby([\"Age at Injury\", \"Claim Injury Type\"])[\"Claim Injury Type\"].size().unstack()\n",
    "cat_df.plot.bar(stacked=True)\n",
    "plt.show()"
   ]
  },
  {
   "cell_type": "markdown",
   "metadata": {},
   "source": [
    "There seems to be an even distribution between claim injury types and gender. (Probably won't play much of a role in deciding claim type)"
   ]
  },
  {
   "cell_type": "code",
   "execution_count": null,
   "metadata": {},
   "outputs": [],
   "source": [
    "cat_df = train_data.groupby([\"Gender\", \"Claim Injury Type\"])[\"Claim Injury Type\"].size().unstack()\n",
    "cat_df.plot.bar(stacked=True)\n",
    "plt.show()"
   ]
  },
  {
   "cell_type": "markdown",
   "metadata": {},
   "source": [
    "Predominatley male dataset - most likely due to the nature of work."
   ]
  },
  {
   "cell_type": "code",
   "execution_count": null,
   "metadata": {},
   "outputs": [],
   "source": [
    "# needs outlier fixes\n",
    "catpc_df = train_data.groupby([\"Age at Injury\", 'Gender'])['Gender'].size().unstack()\n",
    "catpc_df.plot.bar(stacked=True)\n",
    "plt.show()"
   ]
  },
  {
   "cell_type": "markdown",
   "metadata": {},
   "source": [
    "Predomintantly using zip codes based in category 1. This includes NY, Delaware, and Pennsylvania. Given that the organization is for the state of New York, it makes sense that a majority of the variables will be based in the zipcode category that New York belongs to. Using District Name will be more useful. This is potentially ground to remove the zipcode columns."
   ]
  },
  {
   "cell_type": "code",
   "execution_count": null,
   "metadata": {},
   "outputs": [],
   "source": [
    "cat_df = train_data.groupby(['zip_code_cat', \"Claim Injury Type\"])[\"Claim Injury Type\"].size().unstack()\n",
    "cat_df.plot.bar(stacked=True)\n",
    "plt.show()"
   ]
  },
  {
   "cell_type": "code",
   "execution_count": null,
   "metadata": {},
   "outputs": [],
   "source": [
    "cat_df = train_data.groupby(['District Name', \"Claim Injury Type\"])[\"Claim Injury Type\"].size().unstack()\n",
    "cat_df.plot.bar(stacked=True)\n",
    "plt.show()"
   ]
  },
  {
   "cell_type": "markdown",
   "metadata": {},
   "source": [
    "The percentage of \"Non-comp\" injury types in NYC is well above the rest of the districts. Potentially high ocurances of fraud in big cities?"
   ]
  },
  {
   "cell_type": "code",
   "execution_count": null,
   "metadata": {},
   "outputs": [],
   "source": [
    "cross = pd.crosstab(train_data[\"District Name\"], train_data['Claim Injury Type'], normalize=True).round(2)\n",
    "\n",
    "fig = plt.figure(figsize=(10, 8))\n",
    "sns.heatmap(data=cross, annot=True, \n",
    "            vmin=0, vmax=1, center=0,\n",
    "            square=True, linewidths=.5,\n",
    "            cmap='PiYG')\n",
    "plt.show()"
   ]
  },
  {
   "cell_type": "code",
   "execution_count": null,
   "metadata": {},
   "outputs": [],
   "source": [
    "# needs outlier fixes\n",
    "sns.set_style('ticks')\n",
    "fig, ax = plt.subplots()\n",
    "hb = ax.hexbin(train_data[\"Age at Injury\"], train_data[\"Average Weekly Wage\"], gridsize=20)\n",
    "ax.set_title(\"Hexagon binning for age and income\")\n",
    "cb = fig.colorbar(hb, ax=ax, label='counts')\n",
    "plt.show()"
   ]
  },
  {
   "cell_type": "code",
   "execution_count": null,
   "metadata": {},
   "outputs": [],
   "source": [
    "cat_df = train_data.groupby(['COVID-19 Indicator', \"Claim Injury Type\"])[\"Claim Injury Type\"].size().unstack()\n",
    "cat_df.plot.bar(stacked=True)\n",
    "plt.show()"
   ]
  },
  {
   "cell_type": "markdown",
   "metadata": {},
   "source": [
    "Taking a closer look at when the COVID Indicator is \"Y\". <br/>\n",
    "<br/>\n",
    "It seems whenever covid is present, the chance that it will be marked as \"Non-comp\" is higher."
   ]
  },
  {
   "cell_type": "code",
   "execution_count": null,
   "metadata": {},
   "outputs": [],
   "source": [
    "covid_data = train_data[ train_data[\"COVID-19 Indicator\"] == \"Y\"]\n",
    "cat_df = covid_data.groupby(['COVID-19 Indicator', \"Claim Injury Type\"])[\"Claim Injury Type\"].size().unstack()\n",
    "cat_df.plot.bar(stacked=True)\n",
    "plt.title(\"Claim Injry Distribution when COVID-19 is marked\")\n",
    "plt.show()"
   ]
  },
  {
   "cell_type": "markdown",
   "metadata": {},
   "source": [
    "The distribution of claim types on the number dependants is distributed evenly implying number of dependents have no weight on the claim injury type."
   ]
  },
  {
   "cell_type": "code",
   "execution_count": null,
   "metadata": {},
   "outputs": [],
   "source": [
    "cat_df = train_data.groupby([\"Number of Dependents\", \"Claim Injury Type\"])[\"Claim Injury Type\"].size().unstack()\n",
    "cat_df.plot.bar(stacked=True)\n",
    "plt.show()"
   ]
  },
  {
   "cell_type": "code",
   "execution_count": null,
   "metadata": {},
   "outputs": [],
   "source": [
    "cat_df = train_data.groupby([\"WCIO Nature of Injury Code\", \"Claim Injury Type\"])[\"Claim Injury Type\"].size().unstack()\n",
    "cat_df.plot.bar(stacked=True)\n",
    "plt.show()"
   ]
  },
  {
   "cell_type": "code",
   "execution_count": null,
   "metadata": {},
   "outputs": [],
   "source": [
    "cat_df = train_data.groupby([\"WCIO Part Of Body Code\", \"Claim Injury Type\"])[\"Claim Injury Type\"].size().unstack()\n",
    "cat_df.plot.bar(stacked=True)\n",
    "plt.show()"
   ]
  },
  {
   "cell_type": "code",
   "execution_count": null,
   "metadata": {},
   "outputs": [],
   "source": [
    "cat_df = train_data.groupby([\"WCIO Cause of Injury Code\", \"Claim Injury Type\"])[\"Claim Injury Type\"].size().unstack()\n",
    "cat_df.plot.bar(stacked=True)\n",
    "plt.show()"
   ]
  },
  {
   "cell_type": "code",
   "execution_count": null,
   "metadata": {},
   "outputs": [],
   "source": [
    "train_data.nunique()"
   ]
  },
  {
   "cell_type": "code",
   "execution_count": null,
   "metadata": {},
   "outputs": [],
   "source": [
    "# List of categorical variables to plot\n",
    "independent_var = ['Age at Injury','Alternative Dispute Resolution',\n",
    "       'Attorney/Representative', \n",
    "       'Birth Year', 'Carrier Type', \n",
    "       'County of Injury', 'COVID-19 Indicator', 'District Name', 'Gender',\n",
    "       'Industry Code', 'Medical Fee Region', 'WCIO Cause of Injury Code',\n",
    "       'WCIO Nature of Injury Code', 'WCIO Part Of Body Code',\n",
    "       'Agreement Reached', 'Number of Dependents', 'zip_code_cat',\n",
    "       'First Hearing Date Binary']\n",
    "# Add more variables to independent_var as needed\n",
    "\n",
    "# Target variable (for example purposes)\n",
    "target_variable = \"Claim Injury Type\"\n",
    "\n",
    "# Loop through each variable and plot a stacked bar chart\n",
    "for var in independent_var:\n",
    "    # Group by the current variable and target, then unstack to get counts in a DataFrame\n",
    "    catpc_df = train_data.groupby([var, target_variable])[target_variable].size().unstack()\n",
    "    \n",
    "    # Plot stacked bar chart\n",
    "    catpc_df.plot(kind='bar', stacked=True, figsize=(10, 6), colormap=\"tab20\")\n",
    "    \n",
    "    # Add title and labels\n",
    "    plt.title(f\"Stacked Bar Plot of {var} by {target_variable}\")\n",
    "    plt.xlabel(var)\n",
    "    plt.ylabel(\"Count\")\n",
    "    \n",
    "    # Display plot\n",
    "    plt.tight_layout()  # Adjust layout to fit titles and labels\n",
    "    plt.show()"
   ]
  },
  {
   "cell_type": "code",
   "execution_count": null,
   "metadata": {},
   "outputs": [],
   "source": [
    "train_data.info()"
   ]
  },
  {
   "cell_type": "code",
   "execution_count": null,
   "metadata": {},
   "outputs": [],
   "source": [
    "test_data.info()"
   ]
  },
  {
   "cell_type": "code",
   "execution_count": 89,
   "metadata": {},
   "outputs": [],
   "source": [
    "#### Convert birth year into age:"
   ]
  },
  {
   "cell_type": "code",
   "execution_count": 90,
   "metadata": {},
   "outputs": [],
   "source": [
    "train_data[\"Birth Year\"]= datetime.now().year - train_data[\"Birth Year\"]"
   ]
  },
  {
   "cell_type": "markdown",
   "metadata": {},
   "source": [
    "# 5. Feature Engineering - Marta"
   ]
  },
  {
   "cell_type": "code",
   "execution_count": null,
   "metadata": {},
   "outputs": [],
   "source": [
    "train_data[\"Days Between Accident_Assembly\"] = train_data['Assembly Date'] - train_data['Accident Date']\n",
    "print(f\"maximum days between assembly: {train_data['Days Between Accident_Assembly'].max()}\")\n",
    "print(f\"minimum days between assembly: {train_data['Days Between Accident_Assembly'].min()}\") \n",
    "# strange values assembly date < accident date?? \n",
    "# #same max & min as days between accident and C2."
   ]
  },
  {
   "cell_type": "code",
   "execution_count": null,
   "metadata": {},
   "outputs": [],
   "source": [
    "train_data[\"Days Between Accident_C2\"] = train_data['C-2 Date'] - train_data['Accident Date']\n",
    "print(f\"maximum days between assembly: {train_data['Days Between Accident_C2'].max()}\")\n",
    "print(f\"minimum days between assembly: {train_data['Days Between Accident_C2'].min()}\") \n",
    "# strange values C2 date < accident date?? \n",
    "# #same max & min as days between accident and C2."
   ]
  },
  {
   "cell_type": "markdown",
   "metadata": {},
   "source": [
    "#### Group descriptions by code: "
   ]
  },
  {
   "cell_type": "code",
   "execution_count": null,
   "metadata": {},
   "outputs": [],
   "source": [
    "group_by_industry = train_data.groupby(\"Industry Code\")[\"Industry Code Description\"].unique()\n",
    "group_by_industry\n",
    "\n",
    "# Different codes with same description"
   ]
  },
  {
   "cell_type": "code",
   "execution_count": null,
   "metadata": {},
   "outputs": [],
   "source": [
    "group_by_injury = train_data.groupby(\"WCIO Cause of Injury Code\")[\"WCIO Cause of Injury Description\"].unique()\n",
    "group_by_injury\n",
    "\n",
    "# Different codes with same description"
   ]
  },
  {
   "cell_type": "code",
   "execution_count": null,
   "metadata": {},
   "outputs": [],
   "source": [
    "group_by_body_part = train_data.groupby(\"WCIO Part Of Body Code\")[\"WCIO Part Of Body Description\"].unique()\n",
    "group_by_body_part\n",
    "\n",
    "# different codes with the same description"
   ]
  },
  {
   "cell_type": "markdown",
   "metadata": {},
   "source": [
    "## 5. Defining target variable"
   ]
  },
  {
   "cell_type": "code",
   "execution_count": 85,
   "metadata": {},
   "outputs": [],
   "source": [
    "x = train_data.drop('Claim Injury Type', axis = 1) # axis=1 means the operation must be done on columns\n",
    "y = train_data['Claim Injury Type'] "
   ]
  },
  {
   "cell_type": "code",
   "execution_count": 86,
   "metadata": {},
   "outputs": [],
   "source": [
    "### Define metric & non-metric features\n",
    "metric_features = [\"Age at Injury\", \"Average Weekly Wage\", \"Birth Year\", \"IME-4 Count\", \"Number_of_Dependents\", \"Days Between Accident_Assembly\", \"Days Between Accident_C2\", \n",
    "                   \"Days Between Accident_C3\", \"Days Between Accident_1st_Hearing\"]\n",
    "\n",
    "non_metric_features = [\"Industry Code\", \"WCIO Cause of Injury Code\", \"WCIO Nature of Injury Code\", \"WCIO Part Of Body Code\", \"Accident Date\", \"Alternative Dispute Resolution\",\n",
    "                       \"Assembly Date\", \"Attorney/Representative\", \"C-2 Date\", \"C-3 Date\", \"Carrier Name\", \"Carrier Type\", \"County of Injury\", \"COVID-19 Indicator\",\n",
    "                       \"District Name\", \"First Hearing Date\", \"Gender\", \"Industry Code Description\", \"Medical Fee Region\", \"WCIO Cause of Injury Description\", \n",
    "                       \"WCIO Nature of Injury Description\", \"WCIO Part Of Body Description\", \"Zip Code\", \"Agreement Reached\", \"WCB Decision\"]\n",
    "\n"
   ]
  }
 ],
 "metadata": {
  "kernelspec": {
   "display_name": "Python 3",
   "language": "python",
   "name": "python3"
  },
  "language_info": {
   "codemirror_mode": {
    "name": "ipython",
    "version": 3
   },
   "file_extension": ".py",
   "mimetype": "text/x-python",
   "name": "python",
   "nbconvert_exporter": "python",
   "pygments_lexer": "ipython3",
   "version": "3.12.3"
  }
 },
 "nbformat": 4,
 "nbformat_minor": 2
}
