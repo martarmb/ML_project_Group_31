{
 "cells": [
  {
   "cell_type": "markdown",
   "metadata": {},
   "source": [
    "### **Group 31** <br>\n",
    "* Ana Margarida Valente, nr 20240936\n",
    "* Eduardo Mendes, nr 20240850\n",
    "* Julia Karpienia, nr 20240514\n",
    "* Marta Boavida, nr 20240519\n",
    "* Victoria Goon, nr 20240550"
   ]
  },
  {
   "cell_type": "markdown",
   "metadata": {},
   "source": [
    "<hr>\n",
    "\n",
    "**Table of Contents** <br>\n",
    "* [1. Import](#import)\n",
    "    * [1.1. Import Libraries](#importlibraries)\n",
    "    * [1.2. Import Datasets](#importdatasets)\n",
    "* [2. Data Exploration](#dataexploration)\n",
    "    * [2.1. Data Content and decriptive analysis](#dataanalysis)\n",
    "    * [2.2. Checking incoherencies in the data](#incoherencies)\n",
    "       * [2.2.1 Changing the data types](#types)\n",
    "       * [2.2.2 Checking Duplicates](#duplicates)\n",
    "       * [2.2.3 Checking Unique Values & looking for some values that can indicate missing values](#unique)\n",
    "* [3. Data Visualisation](#visualisation)\n",
    "   * [3.1. Define Metric and Non-Metric Features](#metricandnon)\n",
    "   * [3.2 Metric Features](#metric)\n",
    "   * [3.3 Non-Metric Features](#non)\n",
    "   * [3.4 Target Variable](#33-target-variable)\n",
    "* [4. Data Cleaning and Pre-Processing](#clean)\n",
    "   * [4.1. Missing values in the target variable  - Claim Injury Type](#nantarget)\n",
    "   * [4.2. Missing values in the independent variables](#nanindependent)\n",
    "* [5. Feature Engineering](#feateng)\n",
    "* [6. Multivariate Analysis](#multi)\n",
    "* [7. Outliers](#outliers)\n",
    "  * [7.1. Visualisation of Outliers](#viewoutliers)\n",
    "  * [7.2. Outlier Removal](#removeoutliers)\n",
    "    * [7.2.1 Manual Outlier Removal](#manual)\n",
    "* [8. Data Transformation - Encoding and Scaling](#transform)\n",
    "  * [8.1. Feature Encoding](#encode)\n",
    "  * [8.2. Min-max Scaler](#minmax)\n",
    "  * [8.3 Standard Scaler](#std) \n",
    "  * [8.4 Robust Scaler](#robust) \n",
    "* [9. Feature Selection](#featselect)\n",
    "  * [9.1. Feature Selection - Categorical Features](#cat)\n",
    "    * [9.1.1 Filter Methods](#filter)\n",
    "      * [9.1.1.1 Chi-Square](#chi)\n",
    "      * [9.1.1.2 Cramér's V](#cramer)\n",
    "      * [9.1.1.3 Mutual Information](#mi)\n",
    "    * [9.1.2 Embedded Methods](#emb)\n",
    "      * [9.1.2.1 Random Forest Feature Importance](#rf)\n",
    "      * [9.1.2.2 Decision Tree](#dt)\n",
    "      * [9.1.2.3 Catboost](#cb)\n",
    "    * [9.1.3 Analysis of all the methods](#all)\n",
    "  * [9.2 Feature Selection - Numerical Features](#numfeat)\n",
    "    * [9.2.1 Wrapper Methods](#wrapper)\n",
    "      * [9.2.1.1 RFE](#rfe)\n",
    "    * [9.2.2 Embedded Methods](#embedded)\n",
    "      * [9.2.2.1 Lasso Regression](#lasso)\n",
    "      * [9.2.2.2 Random Forest Feature Importance](#rm_num)\n",
    "    * [9.2.3 Filter Methods](#filter_num)\n",
    "      * [9.2.3.1 Univariate variables](#uni)\n",
    "      * [9.2.3.2 Select K Best Method](#select)\n",
    "    * [9.2.4 Hybrid Methods](#hybrid)\n",
    "      * [9.2.4.1 Graph-based Automatic Feature selection](#graph)\n",
    "  * [9.3 Drop Features According to Feature Selections](#dropfeat)\n",
    "* [10. Save Proprocessed Data](#Proprocessed)\n",
    "         \n",
    "\n"
   ]
  },
  {
   "cell_type": "markdown",
   "metadata": {},
   "source": [
    "<hr>\n",
    "<a class=\"anchor\" id=\"import\">\n",
    "    \n",
    "# 1. Import \n",
    "    \n",
    "\n",
    "</a> "
   ]
  },
  {
   "cell_type": "markdown",
   "metadata": {},
   "source": [
    "<a class=\"anchor\" id=\"importlibraries\">\n",
    "\n",
    "## 1.1. Import Libraries\n",
    "\n",
    "</a>"
   ]
  },
  {
   "cell_type": "markdown",
   "metadata": {},
   "source": [
    "Libraries to install, if needed:"
   ]
  },
  {
   "cell_type": "code",
   "execution_count": 17,
   "metadata": {},
   "outputs": [
    {
     "name": "stdout",
     "output_type": "stream",
     "text": [
      "Requirement already satisfied: catboost in c:\\users\\marta\\anaconda3\\lib\\site-packages (1.2.7)\n",
      "Requirement already satisfied: graphviz in c:\\users\\marta\\anaconda3\\lib\\site-packages (from catboost) (0.20.3)\n",
      "Requirement already satisfied: matplotlib in c:\\users\\marta\\anaconda3\\lib\\site-packages (from catboost) (3.8.4)\n",
      "Requirement already satisfied: numpy<2.0,>=1.16.0 in c:\\users\\marta\\anaconda3\\lib\\site-packages (from catboost) (1.26.4)\n",
      "Requirement already satisfied: pandas>=0.24 in c:\\users\\marta\\anaconda3\\lib\\site-packages (from catboost) (2.2.2)\n",
      "Requirement already satisfied: scipy in c:\\users\\marta\\anaconda3\\lib\\site-packages (from catboost) (1.13.1)\n",
      "Requirement already satisfied: plotly in c:\\users\\marta\\anaconda3\\lib\\site-packages (from catboost) (5.22.0)\n",
      "Requirement already satisfied: six in c:\\users\\marta\\anaconda3\\lib\\site-packages (from catboost) (1.16.0)\n",
      "Requirement already satisfied: python-dateutil>=2.8.2 in c:\\users\\marta\\anaconda3\\lib\\site-packages (from pandas>=0.24->catboost) (2.9.0.post0)\n",
      "Requirement already satisfied: pytz>=2020.1 in c:\\users\\marta\\anaconda3\\lib\\site-packages (from pandas>=0.24->catboost) (2024.1)\n",
      "Requirement already satisfied: tzdata>=2022.7 in c:\\users\\marta\\anaconda3\\lib\\site-packages (from pandas>=0.24->catboost) (2023.3)\n",
      "Requirement already satisfied: contourpy>=1.0.1 in c:\\users\\marta\\anaconda3\\lib\\site-packages (from matplotlib->catboost) (1.2.0)\n",
      "Requirement already satisfied: cycler>=0.10 in c:\\users\\marta\\anaconda3\\lib\\site-packages (from matplotlib->catboost) (0.11.0)\n",
      "Requirement already satisfied: fonttools>=4.22.0 in c:\\users\\marta\\anaconda3\\lib\\site-packages (from matplotlib->catboost) (4.51.0)\n",
      "Requirement already satisfied: kiwisolver>=1.3.1 in c:\\users\\marta\\anaconda3\\lib\\site-packages (from matplotlib->catboost) (1.4.4)\n",
      "Requirement already satisfied: packaging>=20.0 in c:\\users\\marta\\anaconda3\\lib\\site-packages (from matplotlib->catboost) (23.2)\n",
      "Requirement already satisfied: pillow>=8 in c:\\users\\marta\\anaconda3\\lib\\site-packages (from matplotlib->catboost) (10.3.0)\n",
      "Requirement already satisfied: pyparsing>=2.3.1 in c:\\users\\marta\\anaconda3\\lib\\site-packages (from matplotlib->catboost) (3.0.9)\n",
      "Requirement already satisfied: tenacity>=6.2.0 in c:\\users\\marta\\anaconda3\\lib\\site-packages (from plotly->catboost) (8.2.2)\n"
     ]
    }
   ],
   "source": [
    "! pip install catboost\n",
    "# !pip install networkx"
   ]
  },
  {
   "cell_type": "code",
   "execution_count": 18,
   "metadata": {},
   "outputs": [],
   "source": [
    "## Import standard data processing libraries\n",
    "import numpy as np\n",
    "import pandas as pd\n",
    "import matplotlib.pyplot as plt\n",
    "import seaborn as sns\n",
    "import os\n",
    "\n",
    "## Import datetime object for date columns in dataset\n",
    "from datetime import datetime\n",
    "\n",
    "## Setting seaborn style\n",
    "sns.set()\n",
    "\n",
    "from math import ceil\n",
    "from sklearn.impute import KNNImputer\n",
    "\n",
    "## Import train_test_split to split data for model training\n",
    "from sklearn.model_selection import train_test_split\n",
    "from sklearn.preprocessing import LabelEncoder\n",
    "from sklearn.preprocessing import OneHotEncoder\n",
    "from sklearn.preprocessing import MinMaxScaler\n",
    "from sklearn.preprocessing import StandardScaler\n",
    "from sklearn.preprocessing import RobustScaler\n",
    "\n",
    "\n",
    "## Import Libraries for Feature Selection\n",
    "import scipy.stats as stats\n",
    "from scipy.stats import chi2_contingency\n",
    "from sklearn.feature_selection import chi2\n",
    "from sklearn.feature_selection import mutual_info_classif\n",
    "from sklearn.ensemble import RandomForestClassifier\n",
    "from sklearn.tree import DecisionTreeClassifier\n",
    "from catboost import CatBoostClassifier\n",
    "\n",
    "#from catboost import CatBoostClassifier\n",
    "from sklearn.feature_selection import RFE\n",
    "from sklearn.feature_selection import RFECV\n",
    "from sklearn.feature_selection import SelectKBest, f_regression\n",
    "from sklearn.model_selection import GridSearchCV\n",
    "\n",
    "\n",
    "## Import Models\n",
    "from sklearn.linear_model import LogisticRegression\n",
    "from sklearn.ensemble import RandomForestClassifier\n",
    "from sklearn.linear_model import LassoCV\n",
    "\n",
    "# Import Cross Validation methods\n",
    "from sklearn.model_selection import KFold, RepeatedKFold, StratifiedKFold\n",
    "from sklearn.metrics import confusion_matrix, accuracy_score, precision_score, recall_score, f1_score\n",
    "\n",
    "\n",
    "pd.set_option('display.max_rows', None)  # Show all rows\n",
    "pd.set_option('display.max_colwidth', None) #Show all columns\n",
    "\n",
    "\n",
    "## Supress warnings\n",
    "import warnings\n",
    "warnings.filterwarnings('ignore')\n"
   ]
  },
  {
   "cell_type": "markdown",
   "metadata": {},
   "source": [
    "<a class=\"anchor\" id=\"importdatasets\">\n",
    "\n",
    "## 1.2. Import Datasets\n",
    "\n",
    "</a>"
   ]
  },
  {
   "cell_type": "markdown",
   "metadata": {},
   "source": [
    "- Train and Test"
   ]
  },
  {
   "cell_type": "code",
   "execution_count": 19,
   "metadata": {},
   "outputs": [],
   "source": [
    "train_data = pd.read_csv('train_data.csv', low_memory=False)\n",
    "test_data = pd.read_csv('test_data.csv')"
   ]
  },
  {
   "cell_type": "markdown",
   "metadata": {},
   "source": [
    "- Agreement Reached"
   ]
  },
  {
   "cell_type": "code",
   "execution_count": 20,
   "metadata": {},
   "outputs": [],
   "source": [
    "agreement_data=pd.read_csv('Agreement_Reached_Predictions_under.csv')"
   ]
  },
  {
   "cell_type": "code",
   "execution_count": 21,
   "metadata": {},
   "outputs": [
    {
     "data": {
      "text/html": [
       "<div>\n",
       "<style scoped>\n",
       "    .dataframe tbody tr th:only-of-type {\n",
       "        vertical-align: middle;\n",
       "    }\n",
       "\n",
       "    .dataframe tbody tr th {\n",
       "        vertical-align: top;\n",
       "    }\n",
       "\n",
       "    .dataframe thead th {\n",
       "        text-align: right;\n",
       "    }\n",
       "</style>\n",
       "<table border=\"1\" class=\"dataframe\">\n",
       "  <thead>\n",
       "    <tr style=\"text-align: right;\">\n",
       "      <th></th>\n",
       "      <th>Claim Identifier</th>\n",
       "      <th>Agreement Reached</th>\n",
       "    </tr>\n",
       "  </thead>\n",
       "  <tbody>\n",
       "    <tr>\n",
       "      <th>0</th>\n",
       "      <td>6165911</td>\n",
       "      <td>0</td>\n",
       "    </tr>\n",
       "    <tr>\n",
       "      <th>1</th>\n",
       "      <td>6166141</td>\n",
       "      <td>0</td>\n",
       "    </tr>\n",
       "    <tr>\n",
       "      <th>2</th>\n",
       "      <td>6165907</td>\n",
       "      <td>0</td>\n",
       "    </tr>\n",
       "    <tr>\n",
       "      <th>3</th>\n",
       "      <td>6166047</td>\n",
       "      <td>0</td>\n",
       "    </tr>\n",
       "    <tr>\n",
       "      <th>4</th>\n",
       "      <td>6166102</td>\n",
       "      <td>0</td>\n",
       "    </tr>\n",
       "  </tbody>\n",
       "</table>\n",
       "</div>"
      ],
      "text/plain": [
       "   Claim Identifier  Agreement Reached\n",
       "0           6165911                  0\n",
       "1           6166141                  0\n",
       "2           6165907                  0\n",
       "3           6166047                  0\n",
       "4           6166102                  0"
      ]
     },
     "execution_count": 21,
     "metadata": {},
     "output_type": "execute_result"
    }
   ],
   "source": [
    "agreement_data.head()"
   ]
  },
  {
   "cell_type": "code",
   "execution_count": 22,
   "metadata": {},
   "outputs": [],
   "source": [
    "agreement_data= agreement_data.set_index(\"Claim Identifier\")"
   ]
  },
  {
   "cell_type": "code",
   "execution_count": 23,
   "metadata": {},
   "outputs": [
    {
     "data": {
      "text/html": [
       "<div>\n",
       "<style scoped>\n",
       "    .dataframe tbody tr th:only-of-type {\n",
       "        vertical-align: middle;\n",
       "    }\n",
       "\n",
       "    .dataframe tbody tr th {\n",
       "        vertical-align: top;\n",
       "    }\n",
       "\n",
       "    .dataframe thead th {\n",
       "        text-align: right;\n",
       "    }\n",
       "</style>\n",
       "<table border=\"1\" class=\"dataframe\">\n",
       "  <thead>\n",
       "    <tr style=\"text-align: right;\">\n",
       "      <th></th>\n",
       "      <th>Agreement Reached</th>\n",
       "    </tr>\n",
       "    <tr>\n",
       "      <th>Claim Identifier</th>\n",
       "      <th></th>\n",
       "    </tr>\n",
       "  </thead>\n",
       "  <tbody>\n",
       "    <tr>\n",
       "      <th>6165911</th>\n",
       "      <td>0</td>\n",
       "    </tr>\n",
       "    <tr>\n",
       "      <th>6166141</th>\n",
       "      <td>0</td>\n",
       "    </tr>\n",
       "    <tr>\n",
       "      <th>6165907</th>\n",
       "      <td>0</td>\n",
       "    </tr>\n",
       "    <tr>\n",
       "      <th>6166047</th>\n",
       "      <td>0</td>\n",
       "    </tr>\n",
       "    <tr>\n",
       "      <th>6166102</th>\n",
       "      <td>0</td>\n",
       "    </tr>\n",
       "  </tbody>\n",
       "</table>\n",
       "</div>"
      ],
      "text/plain": [
       "                  Agreement Reached\n",
       "Claim Identifier                   \n",
       "6165911                           0\n",
       "6166141                           0\n",
       "6165907                           0\n",
       "6166047                           0\n",
       "6166102                           0"
      ]
     },
     "execution_count": 23,
     "metadata": {},
     "output_type": "execute_result"
    }
   ],
   "source": [
    "agreement_data.head()"
   ]
  },
  {
   "cell_type": "markdown",
   "metadata": {},
   "source": [
    "<hr>\n",
    "<a class=\"anchor\" id=\"Dataexploration\">\n",
    "    \n",
    "# 2. Data Exploration\n",
    "    \n",
    "</a>"
   ]
  },
  {
   "cell_type": "markdown",
   "metadata": {},
   "source": [
    "<a class=\"anchor\" id=\"dataanalysis\">\n",
    "\n",
    "## 2.1. Data content and descriptive analysis\n",
    "\n",
    "</a>"
   ]
  },
  {
   "cell_type": "code",
   "execution_count": 24,
   "metadata": {},
   "outputs": [
    {
     "data": {
      "text/html": [
       "<div>\n",
       "<style scoped>\n",
       "    .dataframe tbody tr th:only-of-type {\n",
       "        vertical-align: middle;\n",
       "    }\n",
       "\n",
       "    .dataframe tbody tr th {\n",
       "        vertical-align: top;\n",
       "    }\n",
       "\n",
       "    .dataframe thead th {\n",
       "        text-align: right;\n",
       "    }\n",
       "</style>\n",
       "<table border=\"1\" class=\"dataframe\">\n",
       "  <thead>\n",
       "    <tr style=\"text-align: right;\">\n",
       "      <th></th>\n",
       "      <th>Accident Date</th>\n",
       "      <th>Age at Injury</th>\n",
       "      <th>Alternative Dispute Resolution</th>\n",
       "      <th>Assembly Date</th>\n",
       "      <th>Attorney/Representative</th>\n",
       "      <th>Average Weekly Wage</th>\n",
       "      <th>Birth Year</th>\n",
       "      <th>C-2 Date</th>\n",
       "      <th>C-3 Date</th>\n",
       "      <th>Carrier Name</th>\n",
       "      <th>...</th>\n",
       "      <th>WCIO Cause of Injury Code</th>\n",
       "      <th>WCIO Cause of Injury Description</th>\n",
       "      <th>WCIO Nature of Injury Code</th>\n",
       "      <th>WCIO Nature of Injury Description</th>\n",
       "      <th>WCIO Part Of Body Code</th>\n",
       "      <th>WCIO Part Of Body Description</th>\n",
       "      <th>Zip Code</th>\n",
       "      <th>Agreement Reached</th>\n",
       "      <th>WCB Decision</th>\n",
       "      <th>Number of Dependents</th>\n",
       "    </tr>\n",
       "  </thead>\n",
       "  <tbody>\n",
       "    <tr>\n",
       "      <th>0</th>\n",
       "      <td>2019-12-30</td>\n",
       "      <td>31.0</td>\n",
       "      <td>N</td>\n",
       "      <td>2020-01-01</td>\n",
       "      <td>N</td>\n",
       "      <td>0.00</td>\n",
       "      <td>1988.0</td>\n",
       "      <td>2019-12-31</td>\n",
       "      <td>NaN</td>\n",
       "      <td>NEW HAMPSHIRE INSURANCE CO</td>\n",
       "      <td>...</td>\n",
       "      <td>27.0</td>\n",
       "      <td>FROM LIQUID OR GREASE SPILLS</td>\n",
       "      <td>10.0</td>\n",
       "      <td>CONTUSION</td>\n",
       "      <td>62.0</td>\n",
       "      <td>BUTTOCKS</td>\n",
       "      <td>13662</td>\n",
       "      <td>0.0</td>\n",
       "      <td>Not Work Related</td>\n",
       "      <td>1.0</td>\n",
       "    </tr>\n",
       "    <tr>\n",
       "      <th>1</th>\n",
       "      <td>2019-08-30</td>\n",
       "      <td>46.0</td>\n",
       "      <td>N</td>\n",
       "      <td>2020-01-01</td>\n",
       "      <td>Y</td>\n",
       "      <td>1745.93</td>\n",
       "      <td>1973.0</td>\n",
       "      <td>2020-01-01</td>\n",
       "      <td>2020-01-14</td>\n",
       "      <td>ZURICH AMERICAN INSURANCE CO</td>\n",
       "      <td>...</td>\n",
       "      <td>97.0</td>\n",
       "      <td>REPETITIVE MOTION</td>\n",
       "      <td>49.0</td>\n",
       "      <td>SPRAIN OR TEAR</td>\n",
       "      <td>38.0</td>\n",
       "      <td>SHOULDER(S)</td>\n",
       "      <td>14569</td>\n",
       "      <td>1.0</td>\n",
       "      <td>Not Work Related</td>\n",
       "      <td>4.0</td>\n",
       "    </tr>\n",
       "    <tr>\n",
       "      <th>2</th>\n",
       "      <td>2019-12-06</td>\n",
       "      <td>40.0</td>\n",
       "      <td>N</td>\n",
       "      <td>2020-01-01</td>\n",
       "      <td>N</td>\n",
       "      <td>1434.80</td>\n",
       "      <td>1979.0</td>\n",
       "      <td>2020-01-01</td>\n",
       "      <td>NaN</td>\n",
       "      <td>INDEMNITY INSURANCE CO OF</td>\n",
       "      <td>...</td>\n",
       "      <td>79.0</td>\n",
       "      <td>OBJECT BEING LIFTED OR HANDLED</td>\n",
       "      <td>7.0</td>\n",
       "      <td>CONCUSSION</td>\n",
       "      <td>10.0</td>\n",
       "      <td>MULTIPLE HEAD INJURY</td>\n",
       "      <td>12589</td>\n",
       "      <td>0.0</td>\n",
       "      <td>Not Work Related</td>\n",
       "      <td>6.0</td>\n",
       "    </tr>\n",
       "    <tr>\n",
       "      <th>3</th>\n",
       "      <td>NaN</td>\n",
       "      <td>NaN</td>\n",
       "      <td>NaN</td>\n",
       "      <td>2020-01-01</td>\n",
       "      <td>NaN</td>\n",
       "      <td>NaN</td>\n",
       "      <td>NaN</td>\n",
       "      <td>NaN</td>\n",
       "      <td>NaN</td>\n",
       "      <td>NaN</td>\n",
       "      <td>...</td>\n",
       "      <td>NaN</td>\n",
       "      <td>NaN</td>\n",
       "      <td>NaN</td>\n",
       "      <td>NaN</td>\n",
       "      <td>NaN</td>\n",
       "      <td>NaN</td>\n",
       "      <td>NaN</td>\n",
       "      <td>NaN</td>\n",
       "      <td>NaN</td>\n",
       "      <td>NaN</td>\n",
       "    </tr>\n",
       "    <tr>\n",
       "      <th>4</th>\n",
       "      <td>2019-12-30</td>\n",
       "      <td>61.0</td>\n",
       "      <td>N</td>\n",
       "      <td>2020-01-01</td>\n",
       "      <td>N</td>\n",
       "      <td>NaN</td>\n",
       "      <td>1958.0</td>\n",
       "      <td>2019-12-31</td>\n",
       "      <td>NaN</td>\n",
       "      <td>STATE INSURANCE FUND</td>\n",
       "      <td>...</td>\n",
       "      <td>16.0</td>\n",
       "      <td>HAND TOOL, UTENSIL; NOT POWERED</td>\n",
       "      <td>43.0</td>\n",
       "      <td>PUNCTURE</td>\n",
       "      <td>36.0</td>\n",
       "      <td>FINGER(S)</td>\n",
       "      <td>12603</td>\n",
       "      <td>0.0</td>\n",
       "      <td>Not Work Related</td>\n",
       "      <td>1.0</td>\n",
       "    </tr>\n",
       "  </tbody>\n",
       "</table>\n",
       "<p>5 rows × 33 columns</p>\n",
       "</div>"
      ],
      "text/plain": [
       "  Accident Date  Age at Injury Alternative Dispute Resolution Assembly Date  \\\n",
       "0    2019-12-30           31.0                              N    2020-01-01   \n",
       "1    2019-08-30           46.0                              N    2020-01-01   \n",
       "2    2019-12-06           40.0                              N    2020-01-01   \n",
       "3           NaN            NaN                            NaN    2020-01-01   \n",
       "4    2019-12-30           61.0                              N    2020-01-01   \n",
       "\n",
       "  Attorney/Representative  Average Weekly Wage  Birth Year    C-2 Date  \\\n",
       "0                       N                 0.00      1988.0  2019-12-31   \n",
       "1                       Y              1745.93      1973.0  2020-01-01   \n",
       "2                       N              1434.80      1979.0  2020-01-01   \n",
       "3                     NaN                  NaN         NaN         NaN   \n",
       "4                       N                  NaN      1958.0  2019-12-31   \n",
       "\n",
       "     C-3 Date                  Carrier Name  ... WCIO Cause of Injury Code  \\\n",
       "0         NaN    NEW HAMPSHIRE INSURANCE CO  ...                      27.0   \n",
       "1  2020-01-14  ZURICH AMERICAN INSURANCE CO  ...                      97.0   \n",
       "2         NaN     INDEMNITY INSURANCE CO OF  ...                      79.0   \n",
       "3         NaN                           NaN  ...                       NaN   \n",
       "4         NaN          STATE INSURANCE FUND  ...                      16.0   \n",
       "\n",
       "   WCIO Cause of Injury Description WCIO Nature of Injury Code  \\\n",
       "0      FROM LIQUID OR GREASE SPILLS                       10.0   \n",
       "1                 REPETITIVE MOTION                       49.0   \n",
       "2    OBJECT BEING LIFTED OR HANDLED                        7.0   \n",
       "3                               NaN                        NaN   \n",
       "4   HAND TOOL, UTENSIL; NOT POWERED                       43.0   \n",
       "\n",
       "  WCIO Nature of Injury Description WCIO Part Of Body Code  \\\n",
       "0                         CONTUSION                   62.0   \n",
       "1                    SPRAIN OR TEAR                   38.0   \n",
       "2                        CONCUSSION                   10.0   \n",
       "3                               NaN                    NaN   \n",
       "4                          PUNCTURE                   36.0   \n",
       "\n",
       "  WCIO Part Of Body Description Zip Code Agreement Reached      WCB Decision  \\\n",
       "0                      BUTTOCKS    13662               0.0  Not Work Related   \n",
       "1                   SHOULDER(S)    14569               1.0  Not Work Related   \n",
       "2          MULTIPLE HEAD INJURY    12589               0.0  Not Work Related   \n",
       "3                           NaN      NaN               NaN               NaN   \n",
       "4                     FINGER(S)    12603               0.0  Not Work Related   \n",
       "\n",
       "   Number of Dependents  \n",
       "0                   1.0  \n",
       "1                   4.0  \n",
       "2                   6.0  \n",
       "3                   NaN  \n",
       "4                   1.0  \n",
       "\n",
       "[5 rows x 33 columns]"
      ]
     },
     "execution_count": 24,
     "metadata": {},
     "output_type": "execute_result"
    }
   ],
   "source": [
    "train_data.head()"
   ]
  },
  {
   "cell_type": "code",
   "execution_count": 25,
   "metadata": {},
   "outputs": [
    {
     "data": {
      "text/html": [
       "<div>\n",
       "<style scoped>\n",
       "    .dataframe tbody tr th:only-of-type {\n",
       "        vertical-align: middle;\n",
       "    }\n",
       "\n",
       "    .dataframe tbody tr th {\n",
       "        vertical-align: top;\n",
       "    }\n",
       "\n",
       "    .dataframe thead th {\n",
       "        text-align: right;\n",
       "    }\n",
       "</style>\n",
       "<table border=\"1\" class=\"dataframe\">\n",
       "  <thead>\n",
       "    <tr style=\"text-align: right;\">\n",
       "      <th></th>\n",
       "      <th>Accident Date</th>\n",
       "      <th>Age at Injury</th>\n",
       "      <th>Alternative Dispute Resolution</th>\n",
       "      <th>Assembly Date</th>\n",
       "      <th>Attorney/Representative</th>\n",
       "      <th>Average Weekly Wage</th>\n",
       "      <th>Birth Year</th>\n",
       "      <th>C-2 Date</th>\n",
       "      <th>C-3 Date</th>\n",
       "      <th>Carrier Name</th>\n",
       "      <th>...</th>\n",
       "      <th>Medical Fee Region</th>\n",
       "      <th>OIICS Nature of Injury Description</th>\n",
       "      <th>WCIO Cause of Injury Code</th>\n",
       "      <th>WCIO Cause of Injury Description</th>\n",
       "      <th>WCIO Nature of Injury Code</th>\n",
       "      <th>WCIO Nature of Injury Description</th>\n",
       "      <th>WCIO Part Of Body Code</th>\n",
       "      <th>WCIO Part Of Body Description</th>\n",
       "      <th>Zip Code</th>\n",
       "      <th>Number of Dependents</th>\n",
       "    </tr>\n",
       "  </thead>\n",
       "  <tbody>\n",
       "    <tr>\n",
       "      <th>0</th>\n",
       "      <td>2022-12-24</td>\n",
       "      <td>19</td>\n",
       "      <td>N</td>\n",
       "      <td>2023-01-02</td>\n",
       "      <td>N</td>\n",
       "      <td>NaN</td>\n",
       "      <td>2003.0</td>\n",
       "      <td>2023-01-02</td>\n",
       "      <td>NaN</td>\n",
       "      <td>INDEMNITY INSURANCE CO OF</td>\n",
       "      <td>...</td>\n",
       "      <td>IV</td>\n",
       "      <td>NaN</td>\n",
       "      <td>31.0</td>\n",
       "      <td>FALL, SLIP OR TRIP, NOC</td>\n",
       "      <td>10.0</td>\n",
       "      <td>CONTUSION</td>\n",
       "      <td>54.0</td>\n",
       "      <td>LOWER LEG</td>\n",
       "      <td>10466</td>\n",
       "      <td>1</td>\n",
       "    </tr>\n",
       "    <tr>\n",
       "      <th>1</th>\n",
       "      <td>2022-11-20</td>\n",
       "      <td>19</td>\n",
       "      <td>N</td>\n",
       "      <td>2023-01-02</td>\n",
       "      <td>N</td>\n",
       "      <td>NaN</td>\n",
       "      <td>2003.0</td>\n",
       "      <td>2023-01-02</td>\n",
       "      <td>NaN</td>\n",
       "      <td>A I U INSURANCE COMPANY</td>\n",
       "      <td>...</td>\n",
       "      <td>IV</td>\n",
       "      <td>NaN</td>\n",
       "      <td>75.0</td>\n",
       "      <td>FALLING OR FLYING OBJECT</td>\n",
       "      <td>10.0</td>\n",
       "      <td>CONTUSION</td>\n",
       "      <td>10.0</td>\n",
       "      <td>MULTIPLE HEAD INJURY</td>\n",
       "      <td>11691</td>\n",
       "      <td>1</td>\n",
       "    </tr>\n",
       "    <tr>\n",
       "      <th>2</th>\n",
       "      <td>2022-12-26</td>\n",
       "      <td>59</td>\n",
       "      <td>N</td>\n",
       "      <td>2023-01-02</td>\n",
       "      <td>N</td>\n",
       "      <td>0.0</td>\n",
       "      <td>1963.0</td>\n",
       "      <td>2022-12-31</td>\n",
       "      <td>NaN</td>\n",
       "      <td>AMGUARD INSURANCE COMPANY</td>\n",
       "      <td>...</td>\n",
       "      <td>III</td>\n",
       "      <td>NaN</td>\n",
       "      <td>68.0</td>\n",
       "      <td>STATIONARY OBJECT</td>\n",
       "      <td>49.0</td>\n",
       "      <td>SPRAIN OR TEAR</td>\n",
       "      <td>62.0</td>\n",
       "      <td>BUTTOCKS</td>\n",
       "      <td>10604</td>\n",
       "      <td>0</td>\n",
       "    </tr>\n",
       "    <tr>\n",
       "      <th>3</th>\n",
       "      <td>2022-12-28</td>\n",
       "      <td>55</td>\n",
       "      <td>N</td>\n",
       "      <td>2023-01-02</td>\n",
       "      <td>N</td>\n",
       "      <td>0.0</td>\n",
       "      <td>0.0</td>\n",
       "      <td>2023-01-02</td>\n",
       "      <td>NaN</td>\n",
       "      <td>INDEMNITY INS. OF N AMERICA</td>\n",
       "      <td>...</td>\n",
       "      <td>IV</td>\n",
       "      <td>NaN</td>\n",
       "      <td>25.0</td>\n",
       "      <td>FROM DIFFERENT LEVEL (ELEVATION)</td>\n",
       "      <td>10.0</td>\n",
       "      <td>CONTUSION</td>\n",
       "      <td>53.0</td>\n",
       "      <td>KNEE</td>\n",
       "      <td>11411</td>\n",
       "      <td>6</td>\n",
       "    </tr>\n",
       "    <tr>\n",
       "      <th>4</th>\n",
       "      <td>2022-12-20</td>\n",
       "      <td>25</td>\n",
       "      <td>N</td>\n",
       "      <td>2023-01-02</td>\n",
       "      <td>N</td>\n",
       "      <td>0.0</td>\n",
       "      <td>1997.0</td>\n",
       "      <td>2022-12-31</td>\n",
       "      <td>NaN</td>\n",
       "      <td>NEW HAMPSHIRE INSURANCE CO</td>\n",
       "      <td>...</td>\n",
       "      <td>IV</td>\n",
       "      <td>NaN</td>\n",
       "      <td>79.0</td>\n",
       "      <td>OBJECT BEING LIFTED OR HANDLED</td>\n",
       "      <td>40.0</td>\n",
       "      <td>LACERATION</td>\n",
       "      <td>37.0</td>\n",
       "      <td>THUMB</td>\n",
       "      <td>11212</td>\n",
       "      <td>5</td>\n",
       "    </tr>\n",
       "  </tbody>\n",
       "</table>\n",
       "<p>5 rows × 30 columns</p>\n",
       "</div>"
      ],
      "text/plain": [
       "  Accident Date  Age at Injury Alternative Dispute Resolution Assembly Date  \\\n",
       "0    2022-12-24             19                              N    2023-01-02   \n",
       "1    2022-11-20             19                              N    2023-01-02   \n",
       "2    2022-12-26             59                              N    2023-01-02   \n",
       "3    2022-12-28             55                              N    2023-01-02   \n",
       "4    2022-12-20             25                              N    2023-01-02   \n",
       "\n",
       "  Attorney/Representative  Average Weekly Wage  Birth Year    C-2 Date  \\\n",
       "0                       N                  NaN      2003.0  2023-01-02   \n",
       "1                       N                  NaN      2003.0  2023-01-02   \n",
       "2                       N                  0.0      1963.0  2022-12-31   \n",
       "3                       N                  0.0         0.0  2023-01-02   \n",
       "4                       N                  0.0      1997.0  2022-12-31   \n",
       "\n",
       "  C-3 Date                 Carrier Name  ... Medical Fee Region  \\\n",
       "0      NaN    INDEMNITY INSURANCE CO OF  ...                 IV   \n",
       "1      NaN      A I U INSURANCE COMPANY  ...                 IV   \n",
       "2      NaN    AMGUARD INSURANCE COMPANY  ...                III   \n",
       "3      NaN  INDEMNITY INS. OF N AMERICA  ...                 IV   \n",
       "4      NaN   NEW HAMPSHIRE INSURANCE CO  ...                 IV   \n",
       "\n",
       "   OIICS Nature of Injury Description WCIO Cause of Injury Code  \\\n",
       "0                                 NaN                      31.0   \n",
       "1                                 NaN                      75.0   \n",
       "2                                 NaN                      68.0   \n",
       "3                                 NaN                      25.0   \n",
       "4                                 NaN                      79.0   \n",
       "\n",
       "   WCIO Cause of Injury Description WCIO Nature of Injury Code  \\\n",
       "0           FALL, SLIP OR TRIP, NOC                       10.0   \n",
       "1          FALLING OR FLYING OBJECT                       10.0   \n",
       "2                 STATIONARY OBJECT                       49.0   \n",
       "3  FROM DIFFERENT LEVEL (ELEVATION)                       10.0   \n",
       "4    OBJECT BEING LIFTED OR HANDLED                       40.0   \n",
       "\n",
       "  WCIO Nature of Injury Description WCIO Part Of Body Code  \\\n",
       "0                         CONTUSION                   54.0   \n",
       "1                         CONTUSION                   10.0   \n",
       "2                    SPRAIN OR TEAR                   62.0   \n",
       "3                         CONTUSION                   53.0   \n",
       "4                        LACERATION                   37.0   \n",
       "\n",
       "   WCIO Part Of Body Description  Zip Code Number of Dependents  \n",
       "0                      LOWER LEG     10466                    1  \n",
       "1           MULTIPLE HEAD INJURY     11691                    1  \n",
       "2                       BUTTOCKS     10604                    0  \n",
       "3                           KNEE     11411                    6  \n",
       "4                          THUMB     11212                    5  \n",
       "\n",
       "[5 rows x 30 columns]"
      ]
     },
     "execution_count": 25,
     "metadata": {},
     "output_type": "execute_result"
    }
   ],
   "source": [
    "test_data.head()"
   ]
  },
  {
   "cell_type": "code",
   "execution_count": 26,
   "metadata": {},
   "outputs": [
    {
     "data": {
      "text/plain": [
       "(593471, 33)"
      ]
     },
     "execution_count": 26,
     "metadata": {},
     "output_type": "execute_result"
    }
   ],
   "source": [
    "train_data.shape"
   ]
  },
  {
   "cell_type": "code",
   "execution_count": 27,
   "metadata": {},
   "outputs": [
    {
     "data": {
      "text/plain": [
       "(387975, 30)"
      ]
     },
     "execution_count": 27,
     "metadata": {},
     "output_type": "execute_result"
    }
   ],
   "source": [
    "test_data.shape"
   ]
  },
  {
   "cell_type": "markdown",
   "metadata": {},
   "source": [
    "Train data has 3 more variables than test data. We can see below which feature are train, but not in test."
   ]
  },
  {
   "cell_type": "code",
   "execution_count": 28,
   "metadata": {},
   "outputs": [
    {
     "data": {
      "text/plain": [
       "array(['Accident Date', 'Age at Injury', 'Alternative Dispute Resolution',\n",
       "       'Assembly Date', 'Attorney/Representative', 'Average Weekly Wage',\n",
       "       'Birth Year', 'C-2 Date', 'C-3 Date', 'Carrier Name',\n",
       "       'Carrier Type', 'Claim Identifier', 'County of Injury',\n",
       "       'COVID-19 Indicator', 'District Name', 'First Hearing Date',\n",
       "       'Gender', 'IME-4 Count', 'Industry Code',\n",
       "       'Industry Code Description', 'Medical Fee Region',\n",
       "       'OIICS Nature of Injury Description', 'WCIO Cause of Injury Code',\n",
       "       'WCIO Cause of Injury Description', 'WCIO Nature of Injury Code',\n",
       "       'WCIO Nature of Injury Description', 'WCIO Part Of Body Code',\n",
       "       'WCIO Part Of Body Description', 'Zip Code',\n",
       "       'Number of Dependents'], dtype=object)"
      ]
     },
     "execution_count": 28,
     "metadata": {},
     "output_type": "execute_result"
    }
   ],
   "source": [
    "test_data.columns.values"
   ]
  },
  {
   "cell_type": "code",
   "execution_count": 29,
   "metadata": {},
   "outputs": [
    {
     "data": {
      "text/plain": [
       "array(['Accident Date', 'Age at Injury', 'Alternative Dispute Resolution',\n",
       "       'Assembly Date', 'Attorney/Representative', 'Average Weekly Wage',\n",
       "       'Birth Year', 'C-2 Date', 'C-3 Date', 'Carrier Name',\n",
       "       'Carrier Type', 'Claim Identifier', 'Claim Injury Type',\n",
       "       'County of Injury', 'COVID-19 Indicator', 'District Name',\n",
       "       'First Hearing Date', 'Gender', 'IME-4 Count', 'Industry Code',\n",
       "       'Industry Code Description', 'Medical Fee Region',\n",
       "       'OIICS Nature of Injury Description', 'WCIO Cause of Injury Code',\n",
       "       'WCIO Cause of Injury Description', 'WCIO Nature of Injury Code',\n",
       "       'WCIO Nature of Injury Description', 'WCIO Part Of Body Code',\n",
       "       'WCIO Part Of Body Description', 'Zip Code', 'Agreement Reached',\n",
       "       'WCB Decision', 'Number of Dependents'], dtype=object)"
      ]
     },
     "execution_count": 29,
     "metadata": {},
     "output_type": "execute_result"
    }
   ],
   "source": [
    "train_data.columns.values"
   ]
  },
  {
   "cell_type": "markdown",
   "metadata": {},
   "source": [
    "In the Test dataset there is not variables such as: Claim Injury Type (reasonable because it is target variable), Agreement Reached and WCB Decision."
   ]
  },
  {
   "cell_type": "code",
   "execution_count": 30,
   "metadata": {},
   "outputs": [],
   "source": [
    "# Set \"Claim Identifier\" as the index for the train and test datasets\n",
    "train_data = train_data.set_index(\"Claim Identifier\")\n",
    "test_data = test_data.set_index(\"Claim Identifier\")"
   ]
  },
  {
   "cell_type": "code",
   "execution_count": 31,
   "metadata": {},
   "outputs": [
    {
     "data": {
      "text/html": [
       "<div>\n",
       "<style scoped>\n",
       "    .dataframe tbody tr th:only-of-type {\n",
       "        vertical-align: middle;\n",
       "    }\n",
       "\n",
       "    .dataframe tbody tr th {\n",
       "        vertical-align: top;\n",
       "    }\n",
       "\n",
       "    .dataframe thead th {\n",
       "        text-align: right;\n",
       "    }\n",
       "</style>\n",
       "<table border=\"1\" class=\"dataframe\">\n",
       "  <thead>\n",
       "    <tr style=\"text-align: right;\">\n",
       "      <th></th>\n",
       "      <th>count</th>\n",
       "      <th>unique</th>\n",
       "      <th>top</th>\n",
       "      <th>freq</th>\n",
       "      <th>mean</th>\n",
       "      <th>std</th>\n",
       "      <th>min</th>\n",
       "      <th>25%</th>\n",
       "      <th>50%</th>\n",
       "      <th>75%</th>\n",
       "      <th>max</th>\n",
       "    </tr>\n",
       "  </thead>\n",
       "  <tbody>\n",
       "    <tr>\n",
       "      <th>Accident Date</th>\n",
       "      <td>570337</td>\n",
       "      <td>5539</td>\n",
       "      <td>2020-03-01</td>\n",
       "      <td>1245</td>\n",
       "      <td>NaN</td>\n",
       "      <td>NaN</td>\n",
       "      <td>NaN</td>\n",
       "      <td>NaN</td>\n",
       "      <td>NaN</td>\n",
       "      <td>NaN</td>\n",
       "      <td>NaN</td>\n",
       "    </tr>\n",
       "    <tr>\n",
       "      <th>Age at Injury</th>\n",
       "      <td>574026.0</td>\n",
       "      <td>NaN</td>\n",
       "      <td>NaN</td>\n",
       "      <td>NaN</td>\n",
       "      <td>42.11427</td>\n",
       "      <td>14.256432</td>\n",
       "      <td>0.0</td>\n",
       "      <td>31.0</td>\n",
       "      <td>42.0</td>\n",
       "      <td>54.0</td>\n",
       "      <td>117.0</td>\n",
       "    </tr>\n",
       "    <tr>\n",
       "      <th>Alternative Dispute Resolution</th>\n",
       "      <td>574026</td>\n",
       "      <td>3</td>\n",
       "      <td>N</td>\n",
       "      <td>571412</td>\n",
       "      <td>NaN</td>\n",
       "      <td>NaN</td>\n",
       "      <td>NaN</td>\n",
       "      <td>NaN</td>\n",
       "      <td>NaN</td>\n",
       "      <td>NaN</td>\n",
       "      <td>NaN</td>\n",
       "    </tr>\n",
       "    <tr>\n",
       "      <th>Assembly Date</th>\n",
       "      <td>593471</td>\n",
       "      <td>1096</td>\n",
       "      <td>2020-03-06</td>\n",
       "      <td>1422</td>\n",
       "      <td>NaN</td>\n",
       "      <td>NaN</td>\n",
       "      <td>NaN</td>\n",
       "      <td>NaN</td>\n",
       "      <td>NaN</td>\n",
       "      <td>NaN</td>\n",
       "      <td>NaN</td>\n",
       "    </tr>\n",
       "    <tr>\n",
       "      <th>Attorney/Representative</th>\n",
       "      <td>574026</td>\n",
       "      <td>2</td>\n",
       "      <td>N</td>\n",
       "      <td>392291</td>\n",
       "      <td>NaN</td>\n",
       "      <td>NaN</td>\n",
       "      <td>NaN</td>\n",
       "      <td>NaN</td>\n",
       "      <td>NaN</td>\n",
       "      <td>NaN</td>\n",
       "      <td>NaN</td>\n",
       "    </tr>\n",
       "    <tr>\n",
       "      <th>Average Weekly Wage</th>\n",
       "      <td>545375.0</td>\n",
       "      <td>NaN</td>\n",
       "      <td>NaN</td>\n",
       "      <td>NaN</td>\n",
       "      <td>491.088321</td>\n",
       "      <td>6092.91812</td>\n",
       "      <td>0.0</td>\n",
       "      <td>0.0</td>\n",
       "      <td>0.0</td>\n",
       "      <td>841.0</td>\n",
       "      <td>2828079.0</td>\n",
       "    </tr>\n",
       "    <tr>\n",
       "      <th>Birth Year</th>\n",
       "      <td>544948.0</td>\n",
       "      <td>NaN</td>\n",
       "      <td>NaN</td>\n",
       "      <td>NaN</td>\n",
       "      <td>1886.767604</td>\n",
       "      <td>414.644423</td>\n",
       "      <td>0.0</td>\n",
       "      <td>1965.0</td>\n",
       "      <td>1977.0</td>\n",
       "      <td>1989.0</td>\n",
       "      <td>2018.0</td>\n",
       "    </tr>\n",
       "    <tr>\n",
       "      <th>C-2 Date</th>\n",
       "      <td>559466</td>\n",
       "      <td>2475</td>\n",
       "      <td>2021-05-11</td>\n",
       "      <td>1847</td>\n",
       "      <td>NaN</td>\n",
       "      <td>NaN</td>\n",
       "      <td>NaN</td>\n",
       "      <td>NaN</td>\n",
       "      <td>NaN</td>\n",
       "      <td>NaN</td>\n",
       "      <td>NaN</td>\n",
       "    </tr>\n",
       "    <tr>\n",
       "      <th>C-3 Date</th>\n",
       "      <td>187245</td>\n",
       "      <td>1648</td>\n",
       "      <td>2021-04-21</td>\n",
       "      <td>350</td>\n",
       "      <td>NaN</td>\n",
       "      <td>NaN</td>\n",
       "      <td>NaN</td>\n",
       "      <td>NaN</td>\n",
       "      <td>NaN</td>\n",
       "      <td>NaN</td>\n",
       "      <td>NaN</td>\n",
       "    </tr>\n",
       "    <tr>\n",
       "      <th>Carrier Name</th>\n",
       "      <td>574026</td>\n",
       "      <td>2046</td>\n",
       "      <td>STATE INSURANCE FUND</td>\n",
       "      <td>111144</td>\n",
       "      <td>NaN</td>\n",
       "      <td>NaN</td>\n",
       "      <td>NaN</td>\n",
       "      <td>NaN</td>\n",
       "      <td>NaN</td>\n",
       "      <td>NaN</td>\n",
       "      <td>NaN</td>\n",
       "    </tr>\n",
       "    <tr>\n",
       "      <th>Carrier Type</th>\n",
       "      <td>574026</td>\n",
       "      <td>8</td>\n",
       "      <td>1A. PRIVATE</td>\n",
       "      <td>285368</td>\n",
       "      <td>NaN</td>\n",
       "      <td>NaN</td>\n",
       "      <td>NaN</td>\n",
       "      <td>NaN</td>\n",
       "      <td>NaN</td>\n",
       "      <td>NaN</td>\n",
       "      <td>NaN</td>\n",
       "    </tr>\n",
       "    <tr>\n",
       "      <th>Claim Injury Type</th>\n",
       "      <td>574026</td>\n",
       "      <td>8</td>\n",
       "      <td>2. NON-COMP</td>\n",
       "      <td>291078</td>\n",
       "      <td>NaN</td>\n",
       "      <td>NaN</td>\n",
       "      <td>NaN</td>\n",
       "      <td>NaN</td>\n",
       "      <td>NaN</td>\n",
       "      <td>NaN</td>\n",
       "      <td>NaN</td>\n",
       "    </tr>\n",
       "    <tr>\n",
       "      <th>County of Injury</th>\n",
       "      <td>574026</td>\n",
       "      <td>63</td>\n",
       "      <td>SUFFOLK</td>\n",
       "      <td>60430</td>\n",
       "      <td>NaN</td>\n",
       "      <td>NaN</td>\n",
       "      <td>NaN</td>\n",
       "      <td>NaN</td>\n",
       "      <td>NaN</td>\n",
       "      <td>NaN</td>\n",
       "      <td>NaN</td>\n",
       "    </tr>\n",
       "    <tr>\n",
       "      <th>COVID-19 Indicator</th>\n",
       "      <td>574026</td>\n",
       "      <td>2</td>\n",
       "      <td>N</td>\n",
       "      <td>546505</td>\n",
       "      <td>NaN</td>\n",
       "      <td>NaN</td>\n",
       "      <td>NaN</td>\n",
       "      <td>NaN</td>\n",
       "      <td>NaN</td>\n",
       "      <td>NaN</td>\n",
       "      <td>NaN</td>\n",
       "    </tr>\n",
       "    <tr>\n",
       "      <th>District Name</th>\n",
       "      <td>574026</td>\n",
       "      <td>8</td>\n",
       "      <td>NYC</td>\n",
       "      <td>270779</td>\n",
       "      <td>NaN</td>\n",
       "      <td>NaN</td>\n",
       "      <td>NaN</td>\n",
       "      <td>NaN</td>\n",
       "      <td>NaN</td>\n",
       "      <td>NaN</td>\n",
       "      <td>NaN</td>\n",
       "    </tr>\n",
       "    <tr>\n",
       "      <th>First Hearing Date</th>\n",
       "      <td>150798</td>\n",
       "      <td>1094</td>\n",
       "      <td>2022-04-15</td>\n",
       "      <td>440</td>\n",
       "      <td>NaN</td>\n",
       "      <td>NaN</td>\n",
       "      <td>NaN</td>\n",
       "      <td>NaN</td>\n",
       "      <td>NaN</td>\n",
       "      <td>NaN</td>\n",
       "      <td>NaN</td>\n",
       "    </tr>\n",
       "    <tr>\n",
       "      <th>Gender</th>\n",
       "      <td>574026</td>\n",
       "      <td>4</td>\n",
       "      <td>M</td>\n",
       "      <td>335218</td>\n",
       "      <td>NaN</td>\n",
       "      <td>NaN</td>\n",
       "      <td>NaN</td>\n",
       "      <td>NaN</td>\n",
       "      <td>NaN</td>\n",
       "      <td>NaN</td>\n",
       "      <td>NaN</td>\n",
       "    </tr>\n",
       "    <tr>\n",
       "      <th>IME-4 Count</th>\n",
       "      <td>132803.0</td>\n",
       "      <td>NaN</td>\n",
       "      <td>NaN</td>\n",
       "      <td>NaN</td>\n",
       "      <td>3.207337</td>\n",
       "      <td>2.832303</td>\n",
       "      <td>1.0</td>\n",
       "      <td>1.0</td>\n",
       "      <td>2.0</td>\n",
       "      <td>4.0</td>\n",
       "      <td>73.0</td>\n",
       "    </tr>\n",
       "    <tr>\n",
       "      <th>Industry Code</th>\n",
       "      <td>564068.0</td>\n",
       "      <td>NaN</td>\n",
       "      <td>NaN</td>\n",
       "      <td>NaN</td>\n",
       "      <td>58.645305</td>\n",
       "      <td>19.644175</td>\n",
       "      <td>11.0</td>\n",
       "      <td>45.0</td>\n",
       "      <td>61.0</td>\n",
       "      <td>71.0</td>\n",
       "      <td>92.0</td>\n",
       "    </tr>\n",
       "    <tr>\n",
       "      <th>Industry Code Description</th>\n",
       "      <td>564068</td>\n",
       "      <td>20</td>\n",
       "      <td>HEALTH CARE AND SOCIAL ASSISTANCE</td>\n",
       "      <td>114339</td>\n",
       "      <td>NaN</td>\n",
       "      <td>NaN</td>\n",
       "      <td>NaN</td>\n",
       "      <td>NaN</td>\n",
       "      <td>NaN</td>\n",
       "      <td>NaN</td>\n",
       "      <td>NaN</td>\n",
       "    </tr>\n",
       "    <tr>\n",
       "      <th>Medical Fee Region</th>\n",
       "      <td>574026</td>\n",
       "      <td>5</td>\n",
       "      <td>IV</td>\n",
       "      <td>265981</td>\n",
       "      <td>NaN</td>\n",
       "      <td>NaN</td>\n",
       "      <td>NaN</td>\n",
       "      <td>NaN</td>\n",
       "      <td>NaN</td>\n",
       "      <td>NaN</td>\n",
       "      <td>NaN</td>\n",
       "    </tr>\n",
       "    <tr>\n",
       "      <th>OIICS Nature of Injury Description</th>\n",
       "      <td>0.0</td>\n",
       "      <td>NaN</td>\n",
       "      <td>NaN</td>\n",
       "      <td>NaN</td>\n",
       "      <td>NaN</td>\n",
       "      <td>NaN</td>\n",
       "      <td>NaN</td>\n",
       "      <td>NaN</td>\n",
       "      <td>NaN</td>\n",
       "      <td>NaN</td>\n",
       "      <td>NaN</td>\n",
       "    </tr>\n",
       "    <tr>\n",
       "      <th>WCIO Cause of Injury Code</th>\n",
       "      <td>558386.0</td>\n",
       "      <td>NaN</td>\n",
       "      <td>NaN</td>\n",
       "      <td>NaN</td>\n",
       "      <td>54.381143</td>\n",
       "      <td>25.874281</td>\n",
       "      <td>1.0</td>\n",
       "      <td>31.0</td>\n",
       "      <td>56.0</td>\n",
       "      <td>75.0</td>\n",
       "      <td>99.0</td>\n",
       "    </tr>\n",
       "    <tr>\n",
       "      <th>WCIO Cause of Injury Description</th>\n",
       "      <td>558386</td>\n",
       "      <td>74</td>\n",
       "      <td>LIFTING</td>\n",
       "      <td>46610</td>\n",
       "      <td>NaN</td>\n",
       "      <td>NaN</td>\n",
       "      <td>NaN</td>\n",
       "      <td>NaN</td>\n",
       "      <td>NaN</td>\n",
       "      <td>NaN</td>\n",
       "      <td>NaN</td>\n",
       "    </tr>\n",
       "    <tr>\n",
       "      <th>WCIO Nature of Injury Code</th>\n",
       "      <td>558369.0</td>\n",
       "      <td>NaN</td>\n",
       "      <td>NaN</td>\n",
       "      <td>NaN</td>\n",
       "      <td>41.013839</td>\n",
       "      <td>22.207521</td>\n",
       "      <td>1.0</td>\n",
       "      <td>16.0</td>\n",
       "      <td>49.0</td>\n",
       "      <td>52.0</td>\n",
       "      <td>91.0</td>\n",
       "    </tr>\n",
       "    <tr>\n",
       "      <th>WCIO Nature of Injury Description</th>\n",
       "      <td>558369</td>\n",
       "      <td>56</td>\n",
       "      <td>STRAIN OR TEAR</td>\n",
       "      <td>153373</td>\n",
       "      <td>NaN</td>\n",
       "      <td>NaN</td>\n",
       "      <td>NaN</td>\n",
       "      <td>NaN</td>\n",
       "      <td>NaN</td>\n",
       "      <td>NaN</td>\n",
       "      <td>NaN</td>\n",
       "    </tr>\n",
       "    <tr>\n",
       "      <th>WCIO Part Of Body Code</th>\n",
       "      <td>556944.0</td>\n",
       "      <td>NaN</td>\n",
       "      <td>NaN</td>\n",
       "      <td>NaN</td>\n",
       "      <td>39.738146</td>\n",
       "      <td>22.36594</td>\n",
       "      <td>-9.0</td>\n",
       "      <td>33.0</td>\n",
       "      <td>38.0</td>\n",
       "      <td>53.0</td>\n",
       "      <td>99.0</td>\n",
       "    </tr>\n",
       "    <tr>\n",
       "      <th>WCIO Part Of Body Description</th>\n",
       "      <td>556944</td>\n",
       "      <td>54</td>\n",
       "      <td>LOWER BACK AREA</td>\n",
       "      <td>51862</td>\n",
       "      <td>NaN</td>\n",
       "      <td>NaN</td>\n",
       "      <td>NaN</td>\n",
       "      <td>NaN</td>\n",
       "      <td>NaN</td>\n",
       "      <td>NaN</td>\n",
       "      <td>NaN</td>\n",
       "    </tr>\n",
       "    <tr>\n",
       "      <th>Zip Code</th>\n",
       "      <td>545389</td>\n",
       "      <td>8286</td>\n",
       "      <td>11236</td>\n",
       "      <td>3398</td>\n",
       "      <td>NaN</td>\n",
       "      <td>NaN</td>\n",
       "      <td>NaN</td>\n",
       "      <td>NaN</td>\n",
       "      <td>NaN</td>\n",
       "      <td>NaN</td>\n",
       "      <td>NaN</td>\n",
       "    </tr>\n",
       "    <tr>\n",
       "      <th>Agreement Reached</th>\n",
       "      <td>574026.0</td>\n",
       "      <td>NaN</td>\n",
       "      <td>NaN</td>\n",
       "      <td>NaN</td>\n",
       "      <td>0.046665</td>\n",
       "      <td>0.210921</td>\n",
       "      <td>0.0</td>\n",
       "      <td>0.0</td>\n",
       "      <td>0.0</td>\n",
       "      <td>0.0</td>\n",
       "      <td>1.0</td>\n",
       "    </tr>\n",
       "    <tr>\n",
       "      <th>WCB Decision</th>\n",
       "      <td>574026</td>\n",
       "      <td>1</td>\n",
       "      <td>Not Work Related</td>\n",
       "      <td>574026</td>\n",
       "      <td>NaN</td>\n",
       "      <td>NaN</td>\n",
       "      <td>NaN</td>\n",
       "      <td>NaN</td>\n",
       "      <td>NaN</td>\n",
       "      <td>NaN</td>\n",
       "      <td>NaN</td>\n",
       "    </tr>\n",
       "    <tr>\n",
       "      <th>Number of Dependents</th>\n",
       "      <td>574026.0</td>\n",
       "      <td>NaN</td>\n",
       "      <td>NaN</td>\n",
       "      <td>NaN</td>\n",
       "      <td>3.006559</td>\n",
       "      <td>2.000801</td>\n",
       "      <td>0.0</td>\n",
       "      <td>1.0</td>\n",
       "      <td>3.0</td>\n",
       "      <td>5.0</td>\n",
       "      <td>6.0</td>\n",
       "    </tr>\n",
       "  </tbody>\n",
       "</table>\n",
       "</div>"
      ],
      "text/plain": [
       "                                       count unique  \\\n",
       "Accident Date                         570337   5539   \n",
       "Age at Injury                       574026.0    NaN   \n",
       "Alternative Dispute Resolution        574026      3   \n",
       "Assembly Date                         593471   1096   \n",
       "Attorney/Representative               574026      2   \n",
       "Average Weekly Wage                 545375.0    NaN   \n",
       "Birth Year                          544948.0    NaN   \n",
       "C-2 Date                              559466   2475   \n",
       "C-3 Date                              187245   1648   \n",
       "Carrier Name                          574026   2046   \n",
       "Carrier Type                          574026      8   \n",
       "Claim Injury Type                     574026      8   \n",
       "County of Injury                      574026     63   \n",
       "COVID-19 Indicator                    574026      2   \n",
       "District Name                         574026      8   \n",
       "First Hearing Date                    150798   1094   \n",
       "Gender                                574026      4   \n",
       "IME-4 Count                         132803.0    NaN   \n",
       "Industry Code                       564068.0    NaN   \n",
       "Industry Code Description             564068     20   \n",
       "Medical Fee Region                    574026      5   \n",
       "OIICS Nature of Injury Description       0.0    NaN   \n",
       "WCIO Cause of Injury Code           558386.0    NaN   \n",
       "WCIO Cause of Injury Description      558386     74   \n",
       "WCIO Nature of Injury Code          558369.0    NaN   \n",
       "WCIO Nature of Injury Description     558369     56   \n",
       "WCIO Part Of Body Code              556944.0    NaN   \n",
       "WCIO Part Of Body Description         556944     54   \n",
       "Zip Code                              545389   8286   \n",
       "Agreement Reached                   574026.0    NaN   \n",
       "WCB Decision                          574026      1   \n",
       "Number of Dependents                574026.0    NaN   \n",
       "\n",
       "                                                                  top    freq  \\\n",
       "Accident Date                                              2020-03-01    1245   \n",
       "Age at Injury                                                     NaN     NaN   \n",
       "Alternative Dispute Resolution                                      N  571412   \n",
       "Assembly Date                                              2020-03-06    1422   \n",
       "Attorney/Representative                                             N  392291   \n",
       "Average Weekly Wage                                               NaN     NaN   \n",
       "Birth Year                                                        NaN     NaN   \n",
       "C-2 Date                                                   2021-05-11    1847   \n",
       "C-3 Date                                                   2021-04-21     350   \n",
       "Carrier Name                                     STATE INSURANCE FUND  111144   \n",
       "Carrier Type                                              1A. PRIVATE  285368   \n",
       "Claim Injury Type                                         2. NON-COMP  291078   \n",
       "County of Injury                                              SUFFOLK   60430   \n",
       "COVID-19 Indicator                                                  N  546505   \n",
       "District Name                                                     NYC  270779   \n",
       "First Hearing Date                                         2022-04-15     440   \n",
       "Gender                                                              M  335218   \n",
       "IME-4 Count                                                       NaN     NaN   \n",
       "Industry Code                                                     NaN     NaN   \n",
       "Industry Code Description           HEALTH CARE AND SOCIAL ASSISTANCE  114339   \n",
       "Medical Fee Region                                                 IV  265981   \n",
       "OIICS Nature of Injury Description                                NaN     NaN   \n",
       "WCIO Cause of Injury Code                                         NaN     NaN   \n",
       "WCIO Cause of Injury Description                              LIFTING   46610   \n",
       "WCIO Nature of Injury Code                                        NaN     NaN   \n",
       "WCIO Nature of Injury Description                      STRAIN OR TEAR  153373   \n",
       "WCIO Part Of Body Code                                            NaN     NaN   \n",
       "WCIO Part Of Body Description                         LOWER BACK AREA   51862   \n",
       "Zip Code                                                        11236    3398   \n",
       "Agreement Reached                                                 NaN     NaN   \n",
       "WCB Decision                                         Not Work Related  574026   \n",
       "Number of Dependents                                              NaN     NaN   \n",
       "\n",
       "                                           mean         std   min     25%  \\\n",
       "Accident Date                               NaN         NaN   NaN     NaN   \n",
       "Age at Injury                          42.11427   14.256432   0.0    31.0   \n",
       "Alternative Dispute Resolution              NaN         NaN   NaN     NaN   \n",
       "Assembly Date                               NaN         NaN   NaN     NaN   \n",
       "Attorney/Representative                     NaN         NaN   NaN     NaN   \n",
       "Average Weekly Wage                  491.088321  6092.91812   0.0     0.0   \n",
       "Birth Year                          1886.767604  414.644423   0.0  1965.0   \n",
       "C-2 Date                                    NaN         NaN   NaN     NaN   \n",
       "C-3 Date                                    NaN         NaN   NaN     NaN   \n",
       "Carrier Name                                NaN         NaN   NaN     NaN   \n",
       "Carrier Type                                NaN         NaN   NaN     NaN   \n",
       "Claim Injury Type                           NaN         NaN   NaN     NaN   \n",
       "County of Injury                            NaN         NaN   NaN     NaN   \n",
       "COVID-19 Indicator                          NaN         NaN   NaN     NaN   \n",
       "District Name                               NaN         NaN   NaN     NaN   \n",
       "First Hearing Date                          NaN         NaN   NaN     NaN   \n",
       "Gender                                      NaN         NaN   NaN     NaN   \n",
       "IME-4 Count                            3.207337    2.832303   1.0     1.0   \n",
       "Industry Code                         58.645305   19.644175  11.0    45.0   \n",
       "Industry Code Description                   NaN         NaN   NaN     NaN   \n",
       "Medical Fee Region                          NaN         NaN   NaN     NaN   \n",
       "OIICS Nature of Injury Description          NaN         NaN   NaN     NaN   \n",
       "WCIO Cause of Injury Code             54.381143   25.874281   1.0    31.0   \n",
       "WCIO Cause of Injury Description            NaN         NaN   NaN     NaN   \n",
       "WCIO Nature of Injury Code            41.013839   22.207521   1.0    16.0   \n",
       "WCIO Nature of Injury Description           NaN         NaN   NaN     NaN   \n",
       "WCIO Part Of Body Code                39.738146    22.36594  -9.0    33.0   \n",
       "WCIO Part Of Body Description               NaN         NaN   NaN     NaN   \n",
       "Zip Code                                    NaN         NaN   NaN     NaN   \n",
       "Agreement Reached                      0.046665    0.210921   0.0     0.0   \n",
       "WCB Decision                                NaN         NaN   NaN     NaN   \n",
       "Number of Dependents                   3.006559    2.000801   0.0     1.0   \n",
       "\n",
       "                                       50%     75%        max  \n",
       "Accident Date                          NaN     NaN        NaN  \n",
       "Age at Injury                         42.0    54.0      117.0  \n",
       "Alternative Dispute Resolution         NaN     NaN        NaN  \n",
       "Assembly Date                          NaN     NaN        NaN  \n",
       "Attorney/Representative                NaN     NaN        NaN  \n",
       "Average Weekly Wage                    0.0   841.0  2828079.0  \n",
       "Birth Year                          1977.0  1989.0     2018.0  \n",
       "C-2 Date                               NaN     NaN        NaN  \n",
       "C-3 Date                               NaN     NaN        NaN  \n",
       "Carrier Name                           NaN     NaN        NaN  \n",
       "Carrier Type                           NaN     NaN        NaN  \n",
       "Claim Injury Type                      NaN     NaN        NaN  \n",
       "County of Injury                       NaN     NaN        NaN  \n",
       "COVID-19 Indicator                     NaN     NaN        NaN  \n",
       "District Name                          NaN     NaN        NaN  \n",
       "First Hearing Date                     NaN     NaN        NaN  \n",
       "Gender                                 NaN     NaN        NaN  \n",
       "IME-4 Count                            2.0     4.0       73.0  \n",
       "Industry Code                         61.0    71.0       92.0  \n",
       "Industry Code Description              NaN     NaN        NaN  \n",
       "Medical Fee Region                     NaN     NaN        NaN  \n",
       "OIICS Nature of Injury Description     NaN     NaN        NaN  \n",
       "WCIO Cause of Injury Code             56.0    75.0       99.0  \n",
       "WCIO Cause of Injury Description       NaN     NaN        NaN  \n",
       "WCIO Nature of Injury Code            49.0    52.0       91.0  \n",
       "WCIO Nature of Injury Description      NaN     NaN        NaN  \n",
       "WCIO Part Of Body Code                38.0    53.0       99.0  \n",
       "WCIO Part Of Body Description          NaN     NaN        NaN  \n",
       "Zip Code                               NaN     NaN        NaN  \n",
       "Agreement Reached                      0.0     0.0        1.0  \n",
       "WCB Decision                           NaN     NaN        NaN  \n",
       "Number of Dependents                   3.0     5.0        6.0  "
      ]
     },
     "execution_count": 31,
     "metadata": {},
     "output_type": "execute_result"
    }
   ],
   "source": [
    "train_data.describe(include=\"all\").T"
   ]
  },
  {
   "cell_type": "markdown",
   "metadata": {},
   "source": [
    "Summary of Descriptive Statistics:\n",
    "\n",
    "Most frequent categorical features:\n",
    "- \"Claim Injury Type\": \"2. NON-COMP\" is the most frequent, with 291,078 entries.\n",
    "- \"Carrier Name\": The most common carrier is \"STATE INSURANCE FUND\" with 111,144 entries.\n",
    "- \"Gender\": Male (\"M\") is the most common category (335,218 entries), suggesting a gender imbalance in the data.\n",
    "- \"COVID-19 Indicator\": Most records (546,505) indicate \"N,\" showing that COVID-19 was not a factor in most claims.\n",
    "\n",
    "Numerical features:\n",
    "- Age at injury: Most injured individuals fall between 31 and 54 years, indicating a concentration around working-age individuals. Outliers such as 0 and 117 years suggest data cleaning might be needed.\n",
    "- Average Weekly Wage: The large standard deviation and extreme maximum value suggest high variability and the presence of significant outliers. Skewed distribution.\n",
    "- Birth year: The \"0\" minimum and extremely low mean are likely erroneous. Valid years (25th to 75th percentile) reflect a population mostly born between 1965 and 1989.\n",
    "- WCIO Part Of Body Code: The presence of a negative value (-9) suggests data errors.\n",
    "- Agreement reached: This binary feature is heavily skewed, with most cases having \"0\" (no agreement reached). \n",
    "\n",
    "Final conclusions Numerical features:\n",
    "- Outliers: Features such as \"Average Weekly Wage\", \"Birth Year\", and \"Age at Injury\" contain extreme values or errors that require handling to improve data quality.\n",
    "- Skewness: Features like \"Average Weekly Wage\" and \"Agreement Reached\" show high skewness, indicating the need for transformation or careful handling."
   ]
  },
  {
   "cell_type": "code",
   "execution_count": 32,
   "metadata": {},
   "outputs": [],
   "source": [
    "test_data=pd.merge(test_data,agreement_data, on='Claim Identifier', how='inner')"
   ]
  },
  {
   "cell_type": "code",
   "execution_count": 33,
   "metadata": {},
   "outputs": [
    {
     "data": {
      "text/html": [
       "<div>\n",
       "<style scoped>\n",
       "    .dataframe tbody tr th:only-of-type {\n",
       "        vertical-align: middle;\n",
       "    }\n",
       "\n",
       "    .dataframe tbody tr th {\n",
       "        vertical-align: top;\n",
       "    }\n",
       "\n",
       "    .dataframe thead th {\n",
       "        text-align: right;\n",
       "    }\n",
       "</style>\n",
       "<table border=\"1\" class=\"dataframe\">\n",
       "  <thead>\n",
       "    <tr style=\"text-align: right;\">\n",
       "      <th></th>\n",
       "      <th>Accident Date</th>\n",
       "      <th>Age at Injury</th>\n",
       "      <th>Alternative Dispute Resolution</th>\n",
       "      <th>Assembly Date</th>\n",
       "      <th>Attorney/Representative</th>\n",
       "      <th>Average Weekly Wage</th>\n",
       "      <th>Birth Year</th>\n",
       "      <th>C-2 Date</th>\n",
       "      <th>C-3 Date</th>\n",
       "      <th>Carrier Name</th>\n",
       "      <th>...</th>\n",
       "      <th>OIICS Nature of Injury Description</th>\n",
       "      <th>WCIO Cause of Injury Code</th>\n",
       "      <th>WCIO Cause of Injury Description</th>\n",
       "      <th>WCIO Nature of Injury Code</th>\n",
       "      <th>WCIO Nature of Injury Description</th>\n",
       "      <th>WCIO Part Of Body Code</th>\n",
       "      <th>WCIO Part Of Body Description</th>\n",
       "      <th>Zip Code</th>\n",
       "      <th>Number of Dependents</th>\n",
       "      <th>Agreement Reached</th>\n",
       "    </tr>\n",
       "    <tr>\n",
       "      <th>Claim Identifier</th>\n",
       "      <th></th>\n",
       "      <th></th>\n",
       "      <th></th>\n",
       "      <th></th>\n",
       "      <th></th>\n",
       "      <th></th>\n",
       "      <th></th>\n",
       "      <th></th>\n",
       "      <th></th>\n",
       "      <th></th>\n",
       "      <th></th>\n",
       "      <th></th>\n",
       "      <th></th>\n",
       "      <th></th>\n",
       "      <th></th>\n",
       "      <th></th>\n",
       "      <th></th>\n",
       "      <th></th>\n",
       "      <th></th>\n",
       "      <th></th>\n",
       "      <th></th>\n",
       "    </tr>\n",
       "  </thead>\n",
       "  <tbody>\n",
       "    <tr>\n",
       "      <th>6165911</th>\n",
       "      <td>2022-12-24</td>\n",
       "      <td>19</td>\n",
       "      <td>N</td>\n",
       "      <td>2023-01-02</td>\n",
       "      <td>N</td>\n",
       "      <td>NaN</td>\n",
       "      <td>2003.0</td>\n",
       "      <td>2023-01-02</td>\n",
       "      <td>NaN</td>\n",
       "      <td>INDEMNITY INSURANCE CO OF</td>\n",
       "      <td>...</td>\n",
       "      <td>NaN</td>\n",
       "      <td>31.0</td>\n",
       "      <td>FALL, SLIP OR TRIP, NOC</td>\n",
       "      <td>10.0</td>\n",
       "      <td>CONTUSION</td>\n",
       "      <td>54.0</td>\n",
       "      <td>LOWER LEG</td>\n",
       "      <td>10466</td>\n",
       "      <td>1</td>\n",
       "      <td>0</td>\n",
       "    </tr>\n",
       "    <tr>\n",
       "      <th>6166141</th>\n",
       "      <td>2022-11-20</td>\n",
       "      <td>19</td>\n",
       "      <td>N</td>\n",
       "      <td>2023-01-02</td>\n",
       "      <td>N</td>\n",
       "      <td>NaN</td>\n",
       "      <td>2003.0</td>\n",
       "      <td>2023-01-02</td>\n",
       "      <td>NaN</td>\n",
       "      <td>A I U INSURANCE COMPANY</td>\n",
       "      <td>...</td>\n",
       "      <td>NaN</td>\n",
       "      <td>75.0</td>\n",
       "      <td>FALLING OR FLYING OBJECT</td>\n",
       "      <td>10.0</td>\n",
       "      <td>CONTUSION</td>\n",
       "      <td>10.0</td>\n",
       "      <td>MULTIPLE HEAD INJURY</td>\n",
       "      <td>11691</td>\n",
       "      <td>1</td>\n",
       "      <td>0</td>\n",
       "    </tr>\n",
       "    <tr>\n",
       "      <th>6165907</th>\n",
       "      <td>2022-12-26</td>\n",
       "      <td>59</td>\n",
       "      <td>N</td>\n",
       "      <td>2023-01-02</td>\n",
       "      <td>N</td>\n",
       "      <td>0.0</td>\n",
       "      <td>1963.0</td>\n",
       "      <td>2022-12-31</td>\n",
       "      <td>NaN</td>\n",
       "      <td>AMGUARD INSURANCE COMPANY</td>\n",
       "      <td>...</td>\n",
       "      <td>NaN</td>\n",
       "      <td>68.0</td>\n",
       "      <td>STATIONARY OBJECT</td>\n",
       "      <td>49.0</td>\n",
       "      <td>SPRAIN OR TEAR</td>\n",
       "      <td>62.0</td>\n",
       "      <td>BUTTOCKS</td>\n",
       "      <td>10604</td>\n",
       "      <td>0</td>\n",
       "      <td>0</td>\n",
       "    </tr>\n",
       "    <tr>\n",
       "      <th>6166047</th>\n",
       "      <td>2022-12-28</td>\n",
       "      <td>55</td>\n",
       "      <td>N</td>\n",
       "      <td>2023-01-02</td>\n",
       "      <td>N</td>\n",
       "      <td>0.0</td>\n",
       "      <td>0.0</td>\n",
       "      <td>2023-01-02</td>\n",
       "      <td>NaN</td>\n",
       "      <td>INDEMNITY INS. OF N AMERICA</td>\n",
       "      <td>...</td>\n",
       "      <td>NaN</td>\n",
       "      <td>25.0</td>\n",
       "      <td>FROM DIFFERENT LEVEL (ELEVATION)</td>\n",
       "      <td>10.0</td>\n",
       "      <td>CONTUSION</td>\n",
       "      <td>53.0</td>\n",
       "      <td>KNEE</td>\n",
       "      <td>11411</td>\n",
       "      <td>6</td>\n",
       "      <td>0</td>\n",
       "    </tr>\n",
       "    <tr>\n",
       "      <th>6166102</th>\n",
       "      <td>2022-12-20</td>\n",
       "      <td>25</td>\n",
       "      <td>N</td>\n",
       "      <td>2023-01-02</td>\n",
       "      <td>N</td>\n",
       "      <td>0.0</td>\n",
       "      <td>1997.0</td>\n",
       "      <td>2022-12-31</td>\n",
       "      <td>NaN</td>\n",
       "      <td>NEW HAMPSHIRE INSURANCE CO</td>\n",
       "      <td>...</td>\n",
       "      <td>NaN</td>\n",
       "      <td>79.0</td>\n",
       "      <td>OBJECT BEING LIFTED OR HANDLED</td>\n",
       "      <td>40.0</td>\n",
       "      <td>LACERATION</td>\n",
       "      <td>37.0</td>\n",
       "      <td>THUMB</td>\n",
       "      <td>11212</td>\n",
       "      <td>5</td>\n",
       "      <td>0</td>\n",
       "    </tr>\n",
       "  </tbody>\n",
       "</table>\n",
       "<p>5 rows × 30 columns</p>\n",
       "</div>"
      ],
      "text/plain": [
       "                 Accident Date  Age at Injury Alternative Dispute Resolution  \\\n",
       "Claim Identifier                                                               \n",
       "6165911             2022-12-24             19                              N   \n",
       "6166141             2022-11-20             19                              N   \n",
       "6165907             2022-12-26             59                              N   \n",
       "6166047             2022-12-28             55                              N   \n",
       "6166102             2022-12-20             25                              N   \n",
       "\n",
       "                 Assembly Date Attorney/Representative  Average Weekly Wage  \\\n",
       "Claim Identifier                                                              \n",
       "6165911             2023-01-02                       N                  NaN   \n",
       "6166141             2023-01-02                       N                  NaN   \n",
       "6165907             2023-01-02                       N                  0.0   \n",
       "6166047             2023-01-02                       N                  0.0   \n",
       "6166102             2023-01-02                       N                  0.0   \n",
       "\n",
       "                  Birth Year    C-2 Date C-3 Date  \\\n",
       "Claim Identifier                                    \n",
       "6165911               2003.0  2023-01-02      NaN   \n",
       "6166141               2003.0  2023-01-02      NaN   \n",
       "6165907               1963.0  2022-12-31      NaN   \n",
       "6166047                  0.0  2023-01-02      NaN   \n",
       "6166102               1997.0  2022-12-31      NaN   \n",
       "\n",
       "                                 Carrier Name  ...  \\\n",
       "Claim Identifier                               ...   \n",
       "6165911             INDEMNITY INSURANCE CO OF  ...   \n",
       "6166141               A I U INSURANCE COMPANY  ...   \n",
       "6165907             AMGUARD INSURANCE COMPANY  ...   \n",
       "6166047           INDEMNITY INS. OF N AMERICA  ...   \n",
       "6166102            NEW HAMPSHIRE INSURANCE CO  ...   \n",
       "\n",
       "                 OIICS Nature of Injury Description WCIO Cause of Injury Code  \\\n",
       "Claim Identifier                                                                \n",
       "6165911                                         NaN                      31.0   \n",
       "6166141                                         NaN                      75.0   \n",
       "6165907                                         NaN                      68.0   \n",
       "6166047                                         NaN                      25.0   \n",
       "6166102                                         NaN                      79.0   \n",
       "\n",
       "                  WCIO Cause of Injury Description WCIO Nature of Injury Code  \\\n",
       "Claim Identifier                                                                \n",
       "6165911                    FALL, SLIP OR TRIP, NOC                       10.0   \n",
       "6166141                   FALLING OR FLYING OBJECT                       10.0   \n",
       "6165907                          STATIONARY OBJECT                       49.0   \n",
       "6166047           FROM DIFFERENT LEVEL (ELEVATION)                       10.0   \n",
       "6166102             OBJECT BEING LIFTED OR HANDLED                       40.0   \n",
       "\n",
       "                 WCIO Nature of Injury Description WCIO Part Of Body Code  \\\n",
       "Claim Identifier                                                            \n",
       "6165911                                  CONTUSION                   54.0   \n",
       "6166141                                  CONTUSION                   10.0   \n",
       "6165907                             SPRAIN OR TEAR                   62.0   \n",
       "6166047                                  CONTUSION                   53.0   \n",
       "6166102                                 LACERATION                   37.0   \n",
       "\n",
       "                  WCIO Part Of Body Description  Zip Code  \\\n",
       "Claim Identifier                                            \n",
       "6165911                               LOWER LEG     10466   \n",
       "6166141                    MULTIPLE HEAD INJURY     11691   \n",
       "6165907                                BUTTOCKS     10604   \n",
       "6166047                                    KNEE     11411   \n",
       "6166102                                   THUMB     11212   \n",
       "\n",
       "                 Number of Dependents Agreement Reached  \n",
       "Claim Identifier                                         \n",
       "6165911                             1                 0  \n",
       "6166141                             1                 0  \n",
       "6165907                             0                 0  \n",
       "6166047                             6                 0  \n",
       "6166102                             5                 0  \n",
       "\n",
       "[5 rows x 30 columns]"
      ]
     },
     "execution_count": 33,
     "metadata": {},
     "output_type": "execute_result"
    }
   ],
   "source": [
    "test_data.head()"
   ]
  },
  {
   "cell_type": "markdown",
   "metadata": {},
   "source": [
    "---"
   ]
  },
  {
   "cell_type": "markdown",
   "metadata": {},
   "source": [
    "<a class=\"anchor\" id=\"incoherencies\">\n",
    "\n",
    "## 2.2. Checking incoherencies in the data. \n",
    "\n",
    "</a> "
   ]
  },
  {
   "cell_type": "code",
   "execution_count": 35,
   "metadata": {},
   "outputs": [
    {
     "name": "stdout",
     "output_type": "stream",
     "text": [
      "<class 'pandas.core.frame.DataFrame'>\n",
      "Index: 593471 entries, 5393875 to 818961390\n",
      "Data columns (total 32 columns):\n",
      " #   Column                              Non-Null Count   Dtype  \n",
      "---  ------                              --------------   -----  \n",
      " 0   Accident Date                       570337 non-null  object \n",
      " 1   Age at Injury                       574026 non-null  float64\n",
      " 2   Alternative Dispute Resolution      574026 non-null  object \n",
      " 3   Assembly Date                       593471 non-null  object \n",
      " 4   Attorney/Representative             574026 non-null  object \n",
      " 5   Average Weekly Wage                 545375 non-null  float64\n",
      " 6   Birth Year                          544948 non-null  float64\n",
      " 7   C-2 Date                            559466 non-null  object \n",
      " 8   C-3 Date                            187245 non-null  object \n",
      " 9   Carrier Name                        574026 non-null  object \n",
      " 10  Carrier Type                        574026 non-null  object \n",
      " 11  Claim Injury Type                   574026 non-null  object \n",
      " 12  County of Injury                    574026 non-null  object \n",
      " 13  COVID-19 Indicator                  574026 non-null  object \n",
      " 14  District Name                       574026 non-null  object \n",
      " 15  First Hearing Date                  150798 non-null  object \n",
      " 16  Gender                              574026 non-null  object \n",
      " 17  IME-4 Count                         132803 non-null  float64\n",
      " 18  Industry Code                       564068 non-null  float64\n",
      " 19  Industry Code Description           564068 non-null  object \n",
      " 20  Medical Fee Region                  574026 non-null  object \n",
      " 21  OIICS Nature of Injury Description  0 non-null       float64\n",
      " 22  WCIO Cause of Injury Code           558386 non-null  float64\n",
      " 23  WCIO Cause of Injury Description    558386 non-null  object \n",
      " 24  WCIO Nature of Injury Code          558369 non-null  float64\n",
      " 25  WCIO Nature of Injury Description   558369 non-null  object \n",
      " 26  WCIO Part Of Body Code              556944 non-null  float64\n",
      " 27  WCIO Part Of Body Description       556944 non-null  object \n",
      " 28  Zip Code                            545389 non-null  object \n",
      " 29  Agreement Reached                   574026 non-null  float64\n",
      " 30  WCB Decision                        574026 non-null  object \n",
      " 31  Number of Dependents                574026 non-null  float64\n",
      "dtypes: float64(11), object(21)\n",
      "memory usage: 149.4+ MB\n"
     ]
    }
   ],
   "source": [
    "train_data.info()"
   ]
  },
  {
   "cell_type": "code",
   "execution_count": 36,
   "metadata": {},
   "outputs": [
    {
     "name": "stdout",
     "output_type": "stream",
     "text": [
      "<class 'pandas.core.frame.DataFrame'>\n",
      "Index: 387975 entries, 6165911 to 6553594\n",
      "Data columns (total 30 columns):\n",
      " #   Column                              Non-Null Count   Dtype  \n",
      "---  ------                              --------------   -----  \n",
      " 0   Accident Date                       385531 non-null  object \n",
      " 1   Age at Injury                       387975 non-null  int64  \n",
      " 2   Alternative Dispute Resolution      387975 non-null  object \n",
      " 3   Assembly Date                       387975 non-null  object \n",
      " 4   Attorney/Representative             387975 non-null  object \n",
      " 5   Average Weekly Wage                 368771 non-null  float64\n",
      " 6   Birth Year                          368505 non-null  float64\n",
      " 7   C-2 Date                            378841 non-null  object \n",
      " 8   C-3 Date                            85216 non-null   object \n",
      " 9   Carrier Name                        387975 non-null  object \n",
      " 10  Carrier Type                        387975 non-null  object \n",
      " 11  County of Injury                    387975 non-null  object \n",
      " 12  COVID-19 Indicator                  387975 non-null  object \n",
      " 13  District Name                       387975 non-null  object \n",
      " 14  First Hearing Date                  43028 non-null   object \n",
      " 15  Gender                              387975 non-null  object \n",
      " 16  IME-4 Count                         35249 non-null   float64\n",
      " 17  Industry Code                       380239 non-null  float64\n",
      " 18  Industry Code Description           380239 non-null  object \n",
      " 19  Medical Fee Region                  387975 non-null  object \n",
      " 20  OIICS Nature of Injury Description  0 non-null       float64\n",
      " 21  WCIO Cause of Injury Code           377627 non-null  float64\n",
      " 22  WCIO Cause of Injury Description    377627 non-null  object \n",
      " 23  WCIO Nature of Injury Code          377415 non-null  float64\n",
      " 24  WCIO Nature of Injury Description   377415 non-null  object \n",
      " 25  WCIO Part Of Body Code              378426 non-null  float64\n",
      " 26  WCIO Part Of Body Description       378426 non-null  object \n",
      " 27  Zip Code                            368633 non-null  object \n",
      " 28  Number of Dependents                387975 non-null  int64  \n",
      " 29  Agreement Reached                   387975 non-null  int64  \n",
      "dtypes: float64(8), int64(3), object(19)\n",
      "memory usage: 91.8+ MB\n"
     ]
    }
   ],
   "source": [
    "test_data.info()"
   ]
  },
  {
   "cell_type": "markdown",
   "metadata": {},
   "source": [
    "<a class=\"anchor\" id=\"types\">\n",
    "\n",
    "### 2.2.1 Changing the data types\n",
    "\n",
    "</a> "
   ]
  },
  {
   "cell_type": "markdown",
   "metadata": {},
   "source": [
    "The datatypes of the following features were corrected in both training and test datasets:\n",
    "- Age_at_injury (from float to integer)\n",
    "- Number of Dependents (from float to integer)\n",
    "- Birth year (from float to integer)\n",
    "- WCIO codes (from float to integer)\n",
    "- Industry code (from float to integer)\n",
    "\n",
    "- Accident Date (from object to datetime)\n",
    "- Assembly Date (from object to datetime)\n",
    "- C2 Date (from object to datetime)\n",
    "- C3 Date (from object to datetime)\n",
    "- First Hearing Date (from object to datetime)\n",
    "\n",
    "- First hearing Date (from object to datetime) - only on training dataset, since this feature doesn't exist in the test dataset."
   ]
  },
  {
   "cell_type": "code",
   "execution_count": 644,
   "metadata": {},
   "outputs": [],
   "source": [
    "train_data[\"Age at Injury\"] = train_data[\"Age at Injury\"].astype(\"Int64\")\n",
    "test_data[\"Age at Injury\"] = test_data[\"Age at Injury\"].astype(\"Int64\")\n",
    "\n",
    "train_data[\"Number of Dependents\"] = train_data[\"Number of Dependents\"].astype(\"Int64\")\n",
    "test_data[\"Number of Dependents\"] = test_data[\"Number of Dependents\"].astype(\"Int64\")\n",
    "\n",
    "train_data[\"Birth Year\"] = train_data[\"Birth Year\"].astype(\"Int64\")\n",
    "test_data[\"Birth Year\"] = test_data[\"Birth Year\"].astype(\"Int64\")\n",
    "\n",
    "train_data[\"WCIO Part Of Body Code\"] = train_data[\"WCIO Part Of Body Code\"].astype(\"Int64\")\n",
    "test_data[\"WCIO Part Of Body Code\"] = test_data[\"WCIO Part Of Body Code\"].astype(\"Int64\")\n",
    "\n",
    "train_data[\"WCIO Nature of Injury Code\"] = train_data[\"WCIO Nature of Injury Code\"].astype(\"Int64\")\n",
    "test_data[\"WCIO Nature of Injury Code\"] = test_data[\"WCIO Nature of Injury Code\"].astype(\"Int64\")\n",
    "\n",
    "train_data[\"WCIO Cause of Injury Code\"] = train_data[\"WCIO Cause of Injury Code\"].astype(\"Int64\")\n",
    "test_data[\"WCIO Cause of Injury Code\"] = test_data[\"WCIO Cause of Injury Code\"].astype(\"Int64\")\n",
    "\n",
    "train_data[\"Industry Code\"] = train_data[\"Industry Code\"].astype(\"Int64\")\n",
    "test_data[\"Industry Code\"] = test_data[\"Industry Code\"].astype(\"Int64\")\n",
    "\n",
    "train_data[\"Agreement Reached\"] = train_data[\"Agreement Reached\"].astype(\"Int64\")\n",
    "\n",
    "train_data[\"Accident Date\"] = pd.to_datetime(train_data['Accident Date'])\n",
    "test_data[\"Accident Date\"] = pd.to_datetime(test_data['Accident Date'])\n",
    "\n",
    "train_data[\"Assembly Date\"] = pd.to_datetime(train_data['Assembly Date'])\n",
    "test_data[\"Assembly Date\"] = pd.to_datetime(test_data['Assembly Date'])\n",
    "\n",
    "train_data[\"C-2 Date\"] = pd.to_datetime(train_data['C-2 Date'])\n",
    "test_data[\"C-2 Date\"] = pd.to_datetime(test_data['C-2 Date'])\n",
    "\n",
    "train_data[\"C-3 Date\"] = pd.to_datetime(train_data['C-3 Date'])\n",
    "test_data[\"C-3 Date\"] = pd.to_datetime(test_data['C-3 Date'])\n",
    "\n",
    "train_data[\"First Hearing Date\"] = pd.to_datetime(train_data['First Hearing Date'])\n",
    "test_data[\"First Hearing Date\"] = pd.to_datetime(test_data['First Hearing Date'])"
   ]
  },
  {
   "cell_type": "markdown",
   "metadata": {},
   "source": [
    "<a class=\"anchor\" id=\"duplicates\">\n",
    "\n",
    "### 2.2.2 Checking Duplicates\n",
    "\n",
    "</a> "
   ]
  },
  {
   "cell_type": "code",
   "execution_count": null,
   "metadata": {},
   "outputs": [],
   "source": [
    "# Filter duplicates (keep=False ensures all instances of duplicates are included)\n",
    "duplicates = train_data.loc[train_data.duplicated(keep=False), :]\n",
    "\n",
    "# Sort by all columns to group duplicates together\n",
    "duplicates_sorted = duplicates.sort_values(by=duplicates.columns.tolist())\n",
    "\n",
    "# Display the first 30 rows\n",
    "duplicates_sorted.head(30)"
   ]
  },
  {
   "cell_type": "code",
   "execution_count": null,
   "metadata": {},
   "outputs": [],
   "source": [
    "# Filter duplicates (keep=False ensures all instances of duplicates are included)\n",
    "duplicates = test_data.loc[test_data.duplicated(keep=False), :]\n",
    "\n",
    "# Sort by all columns to group duplicates together\n",
    "duplicates_sorted = duplicates.sort_values(by=duplicates.columns.tolist())\n",
    "\n",
    "# Display the first 30 rows\n",
    "duplicates_sorted.head(30)"
   ]
  },
  {
   "cell_type": "code",
   "execution_count": null,
   "metadata": {},
   "outputs": [],
   "source": [
    "duplicates_sum_train = train_data.duplicated().sum()\n",
    "duplicates_sum_test = test_data.duplicated().sum()\n",
    "\n",
    "print(f\"There are {duplicates_sum_train} in the training dataset.\")\n",
    "print(f\"There are {duplicates_sum_test} in the test dataset.\")"
   ]
  },
  {
   "cell_type": "markdown",
   "metadata": {},
   "source": [
    "We do not drop duplicates in the test dataset. We only do that in the train dataset."
   ]
  },
  {
   "cell_type": "code",
   "execution_count": 648,
   "metadata": {},
   "outputs": [],
   "source": [
    "train_data.drop_duplicates(inplace=True)"
   ]
  },
  {
   "cell_type": "markdown",
   "metadata": {},
   "source": [
    "* Check if there are any duplicated indexes"
   ]
  },
  {
   "cell_type": "code",
   "execution_count": null,
   "metadata": {},
   "outputs": [],
   "source": [
    "num_duplicates = train_data.index.duplicated().sum()\n",
    "print(f\"Number of duplicate indexes: {num_duplicates}\")"
   ]
  },
  {
   "cell_type": "markdown",
   "metadata": {},
   "source": [
    "<a class=\"anchor\" id=\"unique\">\n",
    "\n",
    "### 2.2.3 Checking unique values & looking for some values that can indicate missing values\n",
    "\n",
    "</a> "
   ]
  },
  {
   "cell_type": "code",
   "execution_count": null,
   "metadata": {},
   "outputs": [],
   "source": [
    "for column in train_data.columns:\n",
    "    unique_values = train_data[column].unique()\n",
    "    unique_values_num = train_data[column].nunique()\n",
    "    print(f\"Unique values in '{column}':\")\n",
    "    print(unique_values)\n",
    "    print(f\"Number of unique values in '{column}':\")\n",
    "    print(unique_values_num)\n",
    "    \n",
    "    print()"
   ]
  },
  {
   "cell_type": "markdown",
   "metadata": {},
   "source": [
    "Cells below are commented because they were used to check more detailed unique values for chosen variables"
   ]
  },
  {
   "cell_type": "code",
   "execution_count": 651,
   "metadata": {},
   "outputs": [],
   "source": [
    "# train_data['Accident Date'].value_counts().sort_index(ascending=False)"
   ]
  },
  {
   "cell_type": "code",
   "execution_count": 652,
   "metadata": {},
   "outputs": [],
   "source": [
    "# train_data['Age at Injury'].value_counts().sort_index(ascending=False)"
   ]
  },
  {
   "cell_type": "code",
   "execution_count": 653,
   "metadata": {},
   "outputs": [],
   "source": [
    "# train_data['Assembly Date'].value_counts().sort_index(ascending=False)"
   ]
  },
  {
   "cell_type": "code",
   "execution_count": 654,
   "metadata": {},
   "outputs": [],
   "source": [
    "# train_data['Average Weekly Wage'].value_counts().sort_index(ascending=False)"
   ]
  },
  {
   "cell_type": "code",
   "execution_count": 655,
   "metadata": {},
   "outputs": [],
   "source": [
    "# train_data['Birth Year'].value_counts().sort_index(ascending=False)"
   ]
  },
  {
   "cell_type": "code",
   "execution_count": 656,
   "metadata": {},
   "outputs": [],
   "source": [
    "# train_data['C-2 Date'].value_counts().sort_index(ascending=False)"
   ]
  },
  {
   "cell_type": "code",
   "execution_count": 657,
   "metadata": {},
   "outputs": [],
   "source": [
    "# train_data['C-3 Date'].value_counts().sort_index(ascending=False)"
   ]
  },
  {
   "cell_type": "code",
   "execution_count": 658,
   "metadata": {},
   "outputs": [],
   "source": [
    "# train_data['Carrier Name'].value_counts().sort_index()"
   ]
  },
  {
   "cell_type": "code",
   "execution_count": 659,
   "metadata": {},
   "outputs": [],
   "source": [
    "# train_data['Carrier Type'].value_counts().sort_index()"
   ]
  },
  {
   "cell_type": "code",
   "execution_count": 660,
   "metadata": {},
   "outputs": [],
   "source": [
    "# train_data['First Hearing Date'].value_counts().sort_index()"
   ]
  },
  {
   "cell_type": "code",
   "execution_count": 661,
   "metadata": {},
   "outputs": [],
   "source": [
    "# train_data['Zip Code'].value_counts().sort_index()"
   ]
  },
  {
   "cell_type": "markdown",
   "metadata": {},
   "source": [
    "#### All listed Variables - unique variables summary \n",
    "\n",
    "1. **Accident Date**: contains dates, no strange values (5539 unique values)\n",
    "\n",
    "2. **Age at Injury**: there are some values >100 and there is age equal to  0  (108 unique values) \n",
    "3. **Alternative Dispute Resolution**: there is one strange unique value such as \"U\" (3 unique values)\n",
    "4. **Assembly Date**: containts dates, no strange values (1096 unique values)\n",
    "5. **Attorney/Representative**: no strange values (2 unique values)\n",
    "6. **Average Weekly Wage**: no typical strange values but there are many records sayin that avg weekly wage is equal to 0, a lot of unique values (120024 unique values)\n",
    "7. **Birth Year**:  one strange values \"0\" (Birth Year cannot be 0) (107 unique values)\n",
    "8. **C-2 Date**: contains data, there are some years from 90s (2475 unique values)\n",
    "9. **C-3 Date**: contains data, there are some years from 90s (1648 unique values)\n",
    "10. **Carrier Name**: there are some strange description such as: '*** CARRIER UNDETERMINED ***', (2046 unique values) \n",
    "11. **Carrier Type**: there is one strange value 'UNKNOWN' (8 unique values)\n",
    "12. **Claim Injury Type**: no strange values (8 unique values)\n",
    "13. **County of Injury**: there is one strange value 'UNKNOWN' (63 unique values)\n",
    "14. **COVID-19 Indicator**: no strange values (2 unique values)\n",
    "15. **District Name**: no strange values (8 unique values)\n",
    "16. **First Hearing Date**: no strange values (1094 unique values)\n",
    "17. **Gender**: two strange values 'U' 'X' (4 unique values)\n",
    "18. **Industry Code**: no strange values (24 unique values)\n",
    "19. **Industry Code Description**: no strange values (20 unique values)\n",
    "20. **Medical Fee Region**: one strange value 'UK' (4 unique values)\n",
    "21. ***OIICS Nature of Injury Description**: variable does not contain any data\n",
    "22. **WCIO Cause of Injury Code**: no strange values (77 unique values) \n",
    "23. **WCIO Cause of Injury Description**: no strange values (74 unique values)\n",
    "24. **WCIO Nature of Injury Code**: and no strange values (56 unique values)\n",
    "25. **WCIO Nature of Injury Description**: no strange values (56 unique values)\n",
    "26. **WCIO Part Of Body Code**: one strange values \"-9\" (57 unique values)\n",
    "27. **WCIO Part Of Body Description**: no strange values (54 unique values)\n",
    "28. **Zip Code**:  this variables is a bit strange, it has some strange zip codes such as zip code '.1605', '00000' or '99999' that does not exist, also it has zip codes that starts with letters not with numbers as well as one unique value 'UNKNO' (8286 unique values)\n",
    "29. **Agreement Reached**:  no strange values (2 unique values)\n",
    "30. **WCB Decision**: no strange values (1 unique value)\n",
    "31. **Number of Dependents**: no strange values (7 unique values)\n"
   ]
  },
  {
   "cell_type": "markdown",
   "metadata": {},
   "source": [
    "Based on the description above we changed strange values to missing values."
   ]
  },
  {
   "cell_type": "code",
   "execution_count": 662,
   "metadata": {},
   "outputs": [],
   "source": [
    "# Filling missing values with NaN\n",
    "\n",
    "train_data['Alternative Dispute Resolution'].replace('U', np.nan, inplace = True)\n",
    "test_data['Alternative Dispute Resolution'].replace('U', np.nan, inplace = True)\n",
    "\n",
    "train_data['Carrier Name'].replace('*** CARRIER UNDETERMINED ***', np.nan, inplace = True)\n",
    "test_data['Carrier Name'].replace('*** CARRIER UNDETERMINED ***', np.nan, inplace = True)\n",
    "\n",
    "train_data['Carrier Type'].replace('UNKNOWN', np.nan, inplace = True)\n",
    "test_data['Carrier Type'].replace('UNKNOWN', np.nan, inplace = True)\n",
    "\n",
    "train_data['County of Injury'].replace('UNKNOWN', np.nan, inplace=True)\n",
    "test_data['County of Injury'].replace('UNKNOWN', np.nan, inplace=True)\n",
    "\n",
    "train_data['Gender'].replace(['X','U'], np.nan, inplace = True)\n",
    "test_data['Gender'].replace(['X','U'], np.nan, inplace = True)\n",
    "\n",
    "train_data['Medical Fee Region'].replace('UK', np.nan, inplace = True)\n",
    "test_data['Medical Fee Region'].replace('UK', np.nan, inplace = True)\n",
    "\n",
    "train_data['Zip Code'].replace([\".1605\", \"00000\", \"99999\",\"UNKNO\"], np.nan, inplace=True)\n",
    "test_data['Zip Code'].replace([\".1605\", \"00000\", \"99999\", \"UNKNO\"], np.nan, inplace=True)"
   ]
  },
  {
   "cell_type": "markdown",
   "metadata": {},
   "source": [
    "Investigating 0 values in the Age variable"
   ]
  },
  {
   "cell_type": "code",
   "execution_count": null,
   "metadata": {},
   "outputs": [],
   "source": [
    "train_data[train_data['Age at Injury'] == 0].shape"
   ]
  },
  {
   "cell_type": "code",
   "execution_count": 664,
   "metadata": {},
   "outputs": [],
   "source": [
    "# age_at_injury_zero = train_data[train_data['Age at Injury'] == 0]\n",
    "# age_at_injury_zero.groupby('Birth Year')['Age at Injury'].value_counts(dropna=False).sort_index()"
   ]
  },
  {
   "cell_type": "markdown",
   "metadata": {},
   "source": [
    "There are 5463 zeros in total in the variables Age at Injury.\n",
    "- There are 1926 values that are 0 both in Birth Year as well as at Age at Injury \n",
    "- The rest of the zero values (3537) in the variable Age at Injury can be replaced with actual age calulated as accident date - birth year "
   ]
  },
  {
   "cell_type": "markdown",
   "metadata": {},
   "source": [
    "Replacing the Age at Injury values that are equal to 0 (where Birth Year is not equal to 0) with the actual age calculated from the difference between the Accident Date and the Birth Year"
   ]
  },
  {
   "cell_type": "code",
   "execution_count": 665,
   "metadata": {},
   "outputs": [],
   "source": [
    "train_data['Actual Age'] = train_data['Accident Date'].dt.year - train_data['Birth Year']\n",
    "\n",
    "filtered_rows = train_data[(train_data['Birth Year'] != 0) & (train_data['Age at Injury'] == 0)]\n",
    "\n",
    "train_data.loc[filtered_rows.index, 'Age at Injury'] = train_data['Actual Age']"
   ]
  },
  {
   "cell_type": "code",
   "execution_count": 666,
   "metadata": {},
   "outputs": [],
   "source": [
    "test_data['Actual Age'] = test_data['Accident Date'].dt.year - test_data['Birth Year']\n",
    "\n",
    "filtered_rows = test_data[(test_data['Birth Year'] != 0) & (test_data['Age at Injury'] == 0)]\n",
    "\n",
    "test_data.loc[filtered_rows.index, 'Age at Injury'] = test_data['Actual Age']"
   ]
  },
  {
   "cell_type": "markdown",
   "metadata": {},
   "source": [
    "Check if there are any incoherencies in between Age at Injury that is given in the data set and Actual Age calulated as difference between Accident Date and Birth Year"
   ]
  },
  {
   "cell_type": "code",
   "execution_count": null,
   "metadata": {},
   "outputs": [],
   "source": [
    "train_data['Age Diff'] = train_data['Actual Age'] - train_data['Age at Injury']\n",
    "\n",
    "age_difference = train_data[['Accident Date', 'Birth Year','Actual Age', 'Age at Injury', 'Age Diff']]\n",
    "\n",
    "filtered_summary = age_difference[(age_difference['Age Diff'] != 0) &  (age_difference['Birth Year'] != 0) & (age_difference['Birth Year'].notna())]\n",
    "\n",
    "filtered_summary['Age Diff'].value_counts()\n"
   ]
  },
  {
   "cell_type": "code",
   "execution_count": null,
   "metadata": {},
   "outputs": [],
   "source": [
    "test_data['Age Diff'] = test_data['Actual Age'] - test_data['Age at Injury']\n",
    "\n",
    "age_difference = test_data[['Accident Date', 'Birth Year','Actual Age', 'Age at Injury', 'Age Diff']]\n",
    "\n",
    "filtered_summary = age_difference[(age_difference['Age Diff'] != 0) &  (age_difference['Birth Year'] != 0) & (age_difference['Birth Year'].notna())]\n",
    "\n",
    "filtered_summary['Age Diff'].value_counts()\n"
   ]
  },
  {
   "cell_type": "markdown",
   "metadata": {},
   "source": [
    "Conclusion:"
   ]
  },
  {
   "cell_type": "markdown",
   "metadata": {},
   "source": [
    "There are no incoherencies in between those two variables. the only unique values are 1 and -1 and that difference can be caused by the fact that we dont have the Birth Month, so Actual Age can be slightly different from the Age Calculated as subtraction of Accident Date and Birth Year."
   ]
  },
  {
   "cell_type": "code",
   "execution_count": 669,
   "metadata": {},
   "outputs": [],
   "source": [
    "train_data.drop(columns=['Actual Age','Age Diff'], inplace=True)\n",
    "test_data.drop(columns=['Actual Age', 'Age Diff'], inplace=True)"
   ]
  },
  {
   "cell_type": "code",
   "execution_count": 670,
   "metadata": {},
   "outputs": [],
   "source": [
    "# train_data['Age at Injury'].value_counts().sort_index()"
   ]
  },
  {
   "cell_type": "code",
   "execution_count": null,
   "metadata": {},
   "outputs": [],
   "source": [
    "train_data[(train_data['Age at Injury'] == 0)].shape"
   ]
  },
  {
   "cell_type": "code",
   "execution_count": 672,
   "metadata": {},
   "outputs": [],
   "source": [
    "# train_data.groupby('Age at Injury')['Birth Year'].value_counts(dropna=False).sort_index()"
   ]
  },
  {
   "cell_type": "markdown",
   "metadata": {},
   "source": [
    "Changing Age at Injury from 0 to missing values where the Birth Year has missing value."
   ]
  },
  {
   "cell_type": "code",
   "execution_count": 673,
   "metadata": {},
   "outputs": [],
   "source": [
    "train_data.loc[(train_data['Age at Injury'] == 0) & (train_data['Birth Year'].isna()), 'Age at Injury'] = np.nan\n",
    "test_data.loc[(test_data['Age at Injury'] == 0) & (test_data['Birth Year'].isna()), 'Age at Injury'] = np.nan\n"
   ]
  },
  {
   "cell_type": "markdown",
   "metadata": {},
   "source": [
    "Changing Age at Injury from 0 to missing values where the Birth Year is also 0"
   ]
  },
  {
   "cell_type": "code",
   "execution_count": 674,
   "metadata": {},
   "outputs": [],
   "source": [
    "train_data.loc[(train_data['Age at Injury'] == 0) & (train_data['Birth Year'] == 0), 'Age at Injury'] = np.nan\n",
    "test_data.loc[(test_data['Age at Injury'] == 0) & (test_data['Birth Year'] == 0), 'Age at Injury'] = np.nan"
   ]
  },
  {
   "cell_type": "code",
   "execution_count": 675,
   "metadata": {},
   "outputs": [],
   "source": [
    "# train_data['Age at Injury'].value_counts(dropna=False).sort_index()"
   ]
  },
  {
   "cell_type": "markdown",
   "metadata": {},
   "source": [
    "At this point Birth Year variable can be dropped since it has similar info as Age at Injury "
   ]
  },
  {
   "cell_type": "code",
   "execution_count": 676,
   "metadata": {},
   "outputs": [],
   "source": [
    "train_data = train_data.drop('Birth Year', axis=1)\n",
    "test_data = test_data.drop('Birth Year', axis=1)"
   ]
  },
  {
   "cell_type": "markdown",
   "metadata": {},
   "source": [
    "There is also strange value (code equal to -9) in the variable WCIO Part Of Body Code. According WCIO website there is no such code as -9. We checked with variable WCIO Part of Body Description which description corresponds to Code -9 in our data set. We found out that -9 is always associated with description \"Multiple\"."
   ]
  },
  {
   "cell_type": "code",
   "execution_count": null,
   "metadata": {},
   "outputs": [],
   "source": [
    "filtered_data_train = train_data[train_data[\"WCIO Part Of Body Code\"] == -9]\n",
    "filtered_data_train[\"WCIO Part Of Body Description\"].value_counts()"
   ]
  },
  {
   "cell_type": "code",
   "execution_count": null,
   "metadata": {},
   "outputs": [],
   "source": [
    "filtered_data_test = test_data[test_data[\"WCIO Part Of Body Code\"] == -9]\n",
    "filtered_data_test[\"WCIO Part Of Body Description\"].value_counts()"
   ]
  },
  {
   "cell_type": "markdown",
   "metadata": {},
   "source": [
    "We deal with that \"-9\" values after splitting into validation and training set (in the filling missing values section)"
   ]
  },
  {
   "cell_type": "markdown",
   "metadata": {},
   "source": [
    "Variable ***Zip Code*** has a lot of unique values. Therefore, we decided to group Zip Code based on their first digit of the ZipCode"
   ]
  },
  {
   "cell_type": "code",
   "execution_count": 679,
   "metadata": {},
   "outputs": [],
   "source": [
    "def categorize_zip(zip_code):\n",
    "    if pd.isna(zip_code):  \n",
    "        return np.nan \n",
    "    elif isinstance(zip_code, str) and zip_code[0].isdigit():\n",
    "        return zip_code[0]\n",
    "    else:\n",
    "        return \"Other\""
   ]
  },
  {
   "cell_type": "code",
   "execution_count": null,
   "metadata": {},
   "outputs": [],
   "source": [
    "train_data['zip_code_cat'] = train_data['Zip Code'].apply(categorize_zip)\n",
    "test_data['zip_code_cat'] = test_data['Zip Code'].apply(categorize_zip)\n",
    "\n",
    "train_data['zip_code_cat'].value_counts(dropna=False)"
   ]
  },
  {
   "cell_type": "markdown",
   "metadata": {},
   "source": [
    "After we created zip_code_cat we can drop the variable Zip Code"
   ]
  },
  {
   "cell_type": "code",
   "execution_count": 681,
   "metadata": {},
   "outputs": [],
   "source": [
    "train_data = train_data.drop('Zip Code', axis =1)\n",
    "test_data = test_data.drop('Zip Code', axis =1)"
   ]
  },
  {
   "cell_type": "markdown",
   "metadata": {},
   "source": [
    "We decided to drop variables such us: OIICS Nature of Injury Description and WCB Decision. First variable does not containt any values and second one contains only one unique value, so any of them are not informative. We drop WCB Decision only from the train_data because it is not included in the test_data"
   ]
  },
  {
   "cell_type": "code",
   "execution_count": 682,
   "metadata": {},
   "outputs": [],
   "source": [
    "train_data =train_data.drop(['OIICS Nature of Injury Description','WCB Decision'], axis=1) #'Agreement Reached'\n",
    "test_data = test_data.drop(['OIICS Nature of Injury Description'],axis=1)"
   ]
  },
  {
   "cell_type": "markdown",
   "metadata": {},
   "source": [
    "Based on the description of unique values we can assume that variables such as 'WCIO Part Of Body Description','WCIO Nature of Injury Description','WCIO Cause of Injury Description', 'Carrier Name' could be considered to being dropped, becuase they containts description of coded variables, so we do not need to duplicate the information. "
   ]
  },
  {
   "cell_type": "markdown",
   "metadata": {},
   "source": [
    "Recheck for unique values in those variables that have been changed"
   ]
  },
  {
   "cell_type": "code",
   "execution_count": 683,
   "metadata": {},
   "outputs": [],
   "source": [
    "# train_data['Alternative Dispute Resolution'].value_counts().sort_index()"
   ]
  },
  {
   "cell_type": "code",
   "execution_count": 684,
   "metadata": {},
   "outputs": [],
   "source": [
    "# train_data['Carrier Name'].value_counts().sort_index()"
   ]
  },
  {
   "cell_type": "code",
   "execution_count": 685,
   "metadata": {},
   "outputs": [],
   "source": [
    "# train_data['Carrier Type'].value_counts().sort_index()"
   ]
  },
  {
   "cell_type": "code",
   "execution_count": 686,
   "metadata": {},
   "outputs": [],
   "source": [
    "# train_data['County of Injury'].value_counts().sort_index()"
   ]
  },
  {
   "cell_type": "code",
   "execution_count": 687,
   "metadata": {},
   "outputs": [],
   "source": [
    "# train_data['Gender'].value_counts().sort_index()"
   ]
  },
  {
   "cell_type": "code",
   "execution_count": 688,
   "metadata": {},
   "outputs": [],
   "source": [
    "# train_data['Medical Fee Region'].value_counts().sort_index()"
   ]
  },
  {
   "cell_type": "code",
   "execution_count": 689,
   "metadata": {},
   "outputs": [],
   "source": [
    "# train_data['Zip Code'].value_counts().sort_index()"
   ]
  },
  {
   "cell_type": "markdown",
   "metadata": {},
   "source": [
    "---"
   ]
  },
  {
   "cell_type": "markdown",
   "metadata": {},
   "source": [
    "<a class=\"anchor\" id=\"visualisation\">\n",
    "\n",
    "# 3. Data Visualisation\n",
    "\n",
    "</a>"
   ]
  },
  {
   "cell_type": "markdown",
   "metadata": {},
   "source": [
    "<a class=\"anchor\" id=\"metricandnon\">\n",
    "\n",
    "## 3.1 Define Metric and Non-Metric Features\n",
    "\n",
    "</a>"
   ]
  },
  {
   "cell_type": "markdown",
   "metadata": {},
   "source": [
    "Before doing data visualisation we define metric and non-metric features"
   ]
  },
  {
   "cell_type": "code",
   "execution_count": null,
   "metadata": {},
   "outputs": [],
   "source": [
    "train_data.columns"
   ]
  },
  {
   "cell_type": "code",
   "execution_count": 691,
   "metadata": {},
   "outputs": [],
   "source": [
    "### Define metric & non-metric features\n",
    "\n",
    "metric_features = [\"Age at Injury\", \"Average Weekly Wage\", \"IME-4 Count\", \"Number of Dependents\"]\n",
    "\n",
    "non_metric_features = [\"Industry Code\", \"WCIO Cause of Injury Code\", \"WCIO Nature of Injury Code\", \"WCIO Part Of Body Code\", \"Accident Date\", \"Alternative Dispute Resolution\",\n",
    "                       \"Assembly Date\", \"Agreement Reached\", \"Attorney/Representative\", \"C-2 Date\", \"C-3 Date\", \"Carrier Name\", \"Carrier Type\", \"County of Injury\", \"COVID-19 Indicator\",\n",
    "                       \"District Name\", \"First Hearing Date\", \"Gender\", \"Industry Code Description\", \"Medical Fee Region\", \"WCIO Cause of Injury Description\", \n",
    "                       \"WCIO Nature of Injury Description\", \"WCIO Part Of Body Description\",\"zip_code_cat\"]\n"
   ]
  },
  {
   "cell_type": "markdown",
   "metadata": {},
   "source": [
    "-----------------------"
   ]
  },
  {
   "cell_type": "markdown",
   "metadata": {},
   "source": [
    "<a class=\"anchor\" id=\"metric\">\n",
    "\n",
    "## 3.2 Metric Features\n",
    "\n",
    "</a>"
   ]
  },
  {
   "cell_type": "code",
   "execution_count": null,
   "metadata": {},
   "outputs": [],
   "source": [
    "train_data['Age at Injury'].plot(\n",
    "    kind='hist',\n",
    "    color=plt.cm.tab20(1) , \n",
    "    edgecolor='black',\n",
    "    bins=19\n",
    ")\n",
    "\n",
    "plt.title('Histogram of Age at Injury')\n",
    "plt.xlabel('Age at Injury')\n",
    "plt.ylabel('Frequency') \n",
    "plt.show()"
   ]
  },
  {
   "cell_type": "markdown",
   "metadata": {},
   "source": [
    "Analysis of variable Age at Injury:\n",
    "- The data is primarily concentrated between ages 20 and 70, with minimal occurrences beyond age 80. \n",
    "- The age group with the highest frequency of injuries appears to be in the range of 40 to 50, followed closely by the 30-40 and 50-60 ranges.\n",
    "- The histogram is roughly symmetric and bell-shaped, suggesting a somewhat normal distribution centered around middle-aged individuals (30-60).\n",
    "- There are some cases of injuries at extreme ages (under 10 and over 80), though these are rare compared to the central age groups. (Possible outliers)\n"
   ]
  },
  {
   "cell_type": "code",
   "execution_count": null,
   "metadata": {},
   "outputs": [],
   "source": [
    "train_data['Average Weekly Wage'].plot(\n",
    "    kind='hist',\n",
    "    color=plt.cm.tab20(1) ,\n",
    "    edgecolor='black',\n",
    "    bins=19\n",
    ")\n",
    "\n",
    "plt.title('Histogram of Average Weekly Wage')\n",
    "plt.xlabel('Average Weekly Wage')\n",
    "plt.ylabel('Log10(Frequency)')\n",
    "plt.yscale('log')  \n",
    "plt.show()   "
   ]
  },
  {
   "cell_type": "markdown",
   "metadata": {},
   "source": [
    "Analysis of variable Average Weekly Wage:\n",
    "- Most data points are concentrated at the very low end of the wage scale, with a large spike around the minimum wage range. This suggests that the majority of individuals earn a relatively low weekly wage.\n",
    "- The y-axis is in a logarithmic scale, indicating that the actual frequencies vary greatly. This scale allows us to see the distribution more clearly, even though most values are concentrated at the low end.\n",
    "- As wages increase, the frequency decreases rapidly. There are only a few occurrences of higher wages, suggesting that high average weekly wages are rare.\n",
    "- There are small bars at the far right end of the scale (near 2.5 million), which could indicate a few extreme outliers or high-income earners in the dataset. (Possible outliers)"
   ]
  },
  {
   "cell_type": "code",
   "execution_count": null,
   "metadata": {},
   "outputs": [],
   "source": [
    "train_data['IME-4 Count'].plot(\n",
    "    kind='hist',\n",
    "    color=plt.cm.tab20(1) , \n",
    "    edgecolor='black',\n",
    "    bins=19\n",
    ")\n",
    "\n",
    "plt.title('Histogram of IME-4 Count')\n",
    "plt.xlabel('IME-4 Count')\n",
    "plt.ylabel('Log10(Frequency)')\n",
    "plt.yscale('log')  \n",
    "plt.show()   "
   ]
  },
  {
   "cell_type": "markdown",
   "metadata": {},
   "source": [
    "Analysis of variable IME-4 Count:\n",
    "- The data is heavily skewed towards lower values of IME-4 Count, with the highest frequency occurring between 0 and 10. \n",
    "- The y-axis is in a logarithmic scale, indicating that the actual frequencies vary greatly. This scale allows us to see the distribution more clearly, even though most values are concentrated at the low end.\n",
    "- The frequency decreases as the IME-4 Count increases. There is a gradual decline from low to high values, with only a few occurrences beyond 50.\n",
    "- There is a small bar at the far right (around 70), suggesting a few outliers with unusually high IME-4 Counts."
   ]
  },
  {
   "cell_type": "code",
   "execution_count": null,
   "metadata": {},
   "outputs": [],
   "source": [
    "train_data['Number of Dependents'].plot(\n",
    "    kind='hist',\n",
    "    color=plt.cm.tab20(1) , \n",
    "    edgecolor='black',\n",
    "    bins=5\n",
    ")\n",
    "\n",
    "plt.title('Histogram of Number of Dependents')\n",
    "plt.xlabel('Number of Dependents')\n",
    "plt.ylabel('Frequency') \n",
    "plt.show()"
   ]
  },
  {
   "cell_type": "markdown",
   "metadata": {},
   "source": [
    "Analysis of variable Number of Dependents:\n",
    "\n",
    "•⁠  ⁠The highest frequencies are at 0 and 6 dependents.\n",
    "\n",
    "•⁠  ⁠There is a noticeable decrease in frequency for categories 2, 3, and 4 dependents, indicating fewer cases."
   ]
  },
  {
   "cell_type": "code",
   "execution_count": 696,
   "metadata": {},
   "outputs": [],
   "source": [
    "# def plot_filtered_histogram(data, column_name, min_value, max_value, bins=19):\n",
    "    \n",
    "#     # Filter the data to include only the values in the specified range\n",
    "#     filtered_data = train_data[(train_data[column_name] >= min_value) & (train_data[column_name] <= max_value)][column_name].dropna()\n",
    "    \n",
    "#     #Histogram\n",
    "#     plt.figure(figsize=(10, 6))\n",
    "#     plt.hist(filtered_data, bins=bins, color=plt.cm.tab20(1) , edgecolor='black')\n",
    "#     plt.title(f'Histogram of {column_name} (range: {min_value} to {max_value})')\n",
    "#     plt.xlabel(column_name)\n",
    "#     plt.ylabel('Frequency')\n",
    "#     plt.grid(axis='y', alpha=0.75)\n",
    "#     plt.show()"
   ]
  },
  {
   "cell_type": "code",
   "execution_count": 697,
   "metadata": {},
   "outputs": [],
   "source": [
    "# plot_filtered_histogram(train_data, column_name=\"Birth Year\", min_value=1920, max_value=2024, bins=19)"
   ]
  },
  {
   "cell_type": "markdown",
   "metadata": {},
   "source": [
    "-------------------------------"
   ]
  },
  {
   "cell_type": "markdown",
   "metadata": {},
   "source": [
    "<a class=\"anchor\" id=\"non\">\n",
    "\n",
    "## 3.3 Non-Metric Features\n",
    "\n",
    "</a>"
   ]
  },
  {
   "cell_type": "code",
   "execution_count": null,
   "metadata": {},
   "outputs": [],
   "source": [
    "for column in non_metric_features:\n",
    "    \n",
    "    top_categories = train_data[column].value_counts().head(10)\n",
    "\n",
    "    top_categories_sorted = top_categories.sort_values(ascending=True)\n",
    "\n",
    "    data_filtered = train_data[train_data[column].isin(top_categories_sorted.index)]\n",
    "    \n",
    "   \n",
    "    plt.figure(figsize=(10, 5))\n",
    "    sns.countplot(data=data_filtered, \n",
    "                  x=column, \n",
    "                  order=top_categories_sorted.index,  \n",
    "                  palette='tab20')\n",
    "    \n",
    "  \n",
    "    plt.xlabel(column, fontsize=14)\n",
    "    plt.ylabel('Count', fontsize=14)\n",
    "    plt.title(f'Top 10 Categories in {column}')\n",
    "    \n",
    "    \n",
    "    plt.xticks(rotation=45)\n",
    "    plt.tight_layout()\n",
    "    plt.show()"
   ]
  },
  {
   "cell_type": "markdown",
   "metadata": {},
   "source": [
    "### Analysis of Categorical Variables\n",
    " - **Industry Code**\n",
    "\n",
    "    The top 2 industry codes are **62** (almost 120.000) and **92** (almost 100.000) with a large marge relatively to the rest\n",
    "\n",
    "\n",
    " - **WCIO Cause of Injury Code**\n",
    "\n",
    "   The most common cause of injury has the code **56** (almost 50.000) with a marge relatively to the others\n",
    "\n",
    "\n",
    " - **WCIO Nature of Injury Code** \n",
    "\n",
    "   The top 2 industry codes are **52** (close to 160.000) and **10** (closte to 110.000) with a large marge relatively to the rest\n",
    "\n",
    "\n",
    " - **WCIO Part of Body Code** \n",
    "\n",
    "   The most common causes of injury have the code **42** (slightly exceeds 50.000) and **53** (close to 50.000)\n",
    "\n",
    "\n",
    " - **Accident Date**\n",
    "\n",
    "   01-03-2023 (slightly exceeds 1200) with a large marge relatively to the others\n",
    "\n",
    "\n",
    "- **Alternative Dispute Resolution**\n",
    "\n",
    "   100% = No\n",
    "\n",
    "\n",
    "- **Assembly Date** \n",
    "\n",
    "   Top 3: 06-03-2020 (1400), 11-05-2021 (close to 1400) and 01-04-2022 (slightly exceeds 1200)\n",
    "\n",
    "\n",
    "- **Attorney/Representative**\n",
    "\n",
    "   Almost 400.000 = No\n",
    "\n",
    "\n",
    "- **C-2 Date**\n",
    "\n",
    "   11-05-2021 (close to 1875) with a large marge in relation to the others\n",
    "\n",
    "\n",
    "- **C-3 Date**\n",
    "\n",
    "   Top 3: 21-04-2021, 26-10-2020 and 10-02-2020 (all 3 close to 350)\n",
    "\n",
    "\n",
    "- **Carrier Name** \n",
    "\n",
    "   State Insurance Fund (more than 100.000) with a large marge in relation to the others\n",
    "\n",
    "\n",
    "- **Carrier Type**\n",
    "\n",
    "   1A.Private (almost 300.000) with a large marge in relation to the others\n",
    "\n",
    "\n",
    "- **County of Injury**\n",
    "\n",
    "   Top 3: Suffolk (more than 60.000), Queens (almost 60.000) and Kings (slightly exceeds 50.000)\n",
    "\n",
    "\n",
    "- **COVID-19 Indicator**\n",
    "\n",
    "   No (Close to 550.000)\n",
    "\n",
    "\n",
    "- **District Name**\n",
    "\n",
    "   NYC (slightly exceeds 255.000) with a large marge in relation to the others\n",
    "\n",
    "\n",
    "- **Fisrt Hearing Date**\n",
    "\n",
    "   Top 3: 15-04-2022 (close to 500), 20-01-2022 (slightly exceeds 400) and 15-02-2022 (400)\n",
    "\n",
    "\n",
    "- **Gender** \n",
    "\n",
    "   Male with almost 350.000\n",
    "\n",
    "\n",
    "- **Industry Code Description**\n",
    "\n",
    "   The more frequent are: Health Care and Social Assistance (almost 120.000) and Public Administration (slightly exceeds 90.000) with a large marge in relation to the others\n",
    "\n",
    "\n",
    "- **Medical Fee Region** \n",
    "\n",
    "   IV (close to 275.000) with a large marge in relation to the others\n",
    "\n",
    "\n",
    "- **WCIO Cause os Injury Description**\n",
    "\n",
    "   Top 3: Fellow worker, Patient or Other Person (close to 50.000), Strain or Injury By, NOC (close to 40.000) and Fall, Slip or Trip, NOC (slightly exceeds 30.000)\n",
    "\n",
    "\n",
    "- **WCIO Nature of Injury Description**\n",
    "\n",
    "   Strain or Tear (150.000) and Contusion (slightly exceeds 100.000) with a large marge in relation to the others\n",
    "\n",
    "\n",
    "- **WCIO Part of Body Description**\n",
    "\n",
    "   Top 3: Lower Back Area (close to 50.000), Knee (close to 50.000) and Multiple (slightly exceeds 40.000)\n",
    "\n",
    "\n",
    "- **Zip Code Categorie**\n",
    "\n",
    "   1 (slightly exceeds 500.000) with a large marge in relation to the others"
   ]
  },
  {
   "cell_type": "markdown",
   "metadata": {},
   "source": [
    "--------------------------"
   ]
  },
  {
   "cell_type": "markdown",
   "metadata": {},
   "source": [
    "<a class=\"anchor\" id=\"non\">\n",
    "\n",
    "## 3.3 Target variable\n",
    "\n",
    "</a>"
   ]
  },
  {
   "cell_type": "markdown",
   "metadata": {},
   "source": [
    "### Claim Injury Type distribution"
   ]
  },
  {
   "cell_type": "code",
   "execution_count": null,
   "metadata": {},
   "outputs": [],
   "source": [
    "plt.figure(figsize=(10, 5))\n",
    "sns.countplot(data=train_data,\n",
    "              x='Claim Injury Type',  \n",
    "              palette='tab20')\n",
    "    \n",
    "  \n",
    "plt.xlabel('Claim Injury Type', fontsize=14)\n",
    "plt.ylabel('Count', fontsize=14)\n",
    "plt.title('Distribution of Target Variable')\n",
    "    \n",
    "    \n",
    "plt.xticks(rotation=45)\n",
    "plt.tight_layout()\n",
    "plt.show()"
   ]
  },
  {
   "cell_type": "markdown",
   "metadata": {},
   "source": [
    "### Analysis of Target Variable\n",
    "-  ⁠The target variable, \"Claim Injury Type,\" shows a significant class imbalance.\n",
    "-  ⁠The most common category is \"2. NON-COMP\", with around 300.000 cases, which is far more frequent than any other category.\n",
    "- ⁠\"4. TEMPORARY\" and \"3. MED ONLY\" follow as the second and third most common categories, but with notably fewer counts than \"2. NON-COMP\".\n",
    "-  ⁠The categories \"1. CANCELLED\", \"6. PPD NSL\", \"7. PTD\", and \"8. DEATH\" have very few cases, indicating they are rare events in the dataset."
   ]
  },
  {
   "cell_type": "markdown",
   "metadata": {},
   "source": [
    "---"
   ]
  },
  {
   "cell_type": "markdown",
   "metadata": {},
   "source": [
    "<a class=\"anchor\" id=\"clean\">\n",
    "\n",
    "# 4. Data Cleaning and Pre-processing\n",
    "\n",
    "</a>"
   ]
  },
  {
   "cell_type": "markdown",
   "metadata": {},
   "source": [
    "<a class=\"anchor\" id=\"nantarget\">\n",
    "\n",
    "## 4.1 Missing values in the target variable - Claim Injury Type\n",
    "\n",
    "</a>"
   ]
  },
  {
   "cell_type": "code",
   "execution_count": null,
   "metadata": {},
   "outputs": [],
   "source": [
    "train_data[\"Claim Injury Type\"].isna().sum()"
   ]
  },
  {
   "cell_type": "code",
   "execution_count": 38,
   "metadata": {},
   "outputs": [
    {
     "data": {
      "text/html": [
       "<div>\n",
       "<style scoped>\n",
       "    .dataframe tbody tr th:only-of-type {\n",
       "        vertical-align: middle;\n",
       "    }\n",
       "\n",
       "    .dataframe tbody tr th {\n",
       "        vertical-align: top;\n",
       "    }\n",
       "\n",
       "    .dataframe thead th {\n",
       "        text-align: right;\n",
       "    }\n",
       "</style>\n",
       "<table border=\"1\" class=\"dataframe\">\n",
       "  <thead>\n",
       "    <tr style=\"text-align: right;\">\n",
       "      <th></th>\n",
       "      <th>Accident Date</th>\n",
       "      <th>Age at Injury</th>\n",
       "      <th>Alternative Dispute Resolution</th>\n",
       "      <th>Assembly Date</th>\n",
       "      <th>Attorney/Representative</th>\n",
       "      <th>Average Weekly Wage</th>\n",
       "      <th>Birth Year</th>\n",
       "      <th>C-2 Date</th>\n",
       "      <th>C-3 Date</th>\n",
       "      <th>Carrier Name</th>\n",
       "      <th>...</th>\n",
       "      <th>WCIO Cause of Injury Code</th>\n",
       "      <th>WCIO Cause of Injury Description</th>\n",
       "      <th>WCIO Nature of Injury Code</th>\n",
       "      <th>WCIO Nature of Injury Description</th>\n",
       "      <th>WCIO Part Of Body Code</th>\n",
       "      <th>WCIO Part Of Body Description</th>\n",
       "      <th>Zip Code</th>\n",
       "      <th>Agreement Reached</th>\n",
       "      <th>WCB Decision</th>\n",
       "      <th>Number of Dependents</th>\n",
       "    </tr>\n",
       "    <tr>\n",
       "      <th>Claim Identifier</th>\n",
       "      <th></th>\n",
       "      <th></th>\n",
       "      <th></th>\n",
       "      <th></th>\n",
       "      <th></th>\n",
       "      <th></th>\n",
       "      <th></th>\n",
       "      <th></th>\n",
       "      <th></th>\n",
       "      <th></th>\n",
       "      <th></th>\n",
       "      <th></th>\n",
       "      <th></th>\n",
       "      <th></th>\n",
       "      <th></th>\n",
       "      <th></th>\n",
       "      <th></th>\n",
       "      <th></th>\n",
       "      <th></th>\n",
       "      <th></th>\n",
       "      <th></th>\n",
       "    </tr>\n",
       "  </thead>\n",
       "  <tbody>\n",
       "    <tr>\n",
       "      <th>957648180</th>\n",
       "      <td>NaN</td>\n",
       "      <td>NaN</td>\n",
       "      <td>NaN</td>\n",
       "      <td>2020-01-01</td>\n",
       "      <td>NaN</td>\n",
       "      <td>NaN</td>\n",
       "      <td>NaN</td>\n",
       "      <td>NaN</td>\n",
       "      <td>NaN</td>\n",
       "      <td>NaN</td>\n",
       "      <td>...</td>\n",
       "      <td>NaN</td>\n",
       "      <td>NaN</td>\n",
       "      <td>NaN</td>\n",
       "      <td>NaN</td>\n",
       "      <td>NaN</td>\n",
       "      <td>NaN</td>\n",
       "      <td>NaN</td>\n",
       "      <td>NaN</td>\n",
       "      <td>NaN</td>\n",
       "      <td>NaN</td>\n",
       "    </tr>\n",
       "    <tr>\n",
       "      <th>363651794</th>\n",
       "      <td>NaN</td>\n",
       "      <td>NaN</td>\n",
       "      <td>NaN</td>\n",
       "      <td>2020-01-01</td>\n",
       "      <td>NaN</td>\n",
       "      <td>NaN</td>\n",
       "      <td>NaN</td>\n",
       "      <td>NaN</td>\n",
       "      <td>NaN</td>\n",
       "      <td>NaN</td>\n",
       "      <td>...</td>\n",
       "      <td>NaN</td>\n",
       "      <td>NaN</td>\n",
       "      <td>NaN</td>\n",
       "      <td>NaN</td>\n",
       "      <td>NaN</td>\n",
       "      <td>NaN</td>\n",
       "      <td>NaN</td>\n",
       "      <td>NaN</td>\n",
       "      <td>NaN</td>\n",
       "      <td>NaN</td>\n",
       "    </tr>\n",
       "    <tr>\n",
       "      <th>209507552</th>\n",
       "      <td>NaN</td>\n",
       "      <td>NaN</td>\n",
       "      <td>NaN</td>\n",
       "      <td>2020-01-01</td>\n",
       "      <td>NaN</td>\n",
       "      <td>NaN</td>\n",
       "      <td>NaN</td>\n",
       "      <td>NaN</td>\n",
       "      <td>NaN</td>\n",
       "      <td>NaN</td>\n",
       "      <td>...</td>\n",
       "      <td>NaN</td>\n",
       "      <td>NaN</td>\n",
       "      <td>NaN</td>\n",
       "      <td>NaN</td>\n",
       "      <td>NaN</td>\n",
       "      <td>NaN</td>\n",
       "      <td>NaN</td>\n",
       "      <td>NaN</td>\n",
       "      <td>NaN</td>\n",
       "      <td>NaN</td>\n",
       "    </tr>\n",
       "    <tr>\n",
       "      <th>970865999</th>\n",
       "      <td>NaN</td>\n",
       "      <td>NaN</td>\n",
       "      <td>NaN</td>\n",
       "      <td>2020-01-01</td>\n",
       "      <td>NaN</td>\n",
       "      <td>NaN</td>\n",
       "      <td>NaN</td>\n",
       "      <td>NaN</td>\n",
       "      <td>NaN</td>\n",
       "      <td>NaN</td>\n",
       "      <td>...</td>\n",
       "      <td>NaN</td>\n",
       "      <td>NaN</td>\n",
       "      <td>NaN</td>\n",
       "      <td>NaN</td>\n",
       "      <td>NaN</td>\n",
       "      <td>NaN</td>\n",
       "      <td>NaN</td>\n",
       "      <td>NaN</td>\n",
       "      <td>NaN</td>\n",
       "      <td>NaN</td>\n",
       "    </tr>\n",
       "    <tr>\n",
       "      <th>807753247</th>\n",
       "      <td>NaN</td>\n",
       "      <td>NaN</td>\n",
       "      <td>NaN</td>\n",
       "      <td>2020-01-01</td>\n",
       "      <td>NaN</td>\n",
       "      <td>NaN</td>\n",
       "      <td>NaN</td>\n",
       "      <td>NaN</td>\n",
       "      <td>NaN</td>\n",
       "      <td>NaN</td>\n",
       "      <td>...</td>\n",
       "      <td>NaN</td>\n",
       "      <td>NaN</td>\n",
       "      <td>NaN</td>\n",
       "      <td>NaN</td>\n",
       "      <td>NaN</td>\n",
       "      <td>NaN</td>\n",
       "      <td>NaN</td>\n",
       "      <td>NaN</td>\n",
       "      <td>NaN</td>\n",
       "      <td>NaN</td>\n",
       "    </tr>\n",
       "  </tbody>\n",
       "</table>\n",
       "<p>5 rows × 32 columns</p>\n",
       "</div>"
      ],
      "text/plain": [
       "                 Accident Date  Age at Injury Alternative Dispute Resolution  \\\n",
       "Claim Identifier                                                               \n",
       "957648180                  NaN            NaN                            NaN   \n",
       "363651794                  NaN            NaN                            NaN   \n",
       "209507552                  NaN            NaN                            NaN   \n",
       "970865999                  NaN            NaN                            NaN   \n",
       "807753247                  NaN            NaN                            NaN   \n",
       "\n",
       "                 Assembly Date Attorney/Representative  Average Weekly Wage  \\\n",
       "Claim Identifier                                                              \n",
       "957648180           2020-01-01                     NaN                  NaN   \n",
       "363651794           2020-01-01                     NaN                  NaN   \n",
       "209507552           2020-01-01                     NaN                  NaN   \n",
       "970865999           2020-01-01                     NaN                  NaN   \n",
       "807753247           2020-01-01                     NaN                  NaN   \n",
       "\n",
       "                  Birth Year C-2 Date C-3 Date Carrier Name  ...  \\\n",
       "Claim Identifier                                             ...   \n",
       "957648180                NaN      NaN      NaN          NaN  ...   \n",
       "363651794                NaN      NaN      NaN          NaN  ...   \n",
       "209507552                NaN      NaN      NaN          NaN  ...   \n",
       "970865999                NaN      NaN      NaN          NaN  ...   \n",
       "807753247                NaN      NaN      NaN          NaN  ...   \n",
       "\n",
       "                 WCIO Cause of Injury Code WCIO Cause of Injury Description  \\\n",
       "Claim Identifier                                                              \n",
       "957648180                              NaN                              NaN   \n",
       "363651794                              NaN                              NaN   \n",
       "209507552                              NaN                              NaN   \n",
       "970865999                              NaN                              NaN   \n",
       "807753247                              NaN                              NaN   \n",
       "\n",
       "                 WCIO Nature of Injury Code WCIO Nature of Injury Description  \\\n",
       "Claim Identifier                                                                \n",
       "957648180                               NaN                               NaN   \n",
       "363651794                               NaN                               NaN   \n",
       "209507552                               NaN                               NaN   \n",
       "970865999                               NaN                               NaN   \n",
       "807753247                               NaN                               NaN   \n",
       "\n",
       "                 WCIO Part Of Body Code WCIO Part Of Body Description  \\\n",
       "Claim Identifier                                                        \n",
       "957648180                           NaN                           NaN   \n",
       "363651794                           NaN                           NaN   \n",
       "209507552                           NaN                           NaN   \n",
       "970865999                           NaN                           NaN   \n",
       "807753247                           NaN                           NaN   \n",
       "\n",
       "                 Zip Code  Agreement Reached  WCB Decision  \\\n",
       "Claim Identifier                                             \n",
       "957648180             NaN                NaN           NaN   \n",
       "363651794             NaN                NaN           NaN   \n",
       "209507552             NaN                NaN           NaN   \n",
       "970865999             NaN                NaN           NaN   \n",
       "807753247             NaN                NaN           NaN   \n",
       "\n",
       "                 Number of Dependents  \n",
       "Claim Identifier                       \n",
       "957648180                         NaN  \n",
       "363651794                         NaN  \n",
       "209507552                         NaN  \n",
       "970865999                         NaN  \n",
       "807753247                         NaN  \n",
       "\n",
       "[5 rows x 32 columns]"
      ]
     },
     "execution_count": 38,
     "metadata": {},
     "output_type": "execute_result"
    }
   ],
   "source": [
    "missing_data_target = train_data[train_data['Claim Injury Type'].isna()]\n",
    "missing_data_target.head()"
   ]
  },
  {
   "cell_type": "code",
   "execution_count": 39,
   "metadata": {},
   "outputs": [
    {
     "name": "stdout",
     "output_type": "stream",
     "text": [
      "<class 'pandas.core.frame.DataFrame'>\n",
      "Index: 19445 entries, 957648180 to 818961390\n",
      "Data columns (total 32 columns):\n",
      " #   Column                              Non-Null Count  Dtype  \n",
      "---  ------                              --------------  -----  \n",
      " 0   Accident Date                       0 non-null      object \n",
      " 1   Age at Injury                       0 non-null      float64\n",
      " 2   Alternative Dispute Resolution      0 non-null      object \n",
      " 3   Assembly Date                       19445 non-null  object \n",
      " 4   Attorney/Representative             0 non-null      object \n",
      " 5   Average Weekly Wage                 0 non-null      float64\n",
      " 6   Birth Year                          0 non-null      float64\n",
      " 7   C-2 Date                            0 non-null      object \n",
      " 8   C-3 Date                            0 non-null      object \n",
      " 9   Carrier Name                        0 non-null      object \n",
      " 10  Carrier Type                        0 non-null      object \n",
      " 11  Claim Injury Type                   0 non-null      object \n",
      " 12  County of Injury                    0 non-null      object \n",
      " 13  COVID-19 Indicator                  0 non-null      object \n",
      " 14  District Name                       0 non-null      object \n",
      " 15  First Hearing Date                  0 non-null      object \n",
      " 16  Gender                              0 non-null      object \n",
      " 17  IME-4 Count                         0 non-null      float64\n",
      " 18  Industry Code                       0 non-null      float64\n",
      " 19  Industry Code Description           0 non-null      object \n",
      " 20  Medical Fee Region                  0 non-null      object \n",
      " 21  OIICS Nature of Injury Description  0 non-null      float64\n",
      " 22  WCIO Cause of Injury Code           0 non-null      float64\n",
      " 23  WCIO Cause of Injury Description    0 non-null      object \n",
      " 24  WCIO Nature of Injury Code          0 non-null      float64\n",
      " 25  WCIO Nature of Injury Description   0 non-null      object \n",
      " 26  WCIO Part Of Body Code              0 non-null      float64\n",
      " 27  WCIO Part Of Body Description       0 non-null      object \n",
      " 28  Zip Code                            0 non-null      object \n",
      " 29  Agreement Reached                   0 non-null      float64\n",
      " 30  WCB Decision                        0 non-null      object \n",
      " 31  Number of Dependents                0 non-null      float64\n",
      "dtypes: float64(11), object(21)\n",
      "memory usage: 4.9+ MB\n"
     ]
    }
   ],
   "source": [
    "missing_data_target.info()"
   ]
  },
  {
   "cell_type": "markdown",
   "metadata": {},
   "source": [
    "We conclude that all observations with missing values on the target, also have missing values on all other features excelpt assembly date, so we decided to drop them."
   ]
  },
  {
   "cell_type": "code",
   "execution_count": 703,
   "metadata": {},
   "outputs": [],
   "source": [
    "train_data= train_data.drop(missing_data_target.index)"
   ]
  },
  {
   "cell_type": "markdown",
   "metadata": {},
   "source": [
    "Re check for missing values in the target variable"
   ]
  },
  {
   "cell_type": "code",
   "execution_count": null,
   "metadata": {},
   "outputs": [],
   "source": [
    "train_data['Claim Injury Type'].isna().sum()"
   ]
  },
  {
   "cell_type": "markdown",
   "metadata": {},
   "source": [
    "---"
   ]
  },
  {
   "cell_type": "markdown",
   "metadata": {},
   "source": [
    "<a class=\"anchor\" id=\"nanindependent\">\n",
    "\n",
    "## 4.2 Missing values in the intependent variables\n",
    "\n",
    "</a>"
   ]
  },
  {
   "cell_type": "markdown",
   "metadata": {},
   "source": [
    "##### - Before we check for missing values in the independet variables we split our data into training and validation set"
   ]
  },
  {
   "cell_type": "code",
   "execution_count": 705,
   "metadata": {},
   "outputs": [],
   "source": [
    "X = train_data.drop('Claim Injury Type', axis = 1)\n",
    "y = train_data['Claim Injury Type']"
   ]
  },
  {
   "cell_type": "code",
   "execution_count": 706,
   "metadata": {},
   "outputs": [],
   "source": [
    "X_train, X_val, y_train, y_val = train_test_split(X,y, test_size = 0.3, \n",
    "                                                  random_state = 0, \n",
    "                                                  stratify = y, \n",
    "                                                  shuffle = True)\n"
   ]
  },
  {
   "cell_type": "markdown",
   "metadata": {},
   "source": [
    "##### Checking the number of missing values in each variable in the train and validation set (number and percentage)"
   ]
  },
  {
   "cell_type": "code",
   "execution_count": 707,
   "metadata": {},
   "outputs": [],
   "source": [
    "# missing_values_train = X_train.isnull().sum().sort_values(ascending=False)\n",
    "# print(missing_values_train)"
   ]
  },
  {
   "cell_type": "code",
   "execution_count": 708,
   "metadata": {},
   "outputs": [],
   "source": [
    "# missing_values_val = X_val.isnull().sum().sort_values(ascending=False)\n",
    "# print(missing_values_val)"
   ]
  },
  {
   "cell_type": "code",
   "execution_count": null,
   "metadata": {},
   "outputs": [],
   "source": [
    "missing_percentage_train = ((X_train.isnull().sum() / len(X_train)) * 100).sort_values(ascending=False)\n",
    "print(missing_percentage_train)"
   ]
  },
  {
   "cell_type": "code",
   "execution_count": null,
   "metadata": {},
   "outputs": [],
   "source": [
    "missing_percentage_val = ((X_val.isnull().sum() / len(X_val)) * 100).sort_values(ascending=False)\n",
    "print(missing_percentage_val)"
   ]
  },
  {
   "cell_type": "code",
   "execution_count": null,
   "metadata": {},
   "outputs": [],
   "source": [
    "missing_percentage_test = ((test_data.isnull().sum() / len(test_data)) * 100).sort_values(ascending=False)\n",
    "print(missing_percentage_test)"
   ]
  },
  {
   "cell_type": "markdown",
   "metadata": {},
   "source": [
    "Variables such as ***IME-4 Count*** , ***First Hearing Date*** and ***C-3 Date*** have more than 60% of missing values. \n",
    "<br> In variables ***IME-4 Count*** we assume that missing values states that IME-4 form has not been received. Therefore missing values will be replaced with 0.\n",
    "<br> Missing values in variable ***First Hearing Date*** means that claim has not yet had a hearing held (information provided in dataset description) Thus, it is an information that we want to keep. \n",
    "<br> For missing values in variables ***C-3 Date*** we asume that missing value means that Employee Claim Form has not been received. \n",
    "\n",
    "In the first trial we deleted those three variables since they have a lot of missing values but as we run the model without and got poorly performing model we decided to keep them and we found out that they have significant impact on the target variable and should not be dropped (model performance increased)"
   ]
  },
  {
   "cell_type": "markdown",
   "metadata": {},
   "source": [
    "- **IME-4 Count** changing missing values to 0"
   ]
  },
  {
   "cell_type": "code",
   "execution_count": 712,
   "metadata": {},
   "outputs": [],
   "source": [
    "X_train.loc[X_train[\"IME-4 Count\"].isna(), \"IME-4 Count\"] = 0\n",
    "X_val.loc[X_val[\"IME-4 Count\"].isna(), \"IME-4 Count\"] = 0\n",
    "test_data.loc[test_data[\"IME-4 Count\"].isna(), \"IME-4 Count\"] = 0"
   ]
  },
  {
   "cell_type": "markdown",
   "metadata": {},
   "source": [
    "- **First Hearing Date** \n",
    "<br> We decided to change that varibale to binary variable, where NaN values are replaced by 0 - it means that claim has not had a hearing held yet and dataes are replaced by 1 which means that hearing has already been held."
   ]
  },
  {
   "cell_type": "code",
   "execution_count": null,
   "metadata": {},
   "outputs": [],
   "source": [
    "X_train['First Hearing Date Binary'] = X_train['First Hearing Date'].notna().astype(int)\n",
    "X_val['First Hearing Date Binary'] = X_val['First Hearing Date'].notna().astype(int)\n",
    "test_data['First Hearing Date Binary'] = test_data['First Hearing Date'].notna().astype(int)\n",
    "\n",
    "X_train[['First Hearing Date', 'First Hearing Date Binary']].head()\n"
   ]
  },
  {
   "cell_type": "markdown",
   "metadata": {},
   "source": [
    "First Hearing Data variable can be droped after creating binary variable."
   ]
  },
  {
   "cell_type": "code",
   "execution_count": 714,
   "metadata": {},
   "outputs": [],
   "source": [
    "X_train =X_train.drop(\"First Hearing Date\", axis=1)\n",
    "X_val =X_val.drop(\"First Hearing Date\", axis=1)\n",
    "test_data =test_data.drop(\"First Hearing Date\", axis=1)"
   ]
  },
  {
   "cell_type": "code",
   "execution_count": 715,
   "metadata": {},
   "outputs": [],
   "source": [
    "non_metric_features.remove('First Hearing Date')\n",
    "non_metric_features.append('First Hearing Date Binary')"
   ]
  },
  {
   "cell_type": "markdown",
   "metadata": {},
   "source": [
    "- **C-2 Date Bin**\n",
    "<br> Creating a binary variable from C-2 Date. Changing missing values to 0 and dates to 1"
   ]
  },
  {
   "cell_type": "code",
   "execution_count": 716,
   "metadata": {},
   "outputs": [],
   "source": [
    "X_train['C-2 Date Bin'] = X_train['C-2 Date'].notna().astype(int)\n",
    "X_val['C-2 Date Bin'] = X_val['C-2 Date'].notna().astype(int)\n",
    "test_data['C-2 Date Bin'] = test_data['C-2 Date'].notna().astype(int)\n",
    "\n",
    "X_train[['C-2 Date', 'C-2 Date Bin']].head()\n",
    "non_metric_features.append('C-2 Date Bin')"
   ]
  },
  {
   "cell_type": "markdown",
   "metadata": {},
   "source": [
    "- **C-3 Date Bin** \n",
    "<br> Creating a binary variable from C-3 Date. Changing missing values to 0 and dates to 1"
   ]
  },
  {
   "cell_type": "code",
   "execution_count": null,
   "metadata": {},
   "outputs": [],
   "source": [
    "X_train['C-3 Date Bin'] = X_train['C-3 Date'].notna().astype(int)\n",
    "X_val['C-3 Date Bin'] = X_val['C-3 Date'].notna().astype(int)\n",
    "test_data['C-3 Date Bin'] = test_data['C-3 Date'].notna().astype(int)\n",
    "\n",
    "X_train[['C-3 Date', 'C-3 Date Bin']].head()"
   ]
  },
  {
   "cell_type": "code",
   "execution_count": 718,
   "metadata": {},
   "outputs": [],
   "source": [
    "non_metric_features.remove('C-3 Date')\n",
    "non_metric_features.append('C-3 Date Bin')"
   ]
  },
  {
   "cell_type": "code",
   "execution_count": 719,
   "metadata": {},
   "outputs": [],
   "source": [
    "X_train =X_train.drop(\"C-3 Date\", axis=1)\n",
    "X_val =X_val.drop(\"C-3 Date\", axis=1)\n",
    "test_data =test_data.drop(\"C-3 Date\", axis=1)"
   ]
  },
  {
   "cell_type": "markdown",
   "metadata": {},
   "source": [
    "Re check for missing percentage in the datasets"
   ]
  },
  {
   "cell_type": "code",
   "execution_count": null,
   "metadata": {},
   "outputs": [],
   "source": [
    "missing_percentage_train = ((X_train.isnull().sum() / len(X_train)) * 100).sort_values(ascending=False)\n",
    "missing_percentage_train = missing_percentage_train[missing_percentage_train > 0]\n",
    "print(missing_percentage_train)"
   ]
  },
  {
   "cell_type": "code",
   "execution_count": null,
   "metadata": {},
   "outputs": [],
   "source": [
    "missing_percentage_val = ((X_val.isnull().sum() / len(X_val)) * 100).sort_values(ascending=False)\n",
    "missing_percentage_val = missing_percentage_val[missing_percentage_val > 0]\n",
    "print(missing_percentage_val)"
   ]
  },
  {
   "cell_type": "code",
   "execution_count": null,
   "metadata": {},
   "outputs": [],
   "source": [
    "missing_percentage_test = ((test_data.isnull().sum() / len(test_data)) * 100).sort_values(ascending=False)\n",
    "missing_percentage_test = missing_percentage_test[missing_percentage_test > 0]\n",
    "print(missing_percentage_test)"
   ]
  },
  {
   "cell_type": "markdown",
   "metadata": {},
   "source": [
    "As it was mentioned in the part \"Checking incoherencies in the data\" **WCIO Part of Body Code** has negavite codes such us -9. Each code that is equal to -9 corresponds in the description to Multiple.\n",
    "Acording to WCIO website codes that contains in the description word multiple are: 10, 20, 30, 40, 50, 90, 91. Thus, we decided to fill those values (-9) with mode among codes that corresponds to multiple. "
   ]
  },
  {
   "cell_type": "code",
   "execution_count": 723,
   "metadata": {},
   "outputs": [],
   "source": [
    "# Valid codes for \"Multiple\" according to codes at WCIO website (https://www.guarantysupport.com/wp-content/uploads/2024/02/WCIO-Legacy.pdf)\n",
    "multiple_codes = [10, 20, 30, 40, 50, 90, 91]\n",
    "\n",
    "# Calculate the mode among the valid multiple codes\n",
    "mode_value = X_train[X_train[\"WCIO Part Of Body Code\"].isin(multiple_codes)][\"WCIO Part Of Body Code\"].mode()[0]\n",
    "\n",
    "# Replace only -9 values with the mode (without changing other NaN values)\n",
    "X_train[\"WCIO Part Of Body Code\"] = X_train[\"WCIO Part Of Body Code\"].replace(-9, mode_value)\n",
    "\n",
    "test_data[\"WCIO Part Of Body Code\"] = test_data[\"WCIO Part Of Body Code\"].replace(-9, mode_value)\n",
    "\n",
    "X_val[\"WCIO Part Of Body Code\"] = X_val[\"WCIO Part Of Body Code\"].replace(-9, mode_value)\n"
   ]
  },
  {
   "cell_type": "markdown",
   "metadata": {},
   "source": [
    "- All missing values in the variable ***Average Weekly Wage***  and ***Age at Injury*** are replaced by KNNImputer "
   ]
  },
  {
   "cell_type": "code",
   "execution_count": 726,
   "metadata": {},
   "outputs": [],
   "source": [
    "features_to_impute = ['Average Weekly Wage', 'Age at Injury']\n",
    "\n",
    "imputer = KNNImputer(n_neighbors=5, weights=\"uniform\")\n",
    "\n",
    "X_train[features_to_impute] = imputer.fit_transform(X_train[features_to_impute])\n",
    "X_val[features_to_impute] = imputer.transform(X_val[features_to_impute])\n",
    "test_data[features_to_impute] = imputer.transform(test_data[features_to_impute])"
   ]
  },
  {
   "cell_type": "markdown",
   "metadata": {},
   "source": [
    "- Categorical variables that missing values should be replaced with mode"
   ]
  },
  {
   "cell_type": "code",
   "execution_count": 727,
   "metadata": {},
   "outputs": [],
   "source": [
    "# List of categorical columns that missing values should be replaced with mode\n",
    "mode_variables = [\n",
    "    'Medical Fee Region',\n",
    "    'zip_code_cat',\n",
    "    'WCIO Part Of Body Code', \n",
    "    'WCIO Part Of Body Description',\n",
    "    'WCIO Nature of Injury Code',\n",
    "    'WCIO Nature of Injury Description',\n",
    "    'WCIO Cause of Injury Description',\n",
    "    'WCIO Cause of Injury Code',\n",
    "    'C-2 Date',\n",
    "    'Industry Code',\n",
    "    'Industry Code Description',\n",
    "    'Gender',\n",
    "    'Accident Date',\n",
    "    'Carrier Type',\n",
    "    'Carrier Name',\n",
    "    'County of Injury',\n",
    "    'Alternative Dispute Resolution'\n",
    "]"
   ]
  },
  {
   "cell_type": "code",
   "execution_count": 728,
   "metadata": {},
   "outputs": [],
   "source": [
    "for column in mode_variables:\n",
    "    mode_value = X_train[column].mode()\n",
    "    if not mode_value.empty:\n",
    "        X_train[column] = X_train[column].fillna(mode_value[0])\n",
    "        X_val[column] = X_val[column].fillna(mode_value[0])  \n",
    "        test_data[column] = test_data[column].fillna(mode_value[0])"
   ]
  },
  {
   "cell_type": "markdown",
   "metadata": {},
   "source": [
    "---"
   ]
  },
  {
   "cell_type": "markdown",
   "metadata": {},
   "source": [
    "Re check for number of  missing values"
   ]
  },
  {
   "cell_type": "code",
   "execution_count": null,
   "metadata": {},
   "outputs": [],
   "source": [
    "X_train.isna().sum().sort_values(ascending=False)"
   ]
  },
  {
   "cell_type": "code",
   "execution_count": null,
   "metadata": {},
   "outputs": [],
   "source": [
    "X_val.isna().sum().sort_values(ascending=False)"
   ]
  },
  {
   "cell_type": "code",
   "execution_count": null,
   "metadata": {},
   "outputs": [],
   "source": [
    "test_data.isna().sum().sort_values(ascending=False)"
   ]
  },
  {
   "cell_type": "markdown",
   "metadata": {},
   "source": [
    "---"
   ]
  },
  {
   "cell_type": "markdown",
   "metadata": {},
   "source": [
    "- After analysis we also decided to drop variables that contain descriptions of other coded variables."
   ]
  },
  {
   "cell_type": "code",
   "execution_count": 732,
   "metadata": {},
   "outputs": [],
   "source": [
    "columns_to_drop_desc = ['WCIO Part Of Body Description','WCIO Nature of Injury Description','WCIO Cause of Injury Description', 'Carrier Name', 'Industry Code Description']\n",
    "\n",
    "X_train =X_train.drop(columns_to_drop_desc, axis=1)\n",
    "X_val = X_val.drop(columns_to_drop_desc, axis=1)\n",
    "test_data =test_data.drop(columns_to_drop_desc, axis=1)\n",
    "\n",
    "non_metric_features = [feature for feature in non_metric_features if feature not in columns_to_drop_desc]\n"
   ]
  },
  {
   "cell_type": "markdown",
   "metadata": {},
   "source": [
    "---------------------"
   ]
  },
  {
   "cell_type": "markdown",
   "metadata": {},
   "source": [
    "<a class=\"anchor\" id=\"feateng\">\n",
    "\n",
    "# 5. Feature Engineering\n",
    "</a>"
   ]
  },
  {
   "cell_type": "markdown",
   "metadata": {},
   "source": [
    "In total we created ten new variables."
   ]
  },
  {
   "cell_type": "markdown",
   "metadata": {},
   "source": [
    "During our previous steps we have already created vairables such as:\n",
    "- zip_code_cat \n",
    "- C-3 Date Bin\n",
    "- C-2 Date Bin\n",
    "- First Hearing Date"
   ]
  },
  {
   "cell_type": "markdown",
   "metadata": {},
   "source": [
    "Below we created six more variables:\n",
    "- Days Between Accident_Assembly\n",
    "- Days Between Accident_C2\n",
    "- Season_of_Accident\n",
    "- Weekly Wage by Industry\n",
    "- Claim Count by Carrier Type\n",
    "- Claim Count by Gender"
   ]
  },
  {
   "cell_type": "code",
   "execution_count": null,
   "metadata": {},
   "outputs": [],
   "source": [
    "X_train.columns"
   ]
  },
  {
   "cell_type": "markdown",
   "metadata": {},
   "source": [
    "* Creating new feature Days Between Accident_Assembly"
   ]
  },
  {
   "cell_type": "code",
   "execution_count": null,
   "metadata": {},
   "outputs": [],
   "source": [
    "X_train.info()"
   ]
  },
  {
   "cell_type": "code",
   "execution_count": null,
   "metadata": {},
   "outputs": [],
   "source": [
    "X_train[\"Days Between Accident_Assembly\"] = (X_train['Assembly Date'] - X_train['Accident Date']).dt.days\n",
    "negative_count = (X_train[\"Days Between Accident_Assembly\"] < 0).sum()\n",
    "\n",
    "print(\"Number of rows with negative values in 'Days Between Accident_Assembly':\", negative_count)"
   ]
  },
  {
   "cell_type": "code",
   "execution_count": null,
   "metadata": {},
   "outputs": [],
   "source": [
    "X_val[\"Days Between Accident_Assembly\"] = (X_val['Assembly Date'] - X_val['Accident Date']).dt.days\n",
    "negative_count = (X_val[\"Days Between Accident_Assembly\"] < 0).sum()\n",
    "\n",
    "print(\"Number of rows with negative values in 'Days Between Accident_Assembly' in validation set:\", negative_count)"
   ]
  },
  {
   "cell_type": "code",
   "execution_count": 737,
   "metadata": {},
   "outputs": [],
   "source": [
    "test_data[\"Days Between Accident_Assembly\"] = (test_data['Assembly Date'] - test_data['Accident Date']).dt.days"
   ]
  },
  {
   "cell_type": "code",
   "execution_count": 738,
   "metadata": {},
   "outputs": [],
   "source": [
    "metric_features.append(\"Days Between Accident_Assembly\")\n",
    "non_metric_features.remove(\"Assembly Date\")\n",
    "non_metric_features.remove(\"Accident Date\")"
   ]
  },
  {
   "cell_type": "markdown",
   "metadata": {},
   "source": [
    "* Creating new feature Days Between Accident_C2"
   ]
  },
  {
   "cell_type": "code",
   "execution_count": null,
   "metadata": {},
   "outputs": [],
   "source": [
    "X_train[\"Days Between Accident_C2\"] = (X_train['C-2 Date'] - X_train['Accident Date']).dt.days\n",
    "negative_count = (X_train[\"Days Between Accident_C2\"] < 0).sum()\n",
    "\n",
    "print(\"Number of rows with negative values in 'Days Between Accident_C2' in train set:\", negative_count)"
   ]
  },
  {
   "cell_type": "code",
   "execution_count": null,
   "metadata": {},
   "outputs": [],
   "source": [
    "X_val[\"Days Between Accident_C2\"] = (X_val['C-2 Date'] - X_val['Accident Date']).dt.days\n",
    "negative_count = (X_val[\"Days Between Accident_C2\"] < 0).sum()\n",
    "\n",
    "print(\"Number of rows with negative values in 'Days Between Accident_C2' in validation set:\", negative_count)"
   ]
  },
  {
   "cell_type": "code",
   "execution_count": 741,
   "metadata": {},
   "outputs": [],
   "source": [
    "test_data[\"Days Between Accident_C2\"] = (test_data['C-2 Date'] - test_data['Accident Date']).dt.days"
   ]
  },
  {
   "cell_type": "code",
   "execution_count": 742,
   "metadata": {},
   "outputs": [],
   "source": [
    "metric_features.append(\"Days Between Accident_C2\")\n",
    "non_metric_features.remove(\"C-2 Date\")"
   ]
  },
  {
   "cell_type": "markdown",
   "metadata": {},
   "source": [
    "- Creating feature Season_of_Accident"
   ]
  },
  {
   "cell_type": "code",
   "execution_count": null,
   "metadata": {},
   "outputs": [],
   "source": [
    "# Create a function to map month to season\n",
    "def get_season(month):\n",
    "    if month in [12, 1, 2]:\n",
    "        return 'Winter'\n",
    "    elif month in [3, 4, 5]:\n",
    "        return 'Spring'\n",
    "    elif month in [6, 7, 8]:\n",
    "        return 'Summer'\n",
    "    elif month in [9, 10, 11]:\n",
    "        return 'Fall'\n",
    "\n",
    "\n",
    "X_train['Season_of_Accident'] = X_train['Accident Date'].dt.month.apply(get_season)\n",
    "X_val['Season_of_Accident'] = X_val['Accident Date'].dt.month.apply(get_season)\n",
    "test_data['Season_of_Accident'] = test_data['Accident Date'].dt.month.apply(get_season)\n",
    "\n",
    "# Checking new feature \n",
    "print(X_train[['Accident Date', 'Season_of_Accident']].head())"
   ]
  },
  {
   "cell_type": "code",
   "execution_count": 744,
   "metadata": {},
   "outputs": [],
   "source": [
    "non_metric_features.append(\"Season_of_Accident\")"
   ]
  },
  {
   "cell_type": "markdown",
   "metadata": {},
   "source": [
    "Visualizing Season of Accident"
   ]
  },
  {
   "cell_type": "code",
   "execution_count": null,
   "metadata": {},
   "outputs": [],
   "source": [
    "season_counts = X_train['Season_of_Accident'].value_counts()\n",
    "\n",
    "plt.figure(figsize=(8, 6))\n",
    "sns.barplot(x=season_counts.index, y=season_counts.values, palette=\"tab20\")\n",
    "plt.title(\"Accident Frequency by Season\", fontsize=16)\n",
    "plt.xlabel(\"Season\", fontsize=14)\n",
    "plt.ylabel(\"Number of Accidents\", fontsize=14)\n",
    "plt.show()"
   ]
  },
  {
   "cell_type": "markdown",
   "metadata": {},
   "source": [
    "*  Average Weekly Wage by Industry"
   ]
  },
  {
   "cell_type": "code",
   "execution_count": null,
   "metadata": {},
   "outputs": [],
   "source": [
    "industry_avg_wage = X_train.groupby('Industry Code')['Average Weekly Wage'].mean()\n",
    "\n",
    "X_train['Industry_Avg_Weekly_Wage'] = X_train['Industry Code'].map(industry_avg_wage)\n",
    "X_val['Industry_Avg_Weekly_Wage'] = X_val['Industry Code'].map(industry_avg_wage)\n",
    "test_data['Industry_Avg_Weekly_Wage'] = test_data['Industry Code'].map(industry_avg_wage)\n",
    "\n",
    "metric_features.append('Industry_Avg_Weekly_Wage')\n",
    "\n",
    "print(X_train[['Industry_Avg_Weekly_Wage', 'Industry Code']].head())"
   ]
  },
  {
   "cell_type": "markdown",
   "metadata": {},
   "source": [
    "Plotting average weekly wage by industry "
   ]
  },
  {
   "cell_type": "code",
   "execution_count": null,
   "metadata": {},
   "outputs": [],
   "source": [
    "plt.figure(figsize=(12, 6))\n",
    "\n",
    "industry_avg_wage = X_train.groupby('Industry Code')['Industry_Avg_Weekly_Wage'].mean()\n",
    "\n",
    "sns.barplot(x=industry_avg_wage.index, y=industry_avg_wage.values,palette=\"tab20\")\n",
    "\n",
    "\n",
    "plt.title(\"Average Weekly Wage by Industry\", fontsize=16)\n",
    "plt.xlabel(\"Industry Code\", fontsize=14)\n",
    "plt.ylabel(\"Average Weekly Wage\", fontsize=14)\n",
    "\n",
    "plt.show()"
   ]
  },
  {
   "cell_type": "markdown",
   "metadata": {},
   "source": [
    "* Claim Count by Carrier Type\n",
    "<br> This feature counts how many claims each Carrier Type has."
   ]
  },
  {
   "cell_type": "code",
   "execution_count": null,
   "metadata": {},
   "outputs": [],
   "source": [
    "original_index_train = X_train.index\n",
    "original_index_val = X_val.index\n",
    "original_index_test = test_data.index\n",
    "\n",
    "claim_count_by_carrier = X_train.groupby('Carrier Type').size().to_frame(name='Claim Count by Carrier')\n",
    "\n",
    "X_train = X_train.merge(claim_count_by_carrier, on='Carrier Type', how='left')\n",
    "X_val = X_val.merge(claim_count_by_carrier, on='Carrier Type', how='left')\n",
    "test_data = test_data.merge(claim_count_by_carrier, on='Carrier Type', how='left')\n",
    "\n",
    "X_train.index = original_index_train\n",
    "X_val.index = original_index_val\n",
    "test_data.index = original_index_test\n",
    "\n",
    "metric_features.append('Claim Count by Carrier')\n",
    "\n",
    "print(X_train[['Carrier Type', 'Claim Count by Carrier']].head())\n",
    "print(X_val[['Carrier Type', 'Claim Count by Carrier']].head())\n",
    "print(test_data[['Carrier Type', 'Claim Count by Carrier']].head())"
   ]
  },
  {
   "cell_type": "markdown",
   "metadata": {},
   "source": [
    "Visualizing Claim Count by Carrier Type"
   ]
  },
  {
   "cell_type": "code",
   "execution_count": null,
   "metadata": {},
   "outputs": [],
   "source": [
    "carrier_counts = claim_count_by_carrier.sort_values(by='Claim Count by Carrier', ascending=False)\n",
    "\n",
    "plt.figure(figsize=(10, 6))\n",
    "sns.barplot(\n",
    "    x=carrier_counts.index, \n",
    "    y=carrier_counts['Claim Count by Carrier'], \n",
    "    palette=\"tab20\"\n",
    ")\n",
    "plt.title(\"Claim Count by Carrier Type\", fontsize=16)\n",
    "plt.xlabel(\"Carrier Type\", fontsize=12)\n",
    "plt.ylabel(\"Number of Claims\", fontsize=12)\n",
    "plt.xticks(rotation=45)\n",
    "plt.show()"
   ]
  },
  {
   "cell_type": "markdown",
   "metadata": {},
   "source": [
    "* Claim Count by Gender"
   ]
  },
  {
   "cell_type": "code",
   "execution_count": null,
   "metadata": {},
   "outputs": [],
   "source": [
    "original_index_train = X_train.index\n",
    "original_index_val = X_val.index\n",
    "original_index_test = test_data.index\n",
    "\n",
    "claim_count_by_gender = X_train.groupby('Gender').size().to_frame(name='Claim Count by Gender')\n",
    "\n",
    "X_train = X_train.merge(claim_count_by_gender, on='Gender', how='left')\n",
    "X_val = X_val.merge(claim_count_by_gender, on='Gender', how='left')\n",
    "test_data = test_data.merge(claim_count_by_gender, on='Gender', how='left')\n",
    "\n",
    "X_train.index = original_index_train\n",
    "X_val.index = original_index_val\n",
    "test_data.index = original_index_test\n",
    "\n",
    "metric_features.append('Claim Count by Gender')\n",
    "\n",
    "print(X_train[['Gender', 'Claim Count by Gender']].head())\n",
    "print(X_val[['Gender', 'Claim Count by Gender']].head())\n",
    "print(test_data[['Gender', 'Claim Count by Gender']].head())"
   ]
  },
  {
   "cell_type": "markdown",
   "metadata": {},
   "source": [
    "- Visualizing claim count by gender"
   ]
  },
  {
   "cell_type": "code",
   "execution_count": null,
   "metadata": {},
   "outputs": [],
   "source": [
    "gender_counts = claim_count_by_gender.sort_values(by='Claim Count by Gender', ascending=False)\n",
    "\n",
    "plt.figure(figsize=(8, 5))\n",
    "sns.barplot(\n",
    "    x=gender_counts.index,\n",
    "    y=gender_counts['Claim Count by Gender'],\n",
    "    palette=\"tab20\"\n",
    ")\n",
    "plt.title(\"Claim Count by Gender\", fontsize=16)\n",
    "plt.xlabel(\"Gender\", fontsize=12)\n",
    "plt.ylabel(\"Number of Claims\", fontsize=12)\n",
    "plt.xticks(rotation=45)\n",
    "plt.show()"
   ]
  },
  {
   "cell_type": "code",
   "execution_count": null,
   "metadata": {},
   "outputs": [],
   "source": [
    "X_train.columns"
   ]
  },
  {
   "cell_type": "markdown",
   "metadata": {},
   "source": [
    "Dropping variables after creating new features"
   ]
  },
  {
   "cell_type": "code",
   "execution_count": 753,
   "metadata": {},
   "outputs": [],
   "source": [
    "variables_to_drop = ['C-2 Date', 'Accident Date','Assembly Date']\n",
    "X_train = X_train.drop(variables_to_drop, axis = 1)\n",
    "X_val = X_val.drop(variables_to_drop, axis = 1)\n",
    "test_data = test_data.drop(variables_to_drop, axis = 1)"
   ]
  },
  {
   "cell_type": "markdown",
   "metadata": {},
   "source": [
    "------------------"
   ]
  },
  {
   "cell_type": "markdown",
   "metadata": {},
   "source": [
    "##### Finding negative values in Metric columns and fixing them"
   ]
  },
  {
   "cell_type": "code",
   "execution_count": null,
   "metadata": {},
   "outputs": [],
   "source": [
    "print(\"X_train with values in [Days Between Accident_Assembly] that are negative: \" + str(len(X_train[ X_train[\"Days Between Accident_Assembly\"] < 0])) + \".\")\n",
    "print(\"X_val with values in [Days Between Accident_Assembly] that are negative: \" + str(len(X_val[ X_val[\"Days Between Accident_Assembly\"] < 0])) + \".\")"
   ]
  },
  {
   "cell_type": "code",
   "execution_count": null,
   "metadata": {},
   "outputs": [],
   "source": [
    "print(\"X_train with values in [Days Between Accident_C2] that are negative: \" + str(len(X_train[ X_train[\"Days Between Accident_C2\"] < 0])) + \".\")\n",
    "print(\"X_val with values in [Days Between Accident_C2] that are negative: \" + str(len(X_val[ X_val[\"Days Between Accident_C2\"] < 0])) + \".\")"
   ]
  },
  {
   "cell_type": "code",
   "execution_count": null,
   "metadata": {},
   "outputs": [],
   "source": [
    "print(\"X_train with values in [Age at Injury] that are negative: \" + str(len(X_train[ X_train[\"Age at Injury\"] < 0])) + \".\")\n",
    "print(\"X_val with values in [Age at Injury] that are negative: \" + str(len(X_val[ X_val[\"Age at Injury\"] < 0])) + \".\")"
   ]
  },
  {
   "cell_type": "code",
   "execution_count": 760,
   "metadata": {},
   "outputs": [],
   "source": [
    "# X_train[ X_train[\"Days Between Accident_Assembly\"] < 0][\"Days Between Accident_Assembly\"] = 0\n",
    "X_train[\"Days Between Accident_Assembly\"] = X_train[\"Days Between Accident_Assembly\"].clip(lower=0)\n",
    "X_val[\"Days Between Accident_Assembly\"] = X_val[\"Days Between Accident_Assembly\"].clip(lower=0)\n",
    "test_data[\"Days Between Accident_Assembly\"] = test_data[\"Days Between Accident_Assembly\"].clip(lower=0)"
   ]
  },
  {
   "cell_type": "code",
   "execution_count": 761,
   "metadata": {},
   "outputs": [],
   "source": [
    "X_train[\"Days Between Accident_C2\"] = X_train[\"Days Between Accident_C2\"].clip(lower=0)\n",
    "X_val[\"Days Between Accident_C2\"] = X_val[\"Days Between Accident_C2\"].clip(lower=0)\n",
    "test_data[\"Days Between Accident_C2\"] = test_data[\"Days Between Accident_C2\"].clip(lower=0)"
   ]
  },
  {
   "cell_type": "markdown",
   "metadata": {},
   "source": [
    "------------------"
   ]
  },
  {
   "cell_type": "markdown",
   "metadata": {},
   "source": [
    "<a class=\"anchor\" id=\"multi\">\n",
    "\n",
    "# 6. Multivariate Analysis\n",
    "</a>"
   ]
  },
  {
   "cell_type": "code",
   "execution_count": null,
   "metadata": {},
   "outputs": [],
   "source": [
    "# Test cross tabular \n",
    "cross = pd.crosstab(X_train[\"Attorney/Representative\"], X_train['First Hearing Date Binary'], normalize=True).round(2)\n",
    "\n",
    "fig = plt.figure(figsize=(10, 8))\n",
    "sns.heatmap(data=cross, annot=True, \n",
    "            vmin=0, vmax=1, center=0,\n",
    "            square=True, linewidths=.5,\n",
    "            cmap='PiYG')\n",
    "plt.show()"
   ]
  },
  {
   "cell_type": "markdown",
   "metadata": {},
   "source": [
    "Only 5% of folks who had a \"First Hearing Date\" did NOT have an attorney and 9% had an attorney but no hearing date. These situations are a little unusual but not strange. Not having an attorney when there is no hearing date is expected."
   ]
  },
  {
   "cell_type": "markdown",
   "metadata": {},
   "source": [
    "Looking below, the distribution of \"Claim Injury Types\" is quite even throughout, whereas the distribution for when data for the \"First Hearing Date\" wasn't available. \"Non-Comp\" seems to be the predominate value."
   ]
  },
  {
   "cell_type": "code",
   "execution_count": null,
   "metadata": {},
   "outputs": [],
   "source": [
    "cat_df = X_train.groupby([X_train[\"First Hearing Date Binary\"], y_train]).size().unstack()\n",
    "cat_df.plot.bar(stacked=True)\n",
    "plt.show()"
   ]
  },
  {
   "cell_type": "markdown",
   "metadata": {},
   "source": [
    "Examining the following histogram  for when an attonrey/representative is present or not, for when an attonrey/representative isn't present, the values seem more imbalanced with supports the initial hypothesis that if an attorney is involved, the claim injury being compensated is less likely."
   ]
  },
  {
   "cell_type": "code",
   "execution_count": null,
   "metadata": {},
   "outputs": [],
   "source": [
    "cat_df = X_train.groupby([X_train[\"Attorney/Representative\"], y_train]).size().unstack()\n",
    "cat_df.plot.bar(stacked=True)\n",
    "plt.show()"
   ]
  },
  {
   "cell_type": "markdown",
   "metadata": {},
   "source": [
    "Compare \"Attorney/Representative\" vs \"First Hearing Date Binary\" for when there is no attorney and there is no first hearing date. The wide imbalance shows that this could be a particular variable relationship that could help with deciding Claim Injury Type."
   ]
  },
  {
   "cell_type": "code",
   "execution_count": null,
   "metadata": {},
   "outputs": [],
   "source": [
    "attorney_data = X_train[ (X_train[\"Attorney/Representative\"] == \"N\")]\n",
    "cat_df = attorney_data.groupby([X_train[\"First Hearing Date Binary\"], y_train]).size().unstack()\n",
    "cat_df.plot.bar(stacked=True)\n",
    "plt.title(\"First Hearing Date Distribution when No Attorney is Present\")\n",
    "plt.show()"
   ]
  },
  {
   "cell_type": "markdown",
   "metadata": {},
   "source": [
    "Compare \"Attorney/Representative\" vs \"First Hearing Date Binary\" for when there is an attorney. Compared to the last histogram, this one's values are more balanced. This further concludes that the presence of an attorney helps with the distribution of Claim injury Type."
   ]
  },
  {
   "cell_type": "code",
   "execution_count": null,
   "metadata": {},
   "outputs": [],
   "source": [
    "attorney_data = X_train[ (X_train[\"Attorney/Representative\"] == \"Y\")]\n",
    "cat_df = attorney_data.groupby([X_train[\"First Hearing Date Binary\"], y_train]).size().unstack()\n",
    "cat_df.plot.bar(stacked=True)\n",
    "plt.title(\"First Hearing Date Distribution when an Attorney is Present\")\n",
    "plt.show()"
   ]
  },
  {
   "cell_type": "markdown",
   "metadata": {},
   "source": [
    "If an attorney isn't needed, the \"Alternative Distribution Resolution\" could play a part in deciding the Claim Injury Type. Let's examine the dsitribution of \"Claim Injury Type\" and \"Alternative Dispute Resolution\"."
   ]
  },
  {
   "cell_type": "code",
   "execution_count": null,
   "metadata": {},
   "outputs": [],
   "source": [
    "cat_df = X_train.groupby([X_train[\"Alternative Dispute Resolution\"], y_train]).size().unstack()\n",
    "cat_df.plot.bar(stacked=True)\n",
    "plt.show()"
   ]
  },
  {
   "cell_type": "markdown",
   "metadata": {},
   "source": [
    "There are barely any instances where Alternative Distribution is \"Y\"."
   ]
  },
  {
   "cell_type": "code",
   "execution_count": null,
   "metadata": {},
   "outputs": [],
   "source": [
    "X_train.groupby(\"Alternative Dispute Resolution\")[\"Alternative Dispute Resolution\"].value_counts()"
   ]
  },
  {
   "cell_type": "markdown",
   "metadata": {},
   "source": [
    "With there being only 34 values where the resolution is \"Y\", the possibility that it helped with desicions is low. <br/> <br/>\n",
    "Whereas the distribution for Attorney/Representative is much higher (as seen below)."
   ]
  },
  {
   "cell_type": "code",
   "execution_count": null,
   "metadata": {},
   "outputs": [],
   "source": [
    "X_train.groupby(\"Attorney/Representative\")[\"Attorney/Representative\"].value_counts()"
   ]
  },
  {
   "cell_type": "code",
   "execution_count": null,
   "metadata": {},
   "outputs": [],
   "source": [
    "cat_df = X_train.groupby([X_train[\"Medical Fee Region\"], y_train]).size().unstack()\n",
    "cat_df.plot.bar(stacked=True)\n",
    "plt.show()"
   ]
  },
  {
   "cell_type": "code",
   "execution_count": null,
   "metadata": {},
   "outputs": [],
   "source": [
    "cat_df = X_train.groupby([X_train[\"Carrier Type\"], y_train]).size().unstack()\n",
    "cat_df.plot.bar(stacked=True)\n",
    "plt.show()"
   ]
  },
  {
   "cell_type": "code",
   "execution_count": null,
   "metadata": {},
   "outputs": [],
   "source": [
    "cross = pd.crosstab(X_train[\"Medical Fee Region\"], X_train['Carrier Type'], normalize=True).round(2)\n",
    "\n",
    "fig = plt.figure(figsize=(10, 8))\n",
    "sns.heatmap(data=cross, annot=True, \n",
    "            vmin=0, vmax=1, center=0,\n",
    "            square=True, linewidths=.5,\n",
    "            cmap='PiYG')\n",
    "plt.show()"
   ]
  },
  {
   "cell_type": "code",
   "execution_count": null,
   "metadata": {},
   "outputs": [],
   "source": [
    "cat_df = X_train.groupby([X_train[\"Age at Injury\"], y_train]).size().unstack()\n",
    "cat_df.plot.bar(stacked=True)\n",
    "plt.show()"
   ]
  },
  {
   "cell_type": "markdown",
   "metadata": {},
   "source": [
    "There seems to be an even distribution between claim injury types and gender. (Probably won't play much of a role in deciding claim type)"
   ]
  },
  {
   "cell_type": "code",
   "execution_count": null,
   "metadata": {},
   "outputs": [],
   "source": [
    "cat_df = X_train.groupby([X_train[\"Gender\"], y_train]).size().unstack()\n",
    "cat_df.plot.bar(stacked=True)\n",
    "plt.show()"
   ]
  },
  {
   "cell_type": "markdown",
   "metadata": {},
   "source": [
    "Predominatley male dataset - most likely due to the nature of work."
   ]
  },
  {
   "cell_type": "code",
   "execution_count": null,
   "metadata": {},
   "outputs": [],
   "source": [
    "# needs outlier fixes\n",
    "catpc_df = X_train.groupby([\"Age at Injury\", 'Gender'])['Gender'].size().unstack()\n",
    "catpc_df.plot.bar(stacked=True)\n",
    "plt.show()"
   ]
  },
  {
   "cell_type": "markdown",
   "metadata": {},
   "source": [
    "Predomintantly using zip codes based in category 1. This includes NY, Delaware, and Pennsylvania. Given that the organization is for the state of New York, it makes sense that a majority of the variables will be based in the zipcode category that New York belongs to. Using District Name will be more useful. This is potentially ground to remove the zipcode columns."
   ]
  },
  {
   "cell_type": "code",
   "execution_count": null,
   "metadata": {},
   "outputs": [],
   "source": [
    "cat_df = X_train.groupby([X_train['zip_code_cat'], y_train]).size().unstack()\n",
    "cat_df.plot.bar(stacked=True)\n",
    "plt.show()"
   ]
  },
  {
   "cell_type": "code",
   "execution_count": null,
   "metadata": {},
   "outputs": [],
   "source": [
    "cat_df = X_train.groupby([X_train['District Name'], y_train]).size().unstack()\n",
    "cat_df.plot.bar(stacked=True)\n",
    "plt.show()"
   ]
  },
  {
   "cell_type": "markdown",
   "metadata": {},
   "source": [
    "The percentage of \"Non-comp\" injury types in NYC is well above the rest of the districts. Potentially high ocurances of fraud in big cities?"
   ]
  },
  {
   "cell_type": "code",
   "execution_count": null,
   "metadata": {},
   "outputs": [],
   "source": [
    "cross = pd.crosstab(X_train['District Name'], y_train, normalize=True).round(2)\n",
    "\n",
    "fig = plt.figure(figsize=(10, 8))\n",
    "sns.heatmap(data=cross, annot=True, \n",
    "            vmin=0, vmax=1, center=0,\n",
    "            square=True, linewidths=.5,\n",
    "            cmap='PiYG')\n",
    "plt.show()"
   ]
  },
  {
   "cell_type": "code",
   "execution_count": null,
   "metadata": {},
   "outputs": [],
   "source": [
    "cat_df = X_train.groupby([X_train['COVID-19 Indicator'], y_train]).size().unstack()\n",
    "cat_df.plot.bar(stacked=True)\n",
    "plt.show()"
   ]
  },
  {
   "cell_type": "markdown",
   "metadata": {},
   "source": [
    "Taking a closer look at when the COVID Indicator is \"Y\". <br/>\n",
    "<br/>\n",
    "It seems whenever covid is present, the chance that it will be marked as \"Non-comp\" is higher."
   ]
  },
  {
   "cell_type": "code",
   "execution_count": null,
   "metadata": {},
   "outputs": [],
   "source": [
    "covid_data = X_train[ X_train[\"COVID-19 Indicator\"] == \"Y\"]\n",
    "cat_df = covid_data.groupby([X_train['COVID-19 Indicator'], y_train]).size().unstack()\n",
    "cat_df.plot.bar(stacked=True)\n",
    "plt.title(\"Claim Injry Distribution when COVID-19 is marked\")\n",
    "plt.show()"
   ]
  },
  {
   "cell_type": "code",
   "execution_count": null,
   "metadata": {},
   "outputs": [],
   "source": [
    "# needs outlier fixes\n",
    "sns.set_style('ticks')\n",
    "fig, ax = plt.subplots()\n",
    "hb = ax.hexbin(X_train[\"Age at Injury\"], X_train[\"Average Weekly Wage\"], gridsize=20)\n",
    "ax.set_title(\"Hexagon binning for age and income\")\n",
    "cb = fig.colorbar(hb, ax=ax, label='counts')\n",
    "plt.show()"
   ]
  },
  {
   "cell_type": "markdown",
   "metadata": {},
   "source": [
    "The distribution of claim types on the number dependants is distributed evenly implying number of dependents have no weight on the claim injury type."
   ]
  },
  {
   "cell_type": "code",
   "execution_count": null,
   "metadata": {},
   "outputs": [],
   "source": [
    "cat_df = X_train.groupby([X_train[\"Number of Dependents\"], y_train]).size().unstack()\n",
    "cat_df.plot.bar(stacked=True)\n",
    "plt.show()"
   ]
  },
  {
   "cell_type": "code",
   "execution_count": null,
   "metadata": {},
   "outputs": [],
   "source": [
    "cat_df = X_train.groupby([X_train[\"WCIO Nature of Injury Code\"], y_train]).size().unstack()\n",
    "cat_df.plot.bar(stacked=True)\n",
    "plt.show()"
   ]
  },
  {
   "cell_type": "code",
   "execution_count": null,
   "metadata": {},
   "outputs": [],
   "source": [
    "cat_df = X_train.groupby([X_train[\"WCIO Part Of Body Code\"], y_train]).size().unstack()\n",
    "cat_df.plot.bar(stacked=True)\n",
    "plt.show()"
   ]
  },
  {
   "cell_type": "code",
   "execution_count": null,
   "metadata": {},
   "outputs": [],
   "source": [
    "cat_df = X_train.groupby([X_train[\"WCIO Cause of Injury Code\"], y_train]).size().unstack()\n",
    "cat_df.plot.bar(stacked=True)\n",
    "plt.show()"
   ]
  },
  {
   "cell_type": "code",
   "execution_count": null,
   "metadata": {},
   "outputs": [],
   "source": [
    "train_data.nunique()"
   ]
  },
  {
   "cell_type": "code",
   "execution_count": null,
   "metadata": {},
   "outputs": [],
   "source": [
    "independent_var = ['Age at Injury','Alternative Dispute Resolution',\n",
    "       'Attorney/Representative', 'Carrier Type', \n",
    "       'County of Injury', 'COVID-19 Indicator', 'District Name', 'Gender',\n",
    "       'Industry Code', 'Medical Fee Region', 'WCIO Cause of Injury Code',\n",
    "       'WCIO Nature of Injury Code', 'WCIO Part Of Body Code',  'Number of Dependents', \n",
    "       'zip_code_cat']\n",
    "\n",
    "target_variable = \"Claim Injury Type\"\n",
    "\n",
    "\n",
    "for var in independent_var:\n",
    "\n",
    "    catpc_df = train_data.groupby([var, target_variable])[target_variable].size().unstack()\n",
    "    \n",
    "    catpc_df.plot(kind='bar', stacked=True, figsize=(10, 6), colormap=\"tab20\")\n",
    "    \n",
    "    plt.title(f\"Stacked Bar Plot of {var} by {target_variable}\")\n",
    "    plt.xlabel(var)\n",
    "    plt.ylabel(\"Count\")\n",
    "    \n",
    "    plt.tight_layout() \n",
    "    plt.show()"
   ]
  },
  {
   "cell_type": "markdown",
   "metadata": {},
   "source": [
    "<hr>\n",
    "\n",
    "<a class=\"anchor\" id=\"outliers\">\n",
    "\n",
    "# 7. Outliers\n",
    "</a>"
   ]
  },
  {
   "cell_type": "markdown",
   "metadata": {},
   "source": [
    "<a class=\"anchor\" id=\"viewoutliers\">\n",
    "\n",
    "## 7.1 Visualisation of Outliers\n",
    "</a>"
   ]
  },
  {
   "cell_type": "markdown",
   "metadata": {},
   "source": [
    "Let's start by plotting some box plots to see the behaviour of the dataset on the metric features"
   ]
  },
  {
   "cell_type": "code",
   "execution_count": null,
   "metadata": {},
   "outputs": [],
   "source": [
    "print(metric_features)"
   ]
  },
  {
   "cell_type": "code",
   "execution_count": null,
   "metadata": {},
   "outputs": [],
   "source": [
    "# Plot ALL Numeric Variables' Histograms in one figure\n",
    "\n",
    "sp_rows = 3\n",
    "sp_cols = ceil(len(metric_features) / sp_rows)\n",
    "\n",
    "\n",
    "# Create individual axes where each histogram will be placed\n",
    "fig, axes = plt.subplots(sp_rows, \n",
    "                         sp_cols, \n",
    "                         figsize=(10, 6),\n",
    "                         tight_layout=True\n",
    "                        )\n",
    "\n",
    "# Plot data\n",
    "# Iterate across axes objects and associate each histogram:\n",
    "for ax, feat in zip(axes.flatten(), metric_features): # Notice the zip() function and flatten() method\n",
    "    sns.boxplot(x=X_train[feat], ax=ax,color=plt.cm.tab20(1))\n",
    "    \n",
    "# Add a centered title to the figure:\n",
    "title = \"Numeric Variables' Box Plots\"\n",
    "\n",
    "plt.suptitle(title)\n",
    "\n",
    "if not os.path.exists(os.path.join('..', 'figures', 'eda')):\n",
    "    # if the eda directory is not present then create it first\n",
    "    os.makedirs(os.path.join('..', 'figures', 'eda'))\n",
    "\n",
    "\n",
    "plt.savefig(os.path.join('..', 'figures', 'eda', 'numeric_variables_boxplots.png'), dpi=200)\n",
    "\n",
    "\n",
    "plt.show()"
   ]
  },
  {
   "cell_type": "markdown",
   "metadata": {},
   "source": [
    "------------------------"
   ]
  },
  {
   "cell_type": "markdown",
   "metadata": {},
   "source": [
    "<a class=\"anchor\" id=\"removeoutliers\">\n",
    "\n",
    "## 7.2 Outlier Removal\n",
    "</a>"
   ]
  },
  {
   "cell_type": "code",
   "execution_count": null,
   "metadata": {},
   "outputs": [],
   "source": [
    "#Start by computing the interquartile range\n",
    "q1 = X_train[metric_features].quantile(0.25)\n",
    "q3 = X_train[metric_features].quantile(0.75)\n",
    "iqr = q3 - q1\n",
    "\n",
    "#Now we are going to compute the limits:\n",
    "lower_lim = np.round(q1 - (1.5 * iqr), decimals=2)\n",
    "upper_lim = np.round(q3 + (1.5 * iqr), decimals=2)\n",
    "\n",
    "for feature in metric_features:\n",
    "    print(f\"{feature:<25}        Lower Limit: {lower_lim[feature]:>10}      Upper Limit: {upper_lim[feature]:>10}\")"
   ]
  },
  {
   "cell_type": "markdown",
   "metadata": {},
   "source": [
    "Let's detect 'obvious' outliers, those where every characteristic in outside the interquartile range"
   ]
  },
  {
   "cell_type": "code",
   "execution_count": null,
   "metadata": {},
   "outputs": [],
   "source": [
    "def identify_outliers(train_data, metric_features, lower_lim, upper_lim):\n",
    "    outliers = {}\n",
    "    obvious_outliers = []\n",
    "\n",
    "    for metric in metric_features:\n",
    "        if metric not in train_data.columns:\n",
    "            continue\n",
    "        \n",
    "        if metric not in lower_lim or metric not in upper_lim:\n",
    "            continue\n",
    "        \n",
    "        outliers[metric] = []\n",
    "        llim = lower_lim[metric]\n",
    "        ulim = upper_lim[metric]\n",
    "        \n",
    "        for i, value in enumerate(train_data[metric]):\n",
    "            if pd.isna(value):\n",
    "                continue\n",
    "            \n",
    "            if value < llim or value > ulim:\n",
    "                outliers[metric].append(value)\n",
    "        \n",
    "        print(f\"Total outliers in {metric}: {len(outliers[metric])}\")\n",
    "\n",
    "    # Check for observations that are outliers in all features (Obvious Outliers)\n",
    "    for index, row in train_data.iterrows():\n",
    "        is_global_outlier = True\n",
    "        for metric in metric_features:\n",
    "            if metric not in train_data.columns or metric not in lower_lim or metric not in upper_lim:\n",
    "                is_global_outlier = False\n",
    "                break\n",
    "            \n",
    "            value = row[metric]\n",
    "            if pd.isna(value):\n",
    "                is_global_outlier = False\n",
    "                break\n",
    "            \n",
    "            llim = lower_lim[metric]\n",
    "            ulim = upper_lim[metric]\n",
    "            \n",
    "            if llim <= value <= ulim:\n",
    "                is_global_outlier = False\n",
    "                break\n",
    "        \n",
    "        if is_global_outlier:\n",
    "            obvious_outliers.append(index)\n",
    "    print(\"-----------------------------\")\n",
    "    print(f\"Total global outliers: {len(obvious_outliers)}\")\n",
    "    return outliers, obvious_outliers\n",
    "    \n",
    "    \n",
    "outliers, obvious_outliers = identify_outliers(X_train, metric_features, lower_lim, upper_lim)"
   ]
  },
  {
   "cell_type": "markdown",
   "metadata": {},
   "source": [
    "As we could see, there is no observation that has every characteristic outside the interquartile range, since there is no outlier in 'Number of Dependents', 'Industry_Avg_Weekly_Wage', 'Claim Count by Carrier', and 'Claim Count by Gender'.\n",
    "But let's try this function again but without those features, to see if there are any observations considered as outliers, except on these features!"
   ]
  },
  {
   "cell_type": "code",
   "execution_count": 792,
   "metadata": {},
   "outputs": [],
   "source": [
    "metric_features_test =[\"Age at Injury\", \"Average Weekly Wage\", \"IME-4 Count\", \"Days Between Accident_Assembly\", \"Days Between Accident_C2\"]"
   ]
  },
  {
   "cell_type": "code",
   "execution_count": null,
   "metadata": {},
   "outputs": [],
   "source": [
    "outliers, obvious_outliers = identify_outliers(X_train, metric_features_test, lower_lim, upper_lim)"
   ]
  },
  {
   "cell_type": "markdown",
   "metadata": {},
   "source": [
    "So, we conclude that there aren't any *obvious* outliers"
   ]
  },
  {
   "cell_type": "markdown",
   "metadata": {},
   "source": [
    "Now let's create a filter that will verify if an observation has every characteristic in the Interquartile Range or not "
   ]
  },
  {
   "cell_type": "code",
   "execution_count": 794,
   "metadata": {},
   "outputs": [],
   "source": [
    "filters_iqr = []                                            \n",
    "for metric in metric_features:\n",
    "    llim = lower_lim[metric]\n",
    "    ulim = upper_lim[metric]\n",
    "    filters_iqr.append(X_train[metric].between(llim, ulim, inclusive='neither'))\n",
    "\n",
    "filters_iqr_all = pd.concat(filters_iqr, axis=1).all(axis=1)"
   ]
  },
  {
   "cell_type": "code",
   "execution_count": null,
   "metadata": {},
   "outputs": [],
   "source": [
    "filters_iqr"
   ]
  },
  {
   "cell_type": "code",
   "execution_count": null,
   "metadata": {},
   "outputs": [],
   "source": [
    "filters_iqr_all  "
   ]
  },
  {
   "cell_type": "code",
   "execution_count": null,
   "metadata": {},
   "outputs": [],
   "source": [
    "len(X_train[X_train[filters_iqr_all] == 'False'])      #These are the features that have at least one of its charac\\teristics considered as an outlier (out of the IQR)"
   ]
  },
  {
   "cell_type": "code",
   "execution_count": null,
   "metadata": {},
   "outputs": [],
   "source": [
    "print('Percentage of data kept after removing outliers:', 100 - (100*((len(X_train[X_train[filters_iqr_all] == 'False'])) / (X_train.shape[0]))))"
   ]
  },
  {
   "cell_type": "code",
   "execution_count": null,
   "metadata": {},
   "outputs": [],
   "source": [
    "X_train.shape"
   ]
  },
  {
   "cell_type": "code",
   "execution_count": null,
   "metadata": {},
   "outputs": [],
   "source": [
    "X_train_iqr = X_train[filters_iqr_all]\n",
    "print('Percentage of data kept after removing outliers:', 100*(np.round(X_train_iqr.shape[0] / X_train.shape[0], decimals=2)))"
   ]
  },
  {
   "cell_type": "markdown",
   "metadata": {},
   "source": [
    "Let's try another method, since this method is not rigorous:"
   ]
  },
  {
   "cell_type": "markdown",
   "metadata": {},
   "source": [
    "---------------"
   ]
  },
  {
   "cell_type": "markdown",
   "metadata": {},
   "source": [
    "<a class=\"anchor\" id=\"manuall\">\n",
    "\n",
    "### 7.2.1 Manual Outlier Removal\n",
    "</a>"
   ]
  },
  {
   "attachments": {
    "image.png": {
     "image/png": "[encoded data removed]"
    }
   },
   "cell_type": "markdown",
   "metadata": {},
   "source": [
    "![image.png](attachment:image.png)"
   ]
  },
  {
   "cell_type": "markdown",
   "metadata": {},
   "source": [
    "Now we are going to select a threshold to each variable according to its boxplot, percentage of data kept (Rule of Thumb):"
   ]
  },
  {
   "cell_type": "code",
   "execution_count": 801,
   "metadata": {},
   "outputs": [],
   "source": [
    "filters_manual1 = (\n",
    "                (X_train[\"Age at Injury\"] <= 90)\n",
    "                &\n",
    "                (X_train[\"Average Weekly Wage\"] <= 0.2*1e6)\n",
    "                &\n",
    "                (X_train[\"IME-4 Count\"] < 10)                            \n",
    "                #&\n",
    "                #(X_train[\"Number of Dependents\"])                        There are no outliers here, so I think there is no manual restriction to make\n",
    "                # &\n",
    "                # (X_train[\"Days Between Accident_Assembly\"] <= 2000)\n",
    "                # &\n",
    "                # (X_train[\"Days Between Accident_C2\"] <= 2000)\n",
    "                #&\n",
    "                #(X_train[\"Industry_Avg_Weekly_Wage\"])                     There are no outliers here, so I think there is no manual restriction to make\n",
    "                #&\n",
    "                #(X_train[\"Claim Count by Carrier\"])                     There are no outliers here, so I think there is no manual restriction to make\n",
    "                #&\n",
    "                #(X_train[\"Claim Count by Gender\"])                     There are no outliers here, so I think there is no manual restriction to make\n",
    ")\n",
    "X_train_out_man = X_train[filters_manual1]\n",
    "filtered_indices = X_train_out_man.index\n",
    "y_train = y_train.loc[filtered_indices]"
   ]
  },
  {
   "cell_type": "code",
   "execution_count": null,
   "metadata": {},
   "outputs": [],
   "source": [
    "print('Percentage of data kept after removing outliers:', 100*(np.round(X_train_out_man.shape[0] / X_train.shape[0], decimals=5)))"
   ]
  },
  {
   "cell_type": "code",
   "execution_count": null,
   "metadata": {},
   "outputs": [],
   "source": [
    "X_train_out = X_train[(filters_iqr_all | filters_manual1)]            #Only if the 2 filter says that the observation are outliers we remove!\n",
    "filtered_indices = X_train_out.index\n",
    "y_train = y_train.loc[filtered_indices]\n",
    "\n",
    "print('Percentage of data kept after removing outliers:', 100*np.round(X_train_out.shape[0] / X_train.shape[0], 4))"
   ]
  },
  {
   "cell_type": "markdown",
   "metadata": {},
   "source": [
    "<hr>\n",
    "\n",
    "<a class=\"anchor\" id=\"transform\">\n",
    "\n",
    "# 8. Data Transformation - Encoding and Scaling \n",
    "</a>"
   ]
  },
  {
   "cell_type": "code",
   "execution_count": null,
   "metadata": {},
   "outputs": [],
   "source": [
    "non_metric_features"
   ]
  },
  {
   "cell_type": "code",
   "execution_count": null,
   "metadata": {},
   "outputs": [],
   "source": [
    "X_val[non_metric_features].head()"
   ]
  },
  {
   "cell_type": "code",
   "execution_count": null,
   "metadata": {},
   "outputs": [],
   "source": [
    "X_train_out[non_metric_features].head()\n",
    "# 'WCIO Nature of Injury Code_cat'"
   ]
  },
  {
   "cell_type": "code",
   "execution_count": null,
   "metadata": {},
   "outputs": [],
   "source": [
    "test_data[non_metric_features].head()\n",
    "#'WCIO Cause of Injury_cat'"
   ]
  },
  {
   "cell_type": "code",
   "execution_count": null,
   "metadata": {},
   "outputs": [],
   "source": [
    "X_train_out.dtypes"
   ]
  },
  {
   "cell_type": "markdown",
   "metadata": {},
   "source": [
    "----------------"
   ]
  },
  {
   "cell_type": "markdown",
   "metadata": {},
   "source": [
    "<a class=\"anchor\" id=\"encode\">\n",
    "\n",
    "## 8.1 Feature Encoding\n",
    "</a>"
   ]
  },
  {
   "cell_type": "markdown",
   "metadata": {},
   "source": [
    "Label Encoder for target variable (training and validation):"
   ]
  },
  {
   "cell_type": "code",
   "execution_count": 818,
   "metadata": {},
   "outputs": [],
   "source": [
    "#Initialize Label encoder\n",
    "label_encoder = LabelEncoder()\n",
    "\n",
    "#Fit and transform the encoder on the training target variable\n",
    "Y_train_encoded = label_encoder.fit_transform(y_train)\n",
    "\n",
    "#Transform validation target variable\n",
    "Y_val_encoded = label_encoder.transform(y_val)\n",
    "\n",
    "#Convert the results back to DataFrames\n",
    "Y_train_encoded_df = pd.DataFrame(Y_train_encoded, columns=['encoded_target'], index=pd.Series(y_train.index))\n",
    "Y_val_encoded_df = pd.DataFrame(Y_val_encoded, columns=['encoded_target'], index=pd.Series(y_val.index))"
   ]
  },
  {
   "cell_type": "code",
   "execution_count": null,
   "metadata": {},
   "outputs": [],
   "source": [
    "Y_train_encoded_df.head()"
   ]
  },
  {
   "cell_type": "code",
   "execution_count": null,
   "metadata": {},
   "outputs": [],
   "source": [
    "Y_val_encoded_df.head()"
   ]
  },
  {
   "cell_type": "markdown",
   "metadata": {},
   "source": [
    "One hot encoder for dependent variables (non-metric): (only for training and validation)"
   ]
  },
  {
   "cell_type": "code",
   "execution_count": 821,
   "metadata": {},
   "outputs": [],
   "source": [
    "X_train_copy = X_train_out.copy()\n",
    "X_val_copy = X_val.copy()\n",
    "test_data_copy = test_data.copy()"
   ]
  },
  {
   "cell_type": "code",
   "execution_count": null,
   "metadata": {},
   "outputs": [],
   "source": [
    "X_train_copy.dtypes"
   ]
  },
  {
   "cell_type": "code",
   "execution_count": null,
   "metadata": {},
   "outputs": [],
   "source": [
    "print(X_val.columns)"
   ]
  },
  {
   "cell_type": "markdown",
   "metadata": {},
   "source": [
    "------------"
   ]
  },
  {
   "cell_type": "markdown",
   "metadata": {},
   "source": [
    "#### Different encoding strategy - One hot encoder, label encoder, frequency encoder:"
   ]
  },
  {
   "cell_type": "code",
   "execution_count": 824,
   "metadata": {},
   "outputs": [],
   "source": [
    "# oh_features_to_encode = [\"Carrier Type\", \"County of Injury\", \"District Name\", \"Medical Fee Region\", \"zip_code_cat\", \"Season_of_Accident\", \"Alternative Dispute Resolution\", \"Attorney/Representative\", \"COVID-19 Indicator\", \"Gender\"]\n",
    "# frequency_encoder_features = [\"Industry Code\", \"WCIO Cause of Injury Code\", \"WCIO Nature of Injury Code\", \"WCIO Part Of Body Code\"]"
   ]
  },
  {
   "cell_type": "markdown",
   "metadata": {},
   "source": [
    "1. ONE HOT ENCODER for low cardinality features:"
   ]
  },
  {
   "cell_type": "code",
   "execution_count": 825,
   "metadata": {},
   "outputs": [],
   "source": [
    "# # Initialize the encoder with the chosen settings\n",
    "# ohc = OneHotEncoder(sparse_output=False, drop=\"first\")\n",
    "\n",
    "# # Fit the encoder on the training set only\n",
    "# ohc.fit(X_train_copy[oh_features_to_encode])  \n",
    "\n",
    "# # Transform the training set\n",
    "# ohc_train_features = ohc.transform(X_train_copy[oh_features_to_encode])\n",
    "# ohc_train_df = pd.DataFrame(ohc_train_features, index=X_train_copy.index, columns=ohc.get_feature_names_out(oh_features_to_encode))\n",
    "\n",
    "# # Concatenate the encoded features back to the training set\n",
    "# X_train_encoded = pd.concat([X_train_copy.drop(columns=oh_features_to_encode), ohc_train_df], axis=1)\n",
    "\n",
    "# # Transform the validation set using the same encoder (do not fit again)\n",
    "# ohc_val_features = ohc.transform(X_val_copy[oh_features_to_encode])\n",
    "# ohc_val_df = pd.DataFrame(ohc_val_features, index=X_val_copy.index, columns=ohc.get_feature_names_out(oh_features_to_encode))\n",
    "\n",
    "# # Concatenate the encoded features back to the validation set\n",
    "# X_val_encoded = pd.concat([X_val_copy.drop(columns=oh_features_to_encode), ohc_val_df], axis=1)\n",
    "\n",
    "# # Transform the test set using the same encoder (do not fit again)\n",
    "# ohc_test_features = ohc.transform(test_data_copy[oh_features_to_encode])\n",
    "# ohc_test_df = pd.DataFrame(ohc_test_features, index=test_data_copy.index, columns=ohc.get_feature_names_out(oh_features_to_encode))\n",
    "\n",
    "# # Concatenate the encoded features back to the test set\n",
    "# test_data_encoded = pd.concat([test_data_copy.drop(columns=oh_features_to_encode), ohc_test_df], axis=1)\n",
    "\n",
    "# # Final datasets : X_train_encoded, X_val_encoded, test_data_encoded"
   ]
  },
  {
   "cell_type": "markdown",
   "metadata": {},
   "source": [
    " 2. Frequency encoder for codes:"
   ]
  },
  {
   "cell_type": "code",
   "execution_count": 826,
   "metadata": {},
   "outputs": [],
   "source": [
    "# # Create a dictionary to store frequency mappings for each feature\n",
    "# frequency_encoders = {}\n",
    "\n",
    "# # Apply Frequency Encoding\n",
    "# for feature in frequency_encoder_features:\n",
    "#     # Calculate frequency counts on the training data\n",
    "#     freq_counts = X_train_copy[feature].value_counts(normalize=True)\n",
    "    \n",
    "#     # Store the frequency mapping for future reference\n",
    "#     frequency_encoders[feature] = freq_counts\n",
    "\n",
    "#     # Map the frequencies to the training set\n",
    "#     X_train_copy[feature] = X_train_copy[feature].map(freq_counts)\n",
    "    \n",
    "#     # Map the frequencies to the validation set (using the training frequencies)\n",
    "#     X_val_copy[feature] = X_val_copy[feature].map(freq_counts)\n",
    "    \n",
    "#     # Map the frequencies to the test set (using the training frequencies)\n",
    "#     test_data_copy[feature] = test_data_copy[feature].map(freq_counts)\n",
    "\n",
    "# # Final datasets:\n",
    "# # - X_train_copy, X_val_copy, test_data_copy "
   ]
  },
  {
   "cell_type": "code",
   "execution_count": 827,
   "metadata": {},
   "outputs": [],
   "source": [
    "# columns_to_add = frequency_encoder_features\n",
    "\n",
    "# X_train_encoded = X_train_encoded.drop(columns=columns_to_add)\n",
    "# X_train_encoded = pd.concat([X_train_encoded, X_train_copy[columns_to_add]], axis=1)\n",
    "\n",
    "# X_val_encoded = X_val_encoded.drop(columns=columns_to_add)\n",
    "# X_val_encoded = pd.concat([X_val_encoded, X_val_copy[columns_to_add]], axis=1)\n",
    "\n",
    "# test_data_encoded = test_data_encoded.drop(columns=columns_to_add)\n",
    "# test_data_encoded = pd.concat([test_data_encoded, test_data_copy[columns_to_add]], axis=1)\n"
   ]
  },
  {
   "cell_type": "code",
   "execution_count": 828,
   "metadata": {},
   "outputs": [],
   "source": [
    "# X_train_encoded.shape"
   ]
  },
  {
   "cell_type": "code",
   "execution_count": 829,
   "metadata": {},
   "outputs": [],
   "source": [
    "# X_val_encoded.shape"
   ]
  },
  {
   "cell_type": "code",
   "execution_count": 830,
   "metadata": {},
   "outputs": [],
   "source": [
    "# test_data_encoded.shape"
   ]
  },
  {
   "cell_type": "code",
   "execution_count": 831,
   "metadata": {},
   "outputs": [],
   "source": [
    "# X_train_encoded.describe(include=\"all\").round(2).T"
   ]
  },
  {
   "cell_type": "code",
   "execution_count": 832,
   "metadata": {},
   "outputs": [],
   "source": [
    "# X_val_encoded.describe(include=\"all\").round(2).T"
   ]
  },
  {
   "cell_type": "code",
   "execution_count": 833,
   "metadata": {},
   "outputs": [],
   "source": [
    "# test_data_encoded.describe(include=\"all\").round(2).T"
   ]
  },
  {
   "cell_type": "code",
   "execution_count": 834,
   "metadata": {},
   "outputs": [],
   "source": [
    "# code_features = ['Industry Code',\n",
    "#  'WCIO Cause of Injury Code',\n",
    "#  'WCIO Nature of Injury Code',\n",
    "#  'WCIO Part Of Body Code']\n",
    "# for feature in code_features:\n",
    "#     non_metric_features.remove(feature)"
   ]
  },
  {
   "cell_type": "code",
   "execution_count": 835,
   "metadata": {},
   "outputs": [],
   "source": [
    "# for feature in code_features:\n",
    "#     metric_features.append(feature)"
   ]
  },
  {
   "cell_type": "markdown",
   "metadata": {},
   "source": [
    "-----------------"
   ]
  },
  {
   "cell_type": "markdown",
   "metadata": {},
   "source": [
    "One hot encoder:"
   ]
  },
  {
   "cell_type": "code",
   "execution_count": 836,
   "metadata": {},
   "outputs": [],
   "source": [
    "# non_metric_features=[ 'Industry Code','Alternative Dispute Resolution',\n",
    "#  'Attorney/Representative',\n",
    "#  'Carrier Type',\n",
    "#  'County of Injury',\n",
    "#  'COVID-19 Indicator',\n",
    "#  'District Name',\n",
    "#  'Gender',\n",
    "#  'Medical Fee Region',\n",
    "#  'zip_code_cat',\n",
    "#  'First Hearing Date Binary',\n",
    "#  'C-2 Date Bin',\n",
    "#  'C-3 Date Bin',\n",
    "#  'Season_of_Accident',\n",
    "#  'WCIO Cause of Injury Code',\n",
    "#  'WCIO Nature of Injury Code',\n",
    "#  'WCIO Part Of Body Code'\n",
    "#  ]"
   ]
  },
  {
   "cell_type": "code",
   "execution_count": null,
   "metadata": {},
   "outputs": [],
   "source": [
    "X_train_copy.dtypes"
   ]
  },
  {
   "cell_type": "code",
   "execution_count": 838,
   "metadata": {},
   "outputs": [],
   "source": [
    "X_train_copy[non_metric_features] = X_train_copy[non_metric_features].astype(str)\n",
    "X_val_copy[non_metric_features] = X_val_copy[non_metric_features].astype(str)\n",
    "test_data_copy[non_metric_features] = test_data_copy[non_metric_features].astype(str)"
   ]
  },
  {
   "cell_type": "code",
   "execution_count": null,
   "metadata": {},
   "outputs": [],
   "source": [
    "X_train_copy.dtypes"
   ]
  },
  {
   "cell_type": "code",
   "execution_count": 840,
   "metadata": {},
   "outputs": [],
   "source": [
    "# Initialize the encoder with the chosen settings\n",
    "ohc = OneHotEncoder(sparse_output=False, drop=\"first\", handle_unknown='ignore')\n",
    "\n",
    "# Fit the encoder on the training set only\n",
    "ohc.fit(X_train_copy[non_metric_features])  \n",
    "\n",
    "# Transform the training set\n",
    "ohc_train_features = ohc.transform(X_train_copy[non_metric_features])\n",
    "ohc_train_df = pd.DataFrame(ohc_train_features, index=X_train_copy.index, columns=ohc.get_feature_names_out(non_metric_features))\n",
    "\n",
    "# Concatenate the encoded features back to the training set\n",
    "X_train_encoded = pd.concat([X_train_copy.drop(columns=non_metric_features), ohc_train_df], axis=1)\n",
    "\n",
    "# Transform the validation set using the same encoder (do not fit again)\n",
    "ohc_val_features = ohc.transform(X_val_copy[non_metric_features])\n",
    "ohc_val_df = pd.DataFrame(ohc_val_features, index= X_val_copy.index, columns=ohc.get_feature_names_out(non_metric_features))\n",
    "\n",
    "# Concatenate the encoded features back to the validation set\n",
    "X_val_encoded = pd.concat([X_val_copy.drop(columns=non_metric_features), ohc_val_df], axis=1)\n",
    "\n",
    "# Transform the test set using the same encoder (do not fit again)\n",
    "ohc_test_features = ohc.transform(test_data_copy[non_metric_features])\n",
    "ohc_test_df = pd.DataFrame(ohc_test_features, index= test_data_copy.index, columns=ohc.get_feature_names_out(non_metric_features))\n",
    "\n",
    "# Concatenate the encoded features back to the test set\n",
    "test_data_encoded = pd.concat([test_data_copy.drop(columns=non_metric_features), ohc_test_df], axis=1)"
   ]
  },
  {
   "cell_type": "code",
   "execution_count": null,
   "metadata": {},
   "outputs": [],
   "source": [
    "X_train_encoded.dtypes"
   ]
  },
  {
   "cell_type": "markdown",
   "metadata": {},
   "source": [
    "--------------"
   ]
  },
  {
   "cell_type": "markdown",
   "metadata": {},
   "source": [
    "1. Conclusions based on Feature Selection for Categorical Features "
   ]
  },
  {
   "cell_type": "markdown",
   "metadata": {},
   "source": [
    "- Aggregate"
   ]
  },
  {
   "cell_type": "code",
   "execution_count": 842,
   "metadata": {},
   "outputs": [],
   "source": [
    "# # Definindo as variáveis categóricas para agrupamento conforme sua lista\n",
    "# grouped_columns = {\n",
    "#     'WCIO Nature of Injury Code': [\n",
    "#         'WCIO Nature of Injury Code_55', 'WCIO Nature of Injury Code_32', 'WCIO Nature of Injury Code_19',\n",
    "#         'WCIO Nature of Injury Code_69', 'WCIO Nature of Injury Code_38', 'WCIO Nature of Injury Code_47',\n",
    "#         'WCIO Nature of Injury Code_66', 'WCIO Nature of Injury Code_91', 'WCIO Nature of Injury Code_58',\n",
    "#         'WCIO Nature of Injury Code_75', 'WCIO Nature of Injury Code_64', 'WCIO Nature of Injury Code_70',\n",
    "#         'WCIO Nature of Injury Code_76', 'WCIO Nature of Injury Code_79', 'WCIO Nature of Injury Code_22',\n",
    "#         'WCIO Nature of Injury Code_63', 'WCIO Nature of Injury Code_3', 'WCIO Nature of Injury Code_30',\n",
    "#         'WCIO Nature of Injury Code_60', 'WCIO Nature of Injury Code_62', 'WCIO Nature of Injury Code_64',\n",
    "#         'WCIO Nature of Injury Code_67'\n",
    "#     ],\n",
    "    \n",
    "#     'zip_code_cat': [\n",
    "#         'zip_code_cat_7', 'zip_code_cat_4', 'zip_code_cat_9', 'zip_code_cat_Other', 'zip_code_cat_8',\n",
    "#         'zip_code_cat_6', 'zip_code_cat_5'\n",
    "#     ],\n",
    "    \n",
    "#     'County of Injury': [\n",
    "#         'County of Injury_TOMPKINS', 'County of Injury_CATTARAUGUS', 'County of Injury_GENESEE',\n",
    "#         'County of Injury_TIOGA', 'County of Injury_OTSEGO', 'County of Injury_SCHENECTADY',\n",
    "#         'County of Injury_LIVINGSTON', 'County of Injury_MADISON', 'County of Injury_ESSEX', 'County of Injury_LEWIS',\n",
    "#         'County of Injury_STEUBEN', 'County of Injury_ORLEANS', 'County of Injury_FRANKLIN',\n",
    "#         'County of Injury_ALLEGANY', 'County of Injury_CORTLAND', 'County of Injury_SCHUYLER',\n",
    "#         'County of Injury_SENECA', 'County of Injury_SCHOHARIE', 'County of Injury_WAYNE',\n",
    "#         'County of Injury_HAMILTON', 'County of Injury_WYOMING', 'County of Injury_MONTGOMERY',\n",
    "#         'County of Injury_YATES'\n",
    "#     ],\n",
    "    \n",
    "#     'WCIO Cause of Injury Code': [\n",
    "#         'WCIO Cause of Injury Code_20', 'WCIO Cause of Injury Code_84', 'WCIO Cause of Injury Code_94',\n",
    "#         'WCIO Cause of Injury Code_95', 'WCIO Cause of Injury Code_11', 'WCIO Cause of Injury Code_7',\n",
    "#         'WCIO Cause of Injury Code_65', 'WCIO Cause of Injury Code_4', 'WCIO Cause of Injury Code_91',\n",
    "#         'WCIO Cause of Injury Code_14', 'WCIO Cause of Injury Code_61', 'WCIO Cause of Injury Code_86',\n",
    "#         'WCIO Cause of Injury Code_67', 'WCIO Cause of Injury Code_40', 'WCIO Cause of Injury Code_47',\n",
    "#         'WCIO Cause of Injury Code_8'\n",
    "#     ],\n",
    "    \n",
    "#     'WCIO Part of Body Code': [\n",
    "#         'WCIO Part Of Body Code_50', 'WCIO Part Of Body Code_46', 'WCIO Part Of Body Code_45',\n",
    "#         'WCIO Part Of Body Code_24', 'WCIO Part Of Body Code_26', 'WCIO Part Of Body Code_64'\n",
    "#     ],\n",
    "    \n",
    "#     'Carrier Type': [\n",
    "#         'Carrier Type_5C. SPECIAL FUND - POI CARRIER WCB MENANDS'\n",
    "#     ]\n",
    "# }\n",
    "\n",
    "# # Definindo os datasets para aplicar a agregação\n",
    "# datasets = {\n",
    "#     'X_train_encoded': X_train_encoded,\n",
    "#     'X_val_encoded': X_val_encoded,\n",
    "#     'test_data_encoded': test_data_encoded\n",
    "# }\n",
    "\n",
    "# # Agregação usando o modo (mode) para cada dataset\n",
    "# for dataset_name, dataset in datasets.items():\n",
    "#     for group, cols in grouped_columns.items():\n",
    "#         # Verifica se as colunas do grupo existem no dataset atual\n",
    "#         existing_cols = [col for col in cols if col in dataset.columns]\n",
    "        \n",
    "#         if len(existing_cols) > 1:  # Realiza agregação se houver mais de uma coluna\n",
    "#             # Calcula o modo para as colunas existentes do grupo\n",
    "#             dataset[group] = dataset[existing_cols].mode(axis=1)[0]\n",
    "            \n",
    "#             # Remove as colunas originais\n",
    "#             dataset.drop(existing_cols, axis=1, inplace=True)\n",
    "\n",
    "# # Agora os datasets possuem os valores agregados pelo modo e as colunas originais foram removidas.\n"
   ]
  },
  {
   "cell_type": "markdown",
   "metadata": {},
   "source": [
    "- Drop"
   ]
  },
  {
   "cell_type": "code",
   "execution_count": 843,
   "metadata": {},
   "outputs": [],
   "source": [
    "# #Define columns to drop\n",
    "# columns_to_drop = [\n",
    "#     'WCIO Nature of Injury Code_55', 'zip_code_cat_7', 'County of Injury_TOMPKINS', 'County of Injury_CATTARAUGUS',\n",
    "#     'County of Injury_GENESEE', 'County of Injury_TIOGA', 'WCIO Nature of Injury Code_32', 'County of Injury_OTSEGO',\n",
    "#     'County of Injury_SCHENECTADY', 'County of Injury_LIVINGSTON', 'WCIO Cause of Injury Code_20',\n",
    "#     'WCIO Part Of Body Code_50', 'WCIO Nature of Injury Code_19', 'WCIO Cause of Injury Code_3',\n",
    "#     'County of Injury_MADISON', 'County of Injury_ESSEX', 'County of Injury_LEWIS', 'County of Injury_STEUBEN',\n",
    "#     'County of Injury_ORLEANS', 'WCIO Cause of Injury Code_84', 'WCIO Cause of Injury Code_94',\n",
    "#     'WCIO Nature of Injury Code_69', 'County of Injury_FRANKLIN', 'County of Injury_ALLEGANY',\n",
    "#     'WCIO Cause of Injury Code_95', 'Carrier Type_5C. SPECIAL FUND - POI CARRIER WCB MENANDS', 'County of Injury_CORTLAND',\n",
    "#     'zip_code_cat_4', 'zip_code_cat_9', 'County of Injury_SCHUYLER', 'WCIO Nature of Injury Code_66',\n",
    "#     'WCIO Nature of Injury Code_47', 'County of Injury_SENECA', 'WCIO Cause of Injury Code_65',\n",
    "#     'County of Injury_WAYNE', 'zip_code_cat_Other', 'County of Injury_SCHOHARIE', 'WCIO Part Of Body Code_64',\n",
    "#     'WCIO Cause of Injury Code_11', 'WCIO Nature of Injury Code_91', 'WCIO Nature of Injury Code_58',\n",
    "#     'County of Injury_MONTGOMERY', 'WCIO Part Of Body Code_46', 'County of Injury_WYOMING',\n",
    "#     'County of Injury_HAMILTON', 'Industry Code_21', 'WCIO Part Of Body Code_45', 'WCIO Nature of Injury Code_38',\n",
    "#     'WCIO Part Of Body Code_26', 'WCIO Part Of Body Code_24', 'WCIO Cause of Injury Code_4', 'WCIO Nature of Injury Code_3',\n",
    "#     'zip_code_cat_8', 'WCIO Nature of Injury Code_30', 'County of Injury_YATES', 'WCIO Cause of Injury Code_7',\n",
    "#     'WCIO Nature of Injury Code_75', 'WCIO Cause of Injury Code_91', 'WCIO Cause of Injury Code_14',\n",
    "#     'WCIO Cause of Injury Code_61', 'zip_code_cat_6', 'WCIO Nature of Injury Code_60', 'WCIO Nature of Injury Code_62',\n",
    "#     'zip_code_cat_5', 'WCIO Cause of Injury Code_86', 'WCIO Cause of Injury Code_67', 'WCIO Nature of Injury Code_64',\n",
    "#     'WCIO Nature of Injury Code_70', 'WCIO Nature of Injury Code_67', 'WCIO Cause of Injury Code_8',\n",
    "#     'WCIO Cause of Injury Code_47', 'WCIO Nature of Injury Code_63', 'WCIO Nature of Injury Code_22',\n",
    "#     'WCIO Nature of Injury Code_76', 'WCIO Nature of Injury Code_79', 'WCIO Cause of Injury Code_40'\n",
    "# ]\n",
    "\n",
    "# X_train_encoded.drop(columns=columns_to_drop, axis=1, inplace=True,errors='ignore')\n",
    "# X_val_encoded.drop(columns=columns_to_drop, axis=1, inplace=True,errors='ignore')\n",
    "# test_data_encoded.drop(columns=columns_to_drop, axis=1, inplace=True,errors='ignore')"
   ]
  },
  {
   "cell_type": "markdown",
   "metadata": {},
   "source": [
    "---------------"
   ]
  },
  {
   "cell_type": "markdown",
   "metadata": {},
   "source": [
    "<a class=\"anchor\" id=\"minmax\">\n",
    "\n",
    "## 8.2 Min-max Scaler\n",
    "</a>"
   ]
  },
  {
   "cell_type": "markdown",
   "metadata": {},
   "source": [
    "Min-max scaler for dependent variables (metric):"
   ]
  },
  {
   "cell_type": "code",
   "execution_count": null,
   "metadata": {},
   "outputs": [],
   "source": [
    "X_train_out[metric_features].head(10)"
   ]
  },
  {
   "cell_type": "code",
   "execution_count": 845,
   "metadata": {},
   "outputs": [],
   "source": [
    "# Create a MinMaxScaler instance\n",
    "scaler = MinMaxScaler()\n",
    "\n",
    "# Fit the scaler on the training set and transform the training features\n",
    "scaled_feat = scaler.fit_transform(X_train_copy[metric_features])\n",
    "\n",
    "# Convert the scaled features back to a DataFrame \n",
    "scaled_feat_df = pd.DataFrame(scaled_feat, columns=metric_features, index=X_train_copy.index)\n",
    "\n",
    "# Concatenate the scaled features back to the original DataFrames\n",
    "X_train_min_max_scaled = pd.concat([X_train_copy.drop(columns=metric_features), scaled_feat_df], axis=1)\n",
    "X_train_min_max_scaled_encoded = pd.concat([X_train_encoded.drop(columns=metric_features), scaled_feat_df], axis=1)\n",
    "\n",
    "# Transform the validation set using the same scaler (do not fit again)\n",
    "scaled_feat = scaler.transform(X_val_copy[metric_features])\n",
    "\n",
    "# Convert the scaled features back to a DataFrame \n",
    "scaled_feat_df = pd.DataFrame(scaled_feat, columns=metric_features, index=X_val_copy.index)\n",
    "\n",
    "# Concatenate the scaled features back to the original DataFrames\n",
    "X_val_min_max_scaled = pd.concat([X_val_copy.drop(columns=metric_features), scaled_feat_df], axis=1)\n",
    "X_val_min_max_scaled_encoded = pd.concat([X_val_encoded.drop(columns=metric_features), scaled_feat_df], axis=1)\n",
    "\n",
    "# Transform the test set using the same scaler (do not fit again)\n",
    "scaled_feat = scaler.transform(test_data_copy[metric_features])\n",
    "\n",
    "# Convert the scaled features back to a DataFrame \n",
    "scaled_feat_df = pd.DataFrame(scaled_feat, columns=metric_features, index=test_data_copy.index)\n",
    "\n",
    "# Concatenate the scaled features back to the original DataFrames\n",
    "test_min_max_scaled = pd.concat([test_data_copy.drop(columns=metric_features), scaled_feat_df], axis=1)\n",
    "test_min_max_scaled_encoded = pd.concat([test_data_encoded.drop(columns=metric_features), scaled_feat_df], axis=1)\n"
   ]
  },
  {
   "cell_type": "code",
   "execution_count": null,
   "metadata": {},
   "outputs": [],
   "source": [
    "X_train_min_max_scaled[metric_features].describe().round(2).T"
   ]
  },
  {
   "cell_type": "code",
   "execution_count": null,
   "metadata": {},
   "outputs": [],
   "source": [
    "X_val_min_max_scaled[metric_features].describe().round(2).T\n",
    "# Days between accident assembly & days between accident C2 have min values != from zero!! "
   ]
  },
  {
   "cell_type": "code",
   "execution_count": null,
   "metadata": {},
   "outputs": [],
   "source": [
    "test_min_max_scaled[metric_features].describe().round(2).T\n",
    "# avg weekly wage max value very different from 1. "
   ]
  },
  {
   "cell_type": "markdown",
   "metadata": {},
   "source": [
    "--------------"
   ]
  },
  {
   "cell_type": "markdown",
   "metadata": {},
   "source": [
    "<a class=\"anchor\" id=\"std\">\n",
    "\n",
    "## 8.3 Standard Scaler\n",
    "</a>"
   ]
  },
  {
   "cell_type": "markdown",
   "metadata": {},
   "source": [
    "Standard scaler for dependent variables (metric):"
   ]
  },
  {
   "cell_type": "code",
   "execution_count": 849,
   "metadata": {},
   "outputs": [],
   "source": [
    "#Create a StandardScaler instance\n",
    "standard_scaler = StandardScaler()\n",
    "\n",
    "#Fit the scaler on the training set and transform the training features\n",
    "standard_scaled_feat = standard_scaler.fit_transform(X_train_copy[metric_features])\n",
    "\n",
    "#Convert the scaled features back to a DataFrame for better usability\n",
    "standard_scaled_feat_df = pd.DataFrame(standard_scaled_feat, columns=metric_features, index=X_train_copy.index)\n",
    "\n",
    "#Concatenate the scaled features back to the original DataFrames\n",
    "X_train_std_scaler = pd.concat([X_train_copy.drop(columns=metric_features), standard_scaled_feat_df], axis=1)\n",
    "X_train_std_scaler_encoded = pd.concat([X_train_encoded.drop(columns=metric_features), standard_scaled_feat_df], axis=1)\n",
    "\n",
    "#Transform the validation set using the same scaler (do not fit again)\n",
    "standard_scaled_feat = standard_scaler.transform(X_val_copy[metric_features])\n",
    "\n",
    "#Convert the scaled features back to a DataFrame for better usability\n",
    "standard_scaled_feat_df = pd.DataFrame(standard_scaled_feat, columns=metric_features, index=X_val_copy.index)\n",
    "\n",
    "#Concatenate the scaled features back to the original DataFrames\n",
    "X_val_std_scaler = pd.concat([X_val_copy.drop(columns=metric_features), standard_scaled_feat_df], axis=1)\n",
    "X_val_std_scaler_encoded = pd.concat([X_val_encoded.drop(columns=metric_features), standard_scaled_feat_df], axis=1)\n",
    "\n",
    "#Transform the validation set using the same scaler (do not fit again)\n",
    "standard_scaled_feat = standard_scaler.transform(test_data_copy[metric_features])\n",
    "\n",
    "#Convert the scaled features back to a DataFrame for better usability\n",
    "standard_scaled_feat_df = pd.DataFrame(standard_scaled_feat, columns=metric_features, index=test_data_copy.index)\n",
    "\n",
    "#Concatenate the scaled features back to the original DataFrames\n",
    "test_std_scaler = pd.concat([test_data_copy.drop(columns=metric_features), standard_scaled_feat_df], axis=1)\n",
    "X_val_std_scaler = pd.concat([X_val_encoded.drop(columns=metric_features), standard_scaled_feat_df], axis=1)\n",
    "X_test_std_scaler_encoded = pd.concat([test_data_encoded.drop(columns=metric_features), standard_scaled_feat_df], axis=1)"
   ]
  },
  {
   "cell_type": "code",
   "execution_count": null,
   "metadata": {},
   "outputs": [],
   "source": [
    "X_train_std_scaler[metric_features].describe().round(2).T"
   ]
  },
  {
   "cell_type": "code",
   "execution_count": null,
   "metadata": {},
   "outputs": [],
   "source": [
    "X_val_std_scaler[metric_features].describe().round(2).T\n",
    "# avg weekly wage std dev very different from 1."
   ]
  },
  {
   "cell_type": "code",
   "execution_count": null,
   "metadata": {},
   "outputs": [],
   "source": [
    "X_val_std_scaler[metric_features].describe().round(2).T\n",
    "# avg weekly wage std dev very different from 1."
   ]
  },
  {
   "cell_type": "code",
   "execution_count": null,
   "metadata": {},
   "outputs": [],
   "source": [
    "X_train_std_scaler_encoded.shape"
   ]
  },
  {
   "cell_type": "code",
   "execution_count": null,
   "metadata": {},
   "outputs": [],
   "source": [
    "X_val_std_scaler_encoded.shape"
   ]
  },
  {
   "cell_type": "code",
   "execution_count": null,
   "metadata": {},
   "outputs": [],
   "source": [
    "X_test_std_scaler_encoded.shape"
   ]
  },
  {
   "cell_type": "code",
   "execution_count": null,
   "metadata": {},
   "outputs": [],
   "source": [
    "X_train_std_scaler_encoded.describe(include=\"all\").round(2).T"
   ]
  },
  {
   "cell_type": "markdown",
   "metadata": {},
   "source": [
    "-------------------"
   ]
  },
  {
   "cell_type": "markdown",
   "metadata": {},
   "source": [
    "<a class=\"anchor\" id=\"robust\">\n",
    "\n",
    "## 8.4 Robust Scaler\n",
    "</a>"
   ]
  },
  {
   "cell_type": "code",
   "execution_count": 857,
   "metadata": {},
   "outputs": [],
   "source": [
    "# Create a RobustScaler instance\n",
    "scaler = RobustScaler()\n",
    "\n",
    "# Fit the scaler on the training set and transform the training features\n",
    "scaled_feat = scaler.fit_transform(X_train_copy[metric_features])\n",
    "\n",
    "# Convert the scaled features back to a DataFrame\n",
    "scaled_feat_df = pd.DataFrame(scaled_feat, columns=metric_features, index=X_train_copy.index)\n",
    "\n",
    "# Concatenate the scaled features back to the original DataFrames\n",
    "X_train_robust_scaled = pd.concat([X_train_copy.drop(columns=metric_features), scaled_feat_df], axis=1)\n",
    "X_train_robust_scaled_encoded = pd.concat([X_train_encoded.drop(columns=metric_features), scaled_feat_df], axis=1)\n",
    "\n",
    "# Transform the validation set using the same scaler (do not fit again)\n",
    "scaled_feat = scaler.transform(X_val_copy[metric_features])\n",
    "\n",
    "# Convert the scaled features back to a DataFrame\n",
    "scaled_feat_df = pd.DataFrame(scaled_feat, columns=metric_features, index=X_val_copy.index)\n",
    "\n",
    "# Concatenate the scaled features back to the original DataFrames\n",
    "X_val_robust_scaled = pd.concat([X_val_copy.drop(columns=metric_features), scaled_feat_df], axis=1)\n",
    "X_val_robust_scaled_encoded = pd.concat([X_val_encoded.drop(columns=metric_features), scaled_feat_df], axis=1)\n",
    "\n",
    "# Transform the test set using the same scaler (do not fit again)\n",
    "scaled_feat = scaler.transform(test_data_copy[metric_features])\n",
    "\n",
    "# Convert the scaled features back to a DataFrame\n",
    "scaled_feat_df = pd.DataFrame(scaled_feat, columns=metric_features, index=test_data_copy.index)\n",
    "\n",
    "# Concatenate the scaled features back to the original DataFrames\n",
    "test_robust_scaled = pd.concat([test_data_copy.drop(columns=metric_features), scaled_feat_df], axis=1)\n",
    "test_robust_scaled_encoded = pd.concat([test_data_encoded.drop(columns=metric_features), scaled_feat_df], axis=1)\n"
   ]
  },
  {
   "cell_type": "code",
   "execution_count": null,
   "metadata": {},
   "outputs": [],
   "source": [
    "X_train_robust_scaled_encoded.describe(include=\"all\").T"
   ]
  },
  {
   "cell_type": "markdown",
   "metadata": {},
   "source": [
    "---"
   ]
  },
  {
   "cell_type": "markdown",
   "metadata": {},
   "source": [
    " - Comparing the macro F1 score for both scaling methods, we concluded that the Standard Scaler performed better, so we decided to use it."
   ]
  },
  {
   "cell_type": "markdown",
   "metadata": {},
   "source": [
    "---"
   ]
  },
  {
   "cell_type": "markdown",
   "metadata": {},
   "source": [
    "<a class=\"anchor\" id=\"featselect\">\n",
    "\n",
    "# 9. Feature Selection\n",
    "</a>"
   ]
  },
  {
   "cell_type": "markdown",
   "metadata": {},
   "source": [
    "<a class=\"anchor\" id=\"cat\">\n",
    "\n",
    "## 9.1 Feature Selection - Categorical Features\n",
    "</a>"
   ]
  },
  {
   "cell_type": "code",
   "execution_count": 859,
   "metadata": {},
   "outputs": [],
   "source": [
    "# #Defining all the encoded categorical features\n",
    "# cat_features=[\n",
    "#        'Industry Code_21', 'Industry Code_22', 'Industry Code_23',\n",
    "#        'Industry Code_31', 'Industry Code_32', 'Industry Code_33',\n",
    "#        'Industry Code_42', 'Industry Code_44', 'Industry Code_45',\n",
    "#        'Industry Code_48', 'Industry Code_49', 'Industry Code_51',\n",
    "#        'Industry Code_52', 'Industry Code_53', 'Industry Code_54',\n",
    "#        'Industry Code_55', 'Industry Code_56', 'Industry Code_61',\n",
    "#        'Industry Code_62', 'Industry Code_71', 'Industry Code_72',\n",
    "#        'Industry Code_81', 'Industry Code_92',\n",
    "#        'WCIO Cause of Injury Code_10', 'WCIO Cause of Injury Code_11',\n",
    "#        'WCIO Cause of Injury Code_12', 'WCIO Cause of Injury Code_13',\n",
    "#        'WCIO Cause of Injury Code_14', 'WCIO Cause of Injury Code_15',\n",
    "#        'WCIO Cause of Injury Code_16', 'WCIO Cause of Injury Code_17',\n",
    "#        'WCIO Cause of Injury Code_18', 'WCIO Cause of Injury Code_19',\n",
    "#        'WCIO Cause of Injury Code_2', 'WCIO Cause of Injury Code_20',\n",
    "#        'WCIO Cause of Injury Code_25', 'WCIO Cause of Injury Code_26',\n",
    "#        'WCIO Cause of Injury Code_27', 'WCIO Cause of Injury Code_28',\n",
    "#        'WCIO Cause of Injury Code_29', 'WCIO Cause of Injury Code_3',\n",
    "#        'WCIO Cause of Injury Code_30', 'WCIO Cause of Injury Code_31',\n",
    "#        'WCIO Cause of Injury Code_32', 'WCIO Cause of Injury Code_33',\n",
    "#        'WCIO Cause of Injury Code_4', 'WCIO Cause of Injury Code_40',\n",
    "#        'WCIO Cause of Injury Code_41', 'WCIO Cause of Injury Code_45',\n",
    "#        'WCIO Cause of Injury Code_46', 'WCIO Cause of Injury Code_47',\n",
    "#        'WCIO Cause of Injury Code_48', 'WCIO Cause of Injury Code_5',\n",
    "#        'WCIO Cause of Injury Code_50', 'WCIO Cause of Injury Code_52',\n",
    "#        'WCIO Cause of Injury Code_53', 'WCIO Cause of Injury Code_54',\n",
    "#        'WCIO Cause of Injury Code_55', 'WCIO Cause of Injury Code_56',\n",
    "#        'WCIO Cause of Injury Code_57', 'WCIO Cause of Injury Code_58',\n",
    "#        'WCIO Cause of Injury Code_59', 'WCIO Cause of Injury Code_6',\n",
    "#        'WCIO Cause of Injury Code_60', 'WCIO Cause of Injury Code_61',\n",
    "#        'WCIO Cause of Injury Code_65', 'WCIO Cause of Injury Code_66',\n",
    "#        'WCIO Cause of Injury Code_67', 'WCIO Cause of Injury Code_68',\n",
    "#        'WCIO Cause of Injury Code_69', 'WCIO Cause of Injury Code_7',\n",
    "#        'WCIO Cause of Injury Code_70', 'WCIO Cause of Injury Code_74',\n",
    "#        'WCIO Cause of Injury Code_75', 'WCIO Cause of Injury Code_76',\n",
    "#        'WCIO Cause of Injury Code_77', 'WCIO Cause of Injury Code_78',\n",
    "#        'WCIO Cause of Injury Code_79', 'WCIO Cause of Injury Code_8',\n",
    "#        'WCIO Cause of Injury Code_80', 'WCIO Cause of Injury Code_81',\n",
    "#        'WCIO Cause of Injury Code_82', 'WCIO Cause of Injury Code_83',\n",
    "#        'WCIO Cause of Injury Code_84', 'WCIO Cause of Injury Code_85',\n",
    "#        'WCIO Cause of Injury Code_86', 'WCIO Cause of Injury Code_87',\n",
    "#        'WCIO Cause of Injury Code_88', 'WCIO Cause of Injury Code_89',\n",
    "#        'WCIO Cause of Injury Code_9', 'WCIO Cause of Injury Code_90',\n",
    "#        'WCIO Cause of Injury Code_91', 'WCIO Cause of Injury Code_93',\n",
    "#        'WCIO Cause of Injury Code_94', 'WCIO Cause of Injury Code_95',\n",
    "#        'WCIO Cause of Injury Code_96', 'WCIO Cause of Injury Code_97',\n",
    "#        'WCIO Cause of Injury Code_98', 'WCIO Cause of Injury Code_99',\n",
    "#        'WCIO Nature of Injury Code_10', 'WCIO Nature of Injury Code_13',\n",
    "#        'WCIO Nature of Injury Code_16', 'WCIO Nature of Injury Code_19',\n",
    "#        'WCIO Nature of Injury Code_2', 'WCIO Nature of Injury Code_22',\n",
    "#        'WCIO Nature of Injury Code_25', 'WCIO Nature of Injury Code_28',\n",
    "#        'WCIO Nature of Injury Code_3', 'WCIO Nature of Injury Code_30',\n",
    "#        'WCIO Nature of Injury Code_31', 'WCIO Nature of Injury Code_32',\n",
    "#        'WCIO Nature of Injury Code_34', 'WCIO Nature of Injury Code_36',\n",
    "#        'WCIO Nature of Injury Code_37', 'WCIO Nature of Injury Code_38',\n",
    "#        'WCIO Nature of Injury Code_4', 'WCIO Nature of Injury Code_40',\n",
    "#        'WCIO Nature of Injury Code_41', 'WCIO Nature of Injury Code_42',\n",
    "#        'WCIO Nature of Injury Code_43', 'WCIO Nature of Injury Code_46',\n",
    "#        'WCIO Nature of Injury Code_47', 'WCIO Nature of Injury Code_49',\n",
    "#        'WCIO Nature of Injury Code_52', 'WCIO Nature of Injury Code_53',\n",
    "#        'WCIO Nature of Injury Code_54', 'WCIO Nature of Injury Code_55',\n",
    "#        'WCIO Nature of Injury Code_58', 'WCIO Nature of Injury Code_59',\n",
    "#        'WCIO Nature of Injury Code_60', 'WCIO Nature of Injury Code_61',\n",
    "#        'WCIO Nature of Injury Code_62', 'WCIO Nature of Injury Code_63',\n",
    "#        'WCIO Nature of Injury Code_64', 'WCIO Nature of Injury Code_65',\n",
    "#        'WCIO Nature of Injury Code_66', 'WCIO Nature of Injury Code_67',\n",
    "#        'WCIO Nature of Injury Code_68', 'WCIO Nature of Injury Code_69',\n",
    "#        'WCIO Nature of Injury Code_7', 'WCIO Nature of Injury Code_70',\n",
    "#        'WCIO Nature of Injury Code_71', 'WCIO Nature of Injury Code_72',\n",
    "#        'WCIO Nature of Injury Code_73', 'WCIO Nature of Injury Code_74',\n",
    "#        'WCIO Nature of Injury Code_75', 'WCIO Nature of Injury Code_76',\n",
    "#        'WCIO Nature of Injury Code_77', 'WCIO Nature of Injury Code_78',\n",
    "#        'WCIO Nature of Injury Code_79', 'WCIO Nature of Injury Code_80',\n",
    "#        'WCIO Nature of Injury Code_83', 'WCIO Nature of Injury Code_90',\n",
    "#        'WCIO Nature of Injury Code_91', 'WCIO Part Of Body Code_11',\n",
    "#        'WCIO Part Of Body Code_12', 'WCIO Part Of Body Code_13',\n",
    "#        'WCIO Part Of Body Code_14', 'WCIO Part Of Body Code_15',\n",
    "#        'WCIO Part Of Body Code_16', 'WCIO Part Of Body Code_17',\n",
    "#        'WCIO Part Of Body Code_18', 'WCIO Part Of Body Code_19',\n",
    "#        'WCIO Part Of Body Code_20', 'WCIO Part Of Body Code_21',\n",
    "#        'WCIO Part Of Body Code_22', 'WCIO Part Of Body Code_23',\n",
    "#        'WCIO Part Of Body Code_24', 'WCIO Part Of Body Code_25',\n",
    "#        'WCIO Part Of Body Code_26', 'WCIO Part Of Body Code_30',\n",
    "#        'WCIO Part Of Body Code_31', 'WCIO Part Of Body Code_32',\n",
    "#        'WCIO Part Of Body Code_33', 'WCIO Part Of Body Code_34',\n",
    "#        'WCIO Part Of Body Code_35', 'WCIO Part Of Body Code_36',\n",
    "#        'WCIO Part Of Body Code_37', 'WCIO Part Of Body Code_38',\n",
    "#        'WCIO Part Of Body Code_39', 'WCIO Part Of Body Code_40',\n",
    "#        'WCIO Part Of Body Code_41', 'WCIO Part Of Body Code_42',\n",
    "#        'WCIO Part Of Body Code_43', 'WCIO Part Of Body Code_44',\n",
    "#        'WCIO Part Of Body Code_45', 'WCIO Part Of Body Code_46',\n",
    "#        'WCIO Part Of Body Code_47', 'WCIO Part Of Body Code_48',\n",
    "#        'WCIO Part Of Body Code_49', 'WCIO Part Of Body Code_50',\n",
    "#        'WCIO Part Of Body Code_51', 'WCIO Part Of Body Code_52',\n",
    "#        'WCIO Part Of Body Code_53', 'WCIO Part Of Body Code_54',\n",
    "#        'WCIO Part Of Body Code_55', 'WCIO Part Of Body Code_56',\n",
    "#        'WCIO Part Of Body Code_57', 'WCIO Part Of Body Code_58',\n",
    "#        'WCIO Part Of Body Code_60', 'WCIO Part Of Body Code_61',\n",
    "#        'WCIO Part Of Body Code_62', 'WCIO Part Of Body Code_63',\n",
    "#        'WCIO Part Of Body Code_64', 'WCIO Part Of Body Code_65',\n",
    "#        'WCIO Part Of Body Code_66', 'WCIO Part Of Body Code_90',\n",
    "#        'WCIO Part Of Body Code_91', 'WCIO Part Of Body Code_99',\n",
    "#        'Alternative Dispute Resolution_Y', 'Attorney/Representative_Y',\n",
    "#        'Carrier Type_2A. SIF', 'Carrier Type_3A. SELF PUBLIC',\n",
    "#        'Carrier Type_4A. SELF PRIVATE',\n",
    "#        'Carrier Type_5C. SPECIAL FUND - POI CARRIER WCB MENANDS',\n",
    "#        'Carrier Type_5D. SPECIAL FUND - UNKNOWN',\n",
    "#        'County of Injury_ALLEGANY', 'County of Injury_BRONX',\n",
    "#        'County of Injury_BROOME', 'County of Injury_CATTARAUGUS',\n",
    "#        'County of Injury_CAYUGA', 'County of Injury_CHAUTAUQUA',\n",
    "#        'County of Injury_CHEMUNG', 'County of Injury_CHENANGO',\n",
    "#        'County of Injury_CLINTON', 'County of Injury_COLUMBIA',\n",
    "#        'County of Injury_CORTLAND', 'County of Injury_DELAWARE',\n",
    "#        'County of Injury_DUTCHESS', 'County of Injury_ERIE',\n",
    "#        'County of Injury_ESSEX', 'County of Injury_FRANKLIN',\n",
    "#        'County of Injury_FULTON', 'County of Injury_GENESEE',\n",
    "#        'County of Injury_GREENE', 'County of Injury_HAMILTON',\n",
    "#        'County of Injury_HERKIMER', 'County of Injury_JEFFERSON',\n",
    "#        'County of Injury_KINGS', 'County of Injury_LEWIS',\n",
    "#        'County of Injury_LIVINGSTON', 'County of Injury_MADISON',\n",
    "#        'County of Injury_MONROE', 'County of Injury_MONTGOMERY',\n",
    "#        'County of Injury_NASSAU', 'County of Injury_NEW YORK',\n",
    "#        'County of Injury_NIAGARA', 'County of Injury_ONEIDA',\n",
    "#        'County of Injury_ONONDAGA', 'County of Injury_ONTARIO',\n",
    "#        'County of Injury_ORANGE', 'County of Injury_ORLEANS',\n",
    "#        'County of Injury_OSWEGO', 'County of Injury_OTSEGO',\n",
    "#        'County of Injury_PUTNAM', 'County of Injury_QUEENS',\n",
    "#        'County of Injury_RENSSELAER', 'County of Injury_RICHMOND',\n",
    "#        'County of Injury_ROCKLAND', 'County of Injury_SARATOGA',\n",
    "#        'County of Injury_SCHENECTADY', 'County of Injury_SCHOHARIE',\n",
    "#        'County of Injury_SCHUYLER', 'County of Injury_SENECA',\n",
    "#        'County of Injury_ST. LAWRENCE', 'County of Injury_STEUBEN',\n",
    "#        'County of Injury_SUFFOLK', 'County of Injury_SULLIVAN',\n",
    "#        'County of Injury_TIOGA', 'County of Injury_TOMPKINS',\n",
    "#        'County of Injury_ULSTER', 'County of Injury_WARREN',\n",
    "#        'County of Injury_WASHINGTON', 'County of Injury_WAYNE',\n",
    "#        'County of Injury_WESTCHESTER', 'County of Injury_WYOMING',\n",
    "#        'County of Injury_YATES', 'COVID-19 Indicator_Y',\n",
    "#        'District Name_BINGHAMTON', 'District Name_BUFFALO',\n",
    "#        'District Name_HAUPPAUGE', 'District Name_NYC',\n",
    "#        'District Name_ROCHESTER', 'District Name_STATEWIDE',\n",
    "#        'District Name_SYRACUSE', 'Gender_M', 'Medical Fee Region_II',\n",
    "#        'Medical Fee Region_III', 'Medical Fee Region_IV',\n",
    "#        'zip_code_cat_1', 'zip_code_cat_2', 'zip_code_cat_3',\n",
    "#        'zip_code_cat_4', 'zip_code_cat_5', 'zip_code_cat_6',\n",
    "#        'zip_code_cat_7', 'zip_code_cat_8', 'zip_code_cat_9',\n",
    "#        'zip_code_cat_Other', 'First Hearing Date Binary_1',\n",
    "#        'C-2 Date Bin_1', 'C-3 Date Bin_1', 'Season_of_Accident_Spring',\n",
    "#        'Season_of_Accident_Summer', 'Season_of_Accident_Winter']"
   ]
  },
  {
   "cell_type": "markdown",
   "metadata": {},
   "source": [
    "-------------------"
   ]
  },
  {
   "cell_type": "markdown",
   "metadata": {},
   "source": [
    "<a class=\"anchor\" id=\"filter\">\n",
    "\n",
    "### 9.1.1 Filter Methods\n",
    "</a>"
   ]
  },
  {
   "cell_type": "markdown",
   "metadata": {},
   "source": [
    "<a class=\"anchor\" id=\"chi\">\n",
    "\n",
    "#### 9.1.1.1 Chi-Square\n",
    "</a>"
   ]
  },
  {
   "cell_type": "code",
   "execution_count": 860,
   "metadata": {},
   "outputs": [],
   "source": [
    "# cat_features=X_train_copy[non_metric_features]"
   ]
  },
  {
   "cell_type": "markdown",
   "metadata": {},
   "source": [
    "- Define a function that will test whether a categorical independent variable (var) is an important predictor for the target using the Chi-Square test of independence.\n",
    "\n",
    "    It prints whether the variable is important or not for prediction based on the Chi-Square test.\n",
    " "
   ]
  },
  {
   "cell_type": "code",
   "execution_count": 861,
   "metadata": {},
   "outputs": [],
   "source": [
    "# def TestIndependence(X, y, var, alpha=0.05):\n",
    "#     # Create a contingency table to observe the relationship between the target variable y and the feature X\n",
    "#     dfObserved = pd.crosstab(y, X) \n",
    "    \n",
    "#     # Perform the Chi-Square test of independence on the contingency table\n",
    "#     chi2, p, dof, expected = stats.chi2_contingency(dfObserved.values)\n",
    "    \n",
    "#     # Create a DataFrame for the expected values from the Chi-Square test\n",
    "#     dfExpected = pd.DataFrame(expected, columns=dfObserved.columns, index=dfObserved.index)\n",
    "    \n",
    "#     # Display the chi-square statistic and p-value\n",
    "#     print(f\"Chi-Square Score for {var}: {chi2:.4f}\")\n",
    "#     print(f\"P-Value for {var}: {p:.4f}\")\n",
    "    \n",
    "#     # Check if the p-value is smaller than the alpha level to determine importance\n",
    "#     if p < alpha:\n",
    "#         result = f\"{var} is IMPORTANT for Prediction\"\n",
    "#     else:\n",
    "#         result = f\"{var} is NOT an important predictor. (Discard {var} from model)\"\n",
    "    \n",
    "#     print(result)\n",
    "#     print('-'*50)\n",
    "\n",
    "#     return chi2, p\n",
    "# #Run the function throughout the categorical variables\n",
    "# for var in cat_features:\n",
    "#     TestIndependence(X_train_encoded[var],Y_train_encoded, var)\n"
   ]
  },
  {
   "cell_type": "markdown",
   "metadata": {},
   "source": [
    "<a class=\"anchor\" id=\"cramer\">\n",
    "\n",
    "#### 9.1.1.2 Cramér's V\n",
    "</a>"
   ]
  },
  {
   "cell_type": "markdown",
   "metadata": {},
   "source": [
    "**Cramér's V values:**\n",
    "\n",
    "- 0 to 0.1: Weak or insignificant association.\n",
    "- 0.1 to 0.3: Moderate association.\n",
    "- 0.3 to 0.5: Strong association.\n",
    "- Above 0.5: Very strong association (potentially redundant)."
   ]
  },
  {
   "cell_type": "code",
   "execution_count": 862,
   "metadata": {},
   "outputs": [],
   "source": [
    "# def cramers_v(x, y):\n",
    "#     contingency_table = pd.crosstab(x, y)\n",
    "#     chi2, _, _, _ = chi2_contingency(contingency_table)\n",
    "#     n = contingency_table.sum().sum()\n",
    "#     k = min(contingency_table.shape)\n",
    "#     v = np.sqrt(chi2 / (n * (k - 1)))\n",
    "   \n",
    "#     return v\n",
    "# for var in cat_features:\n",
    "#     v = cramers_v(X_train_encoded[var], Y_train_encoded)\n",
    "#     print(f\"{var}: Cramér's V = {v:.4f}\")"
   ]
  },
  {
   "cell_type": "markdown",
   "metadata": {},
   "source": [
    "<a class=\"anchor\" id=\"mi\">\n",
    "\n",
    "#### 9.1.1.3 Mutual Information\n",
    "</a>"
   ]
  },
  {
   "cell_type": "code",
   "execution_count": 863,
   "metadata": {},
   "outputs": [],
   "source": [
    "# # Mutual Information\n",
    "# mi = mutual_info_classif( X_train_encoded[cat_features], Y_train_encoded)\n",
    "\n",
    "# for var, score in zip( X_train_encoded[cat_features].columns, mi):\n",
    "#     print(f\"{var}: MI = {score:.4f}\")"
   ]
  },
  {
   "cell_type": "markdown",
   "metadata": {},
   "source": [
    "----------------\n"
   ]
  },
  {
   "cell_type": "markdown",
   "metadata": {},
   "source": [
    "<a class=\"anchor\" id=\"emb\">\n",
    "\n",
    "### 9.1.2 Embedded Methods\n",
    "</a>"
   ]
  },
  {
   "cell_type": "markdown",
   "metadata": {},
   "source": [
    "<a class=\"anchor\" id=\"rf\">\n",
    "\n",
    "#### 9.1.2.1 Random Forest Feature Importance\n",
    "</a>"
   ]
  },
  {
   "cell_type": "code",
   "execution_count": 864,
   "metadata": {},
   "outputs": [],
   "source": [
    "# # Random Forest\n",
    "# rf_model = RandomForestClassifier(random_state=42, n_estimators=100)\n",
    "# rf_model.fit(X_train_encoded[cat_features], Y_train_encoded)\n",
    "\n",
    "# # Features importance\n",
    "# feature_importances = rf_model.feature_importances_\n",
    "\n",
    "# # DF to display the results\n",
    "# feature_importances_df = pd.DataFrame({\n",
    "#      'Feature': cat_features,\n",
    "#      'Importance': feature_importances\n",
    "# }).sort_values(by='Importance', ascending=False)\n",
    "\n",
    "# #Display important features\n",
    "# print(feature_importances_df)"
   ]
  },
  {
   "cell_type": "markdown",
   "metadata": {},
   "source": [
    "<a class=\"anchor\" id=\"dt\">\n",
    "\n",
    "#### 9.1.2.2 Decision Tree\n",
    "</a>"
   ]
  },
  {
   "cell_type": "code",
   "execution_count": 865,
   "metadata": {},
   "outputs": [],
   "source": [
    "# # Decision Tree Classifier\n",
    "# model = DecisionTreeClassifier(random_state=42)\n",
    "# model.fit(X_train_encoded[cat_features], Y_train_encoded)\n",
    "\n",
    "# # Let's get the features' importances\n",
    "# feature_importances = model.feature_importances_\n",
    "\n",
    "# # Creating a dataframe to visualize the importances\n",
    "# feature_importance_df = pd.DataFrame({\n",
    "#     'Feature': cat_features,\n",
    "#     'Importance': feature_importances\n",
    "# }).sort_values(by='Importance', ascending=False)\n",
    "\n",
    "# print(feature_importance_df)\n",
    "\n",
    "# # We are going to define the threshold for the importances\n",
    "# threshold = 0.1\n",
    "# selected_features = feature_importance_df[feature_importance_df['Importance'] > threshold]['Feature']\n",
    "# print(\"\\nSelected Features:\")\n",
    "# print(selected_features.tolist())"
   ]
  },
  {
   "cell_type": "markdown",
   "metadata": {},
   "source": [
    "<a class=\"anchor\" id=\"cb\">\n",
    "\n",
    "#### 9.1.2.3 Catboost\n",
    "</a>"
   ]
  },
  {
   "cell_type": "code",
   "execution_count": 866,
   "metadata": {},
   "outputs": [],
   "source": [
    "# # Train a CatBoost model\n",
    "# catboost_model = CatBoostClassifier(random_state=42, verbose=0)\n",
    "# catboost_model.fit(X_train_encoded[cat_features], Y_train_encoded)\n",
    "\n",
    "# # Get feature importances\n",
    "# feature_importances = catboost_model.get_feature_importance()\n",
    "\n",
    "# # Create a DataFrame to view the results\n",
    "# feature_importances_df = pd.DataFrame({\n",
    "#     'Feature': cat_features,\n",
    "#     'Importance': feature_importances\n",
    "# }).sort_values(by='Importance', ascending=False)\n",
    "\n",
    "# # Display top features\n",
    "# print(feature_importances_df)"
   ]
  },
  {
   "cell_type": "markdown",
   "metadata": {},
   "source": [
    "---------------"
   ]
  },
  {
   "cell_type": "markdown",
   "metadata": {},
   "source": [
    "<a class=\"anchor\" id=\"all\">\n",
    "\n",
    "### 9.1.3 Analysis of all the methods\n",
    "</a>"
   ]
  },
  {
   "cell_type": "markdown",
   "metadata": {},
   "source": [
    "- Create a dataframe where all of the outputs of the encoded variables are display.\n",
    "\n",
    "- Normalize the outputs, using MinMaxScaler\n",
    "\n",
    "- Calculate the average importance of each variable"
   ]
  },
  {
   "cell_type": "code",
   "execution_count": 867,
   "metadata": {},
   "outputs": [],
   "source": [
    "# # Create df to contain all the information\n",
    "# feature_scores = pd.DataFrame()\n",
    "# feature_scores['Feature'] = cat_features  # Use cat_features to only include categorical variables\n",
    "\n",
    "# # Placeholder for the importances of each method\n",
    "# methods = ['ChiSquare', 'CramersV', 'MutualInfo', 'RandomForest', 'DecisionTree', 'CatBoost']\n",
    "# for method in methods:\n",
    "#     feature_scores[method] = 0  \n",
    "\n",
    "# # 1. Chi-Square\n",
    "# chi_square_scores = []\n",
    "# for var in cat_features:  # Only loop through categorical features\n",
    "#     # Create a contingency table to observe the relationship between the target variable and the feature\n",
    "#     dfObserved = pd.crosstab(Y_train_encoded, X_train_encoded[var])\n",
    "#     chi2, _, _, _ = stats.chi2_contingency(dfObserved.values)\n",
    "#     chi_square_scores.append(chi2)\n",
    "# # Apply MinMaxScaler to normalize the Chi-Square scores\n",
    "# feature_scores['ChiSquare'] = MinMaxScaler().fit_transform(np.array(chi_square_scores).reshape(-1, 1))\n",
    "\n",
    "# # 2. Cramér's V\n",
    "# cramers_v_scores = []\n",
    "# for var in cat_features:  # Only loop through categorical features\n",
    "#     # Calculate Cramér's V statistic\n",
    "#     v = cramers_v(X_train_encoded[var], Y_train_encoded)\n",
    "#     cramers_v_scores.append(v)\n",
    "# # Apply MinMaxScaler to normalize the Cramér's V scores\n",
    "# feature_scores['CramersV'] = MinMaxScaler().fit_transform(np.array(cramers_v_scores).reshape(-1, 1))\n",
    "\n",
    "# # 3. Mutual Information\n",
    "# # Calculate Mutual Information between each categorical feature and the target variable\n",
    "# mi = mutual_info_classif(X_train_encoded[cat_features], Y_train_encoded)  # Only pass categorical features\n",
    "# # Apply MinMaxScaler to normalize the Mutual Information scores\n",
    "# feature_scores['MutualInfo'] = MinMaxScaler().fit_transform(mi.reshape(-1, 1))\n",
    "\n",
    "# # 4. Random Forest\n",
    "# # Fit a Random Forest model to the categorical features\n",
    "# rf_model = RandomForestClassifier(random_state=42, n_estimators=100)\n",
    "# rf_model.fit(X_train_encoded[cat_features], Y_train_encoded)  # Only use categorical features\n",
    "# # Apply MinMaxScaler to normalize the feature importances from the Random Forest model\n",
    "# feature_scores['RandomForest'] = MinMaxScaler().fit_transform(rf_model.feature_importances_.reshape(-1, 1))\n",
    "\n",
    "# # 5. Decision Tree\n",
    "# # Fit a Decision Tree model to the categorical features\n",
    "# dt_model = DecisionTreeClassifier(random_state=42)\n",
    "# dt_model.fit(X_train_encoded[cat_features], Y_train_encoded)  # Only use categorical features\n",
    "# # Apply MinMaxScaler to normalize the feature importances from the Decision Tree model\n",
    "# feature_scores['DecisionTree'] = MinMaxScaler().fit_transform(dt_model.feature_importances_.reshape(-1, 1))\n",
    "\n",
    "# # 6. CatBoost\n",
    "# # Fit a CatBoost model to the categorical features\n",
    "# catboost_model = CatBoostClassifier(random_state=42, verbose=0)\n",
    "# catboost_model.fit(X_train_encoded[cat_features], Y_train_encoded)  # Only use categorical features\n",
    "# # Apply MinMaxScaler to normalize the feature importances from the CatBoost model\n",
    "# feature_scores['CatBoost'] = MinMaxScaler().fit_transform(catboost_model.get_feature_importance().reshape(-1, 1))\n",
    "\n",
    "# # Combine the Importances\n",
    "# # Calculate the average importance across all methods\n",
    "# feature_scores['AverageImportance'] = feature_scores[methods].mean(axis=1)\n",
    "\n",
    "# # Order by Importance\n",
    "# # Sort features by the average importance, in descending order\n",
    "# final_features = feature_scores.sort_values(by='AverageImportance', ascending=False)"
   ]
  },
  {
   "cell_type": "code",
   "execution_count": 868,
   "metadata": {},
   "outputs": [],
   "source": [
    "# final_features"
   ]
  },
  {
   "cell_type": "code",
   "execution_count": 869,
   "metadata": {},
   "outputs": [],
   "source": [
    "# # Save DataFrame to CSV\n",
    "# file_path = \"final_features.csv\" \n",
    "# final_features.to_csv(file_path, index=False) \n",
    "\n",
    "# print(f\"DataFrame saved to {file_path}\")"
   ]
  },
  {
   "cell_type": "markdown",
   "metadata": {},
   "source": [
    "- Calculate the Q1 of the averages to define the threshold"
   ]
  },
  {
   "cell_type": "code",
   "execution_count": 870,
   "metadata": {},
   "outputs": [],
   "source": [
    "# # Determine the threshold to consider a feature individually\n",
    "# avg_importance = final_features['AverageImportance']\n",
    "\n",
    "# percentiles = avg_importance.quantile([0.25, 0.5, 0.75])\n",
    "# print(\"Percentiles:\")\n",
    "# print(percentiles)\n",
    "\n",
    "# summary_stats = avg_importance.describe()\n",
    "# print(\"\\nStatistical Summary:\")\n",
    "# print(summary_stats)\n",
    "\n",
    "# low_importance_threshold_avg = percentiles[0.25]  \n",
    "# print(f\"\\nSuggested: Aggregate variables with 'AverageImportance' below {low_importance_threshold_avg:.4f}\")"
   ]
  },
  {
   "cell_type": "code",
   "execution_count": 871,
   "metadata": {},
   "outputs": [],
   "source": [
    "# # See the features below the threshold\n",
    "# filter_column = 'AverageImportance' \n",
    "# limit = low_importance_threshold_avg\n",
    "# features = 'Feature' \n",
    "\n",
    "# filtered_values = final_features[final_features[filter_column ] < limit ][features]\n",
    "\n",
    "# print(filtered_values )"
   ]
  },
  {
   "cell_type": "markdown",
   "metadata": {},
   "source": [
    "- Aggregate or Drop the selected categorical features based on Feature Selection Methods\n",
    "- This conclusions are based on applying ohc to all features"
   ]
  },
  {
   "cell_type": "markdown",
   "metadata": {},
   "source": [
    "- ### Agregate"
   ]
  },
  {
   "cell_type": "code",
   "execution_count": 872,
   "metadata": {},
   "outputs": [],
   "source": [
    "# # Definindo as variáveis categóricas para agrupamento conforme sua lista\n",
    "# grouped_columns = {\n",
    "#     'WCIO Nature of Injury Code': [\n",
    "#         'WCIO Nature of Injury Code_55', 'WCIO Nature of Injury Code_32', 'WCIO Nature of Injury Code_19',\n",
    "#         'WCIO Nature of Injury Code_69', 'WCIO Nature of Injury Code_38', 'WCIO Nature of Injury Code_47',\n",
    "#         'WCIO Nature of Injury Code_66', 'WCIO Nature of Injury Code_91', 'WCIO Nature of Injury Code_58',\n",
    "#         'WCIO Nature of Injury Code_75', 'WCIO Nature of Injury Code_64', 'WCIO Nature of Injury Code_70',\n",
    "#         'WCIO Nature of Injury Code_76', 'WCIO Nature of Injury Code_79', 'WCIO Nature of Injury Code_22',\n",
    "#         'WCIO Nature of Injury Code_63', 'WCIO Nature of Injury Code_3', 'WCIO Nature of Injury Code_30',\n",
    "#         'WCIO Nature of Injury Code_60', 'WCIO Nature of Injury Code_62', 'WCIO Nature of Injury Code_64',\n",
    "#         'WCIO Nature of Injury Code_67'\n",
    "#     ],\n",
    "    \n",
    "#     'zip_code_cat': [\n",
    "#         'zip_code_cat_7', 'zip_code_cat_4', 'zip_code_cat_9', 'zip_code_cat_Other', 'zip_code_cat_8',\n",
    "#         'zip_code_cat_6', 'zip_code_cat_5'\n",
    "#     ],\n",
    "    \n",
    "#     'County of Injury': [\n",
    "#         'County of Injury_TOMPKINS', 'County of Injury_CATTARAUGUS', 'County of Injury_GENESEE',\n",
    "#         'County of Injury_TIOGA', 'County of Injury_OTSEGO', 'County of Injury_SCHENECTADY',\n",
    "#         'County of Injury_LIVINGSTON', 'County of Injury_MADISON', 'County of Injury_ESSEX', 'County of Injury_LEWIS',\n",
    "#         'County of Injury_STEUBEN', 'County of Injury_ORLEANS', 'County of Injury_FRANKLIN',\n",
    "#         'County of Injury_ALLEGANY', 'County of Injury_CORTLAND', 'County of Injury_SCHUYLER',\n",
    "#         'County of Injury_SENECA', 'County of Injury_SCHOHARIE', 'County of Injury_WAYNE',\n",
    "#         'County of Injury_HAMILTON', 'County of Injury_WYOMING', 'County of Injury_MONTGOMERY',\n",
    "#         'County of Injury_YATES'\n",
    "#     ],\n",
    "    \n",
    "#     'WCIO Cause of Injury Code': [\n",
    "#         'WCIO Cause of Injury Code_20', 'WCIO Cause of Injury Code_84', 'WCIO Cause of Injury Code_94',\n",
    "#         'WCIO Cause of Injury Code_95', 'WCIO Cause of Injury Code_11', 'WCIO Cause of Injury Code_7',\n",
    "#         'WCIO Cause of Injury Code_65', 'WCIO Cause of Injury Code_4', 'WCIO Cause of Injury Code_91',\n",
    "#         'WCIO Cause of Injury Code_14', 'WCIO Cause of Injury Code_61', 'WCIO Cause of Injury Code_86',\n",
    "#         'WCIO Cause of Injury Code_67', 'WCIO Cause of Injury Code_40', 'WCIO Cause of Injury Code_47',\n",
    "#         'WCIO Cause of Injury Code_8'\n",
    "#     ],\n",
    "    \n",
    "#     'WCIO Part of Body Code': [\n",
    "#         'WCIO Part Of Body Code_50', 'WCIO Part Of Body Code_46', 'WCIO Part Of Body Code_45',\n",
    "#         'WCIO Part Of Body Code_24', 'WCIO Part Of Body Code_26', 'WCIO Part Of Body Code_64'\n",
    "#     ],\n",
    "    \n",
    "#     'Carrier Type': [\n",
    "#         'Carrier Type_5C. SPECIAL FUND - POI CARRIER WCB MENANDS'\n",
    "#     ]\n",
    "# }\n",
    "\n",
    "# # Definindo os datasets para aplicar a agregação\n",
    "# datasets = {\n",
    "#     'X_train': X_train,\n",
    "#     'X_val': X_val,\n",
    "#     'test_data': test_data\n",
    "# }\n",
    "\n",
    "# # Agregação usando o modo (mode) para cada dataset\n",
    "# for dataset_name, dataset in datasets.items():\n",
    "#     for group, cols in grouped_columns.items():\n",
    "#         # Verifica se as colunas do grupo existem no dataset atual\n",
    "#         existing_cols = [col for col in cols if col in dataset.columns]\n",
    "        \n",
    "#         if len(existing_cols) > 1:  # Realiza agregação se houver mais de uma coluna\n",
    "#             # Calcula o modo para as colunas existentes do grupo\n",
    "#             dataset[group] = dataset[existing_cols].mode(axis=1)[0]\n",
    "            \n",
    "#             # Remove as colunas originais\n",
    "#             dataset.drop(existing_cols, axis=1, inplace=True)\n",
    "\n",
    "# # Agora os datasets possuem os valores agregados pelo modo e as colunas originais foram removidas.\n"
   ]
  },
  {
   "cell_type": "markdown",
   "metadata": {},
   "source": [
    "- ### Drop"
   ]
  },
  {
   "cell_type": "code",
   "execution_count": 873,
   "metadata": {},
   "outputs": [],
   "source": [
    "# # Define columns to drop\n",
    "# columns_to_drop = [\n",
    "#     'WCIO Nature of Injury Code_55', 'zip_code_cat_7', 'County of Injury_TOMPKINS', 'County of Injury_CATTARAUGUS',\n",
    "#     'County of Injury_GENESEE', 'County of Injury_TIOGA', 'WCIO Nature of Injury Code_32', 'County of Injury_OTSEGO',\n",
    "#     'County of Injury_SCHENECTADY', 'County of Injury_LIVINGSTON', 'WCIO Cause of Injury Code_20',\n",
    "#     'WCIO Part Of Body Code_50', 'WCIO Nature of Injury Code_19', 'WCIO Cause of Injury Code_3',\n",
    "#     'County of Injury_MADISON', 'County of Injury_ESSEX', 'County of Injury_LEWIS', 'County of Injury_STEUBEN',\n",
    "#     'County of Injury_ORLEANS', 'WCIO Cause of Injury Code_84', 'WCIO Cause of Injury Code_94',\n",
    "#     'WCIO Nature of Injury Code_69', 'County of Injury_FRANKLIN', 'County of Injury_ALLEGANY',\n",
    "#     'WCIO Cause of Injury Code_95', 'Carrier Type_5C. SPECIAL FUND - POI CARRIER WCB MENANDS', 'County of Injury_CORTLAND',\n",
    "#     'zip_code_cat_4', 'zip_code_cat_9', 'County of Injury_SCHUYLER', 'WCIO Nature of Injury Code_66',\n",
    "#     'WCIO Nature of Injury Code_47', 'County of Injury_SENECA', 'WCIO Cause of Injury Code_65',\n",
    "#     'County of Injury_WAYNE', 'zip_code_cat_Other', 'County of Injury_SCHOHARIE', 'WCIO Part Of Body Code_64',\n",
    "#     'WCIO Cause of Injury Code_11', 'WCIO Nature of Injury Code_91', 'WCIO Nature of Injury Code_58',\n",
    "#     'County of Injury_MONTGOMERY', 'WCIO Part Of Body Code_46', 'County of Injury_WYOMING',\n",
    "#     'County of Injury_HAMILTON', 'Industry Code_21', 'WCIO Part Of Body Code_45', 'WCIO Nature of Injury Code_38',\n",
    "#     'WCIO Part Of Body Code_26', 'WCIO Part Of Body Code_24', 'WCIO Cause of Injury Code_4', 'WCIO Nature of Injury Code_3',\n",
    "#     'zip_code_cat_8', 'WCIO Nature of Injury Code_30', 'County of Injury_YATES', 'WCIO Cause of Injury Code_7',\n",
    "#     'WCIO Nature of Injury Code_75', 'WCIO Cause of Injury Code_91', 'WCIO Cause of Injury Code_14',\n",
    "#     'WCIO Cause of Injury Code_61', 'zip_code_cat_6', 'WCIO Nature of Injury Code_60', 'WCIO Nature of Injury Code_62',\n",
    "#     'zip_code_cat_5', 'WCIO Cause of Injury Code_86', 'WCIO Cause of Injury Code_67', 'WCIO Nature of Injury Code_64',\n",
    "#     'WCIO Nature of Injury Code_70', 'WCIO Nature of Injury Code_67', 'WCIO Cause of Injury Code_8',\n",
    "#     'WCIO Cause of Injury Code_47', 'WCIO Nature of Injury Code_63', 'WCIO Nature of Injury Code_22',\n",
    "#     'WCIO Nature of Injury Code_76', 'WCIO Nature of Injury Code_79', 'WCIO Cause of Injury Code_40'\n",
    "# ]\n",
    "\n",
    "\n",
    "# X_train.drop(columns=columns_to_drop, axis=1, inplace=True,errors='ignore')\n",
    "# X_val.drop(columns=columns_to_drop, axis=1, inplace=True,errors='ignore')\n",
    "# test_data.drop(columns=columns_to_drop, axis=1, inplace=True,errors='ignore')"
   ]
  },
  {
   "cell_type": "markdown",
   "metadata": {},
   "source": [
    "-------------"
   ]
  },
  {
   "cell_type": "code",
   "execution_count": null,
   "metadata": {},
   "outputs": [],
   "source": [
    "fig = plt.figure(figsize=(10, 8))\n",
    "\n",
    "# Use spearman correlation \n",
    "corr = X_train_out[metric_features].corr(method=\"spearman\").round(3)\n",
    "\n",
    "# Plot heatmap\n",
    "sns.heatmap(data=corr, annot=True, \n",
    "            # fmt='s',\n",
    "            vmin=-1, vmax=1, center=0,\n",
    "            square=True, linewidths=.5,\n",
    "            cmap='PiYG')\n",
    "plt.show()"
   ]
  },
  {
   "cell_type": "markdown",
   "metadata": {},
   "source": [
    "<a class=\"anchor\" id=\"numfeat\">\n",
    "\n",
    "## 9.2 Feature Selection - Numerical Features\n",
    "</a>"
   ]
  },
  {
   "cell_type": "markdown",
   "metadata": {},
   "source": [
    "<a class=\"anchor\" id=\"wrapper\">\n",
    "\n",
    "### 9.2.1 Wrapper Methods\n",
    "</a>"
   ]
  },
  {
   "cell_type": "markdown",
   "metadata": {},
   "source": [
    "<a class=\"anchor\" id=\"rfe\">\n",
    "\n",
    "#### 9.2.1.1 RFE\n",
    "</a>"
   ]
  },
  {
   "cell_type": "code",
   "execution_count": 875,
   "metadata": {},
   "outputs": [],
   "source": [
    "# model1 = LogisticRegression()"
   ]
  },
  {
   "cell_type": "code",
   "execution_count": 876,
   "metadata": {},
   "outputs": [],
   "source": [
    "# rfe = RFE(estimator=model1, n_features_to_select=3)     \n",
    "# rfe"
   ]
  },
  {
   "cell_type": "code",
   "execution_count": 877,
   "metadata": {},
   "outputs": [],
   "source": [
    "# X_train_std_scaler_num = X_train_std_scaler[metric_features]\n",
    "# X_val_std_scaler_num = X_val_std_scaler[metric_features]\n",
    "\n",
    "# X_train_std_scaler_num.head()"
   ]
  },
  {
   "cell_type": "code",
   "execution_count": 878,
   "metadata": {},
   "outputs": [],
   "source": [
    "# X_rfe = rfe.fit_transform(X_train_std_scaler_num, Y_train_encoded)"
   ]
  },
  {
   "cell_type": "code",
   "execution_count": 879,
   "metadata": {},
   "outputs": [],
   "source": [
    "# rfe.support_"
   ]
  },
  {
   "cell_type": "code",
   "execution_count": 880,
   "metadata": {},
   "outputs": [],
   "source": [
    "# rfe.ranking_"
   ]
  },
  {
   "cell_type": "code",
   "execution_count": 881,
   "metadata": {},
   "outputs": [],
   "source": [
    "# selected_features = pd.Series(rfe.support_, index = X_train_std_scaler_num.columns)         #If it says True we should keep that feature\n",
    "# selected_features"
   ]
  },
  {
   "cell_type": "markdown",
   "metadata": {},
   "source": [
    "Now let's see the optimum value for the number of features selected, to get the higher score"
   ]
  },
  {
   "cell_type": "code",
   "execution_count": 882,
   "metadata": {},
   "outputs": [],
   "source": [
    "# from sklearn.metrics import f1_score\n",
    "# from sklearn.linear_model import LogisticRegression\n",
    "# from sklearn.feature_selection import RFE\n",
    "\n",
    "# # Nº of features\n",
    "# nof_list = np.arange(1, 10)\n",
    "# high_score = 0\n",
    "# nof = 0\n",
    "# train_score_list = []\n",
    "# val_score_list = []\n",
    "\n",
    "# for n in range(len(nof_list)):\n",
    "#     model = LogisticRegression()\n",
    "    \n",
    "#     rfe = RFE(estimator=model, n_features_to_select=nof_list[n])\n",
    "    \n",
    "#     X_train_rfe = rfe.fit_transform(X_train_std_scaler_num, Y_train_encoded)\n",
    "#     X_val_rfe = rfe.transform(X_val_std_scaler_num)\n",
    "    \n",
    "#     model.fit(X_train_rfe, Y_train_encoded)\n",
    "    \n",
    "#     # Calculate f1_macro for training data\n",
    "#     y_train_pred = model.predict(X_train_rfe)\n",
    "#     train_score = f1_score(Y_train_encoded, y_train_pred, average='macro')\n",
    "#     train_score_list.append(train_score)\n",
    "   \n",
    "#     # Calculate f1_macro for validation data\n",
    "#     y_val_pred = model.predict(X_val_rfe)\n",
    "#     val_score = f1_score(Y_val_encoded, y_val_pred, average='macro')\n",
    "#     val_score_list.append(val_score)\n",
    "    \n",
    "#     # Check best score\n",
    "#     if val_score > high_score:\n",
    "#         high_score = val_score\n",
    "#         nof = nof_list[n]\n",
    "#         best_model = model\n",
    "#         best_rfe = rfe\n",
    "        \n",
    "# print(f\"Optimum number of features: {nof}\")\n",
    "# print(f\"F1-macro score with {nof} features: {high_score:.4f}\")\n",
    "\n",
    "# # Get selected features\n",
    "# features_to_select = pd.Series(best_rfe.support_, index=X_train_std_scaler_num.columns)\n",
    "# selected_features = features_to_select[features_to_select].index.tolist()\n",
    "# print(f\"Selected features:\\n{selected_features}\")\n",
    "\n",
    "# # Feature ranking\n",
    "# feature_ranking = pd.Series(best_rfe.ranking_, index=X_train_std_scaler_num.columns)\n",
    "# print(f\"\\nFeature ranking (lower is better):\\n{feature_ranking}\")\n",
    "\n",
    "# # Plot train and validation scores\n",
    "# import matplotlib.pyplot as plt\n",
    "\n",
    "# plt.figure(figsize=(10, 6))\n",
    "# plt.plot(nof_list, train_score_list, label='Training F1-macro')\n",
    "# plt.plot(nof_list, val_score_list, label='Validation F1-macro')\n",
    "# plt.xlabel('Number of Features')\n",
    "# plt.ylabel('F1-macro Score')\n",
    "# plt.title('F1-macro Score vs Number of Features')\n",
    "# plt.legend()\n",
    "# plt.show()"
   ]
  },
  {
   "cell_type": "markdown",
   "metadata": {},
   "source": [
    "Using another classifier, to analyse the score"
   ]
  },
  {
   "cell_type": "code",
   "execution_count": 884,
   "metadata": {},
   "outputs": [],
   "source": [
    "# nof_list = np.arange(1,10)            \n",
    "# high_score = 0\n",
    "# nof = 0           \n",
    "# train_score_list = []\n",
    "# val_score_list = []\n",
    "\n",
    "# for n in range(len(nof_list)):\n",
    "#     model = RandomForestClassifier(random_state=27)\n",
    "    \n",
    "#     rfe = RFE(estimator=model, n_features_to_select=nof_list[n])\n",
    "   \n",
    "#     X_train_rfe = rfe.fit_transform(X_train_std_scaler_num, Y_train_encoded)\n",
    "#     X_val_rfe = rfe.transform(X_val_std_scaler_num)\n",
    "   \n",
    "#     model.fit(X_train_rfe, Y_train_encoded)\n",
    "    \n",
    "#     # Predict on training and validation sets\n",
    "#     train_pred = model.predict(X_train_rfe)\n",
    "#     val_pred = model.predict(X_val_rfe)\n",
    "    \n",
    "#     # Calculate F1 scores\n",
    "#     train_score = f1_score(Y_train_encoded, train_pred, average='weighted')\n",
    "#     train_score_list.append(train_score)\n",
    "    \n",
    "#     val_score = f1_score(Y_val_encoded, val_pred, average='weighted')\n",
    "#     val_score_list.append(val_score)\n",
    "   \n",
    "#     if(val_score > high_score):\n",
    "#         high_score = val_score\n",
    "#         nof = nof_list[n]\n",
    "#         features_to_select = pd.Series(rfe.support_, index=X_train_std_scaler_num.columns)\n",
    "      \n",
    "# print(\"Optimum number of features: %d\" %nof)\n",
    "# print(f\"Features to select: \\n{features_to_select}\")"
   ]
  },
  {
   "cell_type": "markdown",
   "metadata": {},
   "source": [
    "------------"
   ]
  },
  {
   "cell_type": "markdown",
   "metadata": {},
   "source": [
    "<a class=\"anchor\" id=\"embedded\">\n",
    "\n",
    "### 9.2.2 Embedded Methods\n",
    "</a>"
   ]
  },
  {
   "cell_type": "markdown",
   "metadata": {},
   "source": [
    "<a class=\"anchor\" id=\"lasso\">\n",
    "\n",
    "#### 9.2.2.1 Lasso Regression\n",
    "</a>"
   ]
  },
  {
   "cell_type": "code",
   "execution_count": 887,
   "metadata": {},
   "outputs": [],
   "source": [
    "# def plot_importance(coef,name):\n",
    "#     imp_coef = coef.sort_values()\n",
    "#     plt.figure(figsize=(8,6))\n",
    "#     imp_coef.plot(kind = \"barh\")\n",
    "#     plt.title(\"Feature importance using \" + name + \" Model\")\n",
    "#     plt.show()"
   ]
  },
  {
   "cell_type": "code",
   "execution_count": 888,
   "metadata": {},
   "outputs": [],
   "source": [
    "# reg = LassoCV(eps=0.001)      #Depending of the strength of the eps, we can get rid of some variables"
   ]
  },
  {
   "cell_type": "code",
   "execution_count": 889,
   "metadata": {},
   "outputs": [],
   "source": [
    "# reg.fit(X_train_std_scaler_num, Y_train_encoded)"
   ]
  },
  {
   "cell_type": "code",
   "execution_count": 890,
   "metadata": {},
   "outputs": [],
   "source": [
    "# coef = pd.Series(reg.coef_, index=X_train_std_scaler_num.columns)\n",
    "# coef"
   ]
  },
  {
   "cell_type": "code",
   "execution_count": 891,
   "metadata": {},
   "outputs": [],
   "source": [
    "# print(\"Lasso picked \" + str(sum(coef != 0)) + \" variables and eliminated the other \" +  str(sum(coef == 0)) + \" variables\")"
   ]
  },
  {
   "cell_type": "code",
   "execution_count": 892,
   "metadata": {},
   "outputs": [],
   "source": [
    "# coef.sort_values()"
   ]
  },
  {
   "cell_type": "code",
   "execution_count": 893,
   "metadata": {},
   "outputs": [],
   "source": [
    "# plot_importance(coef.sort_values(),'Lasso')\n"
   ]
  },
  {
   "cell_type": "markdown",
   "metadata": {},
   "source": [
    "<a class=\"anchor\" id=\"rm_num\">\n",
    "\n",
    "#### 9.2.2.2 Random Forest Feature Importance\n",
    "</a>"
   ]
  },
  {
   "cell_type": "code",
   "execution_count": 894,
   "metadata": {},
   "outputs": [],
   "source": [
    "# from sklearn.ensemble import RandomForestClassifier\n",
    "# from sklearn.metrics import f1_score\n",
    "\n",
    "# # Initialize the Random Forest Feature Importance\n",
    "# rfc = RandomForestClassifier(n_estimators=100, random_state=27)\n",
    "# rfc.fit(X_train_std_scaler_num, Y_train_encoded)\n",
    "\n",
    "# importances = rfc.feature_importances_  \n",
    "# feature_names = X_train_std_scaler_num.columns\n",
    "\n",
    "# indices = np.argsort(importances)[::-1]\n",
    "# sorted_importances = importances[indices]\n",
    "# sorted_feature_names = feature_names[indices]\n",
    "\n",
    "# plt.figure(figsize=(10, 6))\n",
    "# plt.title(\"Feature Importances\")\n",
    "# plt.bar(range(len(importances)), sorted_importances)\n",
    "# plt.xticks(range(len(importances)), sorted_feature_names, rotation=90)\n",
    "# plt.tight_layout()\n",
    "# plt.show()\n",
    "\n",
    "# for i, feature in enumerate(sorted_feature_names):\n",
    "#     print(f\"{i+1}) {feature}: {sorted_importances[i]:.4f}\")"
   ]
  },
  {
   "cell_type": "markdown",
   "metadata": {},
   "source": [
    "Based on this importances, we chose the features that has its value over 0.1"
   ]
  },
  {
   "cell_type": "markdown",
   "metadata": {},
   "source": [
    "----------"
   ]
  },
  {
   "cell_type": "markdown",
   "metadata": {},
   "source": [
    "<a class=\"anchor\" id=\"filter_num\">\n",
    "\n",
    "### 9.2.3 Filter Methods\n",
    "</a>"
   ]
  },
  {
   "cell_type": "markdown",
   "metadata": {},
   "source": [
    "<a class=\"anchor\" id=\"uni\">\n",
    "\n",
    "#### 9.2.3.1 Univariate Variables\n",
    "</a>"
   ]
  },
  {
   "cell_type": "code",
   "execution_count": 895,
   "metadata": {},
   "outputs": [],
   "source": [
    "# metric_features_ = [col for col in metric_features if col in X_train.columns]"
   ]
  },
  {
   "cell_type": "code",
   "execution_count": 896,
   "metadata": {},
   "outputs": [],
   "source": [
    "# X_train[metric_features_].var()"
   ]
  },
  {
   "cell_type": "markdown",
   "metadata": {},
   "source": [
    "Since neither of the variables are univariate (variance=0), we will not dicard any of the variables based on this method."
   ]
  },
  {
   "cell_type": "markdown",
   "metadata": {},
   "source": [
    "<a class=\"anchor\" id=\"select\">\n",
    "\n",
    "#### 9.2.3.2 Select K Best Method\n",
    "</a>"
   ]
  },
  {
   "cell_type": "code",
   "execution_count": 897,
   "metadata": {},
   "outputs": [],
   "source": [
    "# # Initialize SelectKBest with f_regression as the scoring function\n",
    "# selector = SelectKBest(score_func=f_regression, k=8)        #Manual Adjusted and Optimized k"
   ]
  },
  {
   "cell_type": "code",
   "execution_count": 898,
   "metadata": {},
   "outputs": [],
   "source": [
    "# selector.fit(X_train_std_scaler_num, Y_train_encoded)"
   ]
  },
  {
   "cell_type": "code",
   "execution_count": 899,
   "metadata": {},
   "outputs": [],
   "source": [
    "# scores = pd.Series(selector.scores_, index=X_train_std_scaler_num.columns)"
   ]
  },
  {
   "cell_type": "code",
   "execution_count": 900,
   "metadata": {},
   "outputs": [],
   "source": [
    "# def plot_importance_kbest(scores, name):\n",
    "#     plt.figure(figsize=(8, 6))\n",
    "#     scores.plot(kind=\"barh\")\n",
    "#     plt.title(\"Feature importance using \" + name + \" Method\")\n",
    "#     plt.show()"
   ]
  },
  {
   "cell_type": "code",
   "execution_count": 901,
   "metadata": {},
   "outputs": [],
   "source": [
    "# plot_importance_kbest(scores.sort_values(), 'SelectKBest')"
   ]
  },
  {
   "cell_type": "markdown",
   "metadata": {},
   "source": [
    "--------------------"
   ]
  },
  {
   "cell_type": "markdown",
   "metadata": {},
   "source": [
    "<a class=\"anchor\" id=\"hybrid\">\n",
    "\n",
    "### 9.2.4 Hybrid Methods\n",
    "</a>"
   ]
  },
  {
   "cell_type": "markdown",
   "metadata": {},
   "source": [
    "<a class=\"anchor\" id=\"graph\">\n",
    "\n",
    "#### 9.2.4.1 Graph-based Automatic Feature selection\n",
    "</a>"
   ]
  },
  {
   "cell_type": "code",
   "execution_count": 902,
   "metadata": {},
   "outputs": [],
   "source": [
    "# import numpy as np\n",
    "# import networkx as nx\n",
    "# from sklearn.model_selection import cross_val_score\n",
    "# from sklearn.ensemble import RandomForestClassifier\n",
    "\n",
    "# def create_feature_graph(X):\n",
    "#     G = nx.Graph()\n",
    "#     n_features = X.shape[1]\n",
    "#     if n_features == 1:\n",
    "#         G.add_node(0)\n",
    "#         return G\n",
    "#     for i in range(n_features):\n",
    "#         for j in range(i+1, n_features):\n",
    "#             correlation = np.abs(np.corrcoef(X[:, i], X[:, j])[0, 1])\n",
    "#             G.add_edge(i, j, weight=correlation)\n",
    "#     return G\n",
    "\n",
    "# def calculate_macro_f1(X, y, selected_features):\n",
    "#     clf = RandomForestClassifier(random_state=42)\n",
    "#     scores = cross_val_score(clf, X[:, selected_features], y, cv=5, scoring='f1_macro')\n",
    "#     return scores.mean()\n",
    "\n",
    "# def gb_afs_macro_f1(X, y):\n",
    "#     X = np.array(X)\n",
    "#     y = np.array(y)\n",
    "    \n",
    "#     if X.ndim == 1:\n",
    "#         X = X.reshape(-1, 1)\n",
    "#     elif X.ndim > 2:\n",
    "#         raise ValueError(\"Input X must be a 1D or 2D array\")\n",
    "\n",
    "#     # Ensure X and y have the same number of samples\n",
    "#     if len(X) != len(y):\n",
    "#         min_samples = min(len(X), len(y))\n",
    "#         X = X[:min_samples]\n",
    "#         y = y[:min_samples]\n",
    "#         print(f\"Warning: X and y had different lengths. Using first {min_samples} samples.\")\n",
    "    \n",
    "#     G = create_feature_graph(X)\n",
    "#     selected_features = set(G.nodes())\n",
    "#     best_score = calculate_macro_f1(X, y, list(selected_features))\n",
    "    \n",
    "#     while len(selected_features) > 1:\n",
    "#         scores = []\n",
    "#         for feature in selected_features:\n",
    "#             temp_features = list(selected_features - {feature})\n",
    "#             score = calculate_macro_f1(X, y, temp_features)\n",
    "#             scores.append((feature, score))\n",
    "        \n",
    "#         feature_to_remove, new_score = max(scores, key=lambda x: x[1])\n",
    "        \n",
    "#         if new_score > best_score:\n",
    "#             selected_features.remove(feature_to_remove)\n",
    "#             best_score = new_score\n",
    "#         else:\n",
    "#             break\n",
    "    \n",
    "#     return list(selected_features), best_score\n",
    "\n",
    "# # Usage\n",
    "# optimal_features, best_f1_score = gb_afs_macro_f1(X_train_std_scaler_num, Y_train_encoded)\n",
    "\n",
    "# print(f\"Optimal number of features: {len(optimal_features)}\")\n",
    "# print(f\"Selected features: {optimal_features}\")\n",
    "# print(f\"Best macro F1 score: {best_f1_score:.4f}\")"
   ]
  },
  {
   "cell_type": "markdown",
   "metadata": {},
   "source": [
    "<hr>"
   ]
  },
  {
   "cell_type": "markdown",
   "metadata": {},
   "source": [
    "| Predictor | Spearman | RFE LR | RFE RandForest | Lasso | SelectKBest | RandForest Feat. Imp. | Graph-based Aut. Feat. Sel. | What to do? |\n",
    "|-----------|----------|--------|----------------|-------|-------------|----------------------|----------------------------|-------------|\n",
    "| Age at Injury | Keep | Keep | Keep | Keep | Keep | Keep | Keep | Include in the Model |\n",
    "| Average Weekly Wage | Keep | Keep | Keep | Keep | Keep | Keep | Keep | Include in the Model |\n",
    "| IME-4 Count | Keep | Keep | Keep | Keep | Keep | Keep | Keep | Include in the Model |\n",
    "| Number of Dependents | Keep | Discard | Keep | Discard | Discard | Discard | Keep | Discard in the Model |\n",
    "| Days Between_Assembly | Either this or Accident_C2 | Keep | Keep | Keep | Discard | Keep | Keep | Include in the Model |\n",
    "| Days Between C2 | Either this or Accident_Assembly | Keep | Keep | Keep | Discard | Keep | Keep | Include in the Model |\n",
    "| Claim Count by Carrier | Keep | Keep | Keep | Keep | Keep | Discard | Keep | Include in the Model |\n",
    "| Industry_Avg_Weekly_Wage | Keep | Keep | Keep | Keep | Keep | Discard | Keep | Include in the Model |\n",
    "| Claim Count by Gender | Keep | Keep | Keep | Keep | Keep | Discard | Keep | Include in the Model |\n"
   ]
  },
  {
   "cell_type": "markdown",
   "metadata": {},
   "source": [
    "<hr>\n",
    "\n",
    "Now let's make the conclusion of the Variables:"
   ]
  },
  {
   "cell_type": "markdown",
   "metadata": {},
   "source": [
    "----"
   ]
  },
  {
   "cell_type": "markdown",
   "metadata": {},
   "source": [
    "<a class=\"anchor\" id=\"dropfeat\">\n",
    "\n",
    "### 9.3 Drop Numerical Features according to Feature Selections\n",
    "</a>"
   ]
  },
  {
   "cell_type": "markdown",
   "metadata": {},
   "source": [
    "We have checked the performance of our models firsly by deleting Days Between Accident_assembly and later by deleting Days Betweem Accident_C2. Our model performed better without Days Between Accident_C2 so we decided to keep Days Between Accident_Assembly."
   ]
  },
  {
   "cell_type": "code",
   "execution_count": 903,
   "metadata": {},
   "outputs": [],
   "source": [
    "# X_train_std_scaler_encoded.drop(columns=[\"Number of Dependents\", \"Days Between Accident_C2\"], inplace=True)\n",
    "# X_val_std_scaler_encoded.drop(columns=[\"Number of Dependents\", \"Days Between Accident_C2\"], inplace=True)\n",
    "# X_test_std_scaler_encoded.drop(columns=[\"Number of Dependents\", \"Days Between Accident_C2\"], inplace=True)"
   ]
  },
  {
   "cell_type": "code",
   "execution_count": 904,
   "metadata": {},
   "outputs": [],
   "source": [
    "# X_train = X_train_std_scaler_encoded\n",
    "# y_train = y_train\n",
    "\n",
    "# X_val = X_val_std_scaler_encoded\n",
    "# y_val = y_val"
   ]
  },
  {
   "cell_type": "markdown",
   "metadata": {},
   "source": [
    "-----------"
   ]
  },
  {
   "cell_type": "markdown",
   "metadata": {},
   "source": [
    "<a class=\"anchor\" id='Proprocessed'>\n",
    "\n",
    "# 10. Save Proprocessed Data\n",
    "</a>"
   ]
  },
  {
   "cell_type": "markdown",
   "metadata": {},
   "source": [
    "Saving the target variable back into the preprocessed dataset"
   ]
  },
  {
   "cell_type": "markdown",
   "metadata": {},
   "source": [
    "* Saving using one-hot encoder and standard scaler (label encoder for target variable)"
   ]
  },
  {
   "cell_type": "code",
   "execution_count": 905,
   "metadata": {},
   "outputs": [],
   "source": [
    "train_encoded_df_s = pd.concat([X_train_std_scaler_encoded, y_train], axis=1)\n",
    "train_encoded_df_s.to_csv(\"train_encoded_std_agg_out.csv\")"
   ]
  },
  {
   "cell_type": "code",
   "execution_count": 906,
   "metadata": {},
   "outputs": [],
   "source": [
    "validation_encoded_df_s = pd.concat([X_val_std_scaler_encoded, y_val], axis=1)\n",
    "validation_encoded_df_s.to_csv(\"validation_encoded_std_agg_out.csv\")"
   ]
  },
  {
   "cell_type": "code",
   "execution_count": 907,
   "metadata": {},
   "outputs": [],
   "source": [
    "X_test_std_scaler_encoded.to_csv(\"test_encoded_std_agg_out.csv\")"
   ]
  },
  {
   "cell_type": "markdown",
   "metadata": {},
   "source": [
    "* Saving using min-max scaler and one hot encoder (label encoder for target variable)"
   ]
  },
  {
   "cell_type": "code",
   "execution_count": 908,
   "metadata": {},
   "outputs": [],
   "source": [
    "train_encoded_df_minmax = pd.concat([X_train_min_max_scaled_encoded, y_train], axis=1)\n",
    "train_encoded_df_minmax.to_csv(\"train_encoded_minmax.csv\")"
   ]
  },
  {
   "cell_type": "code",
   "execution_count": 909,
   "metadata": {},
   "outputs": [],
   "source": [
    "validation_encoded_df_minmax = pd.concat([X_val_min_max_scaled_encoded, y_val], axis=1)\n",
    "validation_encoded_df_minmax.to_csv(\"validation_encoded_minmax.csv\")"
   ]
  },
  {
   "cell_type": "code",
   "execution_count": 910,
   "metadata": {},
   "outputs": [],
   "source": [
    "X_train_min_max_scaled_encoded.to_csv(\"test_encoded_minmax.csv\")"
   ]
  },
  {
   "cell_type": "markdown",
   "metadata": {},
   "source": [
    "* Saving using robust scaler and one hot encoder (label encoder for target variable)"
   ]
  },
  {
   "cell_type": "code",
   "execution_count": 911,
   "metadata": {},
   "outputs": [],
   "source": [
    "train_encoded_df_robust = pd.concat([X_train_robust_scaled_encoded, y_train], axis=1)\n",
    "train_encoded_df_robust.to_csv(\"train_encoded_robust.csv\")"
   ]
  },
  {
   "cell_type": "code",
   "execution_count": 912,
   "metadata": {},
   "outputs": [],
   "source": [
    "validation_encoded_df_robust = pd.concat([X_val_robust_scaled_encoded, y_val], axis=1)\n",
    "validation_encoded_df_robust.to_csv(\"validation_encoded_robust.csv\")"
   ]
  },
  {
   "cell_type": "code",
   "execution_count": 913,
   "metadata": {},
   "outputs": [],
   "source": [
    "test_robust_scaled_encoded.to_csv(\"test_encoded_robust.csv\")"
   ]
  }
 ],
 "metadata": {
  "kernelspec": {
   "display_name": "base",
   "language": "python",
   "name": "python3"
  },
  "language_info": {
   "codemirror_mode": {
    "name": "ipython",
    "version": 3
   },
   "file_extension": ".py",
   "mimetype": "text/x-python",
   "name": "python",
   "nbconvert_exporter": "python",
   "pygments_lexer": "ipython3",
   "version": "3.12.4"
  }
 },
 "nbformat": 4,
 "nbformat_minor": 2
}
