{
 "cells": [
  {
   "cell_type": "markdown",
   "id": "bbcbf739",
   "metadata": {},
   "source": [
    "- This is the different combinations of features i got from my Feature Selection Methods\n",
    "\n",
    "- This modifies the X_train_encoded dataset, so you just need to place the code of the cell before the scaling\n",
    "\n",
    "- This conclusions are based on applying ohc for all features"
   ]
  },
  {
   "cell_type": "markdown",
   "id": "78dfe119",
   "metadata": {},
   "source": [
    "## 1. Considering Average "
   ]
  },
  {
   "cell_type": "markdown",
   "id": "5fd2719a",
   "metadata": {},
   "source": [
    "#### Aggregate"
   ]
  },
  {
   "cell_type": "code",
   "execution_count": null,
   "id": "baad8ea4",
   "metadata": {},
   "outputs": [],
   "source": [
    "# Define the categorical variables to group by category\n",
    "grouped_columns = {\n",
    "    'County of Injury': ['County of Injury_FRANKLIN', 'County of Injury_CHENANGO', 'County of Injury_ESSEX', \n",
    "                         'County of Injury_TIOGA', 'County of Injury_GENESSEE', 'County of Injury_OTSEGO', \n",
    "                         'County of Injury_SCHENECTADY', 'County of Injury_CATTARAUGUS', 'County of Injury_LIVINGSTON',\n",
    "                         'County of Injury_ORLEANS', 'County of Injury_LEWIS', 'County of Injury_STEUBEN', \n",
    "                         'County of Injury_ALLEGANY', 'County of Injury_SCHUYLER', 'County of Injury_HAMILTON', \n",
    "                         'County of Injury_CORTLAND', 'County of Injury_SENECA', 'County of Injury_WAYNE', \n",
    "                         'County of Injury_WYOMING', 'County of Injury_MONTGOMERY', 'County of Injury_SCHOHARIE', \n",
    "                         'County of Injury_YATES'],\n",
    "    \n",
    "    'WCIO Nature of Injury Code': ['WCIO Nature of Injury Code_19', 'WCIO Nature of Injury Code_32', \n",
    "                                   'WCIO Nature of Injury Code_42', 'WCIO Nature of Injury Code_38', \n",
    "                                   'WCIO Nature of Injury Code_69', 'WCIO Nature of Injury Code_60', \n",
    "                                   'WCIO Nature of Injury Code_47', 'WCIO Nature of Injury Code_66', \n",
    "                                   'WCIO Nature of Injury Code_3', 'WCIO Nature of Injury Code_58', \n",
    "                                   'WCIO Nature of Injury Code_75', 'WCIO Nature of Injury Code_64', \n",
    "                                   'WCIO Nature of Injury Code_91', 'WCIO Nature of Injury Code_70', \n",
    "                                   'WCIO Nature of Injury Code_79', 'WCIO Nature of Injury Code_76', \n",
    "                                   'WCIO Nature of Injury Code_67', 'WCIO Nature of Injury Code_30', \n",
    "                                   'WCIO Nature of Injury Code_63', 'WCIO Nature of Injury Code_22', \n",
    "                                   'WCIO Nature of Injury Code_62'],\n",
    "    \n",
    "    'WCIO Cause of Injury Code': ['WCIO Cause of Injury Code_20', 'WCIO Cause of Injury Code_3', \n",
    "                                  'WCIO Cause of Injury Code_94', 'WCIO Cause of Injury Code_84', \n",
    "                                  'WCIO Cause of Injury Code_95', 'WCIO Cause of Injury Code_11', \n",
    "                                  'WCIO Cause of Injury Code_7', 'WCIO Cause of Injury Code_61', \n",
    "                                  'WCIO Cause of Injury Code_65', 'WCIO Cause of Injury Code_4', \n",
    "                                  'WCIO Cause of Injury Code_8', 'WCIO Cause of Injury Code_86', \n",
    "                                  'WCIO Cause of Injury Code_67', 'WCIO Cause of Injury Code_40', \n",
    "                                  'WCIO Cause of Injury Code_47', 'WCIO Cause of Injury Code_91', \n",
    "                                  'WCIO Cause of Injury Code_14'],\n",
    "    \n",
    "    'WCIO Part Of Body Code': ['WCIO Part Of Body Code_47', 'WCIO Part Of Body Code_50', \n",
    "                               'WCIO Part Of Body Code_46', 'WCIO Part Of Body Code_45', \n",
    "                               'WCIO Part Of Body Code_26', 'WCIO Part Of Body Code_64', \n",
    "                               'WCIO Part Of Body Code_24'],\n",
    "    \n",
    "    'zip_code_cat': ['zip_code_cat_9', 'zip_code_cat_7', 'zip_code_cat_Other', 'zip_code_cat_4', \n",
    "                     'zip_code_cat_8', 'zip_code_cat_6', 'zip_code_cat_5'],\n",
    "    \n",
    "    'Carrier Type': ['Carrier Type_5A. SPECIAL FUND - CONS. COMM. (SECT. 25-A)', \n",
    "                     'Carrier Type_5C. SPECIAL FUND - POI CARRIER WCB MENANDS']\n",
    "}\n",
    "\n",
    "# Aggregation using mode \n",
    "for group, cols in grouped_columns.items():\n",
    "    if len(cols) > 1:  # Only aggregates if there are multiple columns to aggregate\n",
    "     \n",
    "        X_train_encoded[group] = X_train_encoded[cols].mode(axis=1)[0]  \n",
    "        \n",
    "        # After aggregation, drop the original columns \n",
    "        X_train_encoded.drop(cols, axis=1, inplace=True)"
   ]
  },
  {
   "cell_type": "markdown",
   "id": "d83c8c6f",
   "metadata": {},
   "source": [
    "#### Drop"
   ]
  },
  {
   "cell_type": "code",
   "execution_count": null,
   "id": "e14cb3af",
   "metadata": {},
   "outputs": [],
   "source": [
    "# Define the categorical variables to drop \n",
    "columns_to_drop = [\n",
    "    'County of Injury_FRANKLIN', 'WCIO Nature of Injury Code_19', 'County of Injury_CHENANGO', \n",
    "    'County of Injury_ESSEX', 'WCIO Part Of Body Code_47', 'WCIO Nature of Injury Code_32', \n",
    "    'County of Injury_TIOGA', 'County of Injury_GENESEE', 'WCIO Nature of Injury Code_42', \n",
    "    'County of Injury_OTSEGO', 'County of Injury_SCHENECTADY', 'County of Injury_CATTARAUGUS', \n",
    "    'WCIO Part Of Body Code_50', 'WCIO Cause of Injury Code_20', 'WCIO Cause of Injury Code_3', \n",
    "    'County of Injury_LIVINGSTON', 'WCIO Cause of Injury Code_94', 'County of Injury_ORLEANS', \n",
    "    'County of Injury_LEWIS', 'County of Injury_STEUBEN', 'zip_code_cat_9', 'County of Injury_ALLEGANY', \n",
    "    'County of Injury_SCHUYLER', 'WCIO Nature of Injury Code_38', 'WCIO Nature of Injury Code_69', \n",
    "    'WCIO Nature of Injury Code_60', 'WCIO Cause of Injury Code_84', 'zip_code_cat_7', 'County of Injury_HAMILTON', \n",
    "    'WCIO Cause of Injury Code_95', 'County of Injury_CORTLAND', 'WCIO Part Of Body Code_46', \n",
    "    'County of Injury_SENECA', 'WCIO Nature of Injury Code_47', 'County of Injury_WAYNE', \n",
    "    'WCIO Nature of Injury Code_66', 'WCIO Nature of Injury Code_3', 'WCIO Part Of Body Code_45', \n",
    "    'zip_code_cat_Other', 'zip_code_cat_4', 'Carrier Type_5A. SPECIAL FUND - CONS. COMM. (SECT. 25-A)', \n",
    "    'WCIO Nature of Injury Code_91', 'zip_code_cat_8', 'zip_code_cat_6', 'Industry Code_21', \n",
    "    'County of Injury_SCHOHARIE', 'Carrier Type_5C. SPECIAL FUND - POI CARRIER WCB MENANDS', \n",
    "    'WCIO Cause of Injury Code_11', 'WCIO Cause of Injury Code_7', 'County of Injury_WYOMING', \n",
    "    'County of Injury_MONTGOMERY', 'WCIO Part Of Body Code_26', 'WCIO Nature of Injury Code_75', \n",
    "    'WCIO Cause of Injury Code_4', 'zip_code_cat_5', 'WCIO Cause of Injury Code_61', 'WCIO Cause of Injury Code_65', \n",
    "    'WCIO Part Of Body Code_64', 'County of Injury_YATES', 'WCIO Nature of Injury Code_64', \n",
    "    'WCIO Cause of Injury Code_91', 'WCIO Cause of Injury Code_14', 'WCIO Part Of Body Code_24', \n",
    "    'WCIO Nature of Injury Code_58', 'WCIO Cause of Injury Code_8', 'WCIO Nature of Injury Code_79', \n",
    "    'WCIO Nature of Injury Code_70', 'WCIO Cause of Injury Code_86', 'WCIO Cause of Injury Code_67', \n",
    "    'WCIO Cause of Injury Code_40', 'WCIO Nature of Injury Code_76', 'WCIO Nature of Injury Code_67', \n",
    "    'WCIO Nature of Injury Code_30', 'WCIO Cause of Injury Code_47', 'WCIO Nature of Injury Code_63', \n",
    "    'WCIO Nature of Injury Code_22', 'WCIO Nature of Injury Code_62'\n",
    "]\n",
    "\n",
    "\n",
    "X_train_encoded.drop(columns=columns_to_drop, axis=1, inplace=True)"
   ]
  },
  {
   "cell_type": "markdown",
   "id": "936aeb2d",
   "metadata": {},
   "source": [
    "## 2. Considering Weighted Average"
   ]
  },
  {
   "cell_type": "markdown",
   "id": "f698f60a",
   "metadata": {},
   "source": [
    "#### Aggregate"
   ]
  },
  {
   "cell_type": "code",
   "execution_count": null,
   "id": "97f2a030",
   "metadata": {},
   "outputs": [],
   "source": [
    "# Define the categorical variables to group by category\n",
    "grouped_columns = {\n",
    "    'County of Injury': ['County of Injury_CHENANGO', 'County of Injury_ESSEX', 'County of Injury_TIOGA',\n",
    "                         'County of Injury_GENESEE', 'County of Injury_OTSEGO', 'County of Injury_SCHENECTADY',\n",
    "                         'County of Injury_CATTARAUGUS', 'County of Injury_LIVINGSTON', 'County of Injury_ORLEANS',\n",
    "                         'County of Injury_LEWIS', 'County of Injury_STEUBEN', 'County of Injury_ALLEGANY',\n",
    "                         'County of Injury_SCHUYLER', 'County of Injury_HAMILTON', 'County of Injury_CORTLAND',\n",
    "                         'County of Injury_SENECA', 'County of Injury_WAYNE', 'County of Injury_WYOMING',\n",
    "                         'County of Injury_MONTGOMERY', 'County of Injury_SCHOHARIE', 'County of Injury_YATES'],\n",
    "    \n",
    "    'WCIO Nature of Injury Code': ['WCIO Nature of Injury Code_55', 'WCIO Nature of Injury Code_32', \n",
    "                                   'WCIO Nature of Injury Code_42', 'WCIO Nature of Injury Code_38',\n",
    "                                   'WCIO Nature of Injury Code_69', 'WCIO Nature of Injury Code_60',\n",
    "                                   'WCIO Nature of Injury Code_47', 'WCIO Nature of Injury Code_66',\n",
    "                                   'WCIO Nature of Injury Code_3', 'WCIO Nature of Injury Code_58',\n",
    "                                   'WCIO Nature of Injury Code_75', 'WCIO Nature of Injury Code_64',\n",
    "                                   'WCIO Nature of Injury Code_91', 'WCIO Nature of Injury Code_70',\n",
    "                                   'WCIO Nature of Injury Code_79', 'WCIO Nature of Injury Code_76',\n",
    "                                   'WCIO Nature of Injury Code_67', 'WCIO Nature of Injury Code_30',\n",
    "                                   'WCIO Nature of Injury Code_63', 'WCIO Nature of Injury Code_22', \n",
    "                                   'WCIO Nature of Injury Code_62'],\n",
    "    \n",
    "    'WCIO Cause of Injury Code': ['WCIO Cause of Injury Code_78', 'WCIO Cause of Injury Code_20', \n",
    "                                  'WCIO Cause of Injury Code_3', 'WCIO Cause of Injury Code_94',\n",
    "                                  'WCIO Cause of Injury Code_84', 'WCIO Cause of Injury Code_95',\n",
    "                                  'WCIO Cause of Injury Code_11', 'WCIO Cause of Injury Code_7',\n",
    "                                  'WCIO Cause of Injury Code_61', 'WCIO Cause of Injury Code_65',\n",
    "                                  'WCIO Cause of Injury Code_4', 'WCIO Cause of Injury Code_8',\n",
    "                                  'WCIO Cause of Injury Code_86', 'WCIO Cause of Injury Code_67',\n",
    "                                  'WCIO Cause of Injury Code_40', 'WCIO Cause of Injury Code_47',\n",
    "                                  'WCIO Cause of Injury Code_91', 'WCIO Cause of Injury Code_14'],\n",
    "    \n",
    "    'WCIO Part Of Body Code': ['WCIO Part Of Body Code_47', 'WCIO Part Of Body Code_50',\n",
    "                               'WCIO Part Of Body Code_46', 'WCIO Part Of Body Code_45',\n",
    "                               'WCIO Part Of Body Code_26', 'WCIO Part Of Body Code_64',\n",
    "                               'WCIO Part Of Body Code_24'],\n",
    "    \n",
    "    'zip_code_cat': ['zip_code_cat_9', 'zip_code_cat_7', 'zip_code_cat_Other', 'zip_code_cat_4', \n",
    "                     'zip_code_cat_8', 'zip_code_cat_6', 'zip_code_cat_5'],\n",
    "    \n",
    "    'Carrier Type': ['Carrier Type_5A. SPECIAL FUND - CONS. COMM. (SECT. 25-A)', \n",
    "                     'Carrier Type_5C. SPECIAL FUND - POI CARRIER WCB MENANDS'],\n",
    "    \n",
    "    'Industry Code': ['Industry Code_21']\n",
    "}\n",
    "\n",
    "# Aggregation using mode \n",
    "for group, cols in grouped_columns.items():\n",
    "    if len(cols) > 1:  # Only aggregate if there are multiple columns to aggregate\n",
    "       \n",
    "        X_train_encoded[group] = X_train_encoded[cols].mode(axis=1)[0]  # Categorizing the variable with the most frequent value (mode)\n",
    "        \n",
    "        # After aggregation, drop the original columns \n",
    "        X_train_encoded.drop(cols, axis=1, inplace=True)\n"
   ]
  },
  {
   "cell_type": "markdown",
   "id": "afbde003",
   "metadata": {},
   "source": [
    "#### Drop"
   ]
  },
  {
   "cell_type": "code",
   "execution_count": null,
   "id": "95a17fdc",
   "metadata": {},
   "outputs": [],
   "source": [
    "# Define the list of columns to drop \n",
    "columns_to_drop = [\n",
    "    'WCIO Cause of Injury Code_78', 'County of Injury_CHENANGO', 'County of Injury_ESSEX', \n",
    "    'WCIO Part Of Body Code_47', 'WCIO Nature of Injury Code_55', 'WCIO Nature of Injury Code_32', \n",
    "    'County of Injury_TIOGA', 'County of Injury_GENESEE', 'WCIO Nature of Injury Code_42', \n",
    "    'County of Injury_OTSEGO', 'County of Injury_SCHENECTADY', 'County of Injury_CATTARAUGUS', \n",
    "    'WCIO Part Of Body Code_50', 'WCIO Cause of Injury Code_20', 'WCIO Cause of Injury Code_3', \n",
    "    'County of Injury_LIVINGSTON', 'WCIO Cause of Injury Code_94', 'County of Injury_ORLEANS', \n",
    "    'County of Injury_LEWIS', 'County of Injury_STEUBEN', 'zip_code_cat_9', 'County of Injury_ALLEGANY', \n",
    "    'County of Injury_SCHUYLER', 'WCIO Nature of Injury Code_38', 'WCIO Nature of Injury Code_69', \n",
    "    'WCIO Nature of Injury Code_60', 'WCIO Cause of Injury Code_84', 'zip_code_cat_7', 'County of Injury_HAMILTON', \n",
    "    'WCIO Cause of Injury Code_95', 'County of Injury_CORTLAND', 'WCIO Part Of Body Code_46', \n",
    "    'County of Injury_SENECA', 'WCIO Nature of Injury Code_47', 'County of Injury_WAYNE', \n",
    "    'WCIO Nature of Injury Code_66', 'WCIO Nature of Injury Code_3', 'WCIO Part Of Body Code_45', \n",
    "    'zip_code_cat_Other', 'zip_code_cat_4', 'Carrier Type_5A. SPECIAL FUND - CONS. COMM. (SECT. 25-A)', \n",
    "    'WCIO Nature of Injury Code_91', 'zip_code_cat_8', 'zip_code_cat_6', 'Industry Code_21', \n",
    "    'County of Injury_SCHOHARIE', 'Carrier Type_5C. SPECIAL FUND - POI CARRIER WCB MENANDS', \n",
    "    'WCIO Cause of Injury Code_11', 'WCIO Cause of Injury Code_7', 'County of Injury_WYOMING', \n",
    "    'County of Injury_MONTGOMERY', 'WCIO Part Of Body Code_26', 'WCIO Nature of Injury Code_75', \n",
    "    'WCIO Cause of Injury Code_4', 'zip_code_cat_5', 'WCIO Cause of Injury Code_61', 'WCIO Cause of Injury Code_65', \n",
    "    'WCIO Part Of Body Code_64', 'County of Injury_YATES', 'WCIO Nature of Injury Code_64', \n",
    "    'WCIO Cause of Injury Code_91', 'WCIO Cause of Injury Code_14', 'WCIO Part Of Body Code_24', \n",
    "    'WCIO Nature of Injury Code_58', 'WCIO Cause of Injury Code_8', 'WCIO Nature of Injury Code_79', \n",
    "    'WCIO Nature of Injury Code_70', 'WCIO Cause of Injury Code_86', 'WCIO Cause of Injury Code_67', \n",
    "    'WCIO Cause of Injury Code_40', 'WCIO Nature of Injury Code_76', 'WCIO Nature of Injury Code_67', \n",
    "    'WCIO Nature of Injury Code_30', 'WCIO Cause of Injury Code_47', 'WCIO Nature of Injury Code_63', \n",
    "    'WCIO Nature of Injury Code_22', 'WCIO Nature of Injury Code_62'\n",
    "]\n",
    "\n",
    "\n",
    "X_train_encoded.drop(columns=columns_to_drop, axis=1, inplace=True)"
   ]
  },
  {
   "cell_type": "markdown",
   "id": "1538a86a",
   "metadata": {},
   "source": [
    "### Note"
   ]
  },
  {
   "cell_type": "markdown",
   "id": "da1ff405",
   "metadata": {},
   "source": [
    "If when you place this code before scaling gives an error, because some columns are not found in the index, place this part of code instead:"
   ]
  },
  {
   "cell_type": "code",
   "execution_count": null,
   "id": "568cff59",
   "metadata": {},
   "outputs": [],
   "source": [
    "# Aggregation using mode\n",
    "for group, cols in grouped_columns.items():\n",
    "    # Filter out columns that don't exist in the DataFrame\n",
    "    existing_cols = [col for col in cols if col in X_train_encoded.columns]\n",
    "    \n",
    "    # Only aggregate if there are multiple existing columns\n",
    "    if len(existing_cols) > 1:  \n",
    "        # Apply mode aggregation\n",
    "        X_train_encoded[group] = X_train_encoded[existing_cols].mode(axis=1)[0]  # Get the most frequent value (mode)\n",
    "\n",
    "        # After aggregation, drop the original columns \n",
    "        X_train_encoded.drop(existing_cols, axis=1, inplace=True)\n",
    "    else:\n",
    "        # Optionally, you can log or print a message if no aggregation is performed\n",
    "        print(f\"Skipping aggregation for group '{group}' because not enough columns exist.\")\n",
    "\n"
   ]
  }
 ],
 "metadata": {
  "kernelspec": {
   "display_name": "Python 3 (ipykernel)",
   "language": "python",
   "name": "python3"
  },
  "language_info": {
   "codemirror_mode": {
    "name": "ipython",
    "version": 3
   },
   "file_extension": ".py",
   "mimetype": "text/x-python",
   "name": "python",
   "nbconvert_exporter": "python",
   "pygments_lexer": "ipython3",
   "version": "3.12.4"
  }
 },
 "nbformat": 4,
 "nbformat_minor": 5
}
