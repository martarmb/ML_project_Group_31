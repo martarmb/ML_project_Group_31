{
 "cells": [
  {
   "cell_type": "markdown",
   "metadata": {},
   "source": [
    "## Import "
   ]
  },
  {
   "cell_type": "markdown",
   "metadata": {},
   "source": [
    "### Import Libraries"
   ]
  },
  {
   "cell_type": "code",
   "execution_count": 122,
   "metadata": {},
   "outputs": [],
   "source": [
    "import numpy as np\n",
    "import pandas as pd\n",
    "import matplotlib.pyplot as plt\n",
    "import seaborn as sns\n",
    "from datetime import datetime\n",
    "\n",
    "# setting seaborn style\n",
    "sns.set()\n",
    "\n",
    "from sklearn.model_selection import train_test_split\n",
    "\n",
    "pd.set_option('display.max_rows', None)  # Show all rows\n",
    "pd.set_option('display.max_colwidth', None) #Show all columns\n",
    "\n",
    "\n",
    "## Import library that enables colours in Markdowns\n",
    "from IPython.display import Markdown\n"
   ]
  },
  {
   "cell_type": "markdown",
   "metadata": {},
   "source": [
    "### Import Datasets"
   ]
  },
  {
   "cell_type": "code",
   "execution_count": 123,
   "metadata": {},
   "outputs": [],
   "source": [
    "train_data = pd.read_csv(\"train_data.csv\", low_memory=False)\n",
    "test_data = pd.read_csv(\"test_data.csv\")"
   ]
  },
  {
   "cell_type": "markdown",
   "metadata": {},
   "source": [
    "## 1. Dataset overview"
   ]
  },
  {
   "cell_type": "markdown",
   "metadata": {},
   "source": [
    "### 1.1 Descriptive analysis"
   ]
  },
  {
   "cell_type": "code",
   "execution_count": null,
   "metadata": {},
   "outputs": [],
   "source": [
    "train_data.head()\n"
   ]
  },
  {
   "cell_type": "code",
   "execution_count": null,
   "metadata": {},
   "outputs": [],
   "source": [
    "train_data.tail()"
   ]
  },
  {
   "cell_type": "code",
   "execution_count": null,
   "metadata": {},
   "outputs": [],
   "source": [
    "test_data.head()"
   ]
  },
  {
   "cell_type": "code",
   "execution_count": null,
   "metadata": {},
   "outputs": [],
   "source": [
    "test_data.tail()"
   ]
  },
  {
   "cell_type": "code",
   "execution_count": null,
   "metadata": {},
   "outputs": [],
   "source": [
    "test_data.columns.values"
   ]
  },
  {
   "cell_type": "code",
   "execution_count": 129,
   "metadata": {},
   "outputs": [],
   "source": [
    "# set \"Claim Identifier\" as the index for the train and test datasets\n",
    "train_data = train_data.set_index(\"Claim Identifier\")\n",
    "test_data = test_data.set_index(\"Claim Identifier\")"
   ]
  },
  {
   "cell_type": "code",
   "execution_count": null,
   "metadata": {},
   "outputs": [],
   "source": [
    "train_data.describe(include=\"all\").T"
   ]
  },
  {
   "cell_type": "code",
   "execution_count": null,
   "metadata": {},
   "outputs": [],
   "source": [
    "train_data.info()\n",
    "\n",
    "## DATA TYPES:\n",
    "# Convert accident date (to date type)\n",
    "# convert age (to int)\n",
    "# Alternative dispute resolution (??)\n",
    "# Assembly date (to date type)\n",
    "# birth year (to int)\n",
    "# C2 date (to date type)\n",
    "# C3 date (to date type)\n",
    "# First hearing date (to date)\n",
    "# IME-4 count (to int)\n",
    "# Industry code (object)\n",
    "# OIICS Nature of Injury Description (to object) - all nulls (relevant??)\n",
    "# WCIO cause of injury code (float to object)\n",
    "# WCIO Nature of Injury Code (float to object)\n",
    "# WCIO Part Of Body Code (float to object)\n",
    "# Agreement reached (??) - boolean/ int(???)\n",
    "# Number of dependents (to int)"
   ]
  },
  {
   "cell_type": "markdown",
   "metadata": {},
   "source": [
    "## 2. Data Cleaning"
   ]
  },
  {
   "cell_type": "markdown",
   "metadata": {},
   "source": [
    "### 2.1 Duplicates"
   ]
  },
  {
   "cell_type": "code",
   "execution_count": null,
   "metadata": {},
   "outputs": [],
   "source": [
    "duplicates_sum = train_data.duplicated().sum()\n",
    "print(f\"There are {duplicates_sum} in the whole training data set. \\nThose duplicates are dropped in the cell below.\")"
   ]
  },
  {
   "cell_type": "code",
   "execution_count": 133,
   "metadata": {},
   "outputs": [],
   "source": [
    "train_data.drop_duplicates(inplace=True)"
   ]
  },
  {
   "cell_type": "markdown",
   "metadata": {},
   "source": [
    "### 2.2 Target variable - Claim Injury Type Missing & Unique values"
   ]
  },
  {
   "cell_type": "code",
   "execution_count": null,
   "metadata": {},
   "outputs": [],
   "source": [
    "train_data[\"Claim Injury Type\"].unique()"
   ]
  },
  {
   "cell_type": "code",
   "execution_count": null,
   "metadata": {},
   "outputs": [],
   "source": [
    "missing_data_target = train_data[train_data['Claim Injury Type'].isna()]\n",
    "missing_data_target.head()"
   ]
  },
  {
   "cell_type": "code",
   "execution_count": null,
   "metadata": {},
   "outputs": [],
   "source": [
    "missing_data_target.info()\n",
    "# all features with missing values on the target, are also missing, except Assembly Date -> not relevant (decision -> drop rows)"
   ]
  },
  {
   "cell_type": "code",
   "execution_count": 137,
   "metadata": {},
   "outputs": [],
   "source": [
    "train_data= train_data.drop(missing_data_target.index)"
   ]
  },
  {
   "cell_type": "markdown",
   "metadata": {},
   "source": [
    "Re chack for unique values in the target variable"
   ]
  },
  {
   "cell_type": "code",
   "execution_count": null,
   "metadata": {},
   "outputs": [],
   "source": [
    "train_data[\"Claim Injury Type\"].unique().tolist()"
   ]
  },
  {
   "cell_type": "markdown",
   "metadata": {},
   "source": [
    "### 2.3 All independent variables - Missing & Unique Values"
   ]
  },
  {
   "cell_type": "markdown",
   "metadata": {},
   "source": [
    "##### a) Checking the number of missing values in each variable in the train_data (number and percentage)"
   ]
  },
  {
   "cell_type": "code",
   "execution_count": null,
   "metadata": {},
   "outputs": [],
   "source": [
    "missing_values = train_data.isnull().sum().sort_values(ascending=False)\n",
    "print(missing_values)"
   ]
  },
  {
   "cell_type": "code",
   "execution_count": null,
   "metadata": {},
   "outputs": [],
   "source": [
    "missing_percentage = ((train_data.isnull().sum() / len(train_data)) * 100).sort_values(ascending=False)\n",
    "print(missing_percentage)"
   ]
  },
  {
   "cell_type": "markdown",
   "metadata": {},
   "source": [
    "## Visual Exploration of Variables Before Preprocessing the Data"
   ]
  },
  {
   "cell_type": "markdown",
   "metadata": {},
   "source": [
    "## Define Metric and Non Metric Variables"
   ]
  },
  {
   "cell_type": "code",
   "execution_count": 141,
   "metadata": {},
   "outputs": [],
   "source": [
    "### Define metric & non-metric features\n",
    "metric_features = [\"Age at Injury\", \"Average Weekly Wage\", \"Birth Year\", \"IME-4 Count\", \"Number of Dependents\"]\n",
    "\n",
    "non_metric_features = [\"OIICS Nature of Injury Description\",\"Industry Code\", \"WCIO Cause of Injury Code\", \"WCIO Nature of Injury Code\", \"WCIO Part Of Body Code\", \"Accident Date\", \"Alternative Dispute Resolution\",\n",
    "                       \"Assembly Date\", \"Attorney/Representative\", \"C-2 Date\", \"C-3 Date\", \"Carrier Name\", \"Carrier Type\", \"County of Injury\", \"COVID-19 Indicator\",\n",
    "                       \"District Name\", \"First Hearing Date\", \"Gender\", \"Industry Code Description\", \"Medical Fee Region\", \"WCIO Cause of Injury Description\", \n",
    "                       \"WCIO Nature of Injury Description\", \"WCIO Part Of Body Description\", \"Zip Code\", \"Agreement Reached\", \"WCB Decision\"]\n"
   ]
  },
  {
   "cell_type": "markdown",
   "metadata": {},
   "source": [
    "### Metric Variables"
   ]
  },
  {
   "cell_type": "markdown",
   "metadata": {},
   "source": [
    "### Histograms"
   ]
  },
  {
   "cell_type": "code",
   "execution_count": null,
   "metadata": {},
   "outputs": [],
   "source": [
    "train_data['Age at Injury'].plot(\n",
    "    kind='hist',\n",
    "    color='bisque', \n",
    "    edgecolor='black',\n",
    "    bins=20\n",
    ")\n",
    "\n",
    "plt.title('Histogram of Age at Injury')\n",
    "plt.xlabel('Age at Injury')\n",
    "plt.ylabel('Frequency') \n",
    "plt.show()\n"
   ]
  },
  {
   "cell_type": "code",
   "execution_count": null,
   "metadata": {},
   "outputs": [],
   "source": [
    "train_data['Average Weekly Wage'].plot(\n",
    "    kind='hist',\n",
    "    color='bisque',\n",
    "    edgecolor='black',\n",
    "    bins=50\n",
    ")\n",
    "\n",
    "plt.title('Histogram of Average Weekly Wage')\n",
    "plt.xlabel('Average Weekly Wage')\n",
    "plt.ylabel('Log10(Frequency)')\n",
    "plt.yscale('log')  \n",
    "plt.show()   "
   ]
  },
  {
   "cell_type": "code",
   "execution_count": null,
   "metadata": {},
   "outputs": [],
   "source": [
    "train_data['IME-4 Count'].plot(\n",
    "    kind='hist',\n",
    "    color='bisque', \n",
    "    edgecolor='black',\n",
    "    bins=20\n",
    ")\n",
    "\n",
    "plt.title('Histogram of IME-4 Count')\n",
    "plt.xlabel('IME-4 Count')\n",
    "plt.ylabel('Log10(Frequency)')\n",
    "plt.yscale('log')  \n",
    "plt.show()   "
   ]
  },
  {
   "cell_type": "code",
   "execution_count": null,
   "metadata": {},
   "outputs": [],
   "source": [
    "train_data['Number of Dependents'].plot(\n",
    "    kind='hist',\n",
    "    color='bisque', \n",
    "    edgecolor='black',\n",
    "    bins=5\n",
    ")\n",
    "\n",
    "plt.title('Histogram of Number of Dependents')\n",
    "plt.xlabel('Number of Dependents')\n",
    "plt.ylabel('Frequency') \n",
    "plt.show()\n",
    "\n",
    "#Number of bins=?"
   ]
  },
  {
   "cell_type": "code",
   "execution_count": null,
   "metadata": {},
   "outputs": [],
   "source": [
    "train_data['Birth Year'].plot(\n",
    "    kind='hist',\n",
    "    color='bisque', \n",
    "    edgecolor='black',\n",
    "    bins=5\n",
    ")\n",
    "\n",
    "plt.title('Histogram of Birth Year')\n",
    "plt.xlabel('Birth Year')\n",
    "plt.ylabel('Frequency') \n",
    "plt.show()"
   ]
  },
  {
   "cell_type": "code",
   "execution_count": 147,
   "metadata": {},
   "outputs": [],
   "source": [
    "def plot_filtered_histogram(data, column_name, min_value, max_value, bins=20):\n",
    "    \n",
    "    filtered_data = train_data[(train_data[column_name] >= min_value) & (train_data[column_name] <= max_value)][column_name].dropna()\n",
    "    \n",
    "    #Histogram\n",
    "    plt.figure(figsize=(10, 6))\n",
    "    plt.hist(filtered_data, bins=bins, color='bisque', edgecolor='black')\n",
    "    plt.title(f'Histogram of {column_name} (range: {min_value} to {max_value})')\n",
    "    plt.xlabel(column_name)\n",
    "    plt.ylabel('Frequency')\n",
    "    plt.grid(axis='y', alpha=0.75)\n",
    "    plt.show()\n"
   ]
  },
  {
   "cell_type": "code",
   "execution_count": null,
   "metadata": {},
   "outputs": [],
   "source": [
    "plot_filtered_histogram(train_data, column_name=\"Birth Year\", min_value=1920, max_value=2024, bins=20)"
   ]
  },
  {
   "cell_type": "markdown",
   "metadata": {},
   "source": [
    "## Non Metric Variables"
   ]
  },
  {
   "cell_type": "markdown",
   "metadata": {},
   "source": [
    "### Histograms"
   ]
  },
  {
   "cell_type": "code",
   "execution_count": null,
   "metadata": {},
   "outputs": [],
   "source": [
    "for column in non_metric_features:\n",
    "    top_categories = train_data[column].value_counts().head(10)\n",
    "\n",
    "   \n",
    "    plt.figure(figsize=(8, 4))\n",
    "    sns.barplot(\n",
    "        y=top_categories.index,  \n",
    "        x=top_categories.values, \n",
    "        palette='tab20b', \n",
    "         hue=top_categories.index, \n",
    "        legend=False \n",
    "    )  \n",
    "\n",
    "  \n",
    "    \n",
    "    plt.xlabel('Count', fontsize=14)\n",
    "    plt.ylabel(column, fontsize=14)\n",
    "\n",
    "   \n",
    "    plt.tight_layout()\n",
    "    plt.show()"
   ]
  },
  {
   "cell_type": "code",
   "execution_count": 150,
   "metadata": {},
   "outputs": [],
   "source": [
    "#Codes?\n",
    "#First Hearing Date?\n",
    "#Agreement Reached?\n",
    "#WCB Decision?"
   ]
  },
  {
   "cell_type": "markdown",
   "metadata": {},
   "source": [
    "Variables such as ***OIICS Nature of Injury Descritpion, IME-4 Count, First Hearing Date*** and ***C-3 Date*** have more than 60% of missing values. \n",
    "<br> We decided to drop ***OIICS Nature of Injury Descritpion, IME-4 Count and ***C-3 Date*** becuase they have so many missing values that it does not make sense to impute them (not enough information for taking that as sample for the whole population).\n",
    "<br> We do not drop ***First Hearing Date*** variable, because blank date (missing value) means the claim has not yet had a hearing held. Thus, it is an information that we want to keep.\n",
    "\n",
    "\n"
   ]
  },
  {
   "cell_type": "code",
   "execution_count": 151,
   "metadata": {},
   "outputs": [],
   "source": [
    "columns_to_drop = ['IME-4 Count','C-3 Date', 'OIICS Nature of Injury Description']\n",
    "train_data =train_data.drop(columns_to_drop, axis=1)"
   ]
  },
  {
   "cell_type": "markdown",
   "metadata": {},
   "source": [
    "We decided to change vairable First Hearing Date to binary variable, where NaN values are replaced by 0 - it means that claim has not had a hearing held yet and dataes are replaced by 1 which means that hearings has been already held."
   ]
  },
  {
   "cell_type": "code",
   "execution_count": null,
   "metadata": {},
   "outputs": [],
   "source": [
    "train_data['First Hearing Date Binary'] = train_data['First Hearing Date'].notna().astype(int)\n",
    "train_data[['First Hearing Date', 'First Hearing Date Binary']].head()"
   ]
  },
  {
   "cell_type": "code",
   "execution_count": null,
   "metadata": {},
   "outputs": [],
   "source": [
    "train_data['First Hearing Date Binary'].describe()"
   ]
  },
  {
   "cell_type": "markdown",
   "metadata": {},
   "source": [
    "First Hearing Data variable can be droped after creating binary variable."
   ]
  },
  {
   "cell_type": "code",
   "execution_count": 154,
   "metadata": {},
   "outputs": [],
   "source": [
    "train_data =train_data.drop(\"First Hearing Date\", axis=1)"
   ]
  },
  {
   "cell_type": "markdown",
   "metadata": {},
   "source": [
    "##### b) Checking unique values in each of the variable (looking for some values that can indicate missing values)"
   ]
  },
  {
   "cell_type": "code",
   "execution_count": null,
   "metadata": {},
   "outputs": [],
   "source": [
    "for column in train_data.columns:\n",
    "    unique_values = train_data[column].unique()\n",
    "    unique_values_num = train_data[column].nunique()\n",
    "    print(f\"Unique values in '{column}':\")\n",
    "    print(unique_values)\n",
    "    print(f\"Number of unique values in '{column}':\")\n",
    "    print(unique_values_num)\n",
    "    \n",
    "    print()"
   ]
  },
  {
   "cell_type": "markdown",
   "metadata": {},
   "source": [
    "#### All listed Variables - summary \n",
    "\n",
    "1. **Accident Date**: 0.64% NaN and dates (5539 unique values)\n",
    "\n",
    "2. **Age at Injury**: 0% NaN and no strange values (108 unique values) (there are some values >100)\n",
    "3. **Alternative Dispute Resolution**: 0% NaN and no strange values (3 unique values)\n",
    "4. **Assembly Date**: 0% NaN and dates (897 unique values)\n",
    "5. **Attorney/Representative**: 0% NaN and no strange values (2 unique values)\n",
    "6. **Average Weekly Wage**: around 5% NaN and a lot of unique values (120024 unique values)\n",
    "7. **Birth Year**: 5% Nan and one 25081 strange values \"0\" (Birth Year cannot be 0) (107 unique values - 0 included)\n",
    "8. **C-2 Date**: 2.5% NaN and dataes (2475 unique values)\n",
    "11. **Carrier Name**: 0% NaN and name of carrier (2046 unique values) \n",
    "12. **Carrier Type**: 0% NaN and no strange values (8 unique values)\n",
    "13. **Claim Injury Type** - target variable\n",
    "14. **County of Injury**: 0% NaN and there are 1196 \"UNKNOWN\" values (63 unique values)\n",
    "15. **COVID-19 Indicator**: 0% NaN and no strange values (2 unique values)\n",
    "16. **District Name**: 0% NaN and no strange values (8 unique values)\n",
    "17. **First Hearing Date**: 73.7% NaN and dates (1094 unique values)\n",
    "18. **Gender**: 0% NaN and male, female, non-binary and unspecified (4 unique values)\n",
    "19. **Industry Code**: 1.73% NaN and no strange values (24 unique values)\n",
    "20. **Industry Code Description**: 1.73% NaN and descripion (20 unique values)\n",
    "21. **Medical Fee Region**: 0% NaN and one strange value 'UK' (33472 such values) other are numbers (4 unique values)\n",
    "22. **WCIO Cause of Injury Code**: 2.724% NaN and no strange values (77 unique values) \n",
    "23. **WCIO Cause of Injury Description**: 2.724% NaN and no strange values (74 unique values)\n",
    "24. **WCIO Nature of Injury Code**: 2.727% NaN and no strange values (56 unique values)\n",
    "25. **WCIO Nature of Injury Description**: 2.727% NaN and no strange values (56 unique values)\n",
    "26. **WCIO Part Of Body Code**: 2.98% NaN and 42011 \"-9\" values (should be treated as missing value) (57 unique values)\n",
    "27. **WCIO Part Of Body Description**: 2.98% NaN andone strange value: INSUFFICIENT INFO TO PROPERLY IDENTIFY - UNCLASSIFIED (54 unique values)\n",
    "28. **Zip Code**: 4.98% NaN and zip code is a bit strange -> it has a lot of unique values, some zip codes starts with numbers and there are som that starts with letters; one zip code unique value is 'UNKNO\". According to definition of Zip-Code: zip codes only contain a combination of numeric values.\n",
    "29. **Agreement Reached**: 0% NaN and no strange values (2 unique values)\n",
    "30. **WCB Decision**: 0% NaN and only 1 unique value -> variable that should be deleted it is not informative\n",
    "31. **Number of Dependents**: 0% NaN and no strange values (7 unique values)\n",
    "\n"
   ]
  },
  {
   "cell_type": "markdown",
   "metadata": {},
   "source": [
    "We decided to drop variavle WCB Decision, because it only contains one unique value, so it is not informative."
   ]
  },
  {
   "cell_type": "code",
   "execution_count": 156,
   "metadata": {},
   "outputs": [],
   "source": [
    "train_data =train_data.drop('WCB Decision', axis=1)"
   ]
  },
  {
   "cell_type": "markdown",
   "metadata": {},
   "source": [
    "After reviewing unique values in the dataset we also found in some variables unique values such as e.g \"UNKNOWN\", \"UK\", \"UNKNO\". Also, we saw \n",
    "Therefore, we changed that values to missing values."
   ]
  },
  {
   "cell_type": "code",
   "execution_count": null,
   "metadata": {},
   "outputs": [],
   "source": [
    "train_data['Zip Code'].replace('UNKNO', pd.NA)"
   ]
  },
  {
   "cell_type": "code",
   "execution_count": null,
   "metadata": {},
   "outputs": [],
   "source": [
    "train_data['Medical Fee Region'].replace('UK', pd.NA)"
   ]
  },
  {
   "cell_type": "code",
   "execution_count": null,
   "metadata": {},
   "outputs": [],
   "source": [
    "train_data['County of Injury'].replace('UNKNOWN',pd.NA)"
   ]
  },
  {
   "cell_type": "markdown",
   "metadata": {},
   "source": [
    "There is also strange value in the variable WCIO Part Of Body Code. According WCIO website there is no such code as -9. We checked with variable WCIO Part of Body Description which description corresponds to Code -9 in our data set. We found out that -9 is always associated with description \"Multiple\"."
   ]
  },
  {
   "cell_type": "code",
   "execution_count": null,
   "metadata": {},
   "outputs": [],
   "source": [
    "# Display only rows where \"WCIO Part Of Body Code\" equals -9\n",
    "filtered_data = train_data[train_data[\"WCIO Part Of Body Code\"] == -9]\n",
    "\n",
    "# Display the result\n",
    "filtered_data[\"WCIO Part Of Body Description\"].value_counts()\n"
   ]
  },
  {
   "cell_type": "markdown",
   "metadata": {},
   "source": [
    "Acording to WCIO website codes that contains in the description word multiple are: 10, 20, 30, 40, 50, 90, 91. Thus, we decided to fill -9 those values with mode amonog codes that corresponds to multiple. We used mode to replace -9 becuase WCIO Part of Body Code is a categorical variable."
   ]
  },
  {
   "cell_type": "code",
   "execution_count": null,
   "metadata": {},
   "outputs": [],
   "source": [
    "# Define the valid codes for \"Multiple\"\n",
    "multiple_codes = [10, 20, 30, 40, 50, 90, 91]\n",
    "\n",
    "# Calculate the mode among the valid multiple codes\n",
    "mode_value = train_data[train_data[\"WCIO Part Of Body Code\"].isin(multiple_codes)][\"WCIO Part Of Body Code\"].mode()[0]\n",
    "\n",
    "# Replace only -9 values with the mode, leaving other NaN values unchanged\n",
    "train_data.loc[train_data[\"WCIO Part Of Body Code\"] == -9, \"WCIO Part Of Body Code\"] = mode_value\n",
    "\n",
    "print(train_data[\"WCIO Part Of Body Code\"].value_counts(dropna=False))\n"
   ]
  },
  {
   "cell_type": "markdown",
   "metadata": {},
   "source": []
  },
  {
   "cell_type": "code",
   "execution_count": null,
   "metadata": {},
   "outputs": [],
   "source": [
    "WCIO_columns = [\n",
    "    'WCIO Part Of Body Code', \n",
    "    'WCIO Part Of Body Description', \n",
    "    'WCIO Nature of Injury Description', \n",
    "    'WCIO Nature of Injury Code', \n",
    "    'WCIO Cause of Injury Description', \n",
    "    'WCIO Cause of Injury Code'\n",
    "]\n",
    "\n",
    "# Display rows where all WCIO columns contain NaN values\n",
    "WCIO_nan_rows = train_data[train_data[WCIO_columns].isna().all(axis=1)]\n",
    "\n",
    "count_all_nan_WCIO = train_data[WCIO_columns].isna().all(axis=1).sum()\n",
    "print(\"Rows with all NaN values in WCIO columns:\", count_all_nan_WCIO)\n",
    "\n",
    "\n",
    "# Calculate the percentage of these rows in the whole dataset\n",
    "percentage_all_nan_WCIO = (count_all_nan_WCIO / len(train_data)) * 100\n",
    "\n",
    "# Display the result\n",
    "print(f\"Percentage of rows with all NaN values in WCIO columns: {percentage_all_nan_WCIO:.2f}%\")\n",
    "WCIO_nan_rows.head()\n"
   ]
  },
  {
   "cell_type": "markdown",
   "metadata": {},
   "source": [
    "Dropping rows where all WCIO columns contain NaN values."
   ]
  },
  {
   "cell_type": "code",
   "execution_count": 163,
   "metadata": {},
   "outputs": [],
   "source": [
    "train_data = train_data[~train_data[WCIO_columns].isna().all(axis=1)]"
   ]
  },
  {
   "cell_type": "markdown",
   "metadata": {},
   "source": [
    "Checking the percentage of misssing values after deleting WCIO rows"
   ]
  },
  {
   "cell_type": "code",
   "execution_count": null,
   "metadata": {},
   "outputs": [],
   "source": [
    "missing_percentage = ((train_data.isnull().sum() / len(train_data)) * 100).sort_values(ascending=False)\n",
    "missing_percentage = missing_percentage[missing_percentage > 0]\n",
    "print(missing_percentage)"
   ]
  },
  {
   "cell_type": "markdown",
   "metadata": {},
   "source": [
    "##### Dealing with remaning missing values"
   ]
  },
  {
   "cell_type": "markdown",
   "metadata": {},
   "source": [
    "1. There is a chance that ***Birth Year*** is correlated with Age at the Injury, so we do not take care of missing values for now."
   ]
  },
  {
   "cell_type": "markdown",
   "metadata": {},
   "source": [
    "2. All missing values in the variable ***Average Weekly Wage*** are replaced by using median (it is a continous variable)"
   ]
  },
  {
   "cell_type": "code",
   "execution_count": null,
   "metadata": {},
   "outputs": [],
   "source": [
    "median_wage = train_data[\"Average Weekly Wage\"].median()\n",
    "train_data[\"Average Weekly Wage\"].fillna(median_wage, inplace=True)"
   ]
  },
  {
   "cell_type": "markdown",
   "metadata": {},
   "source": [
    "3. Variable ***Zip Code*** has a lot of unique values. Therefore, we decided to group Zip Code "
   ]
  },
  {
   "cell_type": "code",
   "execution_count": null,
   "metadata": {},
   "outputs": [],
   "source": [
    "train_data[\"Zip Code\"].value_counts(dropna=False).sort_index()"
   ]
  },
  {
   "cell_type": "markdown",
   "metadata": {},
   "source": [
    "##### <span style=\"color: orange;\">I am not sure what should we do with those strange values in Zip Code? (There are 11 such Zip Codes in general) Should we drop those rows??  For now i classified them with zip codes that starts with letters but i am not sure if its a good solution <br> See the cells below</span>"
   ]
  },
  {
   "cell_type": "code",
   "execution_count": null,
   "metadata": {},
   "outputs": [],
   "source": [
    "# Display only rows where \"Zip Code\" equals \".1605\" or \"00000\"\n",
    "filtered_data = train_data[(train_data[\"Zip Code\"] == \".1605\") | (train_data[\"Zip Code\"] == \"00000\")]\n",
    "\n",
    "# Display the result: count occurrences of each value in \"WCIO Part Of Body Description\"\n",
    "filtered_data.value_counts()\n"
   ]
  },
  {
   "cell_type": "code",
   "execution_count": null,
   "metadata": {},
   "outputs": [],
   "source": [
    "# Creating new variable zip_code dividied into categories \n",
    "def categorize_zip(zip_code):\n",
    "    if pd.isna(zip_code):  # Check if the value is NaN\n",
    "        return np.nan \n",
    "    elif zip_code == \".1605\" or zip_code == \"00000\":\n",
    "        return \"Other\"\n",
    "    elif isinstance(zip_code, str) and zip_code[0].isdigit():\n",
    "        return zip_code[0]\n",
    "    else:\n",
    "        return \"Other\"\n",
    "\n",
    "\n",
    "# Apply the function to create the new 'zip_code_cat' column\n",
    "train_data['zip_code_cat'] = train_data['Zip Code'].apply(categorize_zip)\n",
    "\n",
    "# If you want to see the distribution of the new category\n",
    "print(train_data['zip_code_cat'].value_counts(dropna=False))\n"
   ]
  },
  {
   "cell_type": "markdown",
   "metadata": {},
   "source": [
    "Replacing missing values in ***zip_code_cat*** with mode - categorical variable"
   ]
  },
  {
   "cell_type": "code",
   "execution_count": null,
   "metadata": {},
   "outputs": [],
   "source": [
    "mode_value = train_data['zip_code_cat'].mode()[0]  \n",
    "\n",
    "# Replace NaN values in 'zip_code_cat' with the mode\n",
    "train_data['zip_code_cat'].fillna(mode_value, inplace=True)\n",
    "\n",
    "# Display the updated DataFrame and the distribution of the new category\n",
    "train_data['zip_code_cat'].value_counts(dropna=False)  # Include NaN if still any "
   ]
  },
  {
   "cell_type": "markdown",
   "metadata": {},
   "source": [
    "Dropping variable ***Zip Code*** since we created zip_code_cat"
   ]
  },
  {
   "cell_type": "code",
   "execution_count": 170,
   "metadata": {},
   "outputs": [],
   "source": [
    "train_data =train_data.drop(\"Zip Code\", axis=1)"
   ]
  },
  {
   "cell_type": "markdown",
   "metadata": {},
   "source": [
    "4. Variables that has less than 1% of with missing values"
   ]
  },
  {
   "cell_type": "code",
   "execution_count": 171,
   "metadata": {},
   "outputs": [],
   "source": [
    "# List of categorical columns that has less than 1% of missing values\n",
    "categorical_columns = [\n",
    "    'WCIO Part Of Body Description',\n",
    "    'WCIO Part Of Body Code',\n",
    "    'Accident Date',\n",
    "    'Industry Code',\n",
    "    'Industry Code Description',\n",
    "    'WCIO Nature of Injury Description',\n",
    "    'WCIO Nature of Injury Code',\n",
    "    'WCIO Cause of Injury Description',\n",
    "    'WCIO Cause of Injury Code',\n",
    "    'C-2 Date'\n",
    "]"
   ]
  },
  {
   "cell_type": "code",
   "execution_count": null,
   "metadata": {},
   "outputs": [],
   "source": [
    "# Fill missing values with the mode for each specified categorical column\n",
    "for column in categorical_columns:\n",
    "    mode_value = train_data[column].mode()  \n",
    "    if not mode_value.empty:  \n",
    "        train_data[column].fillna(mode_value[0], inplace=True)  "
   ]
  },
  {
   "cell_type": "code",
   "execution_count": null,
   "metadata": {},
   "outputs": [],
   "source": [
    "# Final check if there are still any missing values. We will deal with Birth Year later.\n",
    "\n",
    "missing_percentage = ((train_data.isnull().sum() / len(train_data)) * 100).sort_values(ascending=False)\n",
    "print(missing_percentage)"
   ]
  },
  {
   "cell_type": "markdown",
   "metadata": {},
   "source": [
    "##### <span style=\"color: orange;\">I am not sure what should we do with those strange value in Gender. I would maybe just leave them as they are since it is hard to distinguish and actually say what U and X can mean. We should look at it more closely during data visualisation <br> I mostly checked values for gender X since there are only 41 such values. See the cells below</span>"
   ]
  },
  {
   "cell_type": "code",
   "execution_count": null,
   "metadata": {},
   "outputs": [],
   "source": [
    "train_data[\"Gender\"].value_counts()"
   ]
  },
  {
   "cell_type": "code",
   "execution_count": null,
   "metadata": {},
   "outputs": [],
   "source": [
    "filtered_data_gender = train_data[train_data[\"Gender\"] == \"X\"]\n",
    "filtered_data_gender.value_counts()"
   ]
  },
  {
   "cell_type": "markdown",
   "metadata": {},
   "source": [
    "## 3. Data Transformation"
   ]
  },
  {
   "cell_type": "code",
   "execution_count": null,
   "metadata": {},
   "outputs": [],
   "source": [
    "train_data.info()"
   ]
  },
  {
   "cell_type": "code",
   "execution_count": 177,
   "metadata": {},
   "outputs": [],
   "source": [
    "train_data[\"Age at Injury\"] = train_data[\"Age at Injury\"].astype(\"Int64\")"
   ]
  },
  {
   "cell_type": "code",
   "execution_count": 178,
   "metadata": {},
   "outputs": [],
   "source": [
    "train_data[\"Number of Dependents\"] = train_data[\"Number of Dependents\"].astype(\"Int64\")"
   ]
  },
  {
   "cell_type": "code",
   "execution_count": 179,
   "metadata": {},
   "outputs": [],
   "source": [
    "train_data[\"Birth Year\"] = train_data[\"Birth Year\"].astype(\"Int64\")"
   ]
  },
  {
   "cell_type": "code",
   "execution_count": 180,
   "metadata": {},
   "outputs": [],
   "source": [
    "train_data[\"WCIO Part Of Body Code\"] = train_data[\"WCIO Part Of Body Code\"].astype(\"Int64\")"
   ]
  },
  {
   "cell_type": "code",
   "execution_count": 181,
   "metadata": {},
   "outputs": [],
   "source": [
    "train_data[\"WCIO Nature of Injury Code\"] = train_data[\"WCIO Nature of Injury Code\"].astype(\"Int64\")"
   ]
  },
  {
   "cell_type": "code",
   "execution_count": 182,
   "metadata": {},
   "outputs": [],
   "source": [
    "train_data[\"WCIO Cause of Injury Code\"] = train_data[\"WCIO Cause of Injury Code\"].astype(\"Int64\")"
   ]
  },
  {
   "cell_type": "code",
   "execution_count": 183,
   "metadata": {},
   "outputs": [],
   "source": [
    "train_data[\"Industry Code\"] = train_data[\"Industry Code\"].astype(\"Int64\")"
   ]
  },
  {
   "cell_type": "code",
   "execution_count": 184,
   "metadata": {},
   "outputs": [],
   "source": [
    "train_data[\"Accident Date\"] = pd.to_datetime(train_data['Accident Date'], format = '%Y-%m-%d')"
   ]
  },
  {
   "cell_type": "code",
   "execution_count": 185,
   "metadata": {},
   "outputs": [],
   "source": [
    "train_data[\"Assembly Date\"] = pd.to_datetime(train_data['C-2 Date'], format = '%Y-%m-%d')"
   ]
  },
  {
   "cell_type": "code",
   "execution_count": 186,
   "metadata": {},
   "outputs": [],
   "source": [
    "train_data[\"C-2 Date\"] = pd.to_datetime(train_data['C-2 Date'], format = '%Y-%m-%d')"
   ]
  },
  {
   "cell_type": "code",
   "execution_count": null,
   "metadata": {},
   "outputs": [],
   "source": [
    "train_data.info()"
   ]
  },
  {
   "cell_type": "code",
   "execution_count": 188,
   "metadata": {},
   "outputs": [],
   "source": [
    "#### Convert birth year into age:"
   ]
  },
  {
   "cell_type": "code",
   "execution_count": 189,
   "metadata": {},
   "outputs": [],
   "source": [
    "train_data[\"Birth Year\"]= datetime.now().year - train_data[\"Birth Year\"]"
   ]
  },
  {
   "cell_type": "markdown",
   "metadata": {},
   "source": [
    "#### Dates analysis:"
   ]
  },
  {
   "cell_type": "code",
   "execution_count": null,
   "metadata": {},
   "outputs": [],
   "source": [
    "train_data[\"Days Between Accident_Assembly\"] = train_data['Assembly Date'] - train_data['Accident Date']\n",
    "print(f\"maximum days between assembly: {train_data['Days Between Accident_Assembly'].max()}\")\n",
    "print(f\"minimum days between assembly: {train_data['Days Between Accident_Assembly'].min()}\") \n",
    "# strange values assembly date < accident date?? \n",
    "# #same max & min as days between accident and C2."
   ]
  },
  {
   "cell_type": "code",
   "execution_count": null,
   "metadata": {},
   "outputs": [],
   "source": [
    "train_data[\"Days Between Accident_C2\"] = train_data['C-2 Date'] - train_data['Accident Date']\n",
    "print(f\"maximum days between assembly: {train_data['Days Between Accident_C2'].max()}\")\n",
    "print(f\"minimum days between assembly: {train_data['Days Between Accident_C2'].min()}\") \n",
    "# strange values C2 date < accident date?? \n",
    "# #same max & min as days between accident and C2."
   ]
  },
  {
   "cell_type": "code",
   "execution_count": 192,
   "metadata": {},
   "outputs": [],
   "source": [
    "# train_data[\"Days Between Accident_C3\"] = train_data['C-3 Date'] - train_data['Accident Date']\n",
    "# print(f\"maximum days between assembly: {train_data['Days Between Accident_C3'].max()}\")\n",
    "# print(f\"minimum days between assembly: {train_data['Days Between Accident_C3'].min()}\")\n",
    "# # strange values C3 date < accident date?? "
   ]
  },
  {
   "cell_type": "code",
   "execution_count": 193,
   "metadata": {},
   "outputs": [],
   "source": [
    "# train_data[\"Days Between Accident_1st_Hearing\"] = train_data['First Hearing Date'] - train_data['Accident Date']\n",
    "# print(f\"maximum days between assembly: {train_data[\"Days Between Accident_1st_Hearing\"].max()}\")\n",
    "# print(f\"minimum days between assembly: {train_data[\"Days Between Accident_1st_Hearing\"].min()}\")\n",
    "# # strange values 1st_Hearing < accident date?? "
   ]
  },
  {
   "cell_type": "markdown",
   "metadata": {},
   "source": [
    "#### Group descriptions by code: "
   ]
  },
  {
   "cell_type": "code",
   "execution_count": null,
   "metadata": {},
   "outputs": [],
   "source": [
    "group_by_industry = train_data.groupby(\"Industry Code\")[\"Industry Code Description\"].unique()\n",
    "group_by_industry\n",
    "\n",
    "# Different codes with same description"
   ]
  },
  {
   "cell_type": "code",
   "execution_count": null,
   "metadata": {},
   "outputs": [],
   "source": [
    "group_by_injury = train_data.groupby(\"WCIO Cause of Injury Code\")[\"WCIO Cause of Injury Description\"].unique()\n",
    "group_by_injury\n",
    "\n",
    "# Different codes with same description"
   ]
  },
  {
   "cell_type": "code",
   "execution_count": null,
   "metadata": {},
   "outputs": [],
   "source": [
    "group_by_body_part = train_data.groupby(\"WCIO Part Of Body Code\")[\"WCIO Part Of Body Description\"].unique()\n",
    "group_by_body_part\n",
    "\n",
    "# different codes with the same description"
   ]
  },
  {
   "cell_type": "markdown",
   "metadata": {},
   "source": [
    "## 4. Defining target variable Again"
   ]
  },
  {
   "cell_type": "code",
   "execution_count": 197,
   "metadata": {},
   "outputs": [],
   "source": [
    "x = train_data.drop('Claim Injury Type', axis = 1) # axis=1 means the operation must be done on columns\n",
    "y = train_data['Claim Injury Type'] "
   ]
  },
  {
   "cell_type": "code",
   "execution_count": 219,
   "metadata": {},
   "outputs": [],
   "source": [
    "### Define metric & non-metric features\n",
    "metric_features_new = [\"Age at Injury\", \"Average Weekly Wage\", \"Birth Year\", \"IME-4 Count\", \"Number of Dependents\", \"Days Between Accident_Assembly\", \"Days Between Accident_C2\", \n",
    "                   \"Days Between Accident_C3\", \"Days Between Accident_1st_Hearing\"]\n",
    "\n",
    "non_metric_features_new = [\"Industry Code\", \"WCIO Cause of Injury Code\", \"WCIO Nature of Injury Code\", \"WCIO Part Of Body Code\", \"Accident Date\", \"Alternative Dispute Resolution\",\n",
    "                       \"Assembly Date\", \"Attorney/Representative\", \"C-2 Date\", \"Carrier Name\", \"Carrier Type\", \"County of Injury\", \"COVID-19 Indicator\",\n",
    "                       \"District Name\", \"First Hearing Date Binary\", \"Gender\", \"Industry Code Description\", \"Medical Fee Region\", \"WCIO Cause of Injury Description\", \n",
    "                       \"WCIO Nature of Injury Description\", \"WCIO Part Of Body Description\", \"zip_code_cat\", \"Agreement Reached\"]\n",
    "\n"
   ]
  },
  {
   "cell_type": "markdown",
   "metadata": {},
   "source": [
    "## Visual Exploration of Variables Again"
   ]
  },
  {
   "cell_type": "markdown",
   "metadata": {},
   "source": [
    "## Metric Variables"
   ]
  },
  {
   "cell_type": "markdown",
   "metadata": {},
   "source": [
    "### \n",
    "Birth Year has the info about age now"
   ]
  },
  {
   "cell_type": "code",
   "execution_count": null,
   "metadata": {},
   "outputs": [],
   "source": [
    "train_data['Age at Injury'].plot(\n",
    "    kind='hist',\n",
    "    color='bisque', \n",
    "    edgecolor='black',\n",
    "    bins=20\n",
    ")\n",
    "\n",
    "plt.title('Histogram of Age at Injury')\n",
    "plt.xlabel('Age at Injury')\n",
    "plt.ylabel('Frequency') \n",
    "plt.show()"
   ]
  },
  {
   "cell_type": "code",
   "execution_count": null,
   "metadata": {},
   "outputs": [],
   "source": [
    "train_data['Average Weekly Wage'].plot(\n",
    "    kind='hist',\n",
    "    color='bisque',\n",
    "    edgecolor='black',\n",
    "    bins=50\n",
    ")\n",
    "\n",
    "plt.title('Histogram of Average Weekly Wage')\n",
    "plt.xlabel('Average Weekly Wage')\n",
    "plt.ylabel('Log10(Frequency)')\n",
    "plt.yscale('log')  \n",
    "plt.show()"
   ]
  },
  {
   "cell_type": "code",
   "execution_count": null,
   "metadata": {},
   "outputs": [],
   "source": [
    "train_data['Number of Dependents'].plot(\n",
    "    kind='hist',\n",
    "    color='bisque', \n",
    "    edgecolor='black',\n",
    "    bins=5\n",
    ")\n",
    "\n",
    "plt.title('Histogram of Number of Dependents')\n",
    "plt.xlabel('Number of Dependents')\n",
    "plt.ylabel('Frequency') \n",
    "plt.show()\n",
    "\n",
    "#Number of bins=?"
   ]
  },
  {
   "cell_type": "code",
   "execution_count": null,
   "metadata": {},
   "outputs": [],
   "source": [
    "train_data['Birth Year'].plot(\n",
    "    kind='hist',\n",
    "    color='bisque', \n",
    "    edgecolor='black',\n",
    "    bins=5\n",
    ")\n",
    "\n",
    "plt.title('Histogram of Age')\n",
    "plt.xlabel('Age')\n",
    "plt.ylabel('Frequency') \n",
    "plt.show()"
   ]
  },
  {
   "cell_type": "code",
   "execution_count": 206,
   "metadata": {},
   "outputs": [],
   "source": [
    "def plot_filtered_histogram_a(data, column_name, min_value, max_value, bins=20):\n",
    "    \n",
    "    filtered_data = train_data[(train_data[column_name] >= min_value) & (train_data[column_name] <= max_value)][column_name].dropna()\n",
    "    \n",
    "    #Histogram\n",
    "    plt.figure(figsize=(10, 6))\n",
    "    plt.hist(filtered_data, bins=bins, color='bisque', edgecolor='black')\n",
    "    plt.title(f'Histogram of {'Age'} (range: {min_value} to {max_value})')\n",
    "    plt.xlabel('Age')\n",
    "    plt.ylabel('Frequency')\n",
    "    plt.grid(axis='y', alpha=0.75)\n",
    "    plt.show()"
   ]
  },
  {
   "cell_type": "code",
   "execution_count": null,
   "metadata": {},
   "outputs": [],
   "source": [
    "plot_filtered_histogram_a(train_data, column_name=\"Birth Year\", min_value=0, max_value=100, bins=20)"
   ]
  },
  {
   "cell_type": "code",
   "execution_count": null,
   "metadata": {},
   "outputs": [],
   "source": [
    "# Convert timedelta to day\n",
    "train_data['Days Between Accident_Assembly'] = train_data['Days Between Accident_Assembly'].dt.days\n",
    "train_data['Days Between Accident_Assembly'].plot(\n",
    "    kind='hist',\n",
    "    color='bisque', \n",
    "    edgecolor='black',\n",
    "    bins=20  \n",
    ")\n",
    "\n",
    "plt.title('Histogram of Days Between Accident Assembly')\n",
    "plt.xlabel('Days Between Accident Assembly (days)')\n",
    "plt.ylabel('Log10(Frequency)')\n",
    "plt.yscale('log')  \n",
    "plt.show()"
   ]
  },
  {
   "cell_type": "code",
   "execution_count": null,
   "metadata": {},
   "outputs": [],
   "source": [
    "train_data['Days Between Accident_C2'].plot(\n",
    "    kind='hist',\n",
    "    color='bisque', \n",
    "    edgecolor='black',\n",
    "    bins=20 \n",
    ")\n",
    "\n",
    "plt.title('Histogram of Days Between Accident_C2')\n",
    "plt.xlabel('Days Between Accident_C2 (days)')\n",
    "plt.ylabel('Log10(Frequency)')\n",
    "plt.yscale('log')\n",
    "plt.show()"
   ]
  },
  {
   "cell_type": "code",
   "execution_count": 215,
   "metadata": {},
   "outputs": [],
   "source": [
    "#Days Between Accident C3?\n",
    "#Days Between Accident_1st_Hearing?"
   ]
  },
  {
   "cell_type": "markdown",
   "metadata": {},
   "source": [
    "## Non Metric Variables"
   ]
  },
  {
   "cell_type": "markdown",
   "metadata": {},
   "source": [
    "### Histograms"
   ]
  },
  {
   "cell_type": "code",
   "execution_count": null,
   "metadata": {},
   "outputs": [],
   "source": [
    "for column in non_metric_features_new:\n",
    "    top_categories = train_data[column].value_counts().head(10)\n",
    "\n",
    "   \n",
    "    plt.figure(figsize=(8, 4))\n",
    "    sns.barplot(\n",
    "        y=top_categories.index,  \n",
    "        x=top_categories.values, \n",
    "        palette='tab20b', \n",
    "         hue=top_categories.index, \n",
    "        legend=False \n",
    "    )  \n",
    "\n",
    "  \n",
    "    \n",
    "    plt.xlabel('Count', fontsize=14)\n",
    "    plt.ylabel(column, fontsize=14)\n",
    "\n",
    "   \n",
    "    plt.tight_layout()\n",
    "    plt.show()"
   ]
  },
  {
   "cell_type": "code",
   "execution_count": null,
   "metadata": {},
   "outputs": [],
   "source": []
  }
 ],
 "metadata": {
  "kernelspec": {
   "display_name": "base",
   "language": "python",
   "name": "python3"
  },
  "language_info": {
   "codemirror_mode": {
    "name": "ipython",
    "version": 3
   },
   "file_extension": ".py",
   "mimetype": "text/x-python",
   "name": "python",
   "nbconvert_exporter": "python",
   "pygments_lexer": "ipython3",
   "version": "3.12.4"
  }
 },
 "nbformat": 4,
 "nbformat_minor": 2
}
